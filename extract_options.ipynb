{
 "cells": [
  {
   "cell_type": "code",
   "execution_count": 2,
   "id": "03b3d187",
   "metadata": {},
   "outputs": [],
   "source": [
    "# import dependencies\n",
    "\n",
    "import pandas as pd\n",
    "from config import api_key\n",
    "import requests\n",
    "import os\n",
    "import math\n",
    "from datetime import datetime\n",
    "from config import finn\n",
    "import finnhub\n",
    "finnhub_client = finnhub.Client(api_key=finn)\n",
    "import time\n",
    "import datetime\n",
    "now = datetime.datetime.now()\n",
    "import yfinance as yf\n",
    "import numpy as np\n",
    "from scipy.stats import norm\n",
    "from datetime import date"
   ]
  },
  {
   "cell_type": "code",
   "execution_count": 3,
   "id": "8a7a1939",
   "metadata": {},
   "outputs": [],
   "source": [
    "# url for api key\n",
    "option_url = 'https://api.tdameritrade.com/v1/marketdata/chains'"
   ]
  },
  {
   "cell_type": "code",
   "execution_count": 4,
   "id": "fdf6b516",
   "metadata": {},
   "outputs": [],
   "source": [
    "# Set t equal to today\n",
    "\n",
    "t = date.today()\n",
    "\n",
    "# Read in volatility csv\n",
    "\n",
    "vol = pd.read_csv('Sigma.csv')"
   ]
  },
  {
   "cell_type": "code",
   "execution_count": 5,
   "id": "9d60f974",
   "metadata": {},
   "outputs": [
    {
     "name": "stdout",
     "output_type": "stream",
     "text": [
      "Ticker\n",
      "Strikecount12\n",
      "Exp MonthALL\n",
      "Contract type PUT, CALL, ALLALL\n",
      "Strike Price\n"
     ]
    }
   ],
   "source": [
    "\n",
    "# input conditions for options\n",
    "symbol = input(\"Ticker\")\n",
    "strikecount = input(\"Strikecount\")\n",
    "expMonth = input('Exp Month')\n",
    "contract = input('Contract type PUT, CALL, ALL')\n",
    "strike = input(\"Strike Price\")"
   ]
  },
  {
   "cell_type": "code",
   "execution_count": 8,
   "id": "897f1769",
   "metadata": {},
   "outputs": [
    {
     "ename": "IndexError",
     "evalue": "list index out of range",
     "output_type": "error",
     "traceback": [
      "\u001b[0;31m---------------------------------------------------------------------------\u001b[0m",
      "\u001b[0;31mIndexError\u001b[0m                                Traceback (most recent call last)",
      "Input \u001b[0;32mIn [8]\u001b[0m, in \u001b[0;36m<cell line: 3>\u001b[0;34m()\u001b[0m\n\u001b[1;32m      1\u001b[0m \u001b[38;5;66;03m# Using last days price\u001b[39;00m\n\u001b[0;32m----> 3\u001b[0m sigma  \u001b[38;5;241m=\u001b[39m \u001b[43mvol\u001b[49m\u001b[38;5;241;43m.\u001b[39;49m\u001b[43mloc\u001b[49m\u001b[43m[\u001b[49m\u001b[43mvol\u001b[49m\u001b[43m[\u001b[49m\u001b[38;5;124;43m\"\u001b[39;49m\u001b[38;5;124;43mUnnamed: 0\u001b[39;49m\u001b[38;5;124;43m\"\u001b[39;49m\u001b[43m]\u001b[49m\u001b[43m \u001b[49m\u001b[38;5;241;43m==\u001b[39;49m\u001b[43m \u001b[49m\u001b[38;5;124;43mf\u001b[39;49m\u001b[38;5;124;43m\"\u001b[39;49m\u001b[38;5;132;43;01m{\u001b[39;49;00m\u001b[43msymbol\u001b[49m\u001b[38;5;132;43;01m}\u001b[39;49;00m\u001b[38;5;124;43m\"\u001b[39;49m\u001b[43m]\u001b[49m\u001b[43m[\u001b[49m\u001b[38;5;124;43m\"\u001b[39;49m\u001b[38;5;124;43m0\u001b[39;49m\u001b[38;5;124;43m\"\u001b[39;49m\u001b[43m]\u001b[49m\u001b[38;5;241;43m.\u001b[39;49m\u001b[43mtolist\u001b[49m\u001b[43m(\u001b[49m\u001b[43m)\u001b[49m\u001b[43m[\u001b[49m\u001b[38;5;241;43m0\u001b[39;49m\u001b[43m]\u001b[49m\n\u001b[1;32m      5\u001b[0m arb \u001b[38;5;241m=\u001b[39m {}\n\u001b[1;32m      7\u001b[0m \u001b[38;5;66;03m# Set the start and end date\u001b[39;00m\n",
      "\u001b[0;31mIndexError\u001b[0m: list index out of range"
     ]
    }
   ],
   "source": [
    "# Using last days price\n",
    "\n",
    "sigma  = vol.loc[vol[\"Unnamed: 0\"] == f\"{symbol}\"][\"0\"].tolist()[0]\n",
    "\n",
    "arb = {}\n",
    "\n",
    "# Set the start and end date\n",
    "start_date = '2023-01-01'\n",
    "\n",
    "t = date.today()\n",
    "\n",
    "t = str(t)\n",
    "\n",
    "# Get the data\n",
    "data = yf.download(symbol, start_date, t)\n",
    "\n",
    "close = data.tail(1)[\"Close\"].values[0]\n",
    "\n",
    "\n",
    "#uses api key to extract data\n",
    "params = {'apikey':api_key,\n",
    "         'symbol':symbol,\n",
    "         'contractType': contract,\n",
    "          'strikeCount': strikecount,\n",
    "          'includeQuotes': False,\n",
    "          'stratgey': 'SINGLE',\n",
    "          'expMonth': expMonth,\n",
    "          'optionType': 'S'\n",
    "\n",
    "\n",
    "         }\n",
    "\n",
    "content = requests.get(url = option_url, params=params)\n",
    "\n",
    "data = content.json()\n",
    "\n",
    "\n",
    "\n",
    "\n",
    "dates_ref = []\n",
    "\n",
    "int_year = now.year\n",
    "int_month = now.month\n",
    "int_day = now.day\n",
    "\n",
    "for i in data['putExpDateMap']:\n",
    "    dates_ref.append(i)\n",
    "\n",
    "for i in dates_ref:\n",
    "\n",
    "    #create outline for \n",
    "    df = {}\n",
    "    date_now = i[:10]\n",
    "    volume = []\n",
    "    theta = []\n",
    "    gamma = []\n",
    "    vega = []\n",
    "    delta = []\n",
    "    interest = []\n",
    "\n",
    "    #iterate through each strike\n",
    "    for strike in data[\"putExpDateMap\"][i]:\n",
    "        df[strike] = {'Put': '', 'Call':''}\n",
    "        df[strike]['Put'] = data[\"putExpDateMap\"][i][strike][0][\"closePrice\"]\n",
    "        df[strike]['Put - Volume'] = data[\"putExpDateMap\"][i][strike][0][\"totalVolume\"]\n",
    "\n",
    "    for strike in data[\"callExpDateMap\"][i]:\n",
    "\n",
    "        df[strike]['Call'] = data[\"callExpDateMap\"][i][strike][0][\"closePrice\"]\n",
    "        df[strike]['Call - Volume'] = data[\"callExpDateMap\"][i][strike][0][\"totalVolume\"]\n",
    "\n",
    "\n",
    "\n",
    "    label = i\n",
    "\n",
    "    strike_date = i.split('-')\n",
    "\n",
    "    year = int(strike_date[0])\n",
    "\n",
    "    month = int(strike_date[1])\n",
    "\n",
    "    day = int(strike_date[2].split(':')[0])\n",
    "\n",
    "\n",
    "\n",
    "    count = 0\n",
    "\n",
    "    days = 0\n",
    "\n",
    "    if year > int_year:\n",
    "        count = year - int_year\n",
    "\n",
    "        if month > int_month + 1:\n",
    "            interval = month - 1\n",
    "\n",
    "            for i in range(interval + 1):\n",
    "\n",
    "                if i <= int_month:\n",
    "                    continue\n",
    "                else:\n",
    "                    days += months_ref[i]\n",
    "\n",
    "            diff_int_day = months_ref[int_month] - int_day\n",
    "\n",
    "            days = days + day + diff_int_day\n",
    "\n",
    "        else:\n",
    "            for i in range(13):\n",
    "                if i <= int_month:\n",
    "                    continue\n",
    "                else: \n",
    "                    days += months_ref[i]\n",
    "\n",
    "            diff_int_day = months_ref[int_month] - int_day\n",
    "\n",
    "            days += diff_int_day\n",
    "\n",
    "            for i in range(1, month):\n",
    "                days += months_ref[i]\n",
    "\n",
    "\n",
    "            days += day\n",
    "\n",
    "            days = days / 365\n",
    "\n",
    "            count += days\n",
    "\n",
    "    else:\n",
    "        interval = month - 1\n",
    "\n",
    "        for i in range(interval + 1):\n",
    "\n",
    "            if i <= int_month:\n",
    "                continue\n",
    "            else:\n",
    "                days += months_ref[i]\n",
    "\n",
    "        diff_int_day = months_ref[int_month] - int_day\n",
    "\n",
    "        days = days + day + diff_int_day\n",
    "\n",
    "        days = days / 365\n",
    "\n",
    "        count += days\n",
    "\n",
    "    #convert to dataframe\n",
    "    option_df = pd.DataFrame.from_dict(df, orient='index')\n",
    "\n",
    "    for row, i in option_df.iterrows():\n",
    "\n",
    "\n",
    "        K = float(row)\n",
    "\n",
    "        C = i['Call']\n",
    "\n",
    "        P = i['Put']\n",
    "        \n",
    "        t = 'p'\n",
    "\n",
    "        true_put = blackScholes(r, close, K, count, sigma, t)\n",
    "        \n",
    "        t = 'c'\n",
    "\n",
    "        true_call = blackScholes(r, close, K, count, sigma, t)\n",
    "        \n",
    "        diff_put = P - true_put\n",
    "        \n",
    "        diff_call = C - true_call\n",
    "        \n",
    "        arb[f'{label} - {K}'] = {'Put': df[row]['Put'], 'True Put' : true_put, 'Call': df[row]['Call'], 'True Call': true_call, 'Symbol': symbol, 'Call - Volume': df[row]['Call - Volume'], 'Put - Volume': df[row]['Put - Volume'], 'Price': close, \"Difference Puts\": diff_put, \"Difference Calls\": diff_call}\n",
    "\n"
   ]
  },
  {
   "cell_type": "code",
   "execution_count": 6,
   "id": "4a114361",
   "metadata": {},
   "outputs": [],
   "source": [
    "tickers = pd.read_csv(\"S&P copy.csv\")[\"S&P\"].tolist()"
   ]
  },
  {
   "cell_type": "code",
   "execution_count": 7,
   "id": "547005e6",
   "metadata": {},
   "outputs": [],
   "source": [
    "optionable = pd.read_csv(\"Stocks.csv\")[\"Tickers\"].tolist()"
   ]
  },
  {
   "cell_type": "code",
   "execution_count": 8,
   "id": "127005fa",
   "metadata": {},
   "outputs": [],
   "source": [
    "common_list = set(tickers).intersection(optionable)"
   ]
  },
  {
   "cell_type": "code",
   "execution_count": 19,
   "id": "db3ecc2c",
   "metadata": {},
   "outputs": [
    {
     "name": "stderr",
     "output_type": "stream",
     "text": [
      "/var/folders/g3/164q6cz52jv0sjllnsg7jdsm0000gn/T/ipykernel_64181/49523710.py:30: DeprecationWarning: an integer is required (got type Series).  Implicit conversion to integers using __int__ is deprecated, and may be removed in a future version of Python.\n",
      "  data[\"Datetime\"] = datetime.datetime.fromtimestamp(data[\"Timestamp\"])\n",
      "/var/folders/g3/164q6cz52jv0sjllnsg7jdsm0000gn/T/ipykernel_64181/49523710.py:30: DeprecationWarning: an integer is required (got type Series).  Implicit conversion to integers using __int__ is deprecated, and may be removed in a future version of Python.\n",
      "  data[\"Datetime\"] = datetime.datetime.fromtimestamp(data[\"Timestamp\"])\n",
      "/var/folders/g3/164q6cz52jv0sjllnsg7jdsm0000gn/T/ipykernel_64181/49523710.py:30: DeprecationWarning: an integer is required (got type Series).  Implicit conversion to integers using __int__ is deprecated, and may be removed in a future version of Python.\n",
      "  data[\"Datetime\"] = datetime.datetime.fromtimestamp(data[\"Timestamp\"])\n",
      "/var/folders/g3/164q6cz52jv0sjllnsg7jdsm0000gn/T/ipykernel_64181/49523710.py:30: DeprecationWarning: an integer is required (got type Series).  Implicit conversion to integers using __int__ is deprecated, and may be removed in a future version of Python.\n",
      "  data[\"Datetime\"] = datetime.datetime.fromtimestamp(data[\"Timestamp\"])\n",
      "/var/folders/g3/164q6cz52jv0sjllnsg7jdsm0000gn/T/ipykernel_64181/49523710.py:30: DeprecationWarning: an integer is required (got type Series).  Implicit conversion to integers using __int__ is deprecated, and may be removed in a future version of Python.\n",
      "  data[\"Datetime\"] = datetime.datetime.fromtimestamp(data[\"Timestamp\"])\n",
      "/var/folders/g3/164q6cz52jv0sjllnsg7jdsm0000gn/T/ipykernel_64181/49523710.py:30: DeprecationWarning: an integer is required (got type Series).  Implicit conversion to integers using __int__ is deprecated, and may be removed in a future version of Python.\n",
      "  data[\"Datetime\"] = datetime.datetime.fromtimestamp(data[\"Timestamp\"])\n",
      "/var/folders/g3/164q6cz52jv0sjllnsg7jdsm0000gn/T/ipykernel_64181/49523710.py:30: DeprecationWarning: an integer is required (got type Series).  Implicit conversion to integers using __int__ is deprecated, and may be removed in a future version of Python.\n",
      "  data[\"Datetime\"] = datetime.datetime.fromtimestamp(data[\"Timestamp\"])\n",
      "/var/folders/g3/164q6cz52jv0sjllnsg7jdsm0000gn/T/ipykernel_64181/49523710.py:30: DeprecationWarning: an integer is required (got type Series).  Implicit conversion to integers using __int__ is deprecated, and may be removed in a future version of Python.\n",
      "  data[\"Datetime\"] = datetime.datetime.fromtimestamp(data[\"Timestamp\"])\n",
      "/var/folders/g3/164q6cz52jv0sjllnsg7jdsm0000gn/T/ipykernel_64181/49523710.py:30: DeprecationWarning: an integer is required (got type Series).  Implicit conversion to integers using __int__ is deprecated, and may be removed in a future version of Python.\n",
      "  data[\"Datetime\"] = datetime.datetime.fromtimestamp(data[\"Timestamp\"])\n",
      "/var/folders/g3/164q6cz52jv0sjllnsg7jdsm0000gn/T/ipykernel_64181/49523710.py:30: DeprecationWarning: an integer is required (got type Series).  Implicit conversion to integers using __int__ is deprecated, and may be removed in a future version of Python.\n",
      "  data[\"Datetime\"] = datetime.datetime.fromtimestamp(data[\"Timestamp\"])\n",
      "/var/folders/g3/164q6cz52jv0sjllnsg7jdsm0000gn/T/ipykernel_64181/49523710.py:30: DeprecationWarning: an integer is required (got type Series).  Implicit conversion to integers using __int__ is deprecated, and may be removed in a future version of Python.\n",
      "  data[\"Datetime\"] = datetime.datetime.fromtimestamp(data[\"Timestamp\"])\n",
      "/var/folders/g3/164q6cz52jv0sjllnsg7jdsm0000gn/T/ipykernel_64181/49523710.py:30: DeprecationWarning: an integer is required (got type Series).  Implicit conversion to integers using __int__ is deprecated, and may be removed in a future version of Python.\n",
      "  data[\"Datetime\"] = datetime.datetime.fromtimestamp(data[\"Timestamp\"])\n",
      "/var/folders/g3/164q6cz52jv0sjllnsg7jdsm0000gn/T/ipykernel_64181/49523710.py:30: DeprecationWarning: an integer is required (got type Series).  Implicit conversion to integers using __int__ is deprecated, and may be removed in a future version of Python.\n",
      "  data[\"Datetime\"] = datetime.datetime.fromtimestamp(data[\"Timestamp\"])\n",
      "/var/folders/g3/164q6cz52jv0sjllnsg7jdsm0000gn/T/ipykernel_64181/49523710.py:30: DeprecationWarning: an integer is required (got type Series).  Implicit conversion to integers using __int__ is deprecated, and may be removed in a future version of Python.\n",
      "  data[\"Datetime\"] = datetime.datetime.fromtimestamp(data[\"Timestamp\"])\n",
      "/var/folders/g3/164q6cz52jv0sjllnsg7jdsm0000gn/T/ipykernel_64181/49523710.py:30: DeprecationWarning: an integer is required (got type Series).  Implicit conversion to integers using __int__ is deprecated, and may be removed in a future version of Python.\n",
      "  data[\"Datetime\"] = datetime.datetime.fromtimestamp(data[\"Timestamp\"])\n",
      "/var/folders/g3/164q6cz52jv0sjllnsg7jdsm0000gn/T/ipykernel_64181/49523710.py:30: DeprecationWarning: an integer is required (got type Series).  Implicit conversion to integers using __int__ is deprecated, and may be removed in a future version of Python.\n",
      "  data[\"Datetime\"] = datetime.datetime.fromtimestamp(data[\"Timestamp\"])\n",
      "/var/folders/g3/164q6cz52jv0sjllnsg7jdsm0000gn/T/ipykernel_64181/49523710.py:30: DeprecationWarning: an integer is required (got type Series).  Implicit conversion to integers using __int__ is deprecated, and may be removed in a future version of Python.\n",
      "  data[\"Datetime\"] = datetime.datetime.fromtimestamp(data[\"Timestamp\"])\n",
      "/var/folders/g3/164q6cz52jv0sjllnsg7jdsm0000gn/T/ipykernel_64181/49523710.py:30: DeprecationWarning: an integer is required (got type Series).  Implicit conversion to integers using __int__ is deprecated, and may be removed in a future version of Python.\n",
      "  data[\"Datetime\"] = datetime.datetime.fromtimestamp(data[\"Timestamp\"])\n",
      "/var/folders/g3/164q6cz52jv0sjllnsg7jdsm0000gn/T/ipykernel_64181/49523710.py:30: DeprecationWarning: an integer is required (got type Series).  Implicit conversion to integers using __int__ is deprecated, and may be removed in a future version of Python.\n",
      "  data[\"Datetime\"] = datetime.datetime.fromtimestamp(data[\"Timestamp\"])\n",
      "/var/folders/g3/164q6cz52jv0sjllnsg7jdsm0000gn/T/ipykernel_64181/49523710.py:30: DeprecationWarning: an integer is required (got type Series).  Implicit conversion to integers using __int__ is deprecated, and may be removed in a future version of Python.\n",
      "  data[\"Datetime\"] = datetime.datetime.fromtimestamp(data[\"Timestamp\"])\n",
      "/var/folders/g3/164q6cz52jv0sjllnsg7jdsm0000gn/T/ipykernel_64181/49523710.py:30: DeprecationWarning: an integer is required (got type Series).  Implicit conversion to integers using __int__ is deprecated, and may be removed in a future version of Python.\n",
      "  data[\"Datetime\"] = datetime.datetime.fromtimestamp(data[\"Timestamp\"])\n",
      "/var/folders/g3/164q6cz52jv0sjllnsg7jdsm0000gn/T/ipykernel_64181/49523710.py:30: DeprecationWarning: an integer is required (got type Series).  Implicit conversion to integers using __int__ is deprecated, and may be removed in a future version of Python.\n",
      "  data[\"Datetime\"] = datetime.datetime.fromtimestamp(data[\"Timestamp\"])\n",
      "/var/folders/g3/164q6cz52jv0sjllnsg7jdsm0000gn/T/ipykernel_64181/49523710.py:30: DeprecationWarning: an integer is required (got type Series).  Implicit conversion to integers using __int__ is deprecated, and may be removed in a future version of Python.\n",
      "  data[\"Datetime\"] = datetime.datetime.fromtimestamp(data[\"Timestamp\"])\n",
      "/var/folders/g3/164q6cz52jv0sjllnsg7jdsm0000gn/T/ipykernel_64181/49523710.py:30: DeprecationWarning: an integer is required (got type Series).  Implicit conversion to integers using __int__ is deprecated, and may be removed in a future version of Python.\n",
      "  data[\"Datetime\"] = datetime.datetime.fromtimestamp(data[\"Timestamp\"])\n",
      "/var/folders/g3/164q6cz52jv0sjllnsg7jdsm0000gn/T/ipykernel_64181/49523710.py:30: DeprecationWarning: an integer is required (got type Series).  Implicit conversion to integers using __int__ is deprecated, and may be removed in a future version of Python.\n",
      "  data[\"Datetime\"] = datetime.datetime.fromtimestamp(data[\"Timestamp\"])\n",
      "/var/folders/g3/164q6cz52jv0sjllnsg7jdsm0000gn/T/ipykernel_64181/49523710.py:30: DeprecationWarning: an integer is required (got type Series).  Implicit conversion to integers using __int__ is deprecated, and may be removed in a future version of Python.\n",
      "  data[\"Datetime\"] = datetime.datetime.fromtimestamp(data[\"Timestamp\"])\n"
     ]
    },
    {
     "name": "stderr",
     "output_type": "stream",
     "text": [
      "/var/folders/g3/164q6cz52jv0sjllnsg7jdsm0000gn/T/ipykernel_64181/49523710.py:30: DeprecationWarning: an integer is required (got type Series).  Implicit conversion to integers using __int__ is deprecated, and may be removed in a future version of Python.\n",
      "  data[\"Datetime\"] = datetime.datetime.fromtimestamp(data[\"Timestamp\"])\n",
      "/var/folders/g3/164q6cz52jv0sjllnsg7jdsm0000gn/T/ipykernel_64181/49523710.py:30: DeprecationWarning: an integer is required (got type Series).  Implicit conversion to integers using __int__ is deprecated, and may be removed in a future version of Python.\n",
      "  data[\"Datetime\"] = datetime.datetime.fromtimestamp(data[\"Timestamp\"])\n",
      "/var/folders/g3/164q6cz52jv0sjllnsg7jdsm0000gn/T/ipykernel_64181/49523710.py:30: DeprecationWarning: an integer is required (got type Series).  Implicit conversion to integers using __int__ is deprecated, and may be removed in a future version of Python.\n",
      "  data[\"Datetime\"] = datetime.datetime.fromtimestamp(data[\"Timestamp\"])\n",
      "/var/folders/g3/164q6cz52jv0sjllnsg7jdsm0000gn/T/ipykernel_64181/49523710.py:30: DeprecationWarning: an integer is required (got type Series).  Implicit conversion to integers using __int__ is deprecated, and may be removed in a future version of Python.\n",
      "  data[\"Datetime\"] = datetime.datetime.fromtimestamp(data[\"Timestamp\"])\n",
      "/var/folders/g3/164q6cz52jv0sjllnsg7jdsm0000gn/T/ipykernel_64181/49523710.py:30: DeprecationWarning: an integer is required (got type Series).  Implicit conversion to integers using __int__ is deprecated, and may be removed in a future version of Python.\n",
      "  data[\"Datetime\"] = datetime.datetime.fromtimestamp(data[\"Timestamp\"])\n",
      "/var/folders/g3/164q6cz52jv0sjllnsg7jdsm0000gn/T/ipykernel_64181/49523710.py:30: DeprecationWarning: an integer is required (got type Series).  Implicit conversion to integers using __int__ is deprecated, and may be removed in a future version of Python.\n",
      "  data[\"Datetime\"] = datetime.datetime.fromtimestamp(data[\"Timestamp\"])\n",
      "/var/folders/g3/164q6cz52jv0sjllnsg7jdsm0000gn/T/ipykernel_64181/49523710.py:30: DeprecationWarning: an integer is required (got type Series).  Implicit conversion to integers using __int__ is deprecated, and may be removed in a future version of Python.\n",
      "  data[\"Datetime\"] = datetime.datetime.fromtimestamp(data[\"Timestamp\"])\n",
      "/var/folders/g3/164q6cz52jv0sjllnsg7jdsm0000gn/T/ipykernel_64181/49523710.py:30: DeprecationWarning: an integer is required (got type Series).  Implicit conversion to integers using __int__ is deprecated, and may be removed in a future version of Python.\n",
      "  data[\"Datetime\"] = datetime.datetime.fromtimestamp(data[\"Timestamp\"])\n",
      "/var/folders/g3/164q6cz52jv0sjllnsg7jdsm0000gn/T/ipykernel_64181/49523710.py:30: DeprecationWarning: an integer is required (got type Series).  Implicit conversion to integers using __int__ is deprecated, and may be removed in a future version of Python.\n",
      "  data[\"Datetime\"] = datetime.datetime.fromtimestamp(data[\"Timestamp\"])\n",
      "/var/folders/g3/164q6cz52jv0sjllnsg7jdsm0000gn/T/ipykernel_64181/49523710.py:30: DeprecationWarning: an integer is required (got type Series).  Implicit conversion to integers using __int__ is deprecated, and may be removed in a future version of Python.\n",
      "  data[\"Datetime\"] = datetime.datetime.fromtimestamp(data[\"Timestamp\"])\n",
      "/var/folders/g3/164q6cz52jv0sjllnsg7jdsm0000gn/T/ipykernel_64181/49523710.py:30: DeprecationWarning: an integer is required (got type Series).  Implicit conversion to integers using __int__ is deprecated, and may be removed in a future version of Python.\n",
      "  data[\"Datetime\"] = datetime.datetime.fromtimestamp(data[\"Timestamp\"])\n",
      "/var/folders/g3/164q6cz52jv0sjllnsg7jdsm0000gn/T/ipykernel_64181/49523710.py:30: DeprecationWarning: an integer is required (got type Series).  Implicit conversion to integers using __int__ is deprecated, and may be removed in a future version of Python.\n",
      "  data[\"Datetime\"] = datetime.datetime.fromtimestamp(data[\"Timestamp\"])\n",
      "/var/folders/g3/164q6cz52jv0sjllnsg7jdsm0000gn/T/ipykernel_64181/49523710.py:30: DeprecationWarning: an integer is required (got type Series).  Implicit conversion to integers using __int__ is deprecated, and may be removed in a future version of Python.\n",
      "  data[\"Datetime\"] = datetime.datetime.fromtimestamp(data[\"Timestamp\"])\n",
      "/var/folders/g3/164q6cz52jv0sjllnsg7jdsm0000gn/T/ipykernel_64181/49523710.py:30: DeprecationWarning: an integer is required (got type Series).  Implicit conversion to integers using __int__ is deprecated, and may be removed in a future version of Python.\n",
      "  data[\"Datetime\"] = datetime.datetime.fromtimestamp(data[\"Timestamp\"])\n",
      "/var/folders/g3/164q6cz52jv0sjllnsg7jdsm0000gn/T/ipykernel_64181/49523710.py:30: DeprecationWarning: an integer is required (got type Series).  Implicit conversion to integers using __int__ is deprecated, and may be removed in a future version of Python.\n",
      "  data[\"Datetime\"] = datetime.datetime.fromtimestamp(data[\"Timestamp\"])\n",
      "/var/folders/g3/164q6cz52jv0sjllnsg7jdsm0000gn/T/ipykernel_64181/49523710.py:30: DeprecationWarning: an integer is required (got type Series).  Implicit conversion to integers using __int__ is deprecated, and may be removed in a future version of Python.\n",
      "  data[\"Datetime\"] = datetime.datetime.fromtimestamp(data[\"Timestamp\"])\n",
      "/var/folders/g3/164q6cz52jv0sjllnsg7jdsm0000gn/T/ipykernel_64181/49523710.py:30: DeprecationWarning: an integer is required (got type Series).  Implicit conversion to integers using __int__ is deprecated, and may be removed in a future version of Python.\n",
      "  data[\"Datetime\"] = datetime.datetime.fromtimestamp(data[\"Timestamp\"])\n",
      "/var/folders/g3/164q6cz52jv0sjllnsg7jdsm0000gn/T/ipykernel_64181/49523710.py:30: DeprecationWarning: an integer is required (got type Series).  Implicit conversion to integers using __int__ is deprecated, and may be removed in a future version of Python.\n",
      "  data[\"Datetime\"] = datetime.datetime.fromtimestamp(data[\"Timestamp\"])\n",
      "/var/folders/g3/164q6cz52jv0sjllnsg7jdsm0000gn/T/ipykernel_64181/49523710.py:30: DeprecationWarning: an integer is required (got type Series).  Implicit conversion to integers using __int__ is deprecated, and may be removed in a future version of Python.\n",
      "  data[\"Datetime\"] = datetime.datetime.fromtimestamp(data[\"Timestamp\"])\n",
      "/var/folders/g3/164q6cz52jv0sjllnsg7jdsm0000gn/T/ipykernel_64181/49523710.py:30: DeprecationWarning: an integer is required (got type Series).  Implicit conversion to integers using __int__ is deprecated, and may be removed in a future version of Python.\n",
      "  data[\"Datetime\"] = datetime.datetime.fromtimestamp(data[\"Timestamp\"])\n",
      "/var/folders/g3/164q6cz52jv0sjllnsg7jdsm0000gn/T/ipykernel_64181/49523710.py:30: DeprecationWarning: an integer is required (got type Series).  Implicit conversion to integers using __int__ is deprecated, and may be removed in a future version of Python.\n",
      "  data[\"Datetime\"] = datetime.datetime.fromtimestamp(data[\"Timestamp\"])\n",
      "/var/folders/g3/164q6cz52jv0sjllnsg7jdsm0000gn/T/ipykernel_64181/49523710.py:30: DeprecationWarning: an integer is required (got type Series).  Implicit conversion to integers using __int__ is deprecated, and may be removed in a future version of Python.\n",
      "  data[\"Datetime\"] = datetime.datetime.fromtimestamp(data[\"Timestamp\"])\n",
      "/var/folders/g3/164q6cz52jv0sjllnsg7jdsm0000gn/T/ipykernel_64181/49523710.py:30: DeprecationWarning: an integer is required (got type Series).  Implicit conversion to integers using __int__ is deprecated, and may be removed in a future version of Python.\n",
      "  data[\"Datetime\"] = datetime.datetime.fromtimestamp(data[\"Timestamp\"])\n",
      "/var/folders/g3/164q6cz52jv0sjllnsg7jdsm0000gn/T/ipykernel_64181/49523710.py:30: DeprecationWarning: an integer is required (got type Series).  Implicit conversion to integers using __int__ is deprecated, and may be removed in a future version of Python.\n",
      "  data[\"Datetime\"] = datetime.datetime.fromtimestamp(data[\"Timestamp\"])\n",
      "/var/folders/g3/164q6cz52jv0sjllnsg7jdsm0000gn/T/ipykernel_64181/49523710.py:30: DeprecationWarning: an integer is required (got type Series).  Implicit conversion to integers using __int__ is deprecated, and may be removed in a future version of Python.\n",
      "  data[\"Datetime\"] = datetime.datetime.fromtimestamp(data[\"Timestamp\"])\n",
      "/var/folders/g3/164q6cz52jv0sjllnsg7jdsm0000gn/T/ipykernel_64181/49523710.py:30: DeprecationWarning: an integer is required (got type Series).  Implicit conversion to integers using __int__ is deprecated, and may be removed in a future version of Python.\n",
      "  data[\"Datetime\"] = datetime.datetime.fromtimestamp(data[\"Timestamp\"])\n"
     ]
    },
    {
     "name": "stderr",
     "output_type": "stream",
     "text": [
      "/var/folders/g3/164q6cz52jv0sjllnsg7jdsm0000gn/T/ipykernel_64181/49523710.py:30: DeprecationWarning: an integer is required (got type Series).  Implicit conversion to integers using __int__ is deprecated, and may be removed in a future version of Python.\n",
      "  data[\"Datetime\"] = datetime.datetime.fromtimestamp(data[\"Timestamp\"])\n",
      "/var/folders/g3/164q6cz52jv0sjllnsg7jdsm0000gn/T/ipykernel_64181/49523710.py:30: DeprecationWarning: an integer is required (got type Series).  Implicit conversion to integers using __int__ is deprecated, and may be removed in a future version of Python.\n",
      "  data[\"Datetime\"] = datetime.datetime.fromtimestamp(data[\"Timestamp\"])\n",
      "/var/folders/g3/164q6cz52jv0sjllnsg7jdsm0000gn/T/ipykernel_64181/49523710.py:30: DeprecationWarning: an integer is required (got type Series).  Implicit conversion to integers using __int__ is deprecated, and may be removed in a future version of Python.\n",
      "  data[\"Datetime\"] = datetime.datetime.fromtimestamp(data[\"Timestamp\"])\n",
      "/var/folders/g3/164q6cz52jv0sjllnsg7jdsm0000gn/T/ipykernel_64181/49523710.py:30: DeprecationWarning: an integer is required (got type Series).  Implicit conversion to integers using __int__ is deprecated, and may be removed in a future version of Python.\n",
      "  data[\"Datetime\"] = datetime.datetime.fromtimestamp(data[\"Timestamp\"])\n",
      "/var/folders/g3/164q6cz52jv0sjllnsg7jdsm0000gn/T/ipykernel_64181/49523710.py:30: DeprecationWarning: an integer is required (got type Series).  Implicit conversion to integers using __int__ is deprecated, and may be removed in a future version of Python.\n",
      "  data[\"Datetime\"] = datetime.datetime.fromtimestamp(data[\"Timestamp\"])\n",
      "/var/folders/g3/164q6cz52jv0sjllnsg7jdsm0000gn/T/ipykernel_64181/49523710.py:30: DeprecationWarning: an integer is required (got type Series).  Implicit conversion to integers using __int__ is deprecated, and may be removed in a future version of Python.\n",
      "  data[\"Datetime\"] = datetime.datetime.fromtimestamp(data[\"Timestamp\"])\n",
      "/var/folders/g3/164q6cz52jv0sjllnsg7jdsm0000gn/T/ipykernel_64181/49523710.py:30: DeprecationWarning: an integer is required (got type Series).  Implicit conversion to integers using __int__ is deprecated, and may be removed in a future version of Python.\n",
      "  data[\"Datetime\"] = datetime.datetime.fromtimestamp(data[\"Timestamp\"])\n",
      "/var/folders/g3/164q6cz52jv0sjllnsg7jdsm0000gn/T/ipykernel_64181/49523710.py:30: DeprecationWarning: an integer is required (got type Series).  Implicit conversion to integers using __int__ is deprecated, and may be removed in a future version of Python.\n",
      "  data[\"Datetime\"] = datetime.datetime.fromtimestamp(data[\"Timestamp\"])\n",
      "/var/folders/g3/164q6cz52jv0sjllnsg7jdsm0000gn/T/ipykernel_64181/49523710.py:30: DeprecationWarning: an integer is required (got type Series).  Implicit conversion to integers using __int__ is deprecated, and may be removed in a future version of Python.\n",
      "  data[\"Datetime\"] = datetime.datetime.fromtimestamp(data[\"Timestamp\"])\n",
      "/var/folders/g3/164q6cz52jv0sjllnsg7jdsm0000gn/T/ipykernel_64181/49523710.py:30: DeprecationWarning: an integer is required (got type Series).  Implicit conversion to integers using __int__ is deprecated, and may be removed in a future version of Python.\n",
      "  data[\"Datetime\"] = datetime.datetime.fromtimestamp(data[\"Timestamp\"])\n",
      "/var/folders/g3/164q6cz52jv0sjllnsg7jdsm0000gn/T/ipykernel_64181/49523710.py:30: DeprecationWarning: an integer is required (got type Series).  Implicit conversion to integers using __int__ is deprecated, and may be removed in a future version of Python.\n",
      "  data[\"Datetime\"] = datetime.datetime.fromtimestamp(data[\"Timestamp\"])\n",
      "/var/folders/g3/164q6cz52jv0sjllnsg7jdsm0000gn/T/ipykernel_64181/49523710.py:30: DeprecationWarning: an integer is required (got type Series).  Implicit conversion to integers using __int__ is deprecated, and may be removed in a future version of Python.\n",
      "  data[\"Datetime\"] = datetime.datetime.fromtimestamp(data[\"Timestamp\"])\n",
      "/var/folders/g3/164q6cz52jv0sjllnsg7jdsm0000gn/T/ipykernel_64181/49523710.py:30: DeprecationWarning: an integer is required (got type Series).  Implicit conversion to integers using __int__ is deprecated, and may be removed in a future version of Python.\n",
      "  data[\"Datetime\"] = datetime.datetime.fromtimestamp(data[\"Timestamp\"])\n",
      "/var/folders/g3/164q6cz52jv0sjllnsg7jdsm0000gn/T/ipykernel_64181/49523710.py:30: DeprecationWarning: an integer is required (got type Series).  Implicit conversion to integers using __int__ is deprecated, and may be removed in a future version of Python.\n",
      "  data[\"Datetime\"] = datetime.datetime.fromtimestamp(data[\"Timestamp\"])\n",
      "/var/folders/g3/164q6cz52jv0sjllnsg7jdsm0000gn/T/ipykernel_64181/49523710.py:30: DeprecationWarning: an integer is required (got type Series).  Implicit conversion to integers using __int__ is deprecated, and may be removed in a future version of Python.\n",
      "  data[\"Datetime\"] = datetime.datetime.fromtimestamp(data[\"Timestamp\"])\n",
      "/var/folders/g3/164q6cz52jv0sjllnsg7jdsm0000gn/T/ipykernel_64181/49523710.py:30: DeprecationWarning: an integer is required (got type Series).  Implicit conversion to integers using __int__ is deprecated, and may be removed in a future version of Python.\n",
      "  data[\"Datetime\"] = datetime.datetime.fromtimestamp(data[\"Timestamp\"])\n",
      "/var/folders/g3/164q6cz52jv0sjllnsg7jdsm0000gn/T/ipykernel_64181/49523710.py:30: DeprecationWarning: an integer is required (got type Series).  Implicit conversion to integers using __int__ is deprecated, and may be removed in a future version of Python.\n",
      "  data[\"Datetime\"] = datetime.datetime.fromtimestamp(data[\"Timestamp\"])\n",
      "/var/folders/g3/164q6cz52jv0sjllnsg7jdsm0000gn/T/ipykernel_64181/49523710.py:30: DeprecationWarning: an integer is required (got type Series).  Implicit conversion to integers using __int__ is deprecated, and may be removed in a future version of Python.\n",
      "  data[\"Datetime\"] = datetime.datetime.fromtimestamp(data[\"Timestamp\"])\n",
      "/var/folders/g3/164q6cz52jv0sjllnsg7jdsm0000gn/T/ipykernel_64181/49523710.py:30: DeprecationWarning: an integer is required (got type Series).  Implicit conversion to integers using __int__ is deprecated, and may be removed in a future version of Python.\n",
      "  data[\"Datetime\"] = datetime.datetime.fromtimestamp(data[\"Timestamp\"])\n",
      "/var/folders/g3/164q6cz52jv0sjllnsg7jdsm0000gn/T/ipykernel_64181/49523710.py:30: DeprecationWarning: an integer is required (got type Series).  Implicit conversion to integers using __int__ is deprecated, and may be removed in a future version of Python.\n",
      "  data[\"Datetime\"] = datetime.datetime.fromtimestamp(data[\"Timestamp\"])\n",
      "/var/folders/g3/164q6cz52jv0sjllnsg7jdsm0000gn/T/ipykernel_64181/49523710.py:30: DeprecationWarning: an integer is required (got type Series).  Implicit conversion to integers using __int__ is deprecated, and may be removed in a future version of Python.\n",
      "  data[\"Datetime\"] = datetime.datetime.fromtimestamp(data[\"Timestamp\"])\n",
      "/var/folders/g3/164q6cz52jv0sjllnsg7jdsm0000gn/T/ipykernel_64181/49523710.py:30: DeprecationWarning: an integer is required (got type Series).  Implicit conversion to integers using __int__ is deprecated, and may be removed in a future version of Python.\n",
      "  data[\"Datetime\"] = datetime.datetime.fromtimestamp(data[\"Timestamp\"])\n",
      "/var/folders/g3/164q6cz52jv0sjllnsg7jdsm0000gn/T/ipykernel_64181/49523710.py:30: DeprecationWarning: an integer is required (got type Series).  Implicit conversion to integers using __int__ is deprecated, and may be removed in a future version of Python.\n",
      "  data[\"Datetime\"] = datetime.datetime.fromtimestamp(data[\"Timestamp\"])\n",
      "/var/folders/g3/164q6cz52jv0sjllnsg7jdsm0000gn/T/ipykernel_64181/49523710.py:30: DeprecationWarning: an integer is required (got type Series).  Implicit conversion to integers using __int__ is deprecated, and may be removed in a future version of Python.\n",
      "  data[\"Datetime\"] = datetime.datetime.fromtimestamp(data[\"Timestamp\"])\n",
      "/var/folders/g3/164q6cz52jv0sjllnsg7jdsm0000gn/T/ipykernel_64181/49523710.py:30: DeprecationWarning: an integer is required (got type Series).  Implicit conversion to integers using __int__ is deprecated, and may be removed in a future version of Python.\n",
      "  data[\"Datetime\"] = datetime.datetime.fromtimestamp(data[\"Timestamp\"])\n",
      "/var/folders/g3/164q6cz52jv0sjllnsg7jdsm0000gn/T/ipykernel_64181/49523710.py:30: DeprecationWarning: an integer is required (got type Series).  Implicit conversion to integers using __int__ is deprecated, and may be removed in a future version of Python.\n",
      "  data[\"Datetime\"] = datetime.datetime.fromtimestamp(data[\"Timestamp\"])\n"
     ]
    },
    {
     "name": "stderr",
     "output_type": "stream",
     "text": [
      "/var/folders/g3/164q6cz52jv0sjllnsg7jdsm0000gn/T/ipykernel_64181/49523710.py:30: DeprecationWarning: an integer is required (got type Series).  Implicit conversion to integers using __int__ is deprecated, and may be removed in a future version of Python.\n",
      "  data[\"Datetime\"] = datetime.datetime.fromtimestamp(data[\"Timestamp\"])\n",
      "/var/folders/g3/164q6cz52jv0sjllnsg7jdsm0000gn/T/ipykernel_64181/49523710.py:30: DeprecationWarning: an integer is required (got type Series).  Implicit conversion to integers using __int__ is deprecated, and may be removed in a future version of Python.\n",
      "  data[\"Datetime\"] = datetime.datetime.fromtimestamp(data[\"Timestamp\"])\n",
      "/var/folders/g3/164q6cz52jv0sjllnsg7jdsm0000gn/T/ipykernel_64181/49523710.py:30: DeprecationWarning: an integer is required (got type Series).  Implicit conversion to integers using __int__ is deprecated, and may be removed in a future version of Python.\n",
      "  data[\"Datetime\"] = datetime.datetime.fromtimestamp(data[\"Timestamp\"])\n",
      "/var/folders/g3/164q6cz52jv0sjllnsg7jdsm0000gn/T/ipykernel_64181/49523710.py:30: DeprecationWarning: an integer is required (got type Series).  Implicit conversion to integers using __int__ is deprecated, and may be removed in a future version of Python.\n",
      "  data[\"Datetime\"] = datetime.datetime.fromtimestamp(data[\"Timestamp\"])\n",
      "/var/folders/g3/164q6cz52jv0sjllnsg7jdsm0000gn/T/ipykernel_64181/49523710.py:30: DeprecationWarning: an integer is required (got type Series).  Implicit conversion to integers using __int__ is deprecated, and may be removed in a future version of Python.\n",
      "  data[\"Datetime\"] = datetime.datetime.fromtimestamp(data[\"Timestamp\"])\n",
      "/var/folders/g3/164q6cz52jv0sjllnsg7jdsm0000gn/T/ipykernel_64181/49523710.py:30: DeprecationWarning: an integer is required (got type Series).  Implicit conversion to integers using __int__ is deprecated, and may be removed in a future version of Python.\n",
      "  data[\"Datetime\"] = datetime.datetime.fromtimestamp(data[\"Timestamp\"])\n",
      "/var/folders/g3/164q6cz52jv0sjllnsg7jdsm0000gn/T/ipykernel_64181/49523710.py:30: DeprecationWarning: an integer is required (got type Series).  Implicit conversion to integers using __int__ is deprecated, and may be removed in a future version of Python.\n",
      "  data[\"Datetime\"] = datetime.datetime.fromtimestamp(data[\"Timestamp\"])\n",
      "/var/folders/g3/164q6cz52jv0sjllnsg7jdsm0000gn/T/ipykernel_64181/49523710.py:30: DeprecationWarning: an integer is required (got type Series).  Implicit conversion to integers using __int__ is deprecated, and may be removed in a future version of Python.\n",
      "  data[\"Datetime\"] = datetime.datetime.fromtimestamp(data[\"Timestamp\"])\n",
      "/var/folders/g3/164q6cz52jv0sjllnsg7jdsm0000gn/T/ipykernel_64181/49523710.py:30: DeprecationWarning: an integer is required (got type Series).  Implicit conversion to integers using __int__ is deprecated, and may be removed in a future version of Python.\n",
      "  data[\"Datetime\"] = datetime.datetime.fromtimestamp(data[\"Timestamp\"])\n",
      "/var/folders/g3/164q6cz52jv0sjllnsg7jdsm0000gn/T/ipykernel_64181/49523710.py:30: DeprecationWarning: an integer is required (got type Series).  Implicit conversion to integers using __int__ is deprecated, and may be removed in a future version of Python.\n",
      "  data[\"Datetime\"] = datetime.datetime.fromtimestamp(data[\"Timestamp\"])\n",
      "/var/folders/g3/164q6cz52jv0sjllnsg7jdsm0000gn/T/ipykernel_64181/49523710.py:30: DeprecationWarning: an integer is required (got type Series).  Implicit conversion to integers using __int__ is deprecated, and may be removed in a future version of Python.\n",
      "  data[\"Datetime\"] = datetime.datetime.fromtimestamp(data[\"Timestamp\"])\n",
      "/var/folders/g3/164q6cz52jv0sjllnsg7jdsm0000gn/T/ipykernel_64181/49523710.py:30: DeprecationWarning: an integer is required (got type Series).  Implicit conversion to integers using __int__ is deprecated, and may be removed in a future version of Python.\n",
      "  data[\"Datetime\"] = datetime.datetime.fromtimestamp(data[\"Timestamp\"])\n",
      "/var/folders/g3/164q6cz52jv0sjllnsg7jdsm0000gn/T/ipykernel_64181/49523710.py:30: DeprecationWarning: an integer is required (got type Series).  Implicit conversion to integers using __int__ is deprecated, and may be removed in a future version of Python.\n",
      "  data[\"Datetime\"] = datetime.datetime.fromtimestamp(data[\"Timestamp\"])\n",
      "/var/folders/g3/164q6cz52jv0sjllnsg7jdsm0000gn/T/ipykernel_64181/49523710.py:30: DeprecationWarning: an integer is required (got type Series).  Implicit conversion to integers using __int__ is deprecated, and may be removed in a future version of Python.\n",
      "  data[\"Datetime\"] = datetime.datetime.fromtimestamp(data[\"Timestamp\"])\n",
      "/var/folders/g3/164q6cz52jv0sjllnsg7jdsm0000gn/T/ipykernel_64181/49523710.py:30: DeprecationWarning: an integer is required (got type Series).  Implicit conversion to integers using __int__ is deprecated, and may be removed in a future version of Python.\n",
      "  data[\"Datetime\"] = datetime.datetime.fromtimestamp(data[\"Timestamp\"])\n",
      "/var/folders/g3/164q6cz52jv0sjllnsg7jdsm0000gn/T/ipykernel_64181/49523710.py:30: DeprecationWarning: an integer is required (got type Series).  Implicit conversion to integers using __int__ is deprecated, and may be removed in a future version of Python.\n",
      "  data[\"Datetime\"] = datetime.datetime.fromtimestamp(data[\"Timestamp\"])\n",
      "/var/folders/g3/164q6cz52jv0sjllnsg7jdsm0000gn/T/ipykernel_64181/49523710.py:30: DeprecationWarning: an integer is required (got type Series).  Implicit conversion to integers using __int__ is deprecated, and may be removed in a future version of Python.\n",
      "  data[\"Datetime\"] = datetime.datetime.fromtimestamp(data[\"Timestamp\"])\n",
      "/var/folders/g3/164q6cz52jv0sjllnsg7jdsm0000gn/T/ipykernel_64181/49523710.py:30: DeprecationWarning: an integer is required (got type Series).  Implicit conversion to integers using __int__ is deprecated, and may be removed in a future version of Python.\n",
      "  data[\"Datetime\"] = datetime.datetime.fromtimestamp(data[\"Timestamp\"])\n",
      "/var/folders/g3/164q6cz52jv0sjllnsg7jdsm0000gn/T/ipykernel_64181/49523710.py:30: DeprecationWarning: an integer is required (got type Series).  Implicit conversion to integers using __int__ is deprecated, and may be removed in a future version of Python.\n",
      "  data[\"Datetime\"] = datetime.datetime.fromtimestamp(data[\"Timestamp\"])\n",
      "/var/folders/g3/164q6cz52jv0sjllnsg7jdsm0000gn/T/ipykernel_64181/49523710.py:30: DeprecationWarning: an integer is required (got type Series).  Implicit conversion to integers using __int__ is deprecated, and may be removed in a future version of Python.\n",
      "  data[\"Datetime\"] = datetime.datetime.fromtimestamp(data[\"Timestamp\"])\n",
      "/var/folders/g3/164q6cz52jv0sjllnsg7jdsm0000gn/T/ipykernel_64181/49523710.py:30: DeprecationWarning: an integer is required (got type Series).  Implicit conversion to integers using __int__ is deprecated, and may be removed in a future version of Python.\n",
      "  data[\"Datetime\"] = datetime.datetime.fromtimestamp(data[\"Timestamp\"])\n",
      "/var/folders/g3/164q6cz52jv0sjllnsg7jdsm0000gn/T/ipykernel_64181/49523710.py:30: DeprecationWarning: an integer is required (got type Series).  Implicit conversion to integers using __int__ is deprecated, and may be removed in a future version of Python.\n",
      "  data[\"Datetime\"] = datetime.datetime.fromtimestamp(data[\"Timestamp\"])\n",
      "/var/folders/g3/164q6cz52jv0sjllnsg7jdsm0000gn/T/ipykernel_64181/49523710.py:30: DeprecationWarning: an integer is required (got type Series).  Implicit conversion to integers using __int__ is deprecated, and may be removed in a future version of Python.\n",
      "  data[\"Datetime\"] = datetime.datetime.fromtimestamp(data[\"Timestamp\"])\n",
      "/var/folders/g3/164q6cz52jv0sjllnsg7jdsm0000gn/T/ipykernel_64181/49523710.py:30: DeprecationWarning: an integer is required (got type Series).  Implicit conversion to integers using __int__ is deprecated, and may be removed in a future version of Python.\n",
      "  data[\"Datetime\"] = datetime.datetime.fromtimestamp(data[\"Timestamp\"])\n",
      "/var/folders/g3/164q6cz52jv0sjllnsg7jdsm0000gn/T/ipykernel_64181/49523710.py:30: DeprecationWarning: an integer is required (got type Series).  Implicit conversion to integers using __int__ is deprecated, and may be removed in a future version of Python.\n",
      "  data[\"Datetime\"] = datetime.datetime.fromtimestamp(data[\"Timestamp\"])\n",
      "/var/folders/g3/164q6cz52jv0sjllnsg7jdsm0000gn/T/ipykernel_64181/49523710.py:30: DeprecationWarning: an integer is required (got type Series).  Implicit conversion to integers using __int__ is deprecated, and may be removed in a future version of Python.\n",
      "  data[\"Datetime\"] = datetime.datetime.fromtimestamp(data[\"Timestamp\"])\n"
     ]
    },
    {
     "name": "stderr",
     "output_type": "stream",
     "text": [
      "/var/folders/g3/164q6cz52jv0sjllnsg7jdsm0000gn/T/ipykernel_64181/49523710.py:30: DeprecationWarning: an integer is required (got type Series).  Implicit conversion to integers using __int__ is deprecated, and may be removed in a future version of Python.\n",
      "  data[\"Datetime\"] = datetime.datetime.fromtimestamp(data[\"Timestamp\"])\n",
      "/var/folders/g3/164q6cz52jv0sjllnsg7jdsm0000gn/T/ipykernel_64181/49523710.py:30: DeprecationWarning: an integer is required (got type Series).  Implicit conversion to integers using __int__ is deprecated, and may be removed in a future version of Python.\n",
      "  data[\"Datetime\"] = datetime.datetime.fromtimestamp(data[\"Timestamp\"])\n",
      "/var/folders/g3/164q6cz52jv0sjllnsg7jdsm0000gn/T/ipykernel_64181/49523710.py:30: DeprecationWarning: an integer is required (got type Series).  Implicit conversion to integers using __int__ is deprecated, and may be removed in a future version of Python.\n",
      "  data[\"Datetime\"] = datetime.datetime.fromtimestamp(data[\"Timestamp\"])\n",
      "/var/folders/g3/164q6cz52jv0sjllnsg7jdsm0000gn/T/ipykernel_64181/49523710.py:30: DeprecationWarning: an integer is required (got type Series).  Implicit conversion to integers using __int__ is deprecated, and may be removed in a future version of Python.\n",
      "  data[\"Datetime\"] = datetime.datetime.fromtimestamp(data[\"Timestamp\"])\n",
      "/var/folders/g3/164q6cz52jv0sjllnsg7jdsm0000gn/T/ipykernel_64181/49523710.py:30: DeprecationWarning: an integer is required (got type Series).  Implicit conversion to integers using __int__ is deprecated, and may be removed in a future version of Python.\n",
      "  data[\"Datetime\"] = datetime.datetime.fromtimestamp(data[\"Timestamp\"])\n",
      "/var/folders/g3/164q6cz52jv0sjllnsg7jdsm0000gn/T/ipykernel_64181/49523710.py:30: DeprecationWarning: an integer is required (got type Series).  Implicit conversion to integers using __int__ is deprecated, and may be removed in a future version of Python.\n",
      "  data[\"Datetime\"] = datetime.datetime.fromtimestamp(data[\"Timestamp\"])\n",
      "/var/folders/g3/164q6cz52jv0sjllnsg7jdsm0000gn/T/ipykernel_64181/49523710.py:30: DeprecationWarning: an integer is required (got type Series).  Implicit conversion to integers using __int__ is deprecated, and may be removed in a future version of Python.\n",
      "  data[\"Datetime\"] = datetime.datetime.fromtimestamp(data[\"Timestamp\"])\n",
      "/var/folders/g3/164q6cz52jv0sjllnsg7jdsm0000gn/T/ipykernel_64181/49523710.py:30: DeprecationWarning: an integer is required (got type Series).  Implicit conversion to integers using __int__ is deprecated, and may be removed in a future version of Python.\n",
      "  data[\"Datetime\"] = datetime.datetime.fromtimestamp(data[\"Timestamp\"])\n",
      "/var/folders/g3/164q6cz52jv0sjllnsg7jdsm0000gn/T/ipykernel_64181/49523710.py:30: DeprecationWarning: an integer is required (got type Series).  Implicit conversion to integers using __int__ is deprecated, and may be removed in a future version of Python.\n",
      "  data[\"Datetime\"] = datetime.datetime.fromtimestamp(data[\"Timestamp\"])\n",
      "/var/folders/g3/164q6cz52jv0sjllnsg7jdsm0000gn/T/ipykernel_64181/49523710.py:30: DeprecationWarning: an integer is required (got type Series).  Implicit conversion to integers using __int__ is deprecated, and may be removed in a future version of Python.\n",
      "  data[\"Datetime\"] = datetime.datetime.fromtimestamp(data[\"Timestamp\"])\n",
      "/var/folders/g3/164q6cz52jv0sjllnsg7jdsm0000gn/T/ipykernel_64181/49523710.py:30: DeprecationWarning: an integer is required (got type Series).  Implicit conversion to integers using __int__ is deprecated, and may be removed in a future version of Python.\n",
      "  data[\"Datetime\"] = datetime.datetime.fromtimestamp(data[\"Timestamp\"])\n",
      "/var/folders/g3/164q6cz52jv0sjllnsg7jdsm0000gn/T/ipykernel_64181/49523710.py:30: DeprecationWarning: an integer is required (got type Series).  Implicit conversion to integers using __int__ is deprecated, and may be removed in a future version of Python.\n",
      "  data[\"Datetime\"] = datetime.datetime.fromtimestamp(data[\"Timestamp\"])\n",
      "/var/folders/g3/164q6cz52jv0sjllnsg7jdsm0000gn/T/ipykernel_64181/49523710.py:30: DeprecationWarning: an integer is required (got type Series).  Implicit conversion to integers using __int__ is deprecated, and may be removed in a future version of Python.\n",
      "  data[\"Datetime\"] = datetime.datetime.fromtimestamp(data[\"Timestamp\"])\n",
      "/var/folders/g3/164q6cz52jv0sjllnsg7jdsm0000gn/T/ipykernel_64181/49523710.py:30: DeprecationWarning: an integer is required (got type Series).  Implicit conversion to integers using __int__ is deprecated, and may be removed in a future version of Python.\n",
      "  data[\"Datetime\"] = datetime.datetime.fromtimestamp(data[\"Timestamp\"])\n",
      "/var/folders/g3/164q6cz52jv0sjllnsg7jdsm0000gn/T/ipykernel_64181/49523710.py:30: DeprecationWarning: an integer is required (got type Series).  Implicit conversion to integers using __int__ is deprecated, and may be removed in a future version of Python.\n",
      "  data[\"Datetime\"] = datetime.datetime.fromtimestamp(data[\"Timestamp\"])\n",
      "/var/folders/g3/164q6cz52jv0sjllnsg7jdsm0000gn/T/ipykernel_64181/49523710.py:30: DeprecationWarning: an integer is required (got type Series).  Implicit conversion to integers using __int__ is deprecated, and may be removed in a future version of Python.\n",
      "  data[\"Datetime\"] = datetime.datetime.fromtimestamp(data[\"Timestamp\"])\n",
      "/var/folders/g3/164q6cz52jv0sjllnsg7jdsm0000gn/T/ipykernel_64181/49523710.py:30: DeprecationWarning: an integer is required (got type Series).  Implicit conversion to integers using __int__ is deprecated, and may be removed in a future version of Python.\n",
      "  data[\"Datetime\"] = datetime.datetime.fromtimestamp(data[\"Timestamp\"])\n",
      "/var/folders/g3/164q6cz52jv0sjllnsg7jdsm0000gn/T/ipykernel_64181/49523710.py:30: DeprecationWarning: an integer is required (got type Series).  Implicit conversion to integers using __int__ is deprecated, and may be removed in a future version of Python.\n",
      "  data[\"Datetime\"] = datetime.datetime.fromtimestamp(data[\"Timestamp\"])\n",
      "/var/folders/g3/164q6cz52jv0sjllnsg7jdsm0000gn/T/ipykernel_64181/49523710.py:30: DeprecationWarning: an integer is required (got type Series).  Implicit conversion to integers using __int__ is deprecated, and may be removed in a future version of Python.\n",
      "  data[\"Datetime\"] = datetime.datetime.fromtimestamp(data[\"Timestamp\"])\n",
      "/var/folders/g3/164q6cz52jv0sjllnsg7jdsm0000gn/T/ipykernel_64181/49523710.py:30: DeprecationWarning: an integer is required (got type Series).  Implicit conversion to integers using __int__ is deprecated, and may be removed in a future version of Python.\n",
      "  data[\"Datetime\"] = datetime.datetime.fromtimestamp(data[\"Timestamp\"])\n",
      "/var/folders/g3/164q6cz52jv0sjllnsg7jdsm0000gn/T/ipykernel_64181/49523710.py:30: DeprecationWarning: an integer is required (got type Series).  Implicit conversion to integers using __int__ is deprecated, and may be removed in a future version of Python.\n",
      "  data[\"Datetime\"] = datetime.datetime.fromtimestamp(data[\"Timestamp\"])\n",
      "/var/folders/g3/164q6cz52jv0sjllnsg7jdsm0000gn/T/ipykernel_64181/49523710.py:30: DeprecationWarning: an integer is required (got type Series).  Implicit conversion to integers using __int__ is deprecated, and may be removed in a future version of Python.\n",
      "  data[\"Datetime\"] = datetime.datetime.fromtimestamp(data[\"Timestamp\"])\n",
      "/var/folders/g3/164q6cz52jv0sjllnsg7jdsm0000gn/T/ipykernel_64181/49523710.py:30: DeprecationWarning: an integer is required (got type Series).  Implicit conversion to integers using __int__ is deprecated, and may be removed in a future version of Python.\n",
      "  data[\"Datetime\"] = datetime.datetime.fromtimestamp(data[\"Timestamp\"])\n"
     ]
    },
    {
     "name": "stdout",
     "output_type": "stream",
     "text": [
      "True\n",
      "True\n",
      "True\n",
      "True\n",
      "True\n",
      "True\n",
      "True\n",
      "True\n",
      "True\n",
      "True\n",
      "True\n",
      "True\n",
      "True\n",
      "True\n",
      "True\n",
      "True\n",
      "True\n",
      "True\n",
      "True\n",
      "True\n",
      "True\n",
      "True\n",
      "True\n",
      "True\n",
      "True\n",
      "True\n",
      "True\n",
      "True\n",
      "True\n",
      "True\n",
      "True\n",
      "True\n",
      "True\n",
      "True\n",
      "True\n",
      "True\n",
      "True\n",
      "True\n",
      "True\n",
      "True\n",
      "True\n",
      "True\n",
      "True\n",
      "True\n",
      "True\n",
      "True\n",
      "True\n",
      "True\n",
      "True\n",
      "True\n",
      "True\n",
      "True\n",
      "True\n",
      "True\n",
      "True\n",
      "True\n",
      "True\n",
      "True\n",
      "True\n",
      "True\n",
      "True\n",
      "True\n",
      "True\n",
      "True\n",
      "True\n",
      "True\n",
      "True\n",
      "True\n",
      "True\n",
      "True\n",
      "True\n",
      "True\n",
      "True\n",
      "True\n",
      "True\n",
      "True\n",
      "True\n",
      "True\n",
      "True\n",
      "True\n",
      "True\n",
      "True\n",
      "True\n",
      "True\n",
      "True\n",
      "True\n",
      "True\n",
      "True\n",
      "True\n",
      "True\n",
      "True\n",
      "True\n",
      "True\n",
      "True\n",
      "True\n",
      "True\n",
      "True\n",
      "True\n",
      "True\n",
      "True\n",
      "True\n",
      "True\n",
      "True\n",
      "True\n",
      "True\n",
      "True\n",
      "True\n",
      "True\n",
      "True\n",
      "True\n",
      "True\n",
      "True\n",
      "True\n",
      "True\n",
      "True\n",
      "True\n",
      "True\n",
      "True\n",
      "True\n",
      "True\n",
      "True\n",
      "True\n",
      "True\n",
      "True\n",
      "True\n",
      "True\n",
      "True\n",
      "True\n",
      "True\n",
      "True\n",
      "True\n",
      "True\n",
      "True\n",
      "True\n",
      "True\n",
      "True\n",
      "True\n",
      "True\n",
      "True\n",
      "True\n",
      "True\n",
      "True\n",
      "True\n",
      "True\n",
      "True\n",
      "True\n",
      "True\n",
      "True\n",
      "True\n",
      "True\n",
      "True\n",
      "True\n",
      "True\n",
      "True\n",
      "True\n",
      "True\n",
      "True\n",
      "True\n",
      "True\n",
      "True\n",
      "True\n",
      "True\n",
      "True\n",
      "True\n",
      "True\n",
      "True\n",
      "True\n",
      "True\n",
      "True\n",
      "True\n",
      "True\n",
      "True\n",
      "True\n",
      "True\n",
      "True\n",
      "True\n",
      "True\n",
      "True\n",
      "True\n",
      "True\n",
      "True\n",
      "True\n",
      "True\n",
      "True\n",
      "True\n",
      "True\n",
      "True\n",
      "True\n",
      "True\n",
      "True\n",
      "True\n",
      "True\n",
      "True\n",
      "True\n",
      "True\n",
      "True\n",
      "True\n",
      "True\n",
      "True\n",
      "True\n",
      "True\n",
      "True\n",
      "True\n",
      "True\n",
      "True\n",
      "True\n",
      "True\n",
      "True\n",
      "True\n",
      "True\n",
      "True\n",
      "True\n",
      "True\n",
      "True\n",
      "True\n",
      "True\n",
      "True\n",
      "True\n",
      "True\n",
      "True\n",
      "True\n",
      "True\n",
      "True\n",
      "True\n",
      "True\n",
      "True\n",
      "True\n",
      "True\n",
      "True\n",
      "True\n",
      "True\n",
      "True\n",
      "True\n",
      "True\n",
      "True\n",
      "True\n",
      "True\n",
      "True\n",
      "True\n",
      "True\n",
      "True\n",
      "True\n",
      "True\n",
      "True\n",
      "True\n",
      "True\n",
      "True\n",
      "True\n",
      "True\n",
      "True\n",
      "True\n",
      "True\n",
      "True\n",
      "True\n",
      "True\n",
      "True\n",
      "True\n",
      "True\n",
      "True\n",
      "True\n",
      "True\n",
      "True\n",
      "True\n",
      "True\n",
      "True\n",
      "True\n",
      "True\n",
      "True\n",
      "True\n",
      "True\n",
      "True\n",
      "True\n",
      "True\n",
      "True\n",
      "True\n",
      "True\n",
      "True\n",
      "True\n",
      "True\n",
      "True\n",
      "True\n",
      "True\n",
      "True\n",
      "True\n",
      "True\n",
      "True\n",
      "True\n",
      "True\n",
      "True\n",
      "True\n",
      "True\n",
      "True\n",
      "True\n",
      "True\n",
      "True\n",
      "True\n",
      "True\n",
      "True\n",
      "True\n",
      "True\n",
      "True\n",
      "True\n",
      "True\n",
      "True\n",
      "True\n",
      "True\n",
      "True\n",
      "True\n",
      "True\n",
      "True\n",
      "True\n",
      "True\n",
      "True\n",
      "True\n",
      "True\n",
      "True\n",
      "True\n",
      "True\n",
      "True\n",
      "True\n",
      "True\n",
      "True\n",
      "True\n",
      "True\n",
      "True\n",
      "True\n",
      "True\n",
      "True\n",
      "True\n",
      "True\n",
      "True\n",
      "True\n",
      "True\n",
      "True\n",
      "True\n",
      "True\n",
      "True\n",
      "True\n",
      "True\n",
      "True\n",
      "True\n",
      "True\n",
      "True\n",
      "True\n",
      "True\n",
      "True\n",
      "True\n",
      "True\n",
      "True\n",
      "True\n",
      "True\n",
      "True\n",
      "True\n",
      "True\n",
      "True\n",
      "True\n",
      "True\n",
      "True\n",
      "True\n",
      "True\n",
      "True\n",
      "True\n",
      "True\n",
      "True\n",
      "True\n",
      "True\n",
      "True\n",
      "True\n",
      "True\n",
      "True\n",
      "True\n",
      "True\n",
      "True\n",
      "True\n",
      "True\n",
      "True\n",
      "True\n",
      "True\n",
      "True\n",
      "True\n",
      "True\n",
      "True\n",
      "True\n",
      "True\n",
      "True\n",
      "True\n",
      "True\n",
      "True\n",
      "True\n",
      "True\n",
      "True\n",
      "True\n",
      "True\n",
      "True\n",
      "True\n",
      "True\n",
      "True\n",
      "True\n",
      "True\n",
      "True\n",
      "True\n",
      "True\n",
      "True\n",
      "True\n",
      "True\n",
      "True\n",
      "True\n",
      "True\n",
      "True\n",
      "True\n",
      "True\n",
      "True\n",
      "True\n",
      "True\n",
      "True\n",
      "True\n",
      "True\n",
      "True\n",
      "True\n",
      "True\n",
      "True\n",
      "True\n",
      "True\n",
      "True\n",
      "True\n",
      "True\n",
      "True\n",
      "True\n",
      "True\n",
      "True\n",
      "True\n",
      "True\n",
      "True\n",
      "True\n",
      "True\n",
      "True\n",
      "True\n",
      "True\n",
      "True\n",
      "True\n",
      "True\n",
      "True\n",
      "True\n",
      "True\n",
      "True\n",
      "True\n",
      "True\n",
      "True\n",
      "True\n",
      "True\n",
      "True\n",
      "True\n",
      "True\n",
      "True\n",
      "True\n",
      "True\n",
      "True\n",
      "True\n",
      "True\n",
      "True\n",
      "True\n",
      "True\n",
      "True\n",
      "True\n",
      "True\n",
      "True\n",
      "True\n",
      "True\n",
      "True\n",
      "True\n",
      "True\n",
      "True\n",
      "True\n",
      "True\n",
      "True\n",
      "True\n",
      "True\n",
      "True\n",
      "True\n",
      "True\n",
      "True\n",
      "True\n",
      "True\n",
      "True\n",
      "True\n",
      "True\n",
      "True\n",
      "True\n",
      "True\n",
      "True\n",
      "True\n",
      "True\n",
      "True\n",
      "True\n",
      "True\n",
      "True\n",
      "True\n",
      "True\n",
      "True\n",
      "True\n",
      "True\n",
      "True\n",
      "True\n",
      "True\n",
      "True\n",
      "True\n",
      "True\n",
      "True\n",
      "True\n",
      "True\n",
      "True\n",
      "True\n",
      "True\n",
      "True\n",
      "True\n",
      "True\n",
      "True\n",
      "True\n",
      "True\n",
      "True\n",
      "True\n",
      "True\n",
      "True\n",
      "True\n",
      "True\n",
      "True\n",
      "True\n",
      "True\n",
      "True\n",
      "True\n",
      "True\n",
      "True\n",
      "True\n",
      "True\n",
      "True\n",
      "True\n",
      "True\n",
      "True\n",
      "True\n",
      "True\n",
      "True\n",
      "True\n",
      "True\n",
      "True\n",
      "True\n",
      "True\n",
      "True\n",
      "True\n",
      "True\n",
      "True\n",
      "True\n",
      "True\n",
      "True\n",
      "True\n",
      "True\n",
      "True\n",
      "True\n",
      "True\n",
      "True\n",
      "True\n",
      "True\n",
      "True\n",
      "True\n",
      "True\n",
      "True\n",
      "True\n",
      "True\n",
      "True\n",
      "True\n",
      "True\n",
      "True\n",
      "True\n",
      "True\n",
      "True\n",
      "True\n",
      "True\n",
      "True\n",
      "True\n",
      "True\n",
      "True\n",
      "True\n",
      "True\n",
      "True\n",
      "True\n",
      "True\n",
      "True\n",
      "True\n",
      "True\n",
      "True\n",
      "True\n",
      "True\n",
      "True\n",
      "True\n",
      "True\n",
      "True\n",
      "True\n",
      "True\n",
      "True\n",
      "True\n",
      "True\n",
      "True\n",
      "True\n",
      "True\n",
      "True\n",
      "True\n",
      "True\n",
      "True\n",
      "True\n",
      "True\n",
      "True\n",
      "True\n",
      "True\n",
      "True\n",
      "True\n",
      "True\n",
      "True\n",
      "True\n",
      "True\n",
      "True\n",
      "True\n",
      "True\n",
      "True\n",
      "True\n",
      "True\n",
      "True\n",
      "True\n",
      "True\n",
      "True\n",
      "True\n",
      "True\n",
      "True\n",
      "True\n",
      "True\n",
      "True\n",
      "True\n",
      "True\n",
      "True\n",
      "True\n",
      "True\n",
      "True\n",
      "True\n",
      "True\n",
      "True\n",
      "True\n",
      "True\n",
      "True\n",
      "True\n",
      "True\n",
      "True\n",
      "True\n",
      "True\n",
      "True\n",
      "True\n",
      "True\n",
      "True\n",
      "True\n",
      "True\n",
      "True\n",
      "True\n",
      "True\n",
      "True\n",
      "True\n",
      "True\n",
      "True\n",
      "True\n",
      "True\n",
      "True\n",
      "True\n",
      "True\n",
      "True\n",
      "True\n",
      "True\n",
      "True\n",
      "True\n",
      "True\n",
      "True\n",
      "True\n",
      "True\n",
      "True\n",
      "True\n",
      "True\n",
      "True\n",
      "True\n",
      "True\n",
      "True\n",
      "True\n",
      "True\n",
      "True\n",
      "True\n",
      "True\n",
      "True\n",
      "True\n",
      "True\n",
      "True\n",
      "True\n",
      "True\n",
      "True\n",
      "True\n",
      "True\n",
      "True\n",
      "True\n",
      "True\n",
      "True\n",
      "True\n",
      "True\n",
      "True\n",
      "True\n",
      "True\n",
      "True\n",
      "True\n",
      "True\n",
      "True\n",
      "True\n",
      "True\n",
      "True\n",
      "True\n",
      "True\n",
      "True\n",
      "True\n",
      "True\n",
      "True\n",
      "True\n",
      "True\n",
      "True\n",
      "True\n",
      "True\n",
      "True\n",
      "True\n",
      "True\n",
      "True\n",
      "True\n",
      "True\n",
      "True\n",
      "True\n",
      "True\n",
      "True\n",
      "True\n",
      "True\n",
      "True\n",
      "True\n",
      "True\n",
      "True\n",
      "True\n",
      "True\n",
      "True\n",
      "True\n",
      "True\n",
      "True\n",
      "True\n",
      "True\n",
      "True\n",
      "True\n",
      "True\n",
      "True\n",
      "True\n",
      "True\n",
      "True\n",
      "True\n",
      "True\n",
      "True\n",
      "True\n",
      "True\n",
      "True\n",
      "True\n",
      "True\n",
      "True\n",
      "True\n",
      "True\n",
      "True\n",
      "True\n",
      "True\n",
      "True\n",
      "True\n",
      "True\n",
      "True\n",
      "True\n",
      "True\n",
      "True\n",
      "True\n",
      "True\n",
      "True\n",
      "True\n",
      "True\n",
      "True\n",
      "True\n",
      "True\n",
      "True\n",
      "True\n",
      "True\n",
      "True\n",
      "True\n",
      "True\n",
      "True\n",
      "True\n",
      "True\n",
      "True\n",
      "True\n",
      "True\n",
      "True\n",
      "True\n",
      "True\n",
      "True\n",
      "True\n",
      "True\n",
      "True\n",
      "True\n",
      "True\n",
      "True\n",
      "True\n",
      "True\n",
      "True\n",
      "True\n",
      "True\n",
      "True\n",
      "True\n",
      "True\n",
      "True\n",
      "True\n",
      "True\n",
      "True\n",
      "True\n",
      "True\n",
      "True\n",
      "True\n",
      "True\n",
      "True\n",
      "True\n",
      "True\n",
      "True\n",
      "True\n",
      "True\n",
      "True\n",
      "True\n",
      "True\n",
      "True\n",
      "True\n",
      "True\n",
      "True\n",
      "True\n",
      "True\n",
      "True\n",
      "True\n",
      "True\n",
      "True\n",
      "True\n",
      "True\n",
      "True\n",
      "True\n",
      "True\n",
      "True\n",
      "True\n",
      "True\n",
      "True\n",
      "True\n",
      "True\n",
      "True\n",
      "True\n",
      "True\n",
      "True\n",
      "True\n",
      "True\n",
      "True\n",
      "True\n",
      "True\n",
      "True\n",
      "True\n",
      "True\n",
      "True\n",
      "True\n",
      "True\n",
      "True\n",
      "True\n",
      "True\n",
      "True\n",
      "True\n",
      "True\n",
      "True\n",
      "True\n",
      "True\n",
      "True\n",
      "True\n",
      "True\n",
      "True\n",
      "True\n",
      "True\n",
      "True\n",
      "True\n",
      "True\n",
      "True\n",
      "True\n",
      "True\n",
      "True\n",
      "True\n",
      "True\n",
      "True\n",
      "True\n",
      "True\n",
      "True\n",
      "True\n",
      "True\n",
      "True\n",
      "True\n",
      "True\n",
      "True\n",
      "True\n",
      "True\n",
      "True\n",
      "True\n",
      "True\n",
      "True\n",
      "True\n",
      "True\n",
      "True\n",
      "True\n",
      "True\n",
      "True\n",
      "True\n",
      "True\n",
      "True\n",
      "True\n",
      "True\n",
      "True\n",
      "True\n",
      "True\n",
      "True\n",
      "True\n",
      "True\n",
      "True\n",
      "True\n",
      "True\n",
      "True\n",
      "True\n",
      "True\n",
      "True\n",
      "True\n",
      "True\n",
      "True\n",
      "True\n",
      "True\n",
      "True\n",
      "True\n",
      "True\n",
      "True\n",
      "True\n",
      "True\n",
      "True\n",
      "True\n",
      "True\n",
      "True\n",
      "True\n",
      "True\n",
      "True\n",
      "True\n",
      "True\n",
      "True\n",
      "True\n",
      "True\n",
      "True\n",
      "True\n",
      "True\n",
      "True\n",
      "True\n",
      "True\n",
      "True\n",
      "True\n",
      "True\n",
      "True\n",
      "True\n",
      "True\n",
      "True\n",
      "True\n",
      "True\n",
      "True\n",
      "True\n",
      "True\n",
      "True\n",
      "True\n",
      "True\n",
      "True\n",
      "True\n",
      "True\n",
      "True\n",
      "True\n",
      "True\n",
      "True\n",
      "True\n",
      "True\n",
      "True\n",
      "True\n",
      "True\n",
      "True\n",
      "True\n",
      "True\n",
      "True\n",
      "True\n",
      "True\n",
      "True\n",
      "True\n",
      "True\n",
      "True\n",
      "True\n",
      "True\n",
      "True\n",
      "True\n",
      "True\n",
      "True\n",
      "True\n",
      "True\n",
      "True\n",
      "True\n",
      "True\n",
      "True\n",
      "True\n",
      "True\n",
      "True\n",
      "True\n",
      "True\n",
      "True\n",
      "True\n",
      "True\n",
      "True\n",
      "True\n",
      "True\n",
      "True\n",
      "True\n",
      "True\n",
      "True\n",
      "True\n",
      "True\n",
      "True\n",
      "True\n",
      "True\n",
      "True\n",
      "True\n",
      "True\n",
      "True\n",
      "True\n",
      "True\n",
      "True\n",
      "True\n",
      "True\n",
      "True\n",
      "True\n",
      "True\n",
      "True\n",
      "True\n",
      "True\n",
      "True\n",
      "True\n",
      "True\n",
      "True\n",
      "True\n",
      "True\n",
      "True\n",
      "True\n",
      "True\n",
      "True\n",
      "True\n",
      "True\n",
      "True\n",
      "True\n",
      "True\n",
      "True\n",
      "True\n",
      "True\n",
      "True\n",
      "True\n",
      "True\n",
      "True\n",
      "True\n",
      "True\n",
      "True\n",
      "True\n",
      "True\n",
      "True\n",
      "True\n",
      "True\n",
      "True\n",
      "True\n",
      "True\n",
      "True\n",
      "True\n",
      "True\n",
      "True\n",
      "True\n",
      "True\n",
      "True\n",
      "True\n",
      "True\n",
      "True\n",
      "True\n",
      "True\n",
      "True\n",
      "True\n",
      "True\n",
      "True\n",
      "True\n",
      "True\n",
      "True\n",
      "True\n",
      "True\n",
      "True\n",
      "True\n",
      "True\n",
      "True\n",
      "True\n",
      "True\n",
      "True\n",
      "True\n",
      "True\n",
      "True\n",
      "True\n",
      "True\n",
      "True\n",
      "True\n",
      "True\n",
      "True\n",
      "True\n",
      "True\n",
      "True\n",
      "True\n",
      "True\n",
      "True\n",
      "True\n",
      "True\n",
      "True\n",
      "True\n",
      "True\n",
      "True\n",
      "True\n",
      "True\n",
      "True\n",
      "True\n",
      "True\n",
      "True\n",
      "True\n",
      "True\n",
      "True\n",
      "True\n",
      "True\n",
      "True\n",
      "True\n",
      "True\n",
      "True\n",
      "True\n",
      "True\n",
      "True\n",
      "True\n",
      "True\n",
      "True\n",
      "True\n",
      "True\n",
      "True\n",
      "True\n",
      "True\n",
      "True\n",
      "True\n",
      "True\n",
      "True\n",
      "True\n",
      "True\n",
      "True\n",
      "True\n",
      "True\n",
      "True\n",
      "True\n",
      "True\n",
      "True\n",
      "True\n",
      "True\n",
      "True\n",
      "True\n",
      "True\n",
      "True\n",
      "True\n",
      "True\n",
      "True\n",
      "True\n",
      "True\n",
      "True\n",
      "True\n",
      "True\n",
      "True\n",
      "True\n",
      "True\n",
      "True\n",
      "True\n",
      "True\n",
      "True\n",
      "True\n",
      "True\n",
      "True\n",
      "True\n",
      "True\n",
      "True\n",
      "True\n",
      "True\n",
      "True\n",
      "True\n",
      "True\n",
      "True\n",
      "True\n",
      "True\n",
      "True\n",
      "True\n",
      "True\n",
      "True\n",
      "True\n",
      "True\n",
      "True\n",
      "True\n",
      "True\n",
      "True\n",
      "True\n",
      "True\n",
      "True\n",
      "True\n",
      "True\n",
      "True\n",
      "True\n",
      "True\n",
      "True\n",
      "True\n",
      "True\n",
      "True\n",
      "True\n",
      "True\n",
      "True\n",
      "True\n",
      "True\n",
      "True\n",
      "True\n",
      "True\n",
      "True\n",
      "True\n",
      "True\n",
      "True\n",
      "True\n",
      "True\n",
      "True\n",
      "True\n",
      "True\n",
      "True\n",
      "True\n",
      "True\n",
      "True\n",
      "True\n",
      "True\n",
      "True\n",
      "True\n",
      "True\n",
      "True\n",
      "True\n",
      "True\n",
      "True\n",
      "True\n",
      "True\n",
      "True\n",
      "True\n",
      "True\n",
      "True\n",
      "True\n",
      "True\n",
      "True\n",
      "True\n",
      "True\n",
      "True\n",
      "True\n",
      "True\n",
      "True\n",
      "True\n",
      "True\n",
      "True\n",
      "True\n",
      "True\n",
      "True\n",
      "True\n",
      "True\n",
      "True\n",
      "True\n",
      "True\n",
      "True\n",
      "True\n",
      "True\n",
      "True\n",
      "True\n",
      "True\n",
      "True\n",
      "True\n",
      "True\n",
      "True\n",
      "True\n",
      "True\n",
      "True\n",
      "True\n",
      "True\n",
      "True\n",
      "True\n",
      "True\n",
      "True\n",
      "True\n",
      "True\n",
      "True\n",
      "True\n",
      "True\n",
      "True\n",
      "True\n",
      "True\n",
      "True\n",
      "True\n",
      "True\n",
      "True\n",
      "True\n",
      "True\n",
      "True\n",
      "True\n",
      "True\n",
      "True\n",
      "True\n",
      "True\n",
      "True\n",
      "True\n",
      "True\n",
      "True\n",
      "True\n",
      "True\n",
      "True\n",
      "True\n",
      "True\n",
      "True\n",
      "True\n",
      "True\n",
      "True\n",
      "True\n",
      "True\n",
      "True\n",
      "True\n",
      "True\n",
      "True\n",
      "True\n",
      "True\n",
      "True\n",
      "True\n",
      "True\n",
      "True\n",
      "True\n",
      "True\n",
      "True\n",
      "True\n",
      "True\n",
      "True\n",
      "True\n",
      "True\n",
      "True\n",
      "True\n",
      "True\n",
      "True\n",
      "True\n",
      "True\n",
      "True\n",
      "True\n",
      "True\n",
      "True\n",
      "True\n",
      "True\n",
      "True\n",
      "True\n",
      "True\n",
      "True\n",
      "True\n",
      "True\n",
      "True\n",
      "True\n",
      "True\n",
      "True\n",
      "True\n",
      "True\n",
      "True\n",
      "True\n",
      "True\n",
      "True\n",
      "True\n",
      "True\n",
      "True\n",
      "True\n",
      "True\n",
      "True\n",
      "True\n",
      "True\n",
      "True\n",
      "True\n",
      "True\n",
      "True\n",
      "True\n",
      "True\n",
      "True\n",
      "True\n",
      "True\n",
      "True\n",
      "True\n",
      "True\n",
      "True\n",
      "True\n",
      "True\n",
      "True\n",
      "True\n",
      "True\n",
      "True\n",
      "True\n",
      "True\n",
      "True\n",
      "True\n",
      "True\n",
      "True\n",
      "True\n",
      "True\n",
      "True\n",
      "True\n",
      "True\n",
      "True\n",
      "True\n",
      "True\n",
      "True\n",
      "True\n",
      "True\n",
      "True\n",
      "True\n",
      "True\n",
      "True\n",
      "True\n",
      "True\n",
      "True\n",
      "True\n",
      "True\n",
      "True\n",
      "True\n",
      "True\n",
      "True\n",
      "True\n",
      "True\n",
      "True\n",
      "True\n",
      "True\n",
      "True\n",
      "True\n",
      "True\n",
      "True\n",
      "True\n",
      "True\n",
      "True\n",
      "True\n",
      "True\n",
      "True\n",
      "True\n",
      "True\n",
      "True\n",
      "True\n",
      "True\n",
      "True\n",
      "True\n",
      "True\n",
      "True\n",
      "True\n",
      "True\n",
      "True\n",
      "True\n",
      "True\n",
      "True\n",
      "True\n",
      "True\n",
      "True\n",
      "True\n",
      "True\n",
      "True\n",
      "True\n",
      "True\n",
      "True\n",
      "True\n",
      "True\n",
      "True\n",
      "True\n",
      "True\n",
      "True\n",
      "True\n",
      "True\n",
      "True\n",
      "True\n",
      "True\n",
      "True\n",
      "True\n",
      "True\n",
      "True\n",
      "True\n",
      "True\n",
      "True\n",
      "True\n",
      "True\n",
      "True\n",
      "True\n",
      "True\n",
      "True\n",
      "True\n",
      "True\n",
      "True\n",
      "True\n",
      "True\n",
      "True\n",
      "True\n",
      "True\n",
      "True\n",
      "True\n",
      "True\n",
      "True\n",
      "True\n",
      "True\n",
      "True\n",
      "True\n",
      "True\n",
      "True\n",
      "True\n",
      "True\n",
      "True\n",
      "True\n",
      "True\n",
      "True\n",
      "True\n",
      "True\n",
      "True\n",
      "True\n",
      "True\n",
      "True\n",
      "True\n",
      "True\n",
      "True\n",
      "True\n",
      "True\n",
      "True\n",
      "True\n",
      "True\n",
      "True\n",
      "True\n",
      "True\n",
      "True\n",
      "True\n",
      "True\n",
      "True\n",
      "True\n",
      "True\n",
      "True\n",
      "True\n",
      "True\n",
      "True\n",
      "True\n",
      "True\n",
      "True\n",
      "True\n",
      "True\n",
      "True\n",
      "True\n",
      "True\n",
      "True\n",
      "True\n",
      "True\n",
      "True\n",
      "True\n",
      "True\n",
      "True\n",
      "True\n",
      "True\n",
      "True\n",
      "True\n",
      "True\n",
      "True\n",
      "True\n",
      "True\n",
      "True\n",
      "True\n",
      "True\n",
      "True\n",
      "True\n",
      "True\n",
      "True\n",
      "True\n",
      "True\n",
      "True\n",
      "True\n",
      "True\n",
      "True\n",
      "True\n",
      "True\n",
      "True\n",
      "True\n",
      "True\n",
      "True\n",
      "True\n",
      "True\n",
      "True\n",
      "True\n",
      "True\n",
      "True\n",
      "True\n",
      "True\n",
      "True\n",
      "True\n",
      "True\n",
      "True\n",
      "True\n",
      "True\n",
      "True\n",
      "True\n",
      "True\n",
      "True\n",
      "True\n",
      "True\n",
      "True\n",
      "True\n",
      "True\n",
      "True\n",
      "True\n",
      "True\n",
      "True\n",
      "True\n",
      "True\n",
      "True\n",
      "True\n",
      "True\n",
      "True\n",
      "True\n",
      "True\n",
      "True\n",
      "True\n",
      "True\n",
      "True\n",
      "True\n",
      "True\n",
      "True\n",
      "True\n",
      "True\n",
      "True\n"
     ]
    },
    {
     "name": "stdout",
     "output_type": "stream",
     "text": [
      "True\n",
      "True\n",
      "True\n",
      "True\n",
      "True\n",
      "True\n",
      "True\n",
      "True\n",
      "True\n",
      "True\n",
      "True\n",
      "True\n",
      "True\n",
      "True\n",
      "True\n",
      "True\n",
      "True\n",
      "True\n",
      "True\n",
      "True\n",
      "True\n",
      "True\n",
      "True\n",
      "True\n",
      "True\n",
      "True\n",
      "True\n",
      "True\n",
      "True\n",
      "True\n",
      "True\n",
      "True\n",
      "True\n",
      "True\n",
      "True\n",
      "True\n",
      "True\n",
      "True\n",
      "True\n",
      "True\n",
      "True\n",
      "True\n",
      "True\n",
      "True\n",
      "True\n",
      "True\n",
      "True\n",
      "True\n",
      "True\n",
      "True\n",
      "True\n",
      "True\n",
      "True\n",
      "True\n",
      "True\n",
      "True\n",
      "True\n",
      "True\n",
      "True\n",
      "True\n",
      "True\n",
      "True\n",
      "True\n",
      "True\n",
      "True\n",
      "True\n",
      "True\n",
      "True\n",
      "True\n",
      "True\n",
      "True\n",
      "True\n",
      "True\n",
      "True\n",
      "True\n",
      "True\n",
      "True\n",
      "True\n",
      "True\n",
      "True\n",
      "True\n",
      "True\n",
      "True\n",
      "True\n",
      "True\n",
      "True\n",
      "True\n",
      "True\n",
      "True\n",
      "True\n",
      "True\n",
      "True\n",
      "True\n",
      "True\n",
      "True\n",
      "True\n",
      "True\n",
      "True\n",
      "True\n",
      "True\n",
      "True\n",
      "True\n",
      "True\n",
      "True\n",
      "True\n",
      "True\n",
      "True\n",
      "True\n",
      "True\n",
      "True\n",
      "True\n",
      "True\n",
      "True\n",
      "True\n",
      "True\n",
      "True\n",
      "True\n",
      "True\n",
      "True\n",
      "True\n",
      "True\n",
      "True\n",
      "True\n",
      "True\n",
      "True\n",
      "True\n",
      "True\n",
      "True\n",
      "True\n",
      "True\n",
      "True\n",
      "True\n",
      "True\n",
      "True\n",
      "True\n",
      "True\n",
      "True\n",
      "True\n",
      "True\n",
      "True\n",
      "True\n",
      "True\n",
      "True\n",
      "True\n",
      "True\n",
      "True\n",
      "True\n",
      "True\n",
      "True\n",
      "True\n",
      "True\n",
      "True\n",
      "True\n",
      "True\n",
      "True\n",
      "True\n",
      "True\n",
      "True\n",
      "True\n",
      "True\n",
      "True\n",
      "True\n",
      "True\n",
      "True\n",
      "True\n",
      "True\n",
      "True\n",
      "True\n",
      "True\n",
      "True\n",
      "True\n",
      "True\n",
      "True\n",
      "True\n",
      "True\n",
      "True\n",
      "True\n",
      "True\n",
      "True\n",
      "True\n",
      "True\n",
      "True\n",
      "True\n",
      "True\n",
      "True\n",
      "True\n",
      "True\n",
      "True\n",
      "True\n",
      "True\n",
      "True\n",
      "True\n",
      "True\n",
      "True\n",
      "True\n",
      "True\n",
      "True\n",
      "True\n",
      "True\n",
      "True\n",
      "True\n",
      "True\n",
      "True\n",
      "True\n",
      "True\n",
      "True\n",
      "True\n",
      "True\n",
      "True\n",
      "True\n",
      "True\n",
      "True\n",
      "True\n",
      "True\n",
      "True\n",
      "True\n",
      "True\n",
      "True\n",
      "True\n",
      "True\n",
      "True\n",
      "True\n",
      "True\n",
      "True\n",
      "True\n",
      "True\n",
      "True\n",
      "True\n",
      "True\n",
      "True\n",
      "True\n",
      "True\n",
      "True\n",
      "True\n",
      "True\n",
      "True\n",
      "True\n",
      "True\n",
      "True\n",
      "True\n",
      "True\n",
      "True\n",
      "True\n",
      "True\n",
      "True\n",
      "True\n",
      "True\n",
      "True\n",
      "True\n",
      "True\n",
      "True\n",
      "True\n",
      "True\n",
      "True\n",
      "True\n",
      "True\n",
      "True\n",
      "True\n",
      "True\n",
      "True\n",
      "True\n",
      "True\n",
      "True\n",
      "True\n",
      "True\n",
      "True\n",
      "True\n",
      "True\n",
      "True\n",
      "True\n",
      "True\n",
      "True\n",
      "True\n",
      "True\n",
      "True\n",
      "True\n",
      "True\n",
      "True\n",
      "True\n",
      "True\n",
      "True\n",
      "True\n",
      "True\n",
      "True\n",
      "True\n",
      "True\n",
      "True\n",
      "True\n",
      "True\n",
      "True\n",
      "True\n",
      "True\n",
      "True\n",
      "True\n",
      "True\n",
      "True\n",
      "True\n",
      "True\n",
      "True\n",
      "True\n",
      "True\n",
      "True\n",
      "True\n",
      "True\n",
      "True\n",
      "True\n",
      "True\n",
      "True\n",
      "True\n",
      "True\n",
      "True\n",
      "True\n",
      "True\n",
      "True\n",
      "True\n",
      "True\n",
      "True\n",
      "True\n",
      "True\n",
      "True\n",
      "True\n",
      "True\n",
      "True\n",
      "True\n",
      "True\n",
      "True\n",
      "True\n",
      "True\n",
      "True\n",
      "True\n",
      "True\n",
      "True\n",
      "True\n",
      "True\n",
      "True\n",
      "True\n",
      "True\n",
      "True\n",
      "True\n",
      "True\n",
      "True\n",
      "True\n",
      "True\n",
      "True\n",
      "True\n",
      "True\n",
      "True\n",
      "True\n",
      "True\n",
      "True\n",
      "True\n",
      "True\n",
      "True\n",
      "True\n",
      "True\n",
      "True\n",
      "True\n",
      "True\n",
      "True\n",
      "True\n",
      "True\n",
      "True\n",
      "True\n",
      "True\n",
      "True\n",
      "True\n",
      "True\n",
      "True\n",
      "True\n",
      "True\n",
      "True\n",
      "True\n",
      "True\n",
      "True\n",
      "True\n",
      "True\n",
      "True\n",
      "True\n",
      "True\n",
      "True\n",
      "True\n",
      "True\n",
      "True\n",
      "True\n",
      "True\n",
      "True\n",
      "True\n",
      "True\n",
      "True\n",
      "True\n",
      "True\n",
      "True\n",
      "True\n",
      "True\n",
      "True\n",
      "True\n",
      "True\n",
      "True\n",
      "True\n",
      "True\n",
      "True\n",
      "True\n",
      "True\n",
      "True\n",
      "True\n",
      "True\n",
      "True\n",
      "True\n",
      "True\n",
      "True\n",
      "True\n",
      "True\n",
      "True\n",
      "True\n",
      "True\n",
      "True\n",
      "True\n",
      "True\n",
      "True\n",
      "True\n",
      "True\n",
      "True\n",
      "True\n",
      "True\n",
      "True\n",
      "True\n",
      "True\n",
      "True\n",
      "True\n",
      "True\n",
      "True\n",
      "True\n",
      "True\n",
      "True\n",
      "True\n",
      "True\n",
      "True\n",
      "True\n",
      "True\n",
      "True\n",
      "True\n",
      "True\n",
      "True\n",
      "True\n",
      "True\n",
      "True\n",
      "True\n",
      "True\n",
      "True\n",
      "True\n",
      "True\n",
      "True\n",
      "True\n",
      "True\n",
      "True\n",
      "True\n",
      "True\n",
      "True\n",
      "True\n",
      "True\n",
      "True\n"
     ]
    },
    {
     "ename": "FinnhubAPIException",
     "evalue": "FinnhubAPIException(status_code: 503): JSON error message from Finnhub: <!DOCTYPE html>\n<!--[if lt IE 7]> <html class=\"no-js ie6 oldie\" lang=\"en-US\"> <![endif]-->\n<!--[if IE 7]>    <html class=\"no-js ie7 oldie\" lang=\"en-US\"> <![endif]-->\n<!--[if IE 8]>    <html class=\"no-js ie8 oldie\" lang=\"en-US\"> <![endif]-->\n<!--[if gt IE 8]><!--> <html class=\"no-js\" lang=\"en-US\"> <!--<![endif]-->\n<head>\n<title>Rate Limited</title>\n<meta charset=\"UTF-8\" />\n<meta http-equiv=\"Content-Type\" content=\"text/html; charset=UTF-8\" />\n<meta http-equiv=\"X-UA-Compatible\" content=\"IE=Edge\" />\n<meta name=\"robots\" content=\"noindex, nofollow\" />\n<meta name=\"viewport\" content=\"width=device-width,initial-scale=1\" />\n<link rel=\"stylesheet\" id=\"cf_styles-css\" href=\"/cdn-cgi/styles/main.css\" />\n\n\n<script>\n(function(){if(document.addEventListener&&window.XMLHttpRequest&&JSON&&JSON.stringify){var e=function(a){var c=document.getElementById(\"error-feedback-survey\"),d=document.getElementById(\"error-feedback-success\"),b=new XMLHttpRequest;a={event:\"feedback clicked\",properties:{errorCode:1200,helpful:a,version:1}};b.open(\"POST\",\"https://sparrow.cloudflare.com/api/v1/event\");b.setRequestHeader(\"Content-Type\",\"application/json\");b.setRequestHeader(\"Sparrow-Source-Key\",\"c771f0e4b54944bebf4261d44bd79a1e\");\nb.send(JSON.stringify(a));c.classList.add(\"feedback-hidden\");d.classList.remove(\"feedback-hidden\")};document.addEventListener(\"DOMContentLoaded\",function(){var a=document.getElementById(\"error-feedback\"),c=document.getElementById(\"feedback-button-yes\"),d=document.getElementById(\"feedback-button-no\");\"classList\"in a&&(a.classList.remove(\"feedback-hidden\"),c.addEventListener(\"click\",function(){e(!0)}),d.addEventListener(\"click\",function(){e(!1)}))})}})();\n</script>\n\n<script defer src=\"https://performance.radar.cloudflare.com/beacon.js\"></script>\n</head>\n<body>\n  <div id=\"cf-wrapper\">\n    <div class=\"cf-alert cf-alert-error cf-cookie-error hidden\" id=\"cookie-alert\" data-translate=\"enable_cookies\">Please enable cookies.</div>\n    <div id=\"cf-error-details\" class=\"p-0\">\n      <header class=\"mx-auto pt-10 lg:pt-6 lg:px-8 w-240 lg:w-full mb-15 antialiased\">\n         <h1 class=\"inline-block md:block mr-2 md:mb-2 font-light text-60 md:text-3xl text-black-dark leading-tight\">\n           <span data-translate=\"error\">Error</span>\n           <span>1200</span>\n         </h1>\n         <span class=\"inline-block md:block heading-ray-id font-mono text-15 lg:text-sm lg:leading-relaxed\">Ray ID: 7a1e35356aed2b72 &bull;</span>\n         <span class=\"inline-block md:block heading-ray-id font-mono text-15 lg:text-sm lg:leading-relaxed\">2023-03-03 01:46:48 UTC</span>\n        <h2 class=\"text-gray-600 leading-1.3 text-3xl lg:text-2xl font-light\">This website has been temporarily rate limited</h2>\n      </header>\n\n      <section class=\"w-240 lg:w-full mx-auto mb-8 lg:px-8\">\n          <div id=\"what-happened-section\" class=\"w-1/2 md:w-full\">\n            <h2 class=\"text-3xl leading-tight font-normal mb-4 text-black-dark antialiased\" data-translate=\"what_happened\">What happened?</h2>\n            <p>Too many requests for finnhub.io. Try again later.</p>\n            \n              <p>Please see <a rel=\"noopener noreferrer\" href=\"https://support.cloudflare.com/hc/en-us/articles/360029779472#h_302a97f3-eba3-4c0a-a589-76ba95f60dcf\" target=\"_blank\">https://support.cloudflare.com/hc/en-us/articles/360029779472#h_302a97f3-eba3-4c0a-a589-76ba95f60dcf</a> for more details.</p>\n            \n          </div>\n\n          \n      </section>\n\n      <div class=\"feedback-hidden py-8 text-center\" id=\"error-feedback\">\n    <div id=\"error-feedback-survey\" class=\"footer-line-wrapper\">\n        Was this page helpful?\n        <button class=\"border border-solid bg-white cf-button cursor-pointer ml-4 px-4 py-2 rounded\" id=\"feedback-button-yes\" type=\"button\">Yes</button>\n        <button class=\"border border-solid bg-white cf-button cursor-pointer ml-4 px-4 py-2 rounded\" id=\"feedback-button-no\" type=\"button\">No</button>\n    </div>\n    <div class=\"feedback-success feedback-hidden\" id=\"error-feedback-success\">\n        Thank you for your feedback!\n    </div>\n</div>\n\n\n      <div class=\"cf-error-footer cf-wrapper w-240 lg:w-full py-10 sm:py-4 sm:px-8 mx-auto text-center sm:text-left border-solid border-0 border-t border-gray-300\">\n  <p class=\"text-13\">\n    <span class=\"cf-footer-item sm:block sm:mb-1\">Cloudflare Ray ID: <strong class=\"font-semibold\">7a1e35356aed2b72</strong></span>\n    <span class=\"cf-footer-separator sm:hidden\">&bull;</span>\n    <span id=\"cf-footer-item-ip\" class=\"cf-footer-item hidden sm:block sm:mb-1\">\n      Your IP:\n      <button type=\"button\" id=\"cf-footer-ip-reveal\" class=\"cf-footer-ip-reveal-btn\">Click to reveal</button>\n      <span class=\"hidden\" id=\"cf-footer-ip\">169.234.43.208</span>\n      <span class=\"cf-footer-separator sm:hidden\">&bull;</span>\n    </span>\n    <span class=\"cf-footer-item sm:block sm:mb-1\"><span>Performance &amp; security by</span> <a rel=\"noopener noreferrer\" href=\"https://www.cloudflare.com/5xx-error-landing\" id=\"brand_link\" target=\"_blank\">Cloudflare</a></span>\n    \n  </p>\n  <script>(function(){function d(){var b=a.getElementById(\"cf-footer-item-ip\"),c=a.getElementById(\"cf-footer-ip-reveal\");b&&\"classList\"in b&&(b.classList.remove(\"hidden\"),c.addEventListener(\"click\",function(){c.classList.add(\"hidden\");a.getElementById(\"cf-footer-ip\").classList.remove(\"hidden\")}))}var a=document;document.addEventListener&&a.addEventListener(\"DOMContentLoaded\",d)})();</script>\n</div><!-- /.error-footer -->\n\n\n    </div><!-- /#cf-error-details -->\n  </div><!-- /#cf-wrapper -->\n\n  <script>\n  window._cf_translation = {};\n  \n  \n</script>\n\n</body>\n</html>\n\n",
     "output_type": "error",
     "traceback": [
      "\u001b[0;31m---------------------------------------------------------------------------\u001b[0m",
      "\u001b[0;31mFinnhubAPIException\u001b[0m                       Traceback (most recent call last)",
      "Input \u001b[0;32mIn [19]\u001b[0m, in \u001b[0;36m<cell line: 3>\u001b[0;34m()\u001b[0m\n\u001b[1;32m     22\u001b[0m     time\u001b[38;5;241m.\u001b[39msleep(\u001b[38;5;241m1\u001b[39m)\n\u001b[1;32m     24\u001b[0m     \u001b[38;5;28mprint\u001b[39m(\u001b[38;5;28;01mTrue\u001b[39;00m)\n\u001b[0;32m---> 26\u001b[0m     info \u001b[38;5;241m=\u001b[39m \u001b[43mfinnhub_client\u001b[49m\u001b[38;5;241;43m.\u001b[39;49m\u001b[43mstock_candles\u001b[49m\u001b[43m(\u001b[49m\u001b[43msymbol\u001b[49m\u001b[43m,\u001b[49m\u001b[43m \u001b[49m\u001b[38;5;124;43m'\u001b[39;49m\u001b[38;5;124;43mD\u001b[39;49m\u001b[38;5;124;43m'\u001b[39;49m\u001b[43m,\u001b[49m\u001b[43m \u001b[49m\u001b[43mtest\u001b[49m\u001b[43m,\u001b[49m\u001b[43m \u001b[49m\u001b[43mtest\u001b[49m\u001b[43m)\u001b[49m\n\u001b[1;32m     28\u001b[0m data  \u001b[38;5;241m=\u001b[39m pd\u001b[38;5;241m.\u001b[39mDataFrame(info, index\u001b[38;5;241m=\u001b[39m [\u001b[38;5;241m0\u001b[39m])\n\u001b[1;32m     29\u001b[0m data\u001b[38;5;241m.\u001b[39mcolumns \u001b[38;5;241m=\u001b[39m [\u001b[38;5;124m\"\u001b[39m\u001b[38;5;124mClose\u001b[39m\u001b[38;5;124m\"\u001b[39m, \u001b[38;5;124m\"\u001b[39m\u001b[38;5;124mHigh\u001b[39m\u001b[38;5;124m\"\u001b[39m, \u001b[38;5;124m\"\u001b[39m\u001b[38;5;124mLow\u001b[39m\u001b[38;5;124m\"\u001b[39m, \u001b[38;5;124m\"\u001b[39m\u001b[38;5;124mOpen\u001b[39m\u001b[38;5;124m\"\u001b[39m, \u001b[38;5;124m\"\u001b[39m\u001b[38;5;124mS\u001b[39m\u001b[38;5;124m\"\u001b[39m, \u001b[38;5;124m\"\u001b[39m\u001b[38;5;124mTimestamp\u001b[39m\u001b[38;5;124m\"\u001b[39m, \u001b[38;5;124m\"\u001b[39m\u001b[38;5;124mVolume\u001b[39m\u001b[38;5;124m\"\u001b[39m]\n",
      "File \u001b[0;32m~/opt/anaconda3/lib/python3.9/site-packages/finnhub/client.py:224\u001b[0m, in \u001b[0;36mClient.stock_candles\u001b[0;34m(self, symbol, resolution, _from, to, **kwargs)\u001b[0m\n\u001b[1;32m    216\u001b[0m \u001b[38;5;28;01mdef\u001b[39;00m \u001b[38;5;21mstock_candles\u001b[39m(\u001b[38;5;28mself\u001b[39m, symbol, resolution, _from, to, \u001b[38;5;241m*\u001b[39m\u001b[38;5;241m*\u001b[39mkwargs):\n\u001b[1;32m    217\u001b[0m     params \u001b[38;5;241m=\u001b[39m \u001b[38;5;28mself\u001b[39m\u001b[38;5;241m.\u001b[39m_merge_two_dicts({\n\u001b[1;32m    218\u001b[0m         \u001b[38;5;124m\"\u001b[39m\u001b[38;5;124msymbol\u001b[39m\u001b[38;5;124m\"\u001b[39m: symbol,\n\u001b[1;32m    219\u001b[0m         \u001b[38;5;124m\"\u001b[39m\u001b[38;5;124mresolution\u001b[39m\u001b[38;5;124m\"\u001b[39m: resolution,\n\u001b[1;32m    220\u001b[0m         \u001b[38;5;124m\"\u001b[39m\u001b[38;5;124mfrom\u001b[39m\u001b[38;5;124m\"\u001b[39m: _from,\n\u001b[1;32m    221\u001b[0m         \u001b[38;5;124m\"\u001b[39m\u001b[38;5;124mto\u001b[39m\u001b[38;5;124m\"\u001b[39m: to\n\u001b[1;32m    222\u001b[0m     }, kwargs)\n\u001b[0;32m--> 224\u001b[0m     \u001b[38;5;28;01mreturn\u001b[39;00m \u001b[38;5;28;43mself\u001b[39;49m\u001b[38;5;241;43m.\u001b[39;49m\u001b[43m_get\u001b[49m\u001b[43m(\u001b[49m\u001b[38;5;124;43m\"\u001b[39;49m\u001b[38;5;124;43m/stock/candle\u001b[39;49m\u001b[38;5;124;43m\"\u001b[39;49m\u001b[43m,\u001b[49m\u001b[43m \u001b[49m\u001b[43mparams\u001b[49m\u001b[38;5;241;43m=\u001b[39;49m\u001b[43mparams\u001b[49m\u001b[43m)\u001b[49m\n",
      "File \u001b[0;32m~/opt/anaconda3/lib/python3.9/site-packages/finnhub/client.py:71\u001b[0m, in \u001b[0;36mClient._get\u001b[0;34m(self, path, **kwargs)\u001b[0m\n\u001b[1;32m     70\u001b[0m \u001b[38;5;28;01mdef\u001b[39;00m \u001b[38;5;21m_get\u001b[39m(\u001b[38;5;28mself\u001b[39m, path, \u001b[38;5;241m*\u001b[39m\u001b[38;5;241m*\u001b[39mkwargs):\n\u001b[0;32m---> 71\u001b[0m     \u001b[38;5;28;01mreturn\u001b[39;00m \u001b[38;5;28;43mself\u001b[39;49m\u001b[38;5;241;43m.\u001b[39;49m\u001b[43m_request\u001b[49m\u001b[43m(\u001b[49m\u001b[38;5;124;43m\"\u001b[39;49m\u001b[38;5;124;43mget\u001b[39;49m\u001b[38;5;124;43m\"\u001b[39;49m\u001b[43m,\u001b[49m\u001b[43m \u001b[49m\u001b[43mpath\u001b[49m\u001b[43m,\u001b[49m\u001b[43m \u001b[49m\u001b[38;5;241;43m*\u001b[39;49m\u001b[38;5;241;43m*\u001b[39;49m\u001b[43mkwargs\u001b[49m\u001b[43m)\u001b[49m\n",
      "File \u001b[0;32m~/opt/anaconda3/lib/python3.9/site-packages/finnhub/client.py:41\u001b[0m, in \u001b[0;36mClient._request\u001b[0;34m(self, method, path, **kwargs)\u001b[0m\n\u001b[1;32m     38\u001b[0m kwargs[\u001b[38;5;124m\"\u001b[39m\u001b[38;5;124mparams\u001b[39m\u001b[38;5;124m\"\u001b[39m] \u001b[38;5;241m=\u001b[39m \u001b[38;5;28mself\u001b[39m\u001b[38;5;241m.\u001b[39m_format_params(kwargs\u001b[38;5;241m.\u001b[39mget(\u001b[38;5;124m\"\u001b[39m\u001b[38;5;124mparams\u001b[39m\u001b[38;5;124m\"\u001b[39m, {}))\n\u001b[1;32m     40\u001b[0m response \u001b[38;5;241m=\u001b[39m \u001b[38;5;28mgetattr\u001b[39m(\u001b[38;5;28mself\u001b[39m\u001b[38;5;241m.\u001b[39m_session, method)(uri, \u001b[38;5;241m*\u001b[39m\u001b[38;5;241m*\u001b[39mkwargs)\n\u001b[0;32m---> 41\u001b[0m \u001b[38;5;28;01mreturn\u001b[39;00m \u001b[38;5;28;43mself\u001b[39;49m\u001b[38;5;241;43m.\u001b[39;49m\u001b[43m_handle_response\u001b[49m\u001b[43m(\u001b[49m\u001b[43mresponse\u001b[49m\u001b[43m)\u001b[49m\n",
      "File \u001b[0;32m~/opt/anaconda3/lib/python3.9/site-packages/finnhub/client.py:46\u001b[0m, in \u001b[0;36mClient._handle_response\u001b[0;34m(response)\u001b[0m\n\u001b[1;32m     43\u001b[0m \u001b[38;5;129m@staticmethod\u001b[39m\n\u001b[1;32m     44\u001b[0m \u001b[38;5;28;01mdef\u001b[39;00m \u001b[38;5;21m_handle_response\u001b[39m(response):\n\u001b[1;32m     45\u001b[0m     \u001b[38;5;28;01mif\u001b[39;00m \u001b[38;5;129;01mnot\u001b[39;00m response\u001b[38;5;241m.\u001b[39mok:\n\u001b[0;32m---> 46\u001b[0m         \u001b[38;5;28;01mraise\u001b[39;00m FinnhubAPIException(response)\n\u001b[1;32m     48\u001b[0m     \u001b[38;5;28;01mtry\u001b[39;00m:\n\u001b[1;32m     49\u001b[0m         content_type \u001b[38;5;241m=\u001b[39m response\u001b[38;5;241m.\u001b[39mheaders\u001b[38;5;241m.\u001b[39mget(\u001b[38;5;124m'\u001b[39m\u001b[38;5;124mContent-Type\u001b[39m\u001b[38;5;124m'\u001b[39m, \u001b[38;5;124m'\u001b[39m\u001b[38;5;124m'\u001b[39m)\n",
      "\u001b[0;31mFinnhubAPIException\u001b[0m: FinnhubAPIException(status_code: 503): JSON error message from Finnhub: <!DOCTYPE html>\n<!--[if lt IE 7]> <html class=\"no-js ie6 oldie\" lang=\"en-US\"> <![endif]-->\n<!--[if IE 7]>    <html class=\"no-js ie7 oldie\" lang=\"en-US\"> <![endif]-->\n<!--[if IE 8]>    <html class=\"no-js ie8 oldie\" lang=\"en-US\"> <![endif]-->\n<!--[if gt IE 8]><!--> <html class=\"no-js\" lang=\"en-US\"> <!--<![endif]-->\n<head>\n<title>Rate Limited</title>\n<meta charset=\"UTF-8\" />\n<meta http-equiv=\"Content-Type\" content=\"text/html; charset=UTF-8\" />\n<meta http-equiv=\"X-UA-Compatible\" content=\"IE=Edge\" />\n<meta name=\"robots\" content=\"noindex, nofollow\" />\n<meta name=\"viewport\" content=\"width=device-width,initial-scale=1\" />\n<link rel=\"stylesheet\" id=\"cf_styles-css\" href=\"/cdn-cgi/styles/main.css\" />\n\n\n<script>\n(function(){if(document.addEventListener&&window.XMLHttpRequest&&JSON&&JSON.stringify){var e=function(a){var c=document.getElementById(\"error-feedback-survey\"),d=document.getElementById(\"error-feedback-success\"),b=new XMLHttpRequest;a={event:\"feedback clicked\",properties:{errorCode:1200,helpful:a,version:1}};b.open(\"POST\",\"https://sparrow.cloudflare.com/api/v1/event\");b.setRequestHeader(\"Content-Type\",\"application/json\");b.setRequestHeader(\"Sparrow-Source-Key\",\"c771f0e4b54944bebf4261d44bd79a1e\");\nb.send(JSON.stringify(a));c.classList.add(\"feedback-hidden\");d.classList.remove(\"feedback-hidden\")};document.addEventListener(\"DOMContentLoaded\",function(){var a=document.getElementById(\"error-feedback\"),c=document.getElementById(\"feedback-button-yes\"),d=document.getElementById(\"feedback-button-no\");\"classList\"in a&&(a.classList.remove(\"feedback-hidden\"),c.addEventListener(\"click\",function(){e(!0)}),d.addEventListener(\"click\",function(){e(!1)}))})}})();\n</script>\n\n<script defer src=\"https://performance.radar.cloudflare.com/beacon.js\"></script>\n</head>\n<body>\n  <div id=\"cf-wrapper\">\n    <div class=\"cf-alert cf-alert-error cf-cookie-error hidden\" id=\"cookie-alert\" data-translate=\"enable_cookies\">Please enable cookies.</div>\n    <div id=\"cf-error-details\" class=\"p-0\">\n      <header class=\"mx-auto pt-10 lg:pt-6 lg:px-8 w-240 lg:w-full mb-15 antialiased\">\n         <h1 class=\"inline-block md:block mr-2 md:mb-2 font-light text-60 md:text-3xl text-black-dark leading-tight\">\n           <span data-translate=\"error\">Error</span>\n           <span>1200</span>\n         </h1>\n         <span class=\"inline-block md:block heading-ray-id font-mono text-15 lg:text-sm lg:leading-relaxed\">Ray ID: 7a1e35356aed2b72 &bull;</span>\n         <span class=\"inline-block md:block heading-ray-id font-mono text-15 lg:text-sm lg:leading-relaxed\">2023-03-03 01:46:48 UTC</span>\n        <h2 class=\"text-gray-600 leading-1.3 text-3xl lg:text-2xl font-light\">This website has been temporarily rate limited</h2>\n      </header>\n\n      <section class=\"w-240 lg:w-full mx-auto mb-8 lg:px-8\">\n          <div id=\"what-happened-section\" class=\"w-1/2 md:w-full\">\n            <h2 class=\"text-3xl leading-tight font-normal mb-4 text-black-dark antialiased\" data-translate=\"what_happened\">What happened?</h2>\n            <p>Too many requests for finnhub.io. Try again later.</p>\n            \n              <p>Please see <a rel=\"noopener noreferrer\" href=\"https://support.cloudflare.com/hc/en-us/articles/360029779472#h_302a97f3-eba3-4c0a-a589-76ba95f60dcf\" target=\"_blank\">https://support.cloudflare.com/hc/en-us/articles/360029779472#h_302a97f3-eba3-4c0a-a589-76ba95f60dcf</a> for more details.</p>\n            \n          </div>\n\n          \n      </section>\n\n      <div class=\"feedback-hidden py-8 text-center\" id=\"error-feedback\">\n    <div id=\"error-feedback-survey\" class=\"footer-line-wrapper\">\n        Was this page helpful?\n        <button class=\"border border-solid bg-white cf-button cursor-pointer ml-4 px-4 py-2 rounded\" id=\"feedback-button-yes\" type=\"button\">Yes</button>\n        <button class=\"border border-solid bg-white cf-button cursor-pointer ml-4 px-4 py-2 rounded\" id=\"feedback-button-no\" type=\"button\">No</button>\n    </div>\n    <div class=\"feedback-success feedback-hidden\" id=\"error-feedback-success\">\n        Thank you for your feedback!\n    </div>\n</div>\n\n\n      <div class=\"cf-error-footer cf-wrapper w-240 lg:w-full py-10 sm:py-4 sm:px-8 mx-auto text-center sm:text-left border-solid border-0 border-t border-gray-300\">\n  <p class=\"text-13\">\n    <span class=\"cf-footer-item sm:block sm:mb-1\">Cloudflare Ray ID: <strong class=\"font-semibold\">7a1e35356aed2b72</strong></span>\n    <span class=\"cf-footer-separator sm:hidden\">&bull;</span>\n    <span id=\"cf-footer-item-ip\" class=\"cf-footer-item hidden sm:block sm:mb-1\">\n      Your IP:\n      <button type=\"button\" id=\"cf-footer-ip-reveal\" class=\"cf-footer-ip-reveal-btn\">Click to reveal</button>\n      <span class=\"hidden\" id=\"cf-footer-ip\">169.234.43.208</span>\n      <span class=\"cf-footer-separator sm:hidden\">&bull;</span>\n    </span>\n    <span class=\"cf-footer-item sm:block sm:mb-1\"><span>Performance &amp; security by</span> <a rel=\"noopener noreferrer\" href=\"https://www.cloudflare.com/5xx-error-landing\" id=\"brand_link\" target=\"_blank\">Cloudflare</a></span>\n    \n  </p>\n  <script>(function(){function d(){var b=a.getElementById(\"cf-footer-item-ip\"),c=a.getElementById(\"cf-footer-ip-reveal\");b&&\"classList\"in b&&(b.classList.remove(\"hidden\"),c.addEventListener(\"click\",function(){c.classList.add(\"hidden\");a.getElementById(\"cf-footer-ip\").classList.remove(\"hidden\")}))}var a=document;document.addEventListener&&a.addEventListener(\"DOMContentLoaded\",d)})();</script>\n</div><!-- /.error-footer -->\n\n\n    </div><!-- /#cf-error-details -->\n  </div><!-- /#cf-wrapper -->\n\n  <script>\n  window._cf_translation = {};\n  \n  \n</script>\n\n</body>\n</html>\n\n"
     ]
    }
   ],
   "source": [
    "\n",
    "\n",
    "arb = {}\n",
    "\n",
    "for symbol in common_list:\n",
    "    \n",
    "    sigma  = vol.loc[vol[\"Unnamed: 0\"] == f\"{symbol}\"][\"0\"].tolist()[0]\n",
    "\n",
    "    # Set the start and end date\n",
    "    start_date = '2023-01-01'\n",
    "\n",
    "    t = date.today()\n",
    "\n",
    "    t = str(t)\n",
    "\n",
    "    # Get the data\n",
    "    test = int(time.time())\n",
    "    info = finnhub_client.stock_candles(symbol, 'D', test, test)\n",
    "\n",
    "    test = int(time.time())\n",
    "    info = finnhub_client.stock_candles(symbol, 'D', test, test)\n",
    "\n",
    "    while info[\"s\"] == 'no_data':\n",
    "        time.sleep(1)\n",
    "\n",
    "        print(True)\n",
    "\n",
    "        info = finnhub_client.stock_candles(symbol, 'D', test, test)\n",
    "\n",
    "    data  = pd.DataFrame(info, index= [0])\n",
    "    data.columns = [\"Close\", \"High\", \"Low\", \"Open\", \"S\", \"Timestamp\", \"Volume\"]\n",
    "    data[\"Datetime\"] = datetime.datetime.fromtimestamp(data[\"Timestamp\"])\n",
    "    data = data.drop(columns=[\"S\", \"Timestamp\"])\n",
    "    data = data.set_index(\"Datetime\")\n",
    "\n",
    "    close = data['Close'].values[0]\n",
    "\n",
    "\n",
    "    #uses api key to extract data\n",
    "    params = {'apikey':api_key,\n",
    "             'symbol':symbol,\n",
    "             'contractType': contract,\n",
    "              'strikeCount': strikecount,\n",
    "              'includeQuotes': False,\n",
    "              'stratgey': 'SINGLE',\n",
    "              'expMonth': expMonth,\n",
    "              'optionType': 'S'\n",
    "\n",
    "\n",
    "             }\n",
    "\n",
    "    content = requests.get(url = option_url, params=params)\n",
    "\n",
    "    data = content.json()\n",
    "\n",
    "\n",
    "\n",
    "\n",
    "    dates_ref = []\n",
    "\n",
    "    int_year = now.year\n",
    "    int_month = now.month\n",
    "    int_day = now.day\n",
    "\n",
    "    for i in data['putExpDateMap']:\n",
    "        dates_ref.append(i)\n",
    "\n",
    "    for i in dates_ref:\n",
    "\n",
    "        #create outline for \n",
    "        df = {}\n",
    "        date_now = i[:10]\n",
    "        volume = []\n",
    "        theta = []\n",
    "        gamma = []\n",
    "        vega = []\n",
    "        delta = []\n",
    "        interest = []\n",
    "\n",
    "        #iterate through each strike\n",
    "        for strike in data[\"putExpDateMap\"][i]:\n",
    "            df[strike] = {'Put': '', 'Call':''}\n",
    "            df[strike]['Put'] = data[\"putExpDateMap\"][i][strike][0][\"last\"]\n",
    "            df[strike]['Put - Volume'] = data[\"putExpDateMap\"][i][strike][0][\"totalVolume\"]\n",
    "\n",
    "        for strike in data[\"callExpDateMap\"][i]:\n",
    "\n",
    "            df[strike]['Call'] = data[\"callExpDateMap\"][i][strike][0][\"last\"]\n",
    "            df[strike]['Call - Volume'] = data[\"callExpDateMap\"][i][strike][0][\"totalVolume\"]\n",
    "\n",
    "\n",
    "\n",
    "        label = i\n",
    "\n",
    "        strike_date = i.split('-')\n",
    "\n",
    "        year = int(strike_date[0])\n",
    "\n",
    "        month = int(strike_date[1])\n",
    "\n",
    "        day = int(strike_date[2].split(':')[0])\n",
    "\n",
    "\n",
    "\n",
    "        count = 0\n",
    "\n",
    "        days = 0\n",
    "        \n",
    "        # obtain difference in time\n",
    "\n",
    "        if year > int_year:\n",
    "            count = year - int_year\n",
    "\n",
    "            if month > int_month + 1:\n",
    "                interval = month - 1\n",
    "\n",
    "                for i in range(interval + 1):\n",
    "\n",
    "                    if i <= int_month:\n",
    "                        continue\n",
    "                    else:\n",
    "                        days += months_ref[i]\n",
    "\n",
    "                diff_int_day = months_ref[int_month] - int_day\n",
    "\n",
    "                days = days + day + diff_int_day\n",
    "\n",
    "            else:\n",
    "                for i in range(13):\n",
    "                    if i <= int_month:\n",
    "                        continue\n",
    "                    else: \n",
    "                        days += months_ref[i]\n",
    "\n",
    "                diff_int_day = months_ref[int_month] - int_day\n",
    "\n",
    "                days += diff_int_day\n",
    "\n",
    "                for i in range(1, month):\n",
    "                    days += months_ref[i]\n",
    "\n",
    "\n",
    "                days += day\n",
    "\n",
    "                days = days / 365\n",
    "\n",
    "                count += days\n",
    "\n",
    "        else:\n",
    "            interval = month - 1\n",
    "\n",
    "            for i in range(interval + 1):\n",
    "\n",
    "                if i <= int_month:\n",
    "                    continue\n",
    "                else:\n",
    "                    days += months_ref[i]\n",
    "\n",
    "            diff_int_day = months_ref[int_month] - int_day\n",
    "\n",
    "            days = days + day + diff_int_day\n",
    "\n",
    "            days = days / 365\n",
    "\n",
    "            count += days\n",
    "\n",
    "        #convert to dataframe\n",
    "        option_df = pd.DataFrame.from_dict(df, orient='index')\n",
    "\n",
    "        for row, i in option_df.iterrows():\n",
    "\n",
    "\n",
    "            K = float(row)\n",
    "\n",
    "            C = i['Call']\n",
    "\n",
    "            P = i['Put']\n",
    "\n",
    "            t = 'p'\n",
    "            \n",
    "            # obtain true put value using black scholes formula\n",
    "\n",
    "            true_put = blackScholes(r, close, K, count, sigma, t)\n",
    "\n",
    "            t = 'c'\n",
    "            \n",
    "            # obtain true call value using black scholes formula\n",
    "\n",
    "            true_call = blackScholes(r, close, K, count, sigma, t)\n",
    "\n",
    "            diff_put = P - true_put\n",
    "\n",
    "            diff_call = C - true_call\n",
    "\n",
    "            arb[f'{label} - {K}'] = {'Put': df[row]['Put'], 'True Put' : true_put, 'Call': df[row]['Call'], 'True Call': true_call, 'Symbol': symbol, 'Call - Volume': df[row]['Call - Volume'], 'Put - Volume': df[row]['Put - Volume'], 'Price': close, \"Difference Puts\": diff_put, \"Difference Calls\": diff_call}\n",
    "\n"
   ]
  },
  {
   "cell_type": "code",
   "execution_count": null,
   "id": "f51f0750",
   "metadata": {},
   "outputs": [],
   "source": [
    "now = datetime.datetime.now()\n",
    "int_year = now.year\n",
    "int_month = now.month\n",
    "int_day = now.day"
   ]
  },
  {
   "cell_type": "code",
   "execution_count": 62,
   "id": "fc572623",
   "metadata": {},
   "outputs": [
    {
     "data": {
      "text/plain": [
       "['2024', '03', '15:380']"
      ]
     },
     "execution_count": 62,
     "metadata": {},
     "output_type": "execute_result"
    }
   ],
   "source": [
    "strike_date"
   ]
  },
  {
   "cell_type": "code",
   "execution_count": 55,
   "id": "887ada6f",
   "metadata": {},
   "outputs": [
    {
     "data": {
      "text/plain": [
       "datetime.datetime(2023, 2, 28, 8, 56, 15, 724781)"
      ]
     },
     "execution_count": 55,
     "metadata": {},
     "output_type": "execute_result"
    }
   ],
   "source": [
    "now"
   ]
  },
  {
   "cell_type": "code",
   "execution_count": 50,
   "id": "8cc8cc31",
   "metadata": {},
   "outputs": [
    {
     "data": {
      "text/plain": [
       "1.0410958904109588"
      ]
     },
     "execution_count": 50,
     "metadata": {},
     "output_type": "execute_result"
    }
   ],
   "source": [
    "days"
   ]
  },
  {
   "cell_type": "code",
   "execution_count": null,
   "id": "5dbe02de",
   "metadata": {},
   "outputs": [],
   "source": [
    "year = int(strike_date[0])\n",
    "\n",
    "month = int(strike_date[1])\n",
    "\n",
    "day = int(strike_date[2].split(':')[0])\n"
   ]
  },
  {
   "cell_type": "code",
   "execution_count": 47,
   "id": "dda7dfb6",
   "metadata": {},
   "outputs": [
    {
     "data": {
      "text/plain": [
       "2024"
      ]
     },
     "execution_count": 47,
     "metadata": {},
     "output_type": "execute_result"
    }
   ],
   "source": [
    "year"
   ]
  },
  {
   "cell_type": "code",
   "execution_count": 48,
   "id": "26cc1631",
   "metadata": {},
   "outputs": [
    {
     "data": {
      "text/plain": [
       "3"
      ]
     },
     "execution_count": 48,
     "metadata": {},
     "output_type": "execute_result"
    }
   ],
   "source": [
    "month"
   ]
  },
  {
   "cell_type": "code",
   "execution_count": 49,
   "id": "f0390414",
   "metadata": {},
   "outputs": [
    {
     "data": {
      "text/plain": [
       "15"
      ]
     },
     "execution_count": 49,
     "metadata": {},
     "output_type": "execute_result"
    }
   ],
   "source": [
    "day"
   ]
  },
  {
   "cell_type": "code",
   "execution_count": 46,
   "id": "cb2bb7d8",
   "metadata": {},
   "outputs": [
    {
     "data": {
      "text/plain": [
       "['2024', '03', '15:380']"
      ]
     },
     "execution_count": 46,
     "metadata": {},
     "output_type": "execute_result"
    }
   ],
   "source": [
    "strike_date"
   ]
  },
  {
   "cell_type": "code",
   "execution_count": 45,
   "id": "d37b2c96",
   "metadata": {},
   "outputs": [
    {
     "data": {
      "text/plain": [
       "'2024-03-15:380'"
      ]
     },
     "execution_count": 45,
     "metadata": {},
     "output_type": "execute_result"
    }
   ],
   "source": [
    "label"
   ]
  },
  {
   "cell_type": "code",
   "execution_count": 44,
   "id": "5d473645",
   "metadata": {},
   "outputs": [
    {
     "data": {
      "text/plain": [
       "'210.0'"
      ]
     },
     "execution_count": 44,
     "metadata": {},
     "output_type": "execute_result"
    }
   ],
   "source": [
    "row"
   ]
  },
  {
   "cell_type": "code",
   "execution_count": 42,
   "id": "5ccedcaf",
   "metadata": {},
   "outputs": [
    {
     "data": {
      "text/plain": [
       "2.0410958904109586"
      ]
     },
     "execution_count": 42,
     "metadata": {},
     "output_type": "execute_result"
    }
   ],
   "source": [
    "count"
   ]
  },
  {
   "cell_type": "code",
   "execution_count": 37,
   "id": "393aeed8",
   "metadata": {},
   "outputs": [
    {
     "data": {
      "text/html": [
       "<div>\n",
       "<style scoped>\n",
       "    .dataframe tbody tr th:only-of-type {\n",
       "        vertical-align: middle;\n",
       "    }\n",
       "\n",
       "    .dataframe tbody tr th {\n",
       "        vertical-align: top;\n",
       "    }\n",
       "\n",
       "    .dataframe thead th {\n",
       "        text-align: right;\n",
       "    }\n",
       "</style>\n",
       "<table border=\"1\" class=\"dataframe\">\n",
       "  <thead>\n",
       "    <tr style=\"text-align: right;\">\n",
       "      <th></th>\n",
       "      <th>Put</th>\n",
       "      <th>True Put</th>\n",
       "      <th>Call</th>\n",
       "      <th>True Call</th>\n",
       "      <th>Symbol</th>\n",
       "      <th>Call - Volume</th>\n",
       "      <th>Put - Volume</th>\n",
       "      <th>Price</th>\n",
       "      <th>Difference Puts</th>\n",
       "      <th>Difference Calls</th>\n",
       "    </tr>\n",
       "  </thead>\n",
       "  <tbody>\n",
       "    <tr>\n",
       "      <th>2023-03-01:0 - 388.0</th>\n",
       "      <td>0.01</td>\n",
       "      <td>0.073722</td>\n",
       "      <td>6.24</td>\n",
       "      <td>6.623668</td>\n",
       "      <td>SPY</td>\n",
       "      <td>318</td>\n",
       "      <td>28590</td>\n",
       "      <td>394.5002</td>\n",
       "      <td>-0.063722</td>\n",
       "      <td>-0.383668</td>\n",
       "    </tr>\n",
       "    <tr>\n",
       "      <th>2023-03-01:0 - 389.0</th>\n",
       "      <td>0.01</td>\n",
       "      <td>0.134748</td>\n",
       "      <td>5.40</td>\n",
       "      <td>5.684822</td>\n",
       "      <td>SPY</td>\n",
       "      <td>543</td>\n",
       "      <td>25904</td>\n",
       "      <td>394.5002</td>\n",
       "      <td>-0.124748</td>\n",
       "      <td>-0.284822</td>\n",
       "    </tr>\n",
       "    <tr>\n",
       "      <th>2023-03-01:0 - 390.0</th>\n",
       "      <td>0.01</td>\n",
       "      <td>0.233579</td>\n",
       "      <td>4.71</td>\n",
       "      <td>4.783782</td>\n",
       "      <td>SPY</td>\n",
       "      <td>3052</td>\n",
       "      <td>78604</td>\n",
       "      <td>394.5002</td>\n",
       "      <td>-0.223579</td>\n",
       "      <td>-0.073782</td>\n",
       "    </tr>\n",
       "    <tr>\n",
       "      <th>2023-03-01:0 - 391.0</th>\n",
       "      <td>0.01</td>\n",
       "      <td>0.384869</td>\n",
       "      <td>3.63</td>\n",
       "      <td>3.935200</td>\n",
       "      <td>SPY</td>\n",
       "      <td>6545</td>\n",
       "      <td>62114</td>\n",
       "      <td>394.5002</td>\n",
       "      <td>-0.374869</td>\n",
       "      <td>-0.305200</td>\n",
       "    </tr>\n",
       "    <tr>\n",
       "      <th>2023-03-01:0 - 392.0</th>\n",
       "      <td>0.02</td>\n",
       "      <td>0.604260</td>\n",
       "      <td>2.60</td>\n",
       "      <td>3.154719</td>\n",
       "      <td>SPY</td>\n",
       "      <td>6669</td>\n",
       "      <td>181202</td>\n",
       "      <td>394.5002</td>\n",
       "      <td>-0.584260</td>\n",
       "      <td>-0.554719</td>\n",
       "    </tr>\n",
       "  </tbody>\n",
       "</table>\n",
       "</div>"
      ],
      "text/plain": [
       "                       Put  True Put  Call  True Call Symbol  Call - Volume  \\\n",
       "2023-03-01:0 - 388.0  0.01  0.073722  6.24   6.623668    SPY            318   \n",
       "2023-03-01:0 - 389.0  0.01  0.134748  5.40   5.684822    SPY            543   \n",
       "2023-03-01:0 - 390.0  0.01  0.233579  4.71   4.783782    SPY           3052   \n",
       "2023-03-01:0 - 391.0  0.01  0.384869  3.63   3.935200    SPY           6545   \n",
       "2023-03-01:0 - 392.0  0.02  0.604260  2.60   3.154719    SPY           6669   \n",
       "\n",
       "                      Put - Volume     Price  Difference Puts  \\\n",
       "2023-03-01:0 - 388.0         28590  394.5002        -0.063722   \n",
       "2023-03-01:0 - 389.0         25904  394.5002        -0.124748   \n",
       "2023-03-01:0 - 390.0         78604  394.5002        -0.223579   \n",
       "2023-03-01:0 - 391.0         62114  394.5002        -0.374869   \n",
       "2023-03-01:0 - 392.0        181202  394.5002        -0.584260   \n",
       "\n",
       "                      Difference Calls  \n",
       "2023-03-01:0 - 388.0         -0.383668  \n",
       "2023-03-01:0 - 389.0         -0.284822  \n",
       "2023-03-01:0 - 390.0         -0.073782  \n",
       "2023-03-01:0 - 391.0         -0.305200  \n",
       "2023-03-01:0 - 392.0         -0.554719  "
      ]
     },
     "execution_count": 37,
     "metadata": {},
     "output_type": "execute_result"
    }
   ],
   "source": [
    "options_df = pd.DataFrame.from_dict(arb, orient='index')\n",
    "options_df.head()"
   ]
  },
  {
   "cell_type": "code",
   "execution_count": 38,
   "id": "02276f09",
   "metadata": {},
   "outputs": [
    {
     "data": {
      "text/html": [
       "<div>\n",
       "<style scoped>\n",
       "    .dataframe tbody tr th:only-of-type {\n",
       "        vertical-align: middle;\n",
       "    }\n",
       "\n",
       "    .dataframe tbody tr th {\n",
       "        vertical-align: top;\n",
       "    }\n",
       "\n",
       "    .dataframe thead th {\n",
       "        text-align: right;\n",
       "    }\n",
       "</style>\n",
       "<table border=\"1\" class=\"dataframe\">\n",
       "  <thead>\n",
       "    <tr style=\"text-align: right;\">\n",
       "      <th></th>\n",
       "      <th>Put</th>\n",
       "      <th>True Put</th>\n",
       "      <th>Call</th>\n",
       "      <th>True Call</th>\n",
       "      <th>Symbol</th>\n",
       "      <th>Call - Volume</th>\n",
       "      <th>Put - Volume</th>\n",
       "      <th>Price</th>\n",
       "      <th>Difference Puts</th>\n",
       "      <th>Difference Calls</th>\n",
       "    </tr>\n",
       "  </thead>\n",
       "  <tbody>\n",
       "    <tr>\n",
       "      <th>2023-03-31:30 - 280.0</th>\n",
       "      <td>3.70</td>\n",
       "      <td>7.197297</td>\n",
       "      <td>51.51</td>\n",
       "      <td>41.548031</td>\n",
       "      <td>NFLX</td>\n",
       "      <td>0</td>\n",
       "      <td>1833</td>\n",
       "      <td>313.2400</td>\n",
       "      <td>-3.497297</td>\n",
       "      <td>9.961969</td>\n",
       "    </tr>\n",
       "    <tr>\n",
       "      <th>2023-03-24:23 - 280.0</th>\n",
       "      <td>2.92</td>\n",
       "      <td>5.446787</td>\n",
       "      <td>46.47</td>\n",
       "      <td>39.547096</td>\n",
       "      <td>NFLX</td>\n",
       "      <td>0</td>\n",
       "      <td>73</td>\n",
       "      <td>313.2400</td>\n",
       "      <td>-2.526787</td>\n",
       "      <td>6.922904</td>\n",
       "    </tr>\n",
       "    <tr>\n",
       "      <th>2023-03-31:30 - 290.0</th>\n",
       "      <td>5.45</td>\n",
       "      <td>10.267345</td>\n",
       "      <td>40.13</td>\n",
       "      <td>34.657748</td>\n",
       "      <td>NFLX</td>\n",
       "      <td>0</td>\n",
       "      <td>20</td>\n",
       "      <td>313.2400</td>\n",
       "      <td>-4.817345</td>\n",
       "      <td>5.472252</td>\n",
       "    </tr>\n",
       "    <tr>\n",
       "      <th>2023-03-31:30 - 300.0</th>\n",
       "      <td>8.63</td>\n",
       "      <td>14.087655</td>\n",
       "      <td>33.89</td>\n",
       "      <td>28.517726</td>\n",
       "      <td>NFLX</td>\n",
       "      <td>0</td>\n",
       "      <td>149</td>\n",
       "      <td>313.2400</td>\n",
       "      <td>-5.457655</td>\n",
       "      <td>5.372274</td>\n",
       "    </tr>\n",
       "    <tr>\n",
       "      <th>2023-03-24:23 - 290.0</th>\n",
       "      <td>4.52</td>\n",
       "      <td>8.232855</td>\n",
       "      <td>37.66</td>\n",
       "      <td>32.363889</td>\n",
       "      <td>NFLX</td>\n",
       "      <td>0</td>\n",
       "      <td>31</td>\n",
       "      <td>313.2400</td>\n",
       "      <td>-3.712855</td>\n",
       "      <td>5.296111</td>\n",
       "    </tr>\n",
       "    <tr>\n",
       "      <th>...</th>\n",
       "      <td>...</td>\n",
       "      <td>...</td>\n",
       "      <td>...</td>\n",
       "      <td>...</td>\n",
       "      <td>...</td>\n",
       "      <td>...</td>\n",
       "      <td>...</td>\n",
       "      <td>...</td>\n",
       "      <td>...</td>\n",
       "      <td>...</td>\n",
       "    </tr>\n",
       "    <tr>\n",
       "      <th>2024-03-15:380 - 320.0</th>\n",
       "      <td>37.10</td>\n",
       "      <td>45.767146</td>\n",
       "      <td>21.59</td>\n",
       "      <td>45.720044</td>\n",
       "      <td>QQQ</td>\n",
       "      <td>2</td>\n",
       "      <td>0</td>\n",
       "      <td>290.8000</td>\n",
       "      <td>-8.667146</td>\n",
       "      <td>-24.130044</td>\n",
       "    </tr>\n",
       "    <tr>\n",
       "      <th>2024-03-15:380 - 430.0</th>\n",
       "      <td>42.25</td>\n",
       "      <td>40.541832</td>\n",
       "      <td>20.08</td>\n",
       "      <td>44.216238</td>\n",
       "      <td>SPY</td>\n",
       "      <td>2</td>\n",
       "      <td>1</td>\n",
       "      <td>394.5002</td>\n",
       "      <td>1.708168</td>\n",
       "      <td>-24.136238</td>\n",
       "    </tr>\n",
       "    <tr>\n",
       "      <th>2024-03-15:380 - 325.0</th>\n",
       "      <td>41.27</td>\n",
       "      <td>48.432232</td>\n",
       "      <td>19.67</td>\n",
       "      <td>43.840644</td>\n",
       "      <td>QQQ</td>\n",
       "      <td>0</td>\n",
       "      <td>0</td>\n",
       "      <td>290.8000</td>\n",
       "      <td>-7.162232</td>\n",
       "      <td>-24.170644</td>\n",
       "    </tr>\n",
       "    <tr>\n",
       "      <th>2024-03-15:380 - 310.0</th>\n",
       "      <td>32.46</td>\n",
       "      <td>40.648532</td>\n",
       "      <td>25.50</td>\n",
       "      <td>49.690401</td>\n",
       "      <td>QQQ</td>\n",
       "      <td>3</td>\n",
       "      <td>1</td>\n",
       "      <td>290.8000</td>\n",
       "      <td>-8.188532</td>\n",
       "      <td>-24.190401</td>\n",
       "    </tr>\n",
       "    <tr>\n",
       "      <th>2024-03-15:380 - 330.0</th>\n",
       "      <td>44.47</td>\n",
       "      <td>51.165636</td>\n",
       "      <td>16.60</td>\n",
       "      <td>42.029562</td>\n",
       "      <td>QQQ</td>\n",
       "      <td>2</td>\n",
       "      <td>0</td>\n",
       "      <td>290.8000</td>\n",
       "      <td>-6.695636</td>\n",
       "      <td>-25.429562</td>\n",
       "    </tr>\n",
       "  </tbody>\n",
       "</table>\n",
       "<p>1340 rows × 10 columns</p>\n",
       "</div>"
      ],
      "text/plain": [
       "                          Put   True Put   Call  True Call Symbol  \\\n",
       "2023-03-31:30 - 280.0    3.70   7.197297  51.51  41.548031   NFLX   \n",
       "2023-03-24:23 - 280.0    2.92   5.446787  46.47  39.547096   NFLX   \n",
       "2023-03-31:30 - 290.0    5.45  10.267345  40.13  34.657748   NFLX   \n",
       "2023-03-31:30 - 300.0    8.63  14.087655  33.89  28.517726   NFLX   \n",
       "2023-03-24:23 - 290.0    4.52   8.232855  37.66  32.363889   NFLX   \n",
       "...                       ...        ...    ...        ...    ...   \n",
       "2024-03-15:380 - 320.0  37.10  45.767146  21.59  45.720044    QQQ   \n",
       "2024-03-15:380 - 430.0  42.25  40.541832  20.08  44.216238    SPY   \n",
       "2024-03-15:380 - 325.0  41.27  48.432232  19.67  43.840644    QQQ   \n",
       "2024-03-15:380 - 310.0  32.46  40.648532  25.50  49.690401    QQQ   \n",
       "2024-03-15:380 - 330.0  44.47  51.165636  16.60  42.029562    QQQ   \n",
       "\n",
       "                        Call - Volume  Put - Volume     Price  \\\n",
       "2023-03-31:30 - 280.0               0          1833  313.2400   \n",
       "2023-03-24:23 - 280.0               0            73  313.2400   \n",
       "2023-03-31:30 - 290.0               0            20  313.2400   \n",
       "2023-03-31:30 - 300.0               0           149  313.2400   \n",
       "2023-03-24:23 - 290.0               0            31  313.2400   \n",
       "...                               ...           ...       ...   \n",
       "2024-03-15:380 - 320.0              2             0  290.8000   \n",
       "2024-03-15:380 - 430.0              2             1  394.5002   \n",
       "2024-03-15:380 - 325.0              0             0  290.8000   \n",
       "2024-03-15:380 - 310.0              3             1  290.8000   \n",
       "2024-03-15:380 - 330.0              2             0  290.8000   \n",
       "\n",
       "                        Difference Puts  Difference Calls  \n",
       "2023-03-31:30 - 280.0         -3.497297          9.961969  \n",
       "2023-03-24:23 - 280.0         -2.526787          6.922904  \n",
       "2023-03-31:30 - 290.0         -4.817345          5.472252  \n",
       "2023-03-31:30 - 300.0         -5.457655          5.372274  \n",
       "2023-03-24:23 - 290.0         -3.712855          5.296111  \n",
       "...                                 ...               ...  \n",
       "2024-03-15:380 - 320.0        -8.667146        -24.130044  \n",
       "2024-03-15:380 - 430.0         1.708168        -24.136238  \n",
       "2024-03-15:380 - 325.0        -7.162232        -24.170644  \n",
       "2024-03-15:380 - 310.0        -8.188532        -24.190401  \n",
       "2024-03-15:380 - 330.0        -6.695636        -25.429562  \n",
       "\n",
       "[1340 rows x 10 columns]"
      ]
     },
     "execution_count": 38,
     "metadata": {},
     "output_type": "execute_result"
    }
   ],
   "source": [
    "options_df.sort_values(by=\"Difference Calls\", ascending=False)"
   ]
  },
  {
   "cell_type": "code",
   "execution_count": 40,
   "id": "94a9c93f",
   "metadata": {},
   "outputs": [],
   "source": [
    "options_df.sort_values(by=\"Difference Calls\", ascending=False).to_csv('Options.csv')"
   ]
  },
  {
   "cell_type": "code",
   "execution_count": 41,
   "id": "6a6f291a",
   "metadata": {},
   "outputs": [],
   "source": [
    "options_df.sort_values(by=\"Call - Volume\", ascending=False).to_csv('Options.csv')"
   ]
  },
  {
   "cell_type": "code",
   "execution_count": 11,
   "id": "a4d13f8a",
   "metadata": {},
   "outputs": [],
   "source": [
    "r = 0.048"
   ]
  },
  {
   "cell_type": "code",
   "execution_count": 12,
   "id": "58067b73",
   "metadata": {},
   "outputs": [],
   "source": [
    "def blackScholes(r, S, K, T, sigma, t, p):\n",
    "    d1 = (np.log(S/K) + (r - p + sigma**2/2)*T)/(sigma*np.sqrt(T))\n",
    "    d2 = d1 - sigma*np.sqrt(T)\n",
    "\n",
    "    if t == \"c\":\n",
    "        price = S*np.exp(-p*T)*norm.cdf(d1, 0, 1) - K*np.exp(-r*T)*norm.cdf(d2, 0, 1)\n",
    "    elif t == \"p\":\n",
    "        price = K*np.exp(-r*T)*norm.cdf(-d2, 0, 1) - S*np.exp(-p*T)*norm.cdf(-d1, 0, 1)\n",
    "    return price\n"
   ]
  },
  {
   "cell_type": "code",
   "execution_count": 13,
   "id": "538951e1",
   "metadata": {},
   "outputs": [
    {
     "name": "stdout",
     "output_type": "stream",
     "text": [
      "[*********************100%***********************]  1 of 1 completed\n"
     ]
    },
    {
     "name": "stderr",
     "output_type": "stream",
     "text": [
      "/var/folders/g3/164q6cz52jv0sjllnsg7jdsm0000gn/T/ipykernel_31243/1592665972.py:2: RuntimeWarning: divide by zero encountered in double_scalars\n",
      "  d1 = (np.log(S/K) + (r - p + sigma**2/2)*T)/(sigma*np.sqrt(T))\n",
      "/var/folders/g3/164q6cz52jv0sjllnsg7jdsm0000gn/T/ipykernel_31243/1484490205.py:138: RuntimeWarning: divide by zero encountered in double_scalars\n",
      "  d_up = (np.log(close/K) + (mu - 0.5 * sigma **2) * (count)) / (sigma * math.sqrt(count))\n"
     ]
    },
    {
     "name": "stdout",
     "output_type": "stream",
     "text": [
      "[*********************100%***********************]  1 of 1 completed\n"
     ]
    },
    {
     "name": "stderr",
     "output_type": "stream",
     "text": [
      "/var/folders/g3/164q6cz52jv0sjllnsg7jdsm0000gn/T/ipykernel_31243/1592665972.py:2: RuntimeWarning: divide by zero encountered in double_scalars\n",
      "  d1 = (np.log(S/K) + (r - p + sigma**2/2)*T)/(sigma*np.sqrt(T))\n",
      "/var/folders/g3/164q6cz52jv0sjllnsg7jdsm0000gn/T/ipykernel_31243/1484490205.py:138: RuntimeWarning: divide by zero encountered in double_scalars\n",
      "  d_up = (np.log(close/K) + (mu - 0.5 * sigma **2) * (count)) / (sigma * math.sqrt(count))\n"
     ]
    },
    {
     "name": "stdout",
     "output_type": "stream",
     "text": [
      "[*********************100%***********************]  1 of 1 completed\n"
     ]
    },
    {
     "name": "stderr",
     "output_type": "stream",
     "text": [
      "/var/folders/g3/164q6cz52jv0sjllnsg7jdsm0000gn/T/ipykernel_31243/1592665972.py:2: RuntimeWarning: divide by zero encountered in double_scalars\n",
      "  d1 = (np.log(S/K) + (r - p + sigma**2/2)*T)/(sigma*np.sqrt(T))\n",
      "/var/folders/g3/164q6cz52jv0sjllnsg7jdsm0000gn/T/ipykernel_31243/1484490205.py:138: RuntimeWarning: divide by zero encountered in double_scalars\n",
      "  d_up = (np.log(close/K) + (mu - 0.5 * sigma **2) * (count)) / (sigma * math.sqrt(count))\n"
     ]
    },
    {
     "name": "stdout",
     "output_type": "stream",
     "text": [
      "[*********************100%***********************]  1 of 1 completed\n"
     ]
    },
    {
     "name": "stderr",
     "output_type": "stream",
     "text": [
      "/var/folders/g3/164q6cz52jv0sjllnsg7jdsm0000gn/T/ipykernel_31243/1592665972.py:2: RuntimeWarning: divide by zero encountered in double_scalars\n",
      "  d1 = (np.log(S/K) + (r - p + sigma**2/2)*T)/(sigma*np.sqrt(T))\n",
      "/var/folders/g3/164q6cz52jv0sjllnsg7jdsm0000gn/T/ipykernel_31243/1484490205.py:138: RuntimeWarning: divide by zero encountered in double_scalars\n",
      "  d_up = (np.log(close/K) + (mu - 0.5 * sigma **2) * (count)) / (sigma * math.sqrt(count))\n"
     ]
    },
    {
     "name": "stdout",
     "output_type": "stream",
     "text": [
      "[*********************100%***********************]  1 of 1 completed\n"
     ]
    },
    {
     "name": "stderr",
     "output_type": "stream",
     "text": [
      "/var/folders/g3/164q6cz52jv0sjllnsg7jdsm0000gn/T/ipykernel_31243/1592665972.py:2: RuntimeWarning: divide by zero encountered in double_scalars\n",
      "  d1 = (np.log(S/K) + (r - p + sigma**2/2)*T)/(sigma*np.sqrt(T))\n",
      "/var/folders/g3/164q6cz52jv0sjllnsg7jdsm0000gn/T/ipykernel_31243/1484490205.py:138: RuntimeWarning: divide by zero encountered in double_scalars\n",
      "  d_up = (np.log(close/K) + (mu - 0.5 * sigma **2) * (count)) / (sigma * math.sqrt(count))\n"
     ]
    },
    {
     "name": "stdout",
     "output_type": "stream",
     "text": [
      "[*********************100%***********************]  1 of 1 completed\n"
     ]
    },
    {
     "name": "stderr",
     "output_type": "stream",
     "text": [
      "/var/folders/g3/164q6cz52jv0sjllnsg7jdsm0000gn/T/ipykernel_31243/1592665972.py:2: RuntimeWarning: divide by zero encountered in double_scalars\n",
      "  d1 = (np.log(S/K) + (r - p + sigma**2/2)*T)/(sigma*np.sqrt(T))\n",
      "/var/folders/g3/164q6cz52jv0sjllnsg7jdsm0000gn/T/ipykernel_31243/1484490205.py:138: RuntimeWarning: divide by zero encountered in double_scalars\n",
      "  d_up = (np.log(close/K) + (mu - 0.5 * sigma **2) * (count)) / (sigma * math.sqrt(count))\n"
     ]
    },
    {
     "name": "stdout",
     "output_type": "stream",
     "text": [
      "[*********************100%***********************]  1 of 1 completed\n"
     ]
    },
    {
     "name": "stderr",
     "output_type": "stream",
     "text": [
      "/var/folders/g3/164q6cz52jv0sjllnsg7jdsm0000gn/T/ipykernel_31243/1592665972.py:2: RuntimeWarning: divide by zero encountered in double_scalars\n",
      "  d1 = (np.log(S/K) + (r - p + sigma**2/2)*T)/(sigma*np.sqrt(T))\n",
      "/var/folders/g3/164q6cz52jv0sjllnsg7jdsm0000gn/T/ipykernel_31243/1484490205.py:138: RuntimeWarning: divide by zero encountered in double_scalars\n",
      "  d_up = (np.log(close/K) + (mu - 0.5 * sigma **2) * (count)) / (sigma * math.sqrt(count))\n"
     ]
    },
    {
     "name": "stdout",
     "output_type": "stream",
     "text": [
      "[*********************100%***********************]  1 of 1 completed\n"
     ]
    },
    {
     "name": "stderr",
     "output_type": "stream",
     "text": [
      "/var/folders/g3/164q6cz52jv0sjllnsg7jdsm0000gn/T/ipykernel_31243/1592665972.py:2: RuntimeWarning: divide by zero encountered in double_scalars\n",
      "  d1 = (np.log(S/K) + (r - p + sigma**2/2)*T)/(sigma*np.sqrt(T))\n",
      "/var/folders/g3/164q6cz52jv0sjllnsg7jdsm0000gn/T/ipykernel_31243/1484490205.py:138: RuntimeWarning: divide by zero encountered in double_scalars\n",
      "  d_up = (np.log(close/K) + (mu - 0.5 * sigma **2) * (count)) / (sigma * math.sqrt(count))\n"
     ]
    },
    {
     "name": "stdout",
     "output_type": "stream",
     "text": [
      "[*********************100%***********************]  1 of 1 completed\n"
     ]
    },
    {
     "name": "stderr",
     "output_type": "stream",
     "text": [
      "/var/folders/g3/164q6cz52jv0sjllnsg7jdsm0000gn/T/ipykernel_31243/1592665972.py:2: RuntimeWarning: divide by zero encountered in double_scalars\n",
      "  d1 = (np.log(S/K) + (r - p + sigma**2/2)*T)/(sigma*np.sqrt(T))\n",
      "/var/folders/g3/164q6cz52jv0sjllnsg7jdsm0000gn/T/ipykernel_31243/1484490205.py:138: RuntimeWarning: divide by zero encountered in double_scalars\n",
      "  d_up = (np.log(close/K) + (mu - 0.5 * sigma **2) * (count)) / (sigma * math.sqrt(count))\n"
     ]
    },
    {
     "name": "stdout",
     "output_type": "stream",
     "text": [
      "[*********************100%***********************]  1 of 1 completed\n"
     ]
    },
    {
     "name": "stderr",
     "output_type": "stream",
     "text": [
      "/var/folders/g3/164q6cz52jv0sjllnsg7jdsm0000gn/T/ipykernel_31243/1592665972.py:2: RuntimeWarning: divide by zero encountered in double_scalars\n",
      "  d1 = (np.log(S/K) + (r - p + sigma**2/2)*T)/(sigma*np.sqrt(T))\n",
      "/var/folders/g3/164q6cz52jv0sjllnsg7jdsm0000gn/T/ipykernel_31243/1484490205.py:138: RuntimeWarning: divide by zero encountered in double_scalars\n",
      "  d_up = (np.log(close/K) + (mu - 0.5 * sigma **2) * (count)) / (sigma * math.sqrt(count))\n"
     ]
    },
    {
     "name": "stdout",
     "output_type": "stream",
     "text": [
      "[*********************100%***********************]  1 of 1 completed\n"
     ]
    },
    {
     "name": "stderr",
     "output_type": "stream",
     "text": [
      "/var/folders/g3/164q6cz52jv0sjllnsg7jdsm0000gn/T/ipykernel_31243/1592665972.py:2: RuntimeWarning: divide by zero encountered in double_scalars\n",
      "  d1 = (np.log(S/K) + (r - p + sigma**2/2)*T)/(sigma*np.sqrt(T))\n",
      "/var/folders/g3/164q6cz52jv0sjllnsg7jdsm0000gn/T/ipykernel_31243/1484490205.py:138: RuntimeWarning: divide by zero encountered in double_scalars\n",
      "  d_up = (np.log(close/K) + (mu - 0.5 * sigma **2) * (count)) / (sigma * math.sqrt(count))\n",
      "/var/folders/g3/164q6cz52jv0sjllnsg7jdsm0000gn/T/ipykernel_31243/1484490205.py:146: RuntimeWarning: divide by zero encountered in double_scalars\n",
      "  diff_put = (P - true_put) / P * 100\n",
      "/var/folders/g3/164q6cz52jv0sjllnsg7jdsm0000gn/T/ipykernel_31243/1484490205.py:148: RuntimeWarning: divide by zero encountered in double_scalars\n",
      "  diff_call = (C - true_call) / C * 100\n"
     ]
    },
    {
     "name": "stdout",
     "output_type": "stream",
     "text": [
      "[*********************100%***********************]  1 of 1 completed\n"
     ]
    },
    {
     "name": "stderr",
     "output_type": "stream",
     "text": [
      "/var/folders/g3/164q6cz52jv0sjllnsg7jdsm0000gn/T/ipykernel_31243/1592665972.py:2: RuntimeWarning: divide by zero encountered in double_scalars\n",
      "  d1 = (np.log(S/K) + (r - p + sigma**2/2)*T)/(sigma*np.sqrt(T))\n",
      "/var/folders/g3/164q6cz52jv0sjllnsg7jdsm0000gn/T/ipykernel_31243/1484490205.py:138: RuntimeWarning: divide by zero encountered in double_scalars\n",
      "  d_up = (np.log(close/K) + (mu - 0.5 * sigma **2) * (count)) / (sigma * math.sqrt(count))\n"
     ]
    },
    {
     "name": "stdout",
     "output_type": "stream",
     "text": [
      "[*********************100%***********************]  1 of 1 completed\n"
     ]
    },
    {
     "name": "stderr",
     "output_type": "stream",
     "text": [
      "/var/folders/g3/164q6cz52jv0sjllnsg7jdsm0000gn/T/ipykernel_31243/1592665972.py:2: RuntimeWarning: divide by zero encountered in double_scalars\n",
      "  d1 = (np.log(S/K) + (r - p + sigma**2/2)*T)/(sigma*np.sqrt(T))\n",
      "/var/folders/g3/164q6cz52jv0sjllnsg7jdsm0000gn/T/ipykernel_31243/1484490205.py:138: RuntimeWarning: divide by zero encountered in double_scalars\n",
      "  d_up = (np.log(close/K) + (mu - 0.5 * sigma **2) * (count)) / (sigma * math.sqrt(count))\n"
     ]
    },
    {
     "name": "stdout",
     "output_type": "stream",
     "text": [
      "[*********************100%***********************]  1 of 1 completed\n"
     ]
    },
    {
     "name": "stderr",
     "output_type": "stream",
     "text": [
      "/var/folders/g3/164q6cz52jv0sjllnsg7jdsm0000gn/T/ipykernel_31243/1592665972.py:2: RuntimeWarning: divide by zero encountered in double_scalars\n",
      "  d1 = (np.log(S/K) + (r - p + sigma**2/2)*T)/(sigma*np.sqrt(T))\n",
      "/var/folders/g3/164q6cz52jv0sjllnsg7jdsm0000gn/T/ipykernel_31243/1484490205.py:138: RuntimeWarning: divide by zero encountered in double_scalars\n",
      "  d_up = (np.log(close/K) + (mu - 0.5 * sigma **2) * (count)) / (sigma * math.sqrt(count))\n"
     ]
    },
    {
     "name": "stdout",
     "output_type": "stream",
     "text": [
      "[*********************100%***********************]  1 of 1 completed\n"
     ]
    },
    {
     "name": "stderr",
     "output_type": "stream",
     "text": [
      "/var/folders/g3/164q6cz52jv0sjllnsg7jdsm0000gn/T/ipykernel_31243/1592665972.py:2: RuntimeWarning: divide by zero encountered in double_scalars\n",
      "  d1 = (np.log(S/K) + (r - p + sigma**2/2)*T)/(sigma*np.sqrt(T))\n",
      "/var/folders/g3/164q6cz52jv0sjllnsg7jdsm0000gn/T/ipykernel_31243/1484490205.py:138: RuntimeWarning: divide by zero encountered in double_scalars\n",
      "  d_up = (np.log(close/K) + (mu - 0.5 * sigma **2) * (count)) / (sigma * math.sqrt(count))\n"
     ]
    },
    {
     "name": "stdout",
     "output_type": "stream",
     "text": [
      "[*********************100%***********************]  1 of 1 completed\n"
     ]
    },
    {
     "name": "stderr",
     "output_type": "stream",
     "text": [
      "/var/folders/g3/164q6cz52jv0sjllnsg7jdsm0000gn/T/ipykernel_31243/1592665972.py:2: RuntimeWarning: divide by zero encountered in double_scalars\n",
      "  d1 = (np.log(S/K) + (r - p + sigma**2/2)*T)/(sigma*np.sqrt(T))\n",
      "/var/folders/g3/164q6cz52jv0sjllnsg7jdsm0000gn/T/ipykernel_31243/1484490205.py:138: RuntimeWarning: divide by zero encountered in double_scalars\n",
      "  d_up = (np.log(close/K) + (mu - 0.5 * sigma **2) * (count)) / (sigma * math.sqrt(count))\n"
     ]
    },
    {
     "name": "stdout",
     "output_type": "stream",
     "text": [
      "[*********************100%***********************]  1 of 1 completed\n"
     ]
    },
    {
     "name": "stderr",
     "output_type": "stream",
     "text": [
      "/var/folders/g3/164q6cz52jv0sjllnsg7jdsm0000gn/T/ipykernel_31243/1592665972.py:2: RuntimeWarning: divide by zero encountered in double_scalars\n",
      "  d1 = (np.log(S/K) + (r - p + sigma**2/2)*T)/(sigma*np.sqrt(T))\n",
      "/var/folders/g3/164q6cz52jv0sjllnsg7jdsm0000gn/T/ipykernel_31243/1484490205.py:138: RuntimeWarning: divide by zero encountered in double_scalars\n",
      "  d_up = (np.log(close/K) + (mu - 0.5 * sigma **2) * (count)) / (sigma * math.sqrt(count))\n"
     ]
    },
    {
     "name": "stdout",
     "output_type": "stream",
     "text": [
      "[*********************100%***********************]  1 of 1 completed\n"
     ]
    },
    {
     "name": "stderr",
     "output_type": "stream",
     "text": [
      "/var/folders/g3/164q6cz52jv0sjllnsg7jdsm0000gn/T/ipykernel_31243/1592665972.py:2: RuntimeWarning: divide by zero encountered in double_scalars\n",
      "  d1 = (np.log(S/K) + (r - p + sigma**2/2)*T)/(sigma*np.sqrt(T))\n",
      "/var/folders/g3/164q6cz52jv0sjllnsg7jdsm0000gn/T/ipykernel_31243/1484490205.py:138: RuntimeWarning: divide by zero encountered in double_scalars\n",
      "  d_up = (np.log(close/K) + (mu - 0.5 * sigma **2) * (count)) / (sigma * math.sqrt(count))\n"
     ]
    },
    {
     "name": "stdout",
     "output_type": "stream",
     "text": [
      "[*********************100%***********************]  1 of 1 completed\n"
     ]
    },
    {
     "name": "stderr",
     "output_type": "stream",
     "text": [
      "/var/folders/g3/164q6cz52jv0sjllnsg7jdsm0000gn/T/ipykernel_31243/1592665972.py:2: RuntimeWarning: divide by zero encountered in double_scalars\n",
      "  d1 = (np.log(S/K) + (r - p + sigma**2/2)*T)/(sigma*np.sqrt(T))\n",
      "/var/folders/g3/164q6cz52jv0sjllnsg7jdsm0000gn/T/ipykernel_31243/1484490205.py:138: RuntimeWarning: divide by zero encountered in double_scalars\n",
      "  d_up = (np.log(close/K) + (mu - 0.5 * sigma **2) * (count)) / (sigma * math.sqrt(count))\n"
     ]
    },
    {
     "name": "stdout",
     "output_type": "stream",
     "text": [
      "[*********************100%***********************]  1 of 1 completed\n"
     ]
    },
    {
     "name": "stderr",
     "output_type": "stream",
     "text": [
      "/var/folders/g3/164q6cz52jv0sjllnsg7jdsm0000gn/T/ipykernel_31243/1592665972.py:2: RuntimeWarning: divide by zero encountered in double_scalars\n",
      "  d1 = (np.log(S/K) + (r - p + sigma**2/2)*T)/(sigma*np.sqrt(T))\n",
      "/var/folders/g3/164q6cz52jv0sjllnsg7jdsm0000gn/T/ipykernel_31243/1484490205.py:138: RuntimeWarning: divide by zero encountered in double_scalars\n",
      "  d_up = (np.log(close/K) + (mu - 0.5 * sigma **2) * (count)) / (sigma * math.sqrt(count))\n"
     ]
    },
    {
     "name": "stdout",
     "output_type": "stream",
     "text": [
      "[*********************100%***********************]  1 of 1 completed\n"
     ]
    },
    {
     "name": "stderr",
     "output_type": "stream",
     "text": [
      "/var/folders/g3/164q6cz52jv0sjllnsg7jdsm0000gn/T/ipykernel_31243/1592665972.py:2: RuntimeWarning: divide by zero encountered in double_scalars\n",
      "  d1 = (np.log(S/K) + (r - p + sigma**2/2)*T)/(sigma*np.sqrt(T))\n",
      "/var/folders/g3/164q6cz52jv0sjllnsg7jdsm0000gn/T/ipykernel_31243/1484490205.py:138: RuntimeWarning: divide by zero encountered in double_scalars\n",
      "  d_up = (np.log(close/K) + (mu - 0.5 * sigma **2) * (count)) / (sigma * math.sqrt(count))\n"
     ]
    },
    {
     "name": "stdout",
     "output_type": "stream",
     "text": [
      "[*********************100%***********************]  1 of 1 completed\n"
     ]
    },
    {
     "name": "stderr",
     "output_type": "stream",
     "text": [
      "/var/folders/g3/164q6cz52jv0sjllnsg7jdsm0000gn/T/ipykernel_31243/1592665972.py:2: RuntimeWarning: divide by zero encountered in double_scalars\n",
      "  d1 = (np.log(S/K) + (r - p + sigma**2/2)*T)/(sigma*np.sqrt(T))\n",
      "/var/folders/g3/164q6cz52jv0sjllnsg7jdsm0000gn/T/ipykernel_31243/1484490205.py:138: RuntimeWarning: divide by zero encountered in double_scalars\n",
      "  d_up = (np.log(close/K) + (mu - 0.5 * sigma **2) * (count)) / (sigma * math.sqrt(count))\n"
     ]
    },
    {
     "name": "stdout",
     "output_type": "stream",
     "text": [
      "[*********************100%***********************]  1 of 1 completed\n"
     ]
    },
    {
     "name": "stderr",
     "output_type": "stream",
     "text": [
      "/var/folders/g3/164q6cz52jv0sjllnsg7jdsm0000gn/T/ipykernel_31243/1592665972.py:2: RuntimeWarning: divide by zero encountered in double_scalars\n",
      "  d1 = (np.log(S/K) + (r - p + sigma**2/2)*T)/(sigma*np.sqrt(T))\n",
      "/var/folders/g3/164q6cz52jv0sjllnsg7jdsm0000gn/T/ipykernel_31243/1484490205.py:138: RuntimeWarning: divide by zero encountered in double_scalars\n",
      "  d_up = (np.log(close/K) + (mu - 0.5 * sigma **2) * (count)) / (sigma * math.sqrt(count))\n"
     ]
    },
    {
     "name": "stdout",
     "output_type": "stream",
     "text": [
      "[*********************100%***********************]  1 of 1 completed\n"
     ]
    },
    {
     "name": "stderr",
     "output_type": "stream",
     "text": [
      "/var/folders/g3/164q6cz52jv0sjllnsg7jdsm0000gn/T/ipykernel_31243/1592665972.py:2: RuntimeWarning: divide by zero encountered in double_scalars\n",
      "  d1 = (np.log(S/K) + (r - p + sigma**2/2)*T)/(sigma*np.sqrt(T))\n",
      "/var/folders/g3/164q6cz52jv0sjllnsg7jdsm0000gn/T/ipykernel_31243/1484490205.py:138: RuntimeWarning: divide by zero encountered in double_scalars\n",
      "  d_up = (np.log(close/K) + (mu - 0.5 * sigma **2) * (count)) / (sigma * math.sqrt(count))\n"
     ]
    },
    {
     "name": "stdout",
     "output_type": "stream",
     "text": [
      "[*********************100%***********************]  1 of 1 completed\n"
     ]
    },
    {
     "name": "stderr",
     "output_type": "stream",
     "text": [
      "/var/folders/g3/164q6cz52jv0sjllnsg7jdsm0000gn/T/ipykernel_31243/1592665972.py:2: RuntimeWarning: divide by zero encountered in double_scalars\n",
      "  d1 = (np.log(S/K) + (r - p + sigma**2/2)*T)/(sigma*np.sqrt(T))\n",
      "/var/folders/g3/164q6cz52jv0sjllnsg7jdsm0000gn/T/ipykernel_31243/1484490205.py:138: RuntimeWarning: divide by zero encountered in double_scalars\n",
      "  d_up = (np.log(close/K) + (mu - 0.5 * sigma **2) * (count)) / (sigma * math.sqrt(count))\n"
     ]
    },
    {
     "name": "stdout",
     "output_type": "stream",
     "text": [
      "[*********************100%***********************]  1 of 1 completed\n"
     ]
    },
    {
     "name": "stderr",
     "output_type": "stream",
     "text": [
      "/var/folders/g3/164q6cz52jv0sjllnsg7jdsm0000gn/T/ipykernel_31243/1592665972.py:2: RuntimeWarning: divide by zero encountered in double_scalars\n",
      "  d1 = (np.log(S/K) + (r - p + sigma**2/2)*T)/(sigma*np.sqrt(T))\n",
      "/var/folders/g3/164q6cz52jv0sjllnsg7jdsm0000gn/T/ipykernel_31243/1484490205.py:138: RuntimeWarning: divide by zero encountered in double_scalars\n",
      "  d_up = (np.log(close/K) + (mu - 0.5 * sigma **2) * (count)) / (sigma * math.sqrt(count))\n"
     ]
    },
    {
     "name": "stdout",
     "output_type": "stream",
     "text": [
      "[*********************100%***********************]  1 of 1 completed\n"
     ]
    },
    {
     "name": "stderr",
     "output_type": "stream",
     "text": [
      "/var/folders/g3/164q6cz52jv0sjllnsg7jdsm0000gn/T/ipykernel_31243/1592665972.py:2: RuntimeWarning: divide by zero encountered in double_scalars\n",
      "  d1 = (np.log(S/K) + (r - p + sigma**2/2)*T)/(sigma*np.sqrt(T))\n",
      "/var/folders/g3/164q6cz52jv0sjllnsg7jdsm0000gn/T/ipykernel_31243/1484490205.py:138: RuntimeWarning: divide by zero encountered in double_scalars\n",
      "  d_up = (np.log(close/K) + (mu - 0.5 * sigma **2) * (count)) / (sigma * math.sqrt(count))\n"
     ]
    },
    {
     "name": "stdout",
     "output_type": "stream",
     "text": [
      "[*********************100%***********************]  1 of 1 completed\n"
     ]
    },
    {
     "name": "stderr",
     "output_type": "stream",
     "text": [
      "/var/folders/g3/164q6cz52jv0sjllnsg7jdsm0000gn/T/ipykernel_31243/1592665972.py:2: RuntimeWarning: divide by zero encountered in double_scalars\n",
      "  d1 = (np.log(S/K) + (r - p + sigma**2/2)*T)/(sigma*np.sqrt(T))\n",
      "/var/folders/g3/164q6cz52jv0sjllnsg7jdsm0000gn/T/ipykernel_31243/1484490205.py:138: RuntimeWarning: divide by zero encountered in double_scalars\n",
      "  d_up = (np.log(close/K) + (mu - 0.5 * sigma **2) * (count)) / (sigma * math.sqrt(count))\n"
     ]
    },
    {
     "name": "stdout",
     "output_type": "stream",
     "text": [
      "[*********************100%***********************]  1 of 1 completed\n"
     ]
    },
    {
     "name": "stderr",
     "output_type": "stream",
     "text": [
      "/var/folders/g3/164q6cz52jv0sjllnsg7jdsm0000gn/T/ipykernel_31243/1592665972.py:2: RuntimeWarning: divide by zero encountered in double_scalars\n",
      "  d1 = (np.log(S/K) + (r - p + sigma**2/2)*T)/(sigma*np.sqrt(T))\n",
      "/var/folders/g3/164q6cz52jv0sjllnsg7jdsm0000gn/T/ipykernel_31243/1484490205.py:138: RuntimeWarning: divide by zero encountered in double_scalars\n",
      "  d_up = (np.log(close/K) + (mu - 0.5 * sigma **2) * (count)) / (sigma * math.sqrt(count))\n"
     ]
    },
    {
     "name": "stdout",
     "output_type": "stream",
     "text": [
      "[*********************100%***********************]  1 of 1 completed\n"
     ]
    },
    {
     "name": "stderr",
     "output_type": "stream",
     "text": [
      "/var/folders/g3/164q6cz52jv0sjllnsg7jdsm0000gn/T/ipykernel_31243/1592665972.py:2: RuntimeWarning: divide by zero encountered in double_scalars\n",
      "  d1 = (np.log(S/K) + (r - p + sigma**2/2)*T)/(sigma*np.sqrt(T))\n",
      "/var/folders/g3/164q6cz52jv0sjllnsg7jdsm0000gn/T/ipykernel_31243/1484490205.py:138: RuntimeWarning: divide by zero encountered in double_scalars\n",
      "  d_up = (np.log(close/K) + (mu - 0.5 * sigma **2) * (count)) / (sigma * math.sqrt(count))\n"
     ]
    },
    {
     "name": "stdout",
     "output_type": "stream",
     "text": [
      "[*********************100%***********************]  1 of 1 completed\n"
     ]
    },
    {
     "name": "stderr",
     "output_type": "stream",
     "text": [
      "/var/folders/g3/164q6cz52jv0sjllnsg7jdsm0000gn/T/ipykernel_31243/1592665972.py:2: RuntimeWarning: divide by zero encountered in double_scalars\n",
      "  d1 = (np.log(S/K) + (r - p + sigma**2/2)*T)/(sigma*np.sqrt(T))\n",
      "/var/folders/g3/164q6cz52jv0sjllnsg7jdsm0000gn/T/ipykernel_31243/1484490205.py:138: RuntimeWarning: divide by zero encountered in double_scalars\n",
      "  d_up = (np.log(close/K) + (mu - 0.5 * sigma **2) * (count)) / (sigma * math.sqrt(count))\n"
     ]
    },
    {
     "name": "stdout",
     "output_type": "stream",
     "text": [
      "[*********************100%***********************]  1 of 1 completed\n"
     ]
    },
    {
     "name": "stderr",
     "output_type": "stream",
     "text": [
      "/var/folders/g3/164q6cz52jv0sjllnsg7jdsm0000gn/T/ipykernel_31243/1592665972.py:2: RuntimeWarning: divide by zero encountered in double_scalars\n",
      "  d1 = (np.log(S/K) + (r - p + sigma**2/2)*T)/(sigma*np.sqrt(T))\n",
      "/var/folders/g3/164q6cz52jv0sjllnsg7jdsm0000gn/T/ipykernel_31243/1484490205.py:138: RuntimeWarning: divide by zero encountered in double_scalars\n",
      "  d_up = (np.log(close/K) + (mu - 0.5 * sigma **2) * (count)) / (sigma * math.sqrt(count))\n"
     ]
    },
    {
     "name": "stdout",
     "output_type": "stream",
     "text": [
      "[*********************100%***********************]  1 of 1 completed\n"
     ]
    },
    {
     "name": "stderr",
     "output_type": "stream",
     "text": [
      "/var/folders/g3/164q6cz52jv0sjllnsg7jdsm0000gn/T/ipykernel_31243/1592665972.py:2: RuntimeWarning: divide by zero encountered in double_scalars\n",
      "  d1 = (np.log(S/K) + (r - p + sigma**2/2)*T)/(sigma*np.sqrt(T))\n",
      "/var/folders/g3/164q6cz52jv0sjllnsg7jdsm0000gn/T/ipykernel_31243/1484490205.py:138: RuntimeWarning: divide by zero encountered in double_scalars\n",
      "  d_up = (np.log(close/K) + (mu - 0.5 * sigma **2) * (count)) / (sigma * math.sqrt(count))\n"
     ]
    },
    {
     "name": "stdout",
     "output_type": "stream",
     "text": [
      "[*********************100%***********************]  1 of 1 completed\n"
     ]
    },
    {
     "name": "stderr",
     "output_type": "stream",
     "text": [
      "/var/folders/g3/164q6cz52jv0sjllnsg7jdsm0000gn/T/ipykernel_31243/1592665972.py:2: RuntimeWarning: divide by zero encountered in double_scalars\n",
      "  d1 = (np.log(S/K) + (r - p + sigma**2/2)*T)/(sigma*np.sqrt(T))\n",
      "/var/folders/g3/164q6cz52jv0sjllnsg7jdsm0000gn/T/ipykernel_31243/1484490205.py:138: RuntimeWarning: divide by zero encountered in double_scalars\n",
      "  d_up = (np.log(close/K) + (mu - 0.5 * sigma **2) * (count)) / (sigma * math.sqrt(count))\n"
     ]
    },
    {
     "name": "stdout",
     "output_type": "stream",
     "text": [
      "[*********************100%***********************]  1 of 1 completed\n"
     ]
    },
    {
     "name": "stderr",
     "output_type": "stream",
     "text": [
      "/var/folders/g3/164q6cz52jv0sjllnsg7jdsm0000gn/T/ipykernel_31243/1592665972.py:2: RuntimeWarning: divide by zero encountered in double_scalars\n",
      "  d1 = (np.log(S/K) + (r - p + sigma**2/2)*T)/(sigma*np.sqrt(T))\n",
      "/var/folders/g3/164q6cz52jv0sjllnsg7jdsm0000gn/T/ipykernel_31243/1484490205.py:138: RuntimeWarning: divide by zero encountered in double_scalars\n",
      "  d_up = (np.log(close/K) + (mu - 0.5 * sigma **2) * (count)) / (sigma * math.sqrt(count))\n",
      "/var/folders/g3/164q6cz52jv0sjllnsg7jdsm0000gn/T/ipykernel_31243/1484490205.py:146: RuntimeWarning: divide by zero encountered in double_scalars\n",
      "  diff_put = (P - true_put) / P * 100\n",
      "/var/folders/g3/164q6cz52jv0sjllnsg7jdsm0000gn/T/ipykernel_31243/1484490205.py:148: RuntimeWarning: divide by zero encountered in double_scalars\n",
      "  diff_call = (C - true_call) / C * 100\n"
     ]
    },
    {
     "name": "stdout",
     "output_type": "stream",
     "text": [
      "[*********************100%***********************]  1 of 1 completed\n"
     ]
    },
    {
     "name": "stderr",
     "output_type": "stream",
     "text": [
      "/var/folders/g3/164q6cz52jv0sjllnsg7jdsm0000gn/T/ipykernel_31243/1592665972.py:2: RuntimeWarning: divide by zero encountered in double_scalars\n",
      "  d1 = (np.log(S/K) + (r - p + sigma**2/2)*T)/(sigma*np.sqrt(T))\n",
      "/var/folders/g3/164q6cz52jv0sjllnsg7jdsm0000gn/T/ipykernel_31243/1484490205.py:138: RuntimeWarning: divide by zero encountered in double_scalars\n",
      "  d_up = (np.log(close/K) + (mu - 0.5 * sigma **2) * (count)) / (sigma * math.sqrt(count))\n"
     ]
    },
    {
     "name": "stdout",
     "output_type": "stream",
     "text": [
      "[*********************100%***********************]  1 of 1 completed\n"
     ]
    },
    {
     "name": "stderr",
     "output_type": "stream",
     "text": [
      "/var/folders/g3/164q6cz52jv0sjllnsg7jdsm0000gn/T/ipykernel_31243/1592665972.py:2: RuntimeWarning: divide by zero encountered in double_scalars\n",
      "  d1 = (np.log(S/K) + (r - p + sigma**2/2)*T)/(sigma*np.sqrt(T))\n",
      "/var/folders/g3/164q6cz52jv0sjllnsg7jdsm0000gn/T/ipykernel_31243/1484490205.py:138: RuntimeWarning: divide by zero encountered in double_scalars\n",
      "  d_up = (np.log(close/K) + (mu - 0.5 * sigma **2) * (count)) / (sigma * math.sqrt(count))\n"
     ]
    },
    {
     "name": "stdout",
     "output_type": "stream",
     "text": [
      "[*********************100%***********************]  1 of 1 completed\n"
     ]
    },
    {
     "name": "stderr",
     "output_type": "stream",
     "text": [
      "/var/folders/g3/164q6cz52jv0sjllnsg7jdsm0000gn/T/ipykernel_31243/1592665972.py:2: RuntimeWarning: divide by zero encountered in double_scalars\n",
      "  d1 = (np.log(S/K) + (r - p + sigma**2/2)*T)/(sigma*np.sqrt(T))\n",
      "/var/folders/g3/164q6cz52jv0sjllnsg7jdsm0000gn/T/ipykernel_31243/1484490205.py:138: RuntimeWarning: divide by zero encountered in double_scalars\n",
      "  d_up = (np.log(close/K) + (mu - 0.5 * sigma **2) * (count)) / (sigma * math.sqrt(count))\n"
     ]
    },
    {
     "name": "stdout",
     "output_type": "stream",
     "text": [
      "[*********************100%***********************]  1 of 1 completed\n"
     ]
    },
    {
     "name": "stderr",
     "output_type": "stream",
     "text": [
      "/var/folders/g3/164q6cz52jv0sjllnsg7jdsm0000gn/T/ipykernel_31243/1592665972.py:2: RuntimeWarning: divide by zero encountered in double_scalars\n",
      "  d1 = (np.log(S/K) + (r - p + sigma**2/2)*T)/(sigma*np.sqrt(T))\n",
      "/var/folders/g3/164q6cz52jv0sjllnsg7jdsm0000gn/T/ipykernel_31243/1484490205.py:138: RuntimeWarning: divide by zero encountered in double_scalars\n",
      "  d_up = (np.log(close/K) + (mu - 0.5 * sigma **2) * (count)) / (sigma * math.sqrt(count))\n"
     ]
    },
    {
     "name": "stdout",
     "output_type": "stream",
     "text": [
      "[*********************100%***********************]  1 of 1 completed\n"
     ]
    },
    {
     "name": "stderr",
     "output_type": "stream",
     "text": [
      "/var/folders/g3/164q6cz52jv0sjllnsg7jdsm0000gn/T/ipykernel_31243/1592665972.py:2: RuntimeWarning: divide by zero encountered in double_scalars\n",
      "  d1 = (np.log(S/K) + (r - p + sigma**2/2)*T)/(sigma*np.sqrt(T))\n",
      "/var/folders/g3/164q6cz52jv0sjllnsg7jdsm0000gn/T/ipykernel_31243/1484490205.py:138: RuntimeWarning: divide by zero encountered in double_scalars\n",
      "  d_up = (np.log(close/K) + (mu - 0.5 * sigma **2) * (count)) / (sigma * math.sqrt(count))\n"
     ]
    },
    {
     "name": "stdout",
     "output_type": "stream",
     "text": [
      "[*********************100%***********************]  1 of 1 completed\n"
     ]
    },
    {
     "name": "stderr",
     "output_type": "stream",
     "text": [
      "/var/folders/g3/164q6cz52jv0sjllnsg7jdsm0000gn/T/ipykernel_31243/1592665972.py:2: RuntimeWarning: divide by zero encountered in double_scalars\n",
      "  d1 = (np.log(S/K) + (r - p + sigma**2/2)*T)/(sigma*np.sqrt(T))\n",
      "/var/folders/g3/164q6cz52jv0sjllnsg7jdsm0000gn/T/ipykernel_31243/1484490205.py:138: RuntimeWarning: divide by zero encountered in double_scalars\n",
      "  d_up = (np.log(close/K) + (mu - 0.5 * sigma **2) * (count)) / (sigma * math.sqrt(count))\n"
     ]
    },
    {
     "name": "stdout",
     "output_type": "stream",
     "text": [
      "[*********************100%***********************]  1 of 1 completed\n"
     ]
    },
    {
     "name": "stderr",
     "output_type": "stream",
     "text": [
      "/var/folders/g3/164q6cz52jv0sjllnsg7jdsm0000gn/T/ipykernel_31243/1592665972.py:2: RuntimeWarning: divide by zero encountered in double_scalars\n",
      "  d1 = (np.log(S/K) + (r - p + sigma**2/2)*T)/(sigma*np.sqrt(T))\n",
      "/var/folders/g3/164q6cz52jv0sjllnsg7jdsm0000gn/T/ipykernel_31243/1484490205.py:138: RuntimeWarning: divide by zero encountered in double_scalars\n",
      "  d_up = (np.log(close/K) + (mu - 0.5 * sigma **2) * (count)) / (sigma * math.sqrt(count))\n"
     ]
    },
    {
     "name": "stdout",
     "output_type": "stream",
     "text": [
      "[*********************100%***********************]  1 of 1 completed\n"
     ]
    },
    {
     "name": "stderr",
     "output_type": "stream",
     "text": [
      "/var/folders/g3/164q6cz52jv0sjllnsg7jdsm0000gn/T/ipykernel_31243/1592665972.py:2: RuntimeWarning: divide by zero encountered in double_scalars\n",
      "  d1 = (np.log(S/K) + (r - p + sigma**2/2)*T)/(sigma*np.sqrt(T))\n",
      "/var/folders/g3/164q6cz52jv0sjllnsg7jdsm0000gn/T/ipykernel_31243/1484490205.py:138: RuntimeWarning: divide by zero encountered in double_scalars\n",
      "  d_up = (np.log(close/K) + (mu - 0.5 * sigma **2) * (count)) / (sigma * math.sqrt(count))\n"
     ]
    },
    {
     "name": "stdout",
     "output_type": "stream",
     "text": [
      "[*********************100%***********************]  1 of 1 completed\n"
     ]
    },
    {
     "name": "stderr",
     "output_type": "stream",
     "text": [
      "/var/folders/g3/164q6cz52jv0sjllnsg7jdsm0000gn/T/ipykernel_31243/1592665972.py:2: RuntimeWarning: divide by zero encountered in double_scalars\n",
      "  d1 = (np.log(S/K) + (r - p + sigma**2/2)*T)/(sigma*np.sqrt(T))\n",
      "/var/folders/g3/164q6cz52jv0sjllnsg7jdsm0000gn/T/ipykernel_31243/1484490205.py:138: RuntimeWarning: divide by zero encountered in double_scalars\n",
      "  d_up = (np.log(close/K) + (mu - 0.5 * sigma **2) * (count)) / (sigma * math.sqrt(count))\n"
     ]
    },
    {
     "name": "stdout",
     "output_type": "stream",
     "text": [
      "[*********************100%***********************]  1 of 1 completed\n"
     ]
    },
    {
     "name": "stderr",
     "output_type": "stream",
     "text": [
      "/var/folders/g3/164q6cz52jv0sjllnsg7jdsm0000gn/T/ipykernel_31243/1592665972.py:2: RuntimeWarning: divide by zero encountered in double_scalars\n",
      "  d1 = (np.log(S/K) + (r - p + sigma**2/2)*T)/(sigma*np.sqrt(T))\n",
      "/var/folders/g3/164q6cz52jv0sjllnsg7jdsm0000gn/T/ipykernel_31243/1484490205.py:138: RuntimeWarning: divide by zero encountered in double_scalars\n",
      "  d_up = (np.log(close/K) + (mu - 0.5 * sigma **2) * (count)) / (sigma * math.sqrt(count))\n"
     ]
    },
    {
     "name": "stdout",
     "output_type": "stream",
     "text": [
      "[*********************100%***********************]  1 of 1 completed\n"
     ]
    },
    {
     "name": "stderr",
     "output_type": "stream",
     "text": [
      "/var/folders/g3/164q6cz52jv0sjllnsg7jdsm0000gn/T/ipykernel_31243/1592665972.py:2: RuntimeWarning: divide by zero encountered in double_scalars\n",
      "  d1 = (np.log(S/K) + (r - p + sigma**2/2)*T)/(sigma*np.sqrt(T))\n",
      "/var/folders/g3/164q6cz52jv0sjllnsg7jdsm0000gn/T/ipykernel_31243/1484490205.py:138: RuntimeWarning: divide by zero encountered in double_scalars\n",
      "  d_up = (np.log(close/K) + (mu - 0.5 * sigma **2) * (count)) / (sigma * math.sqrt(count))\n"
     ]
    },
    {
     "name": "stdout",
     "output_type": "stream",
     "text": [
      "[*********************100%***********************]  1 of 1 completed\n"
     ]
    },
    {
     "name": "stderr",
     "output_type": "stream",
     "text": [
      "/var/folders/g3/164q6cz52jv0sjllnsg7jdsm0000gn/T/ipykernel_31243/1592665972.py:2: RuntimeWarning: divide by zero encountered in double_scalars\n",
      "  d1 = (np.log(S/K) + (r - p + sigma**2/2)*T)/(sigma*np.sqrt(T))\n",
      "/var/folders/g3/164q6cz52jv0sjllnsg7jdsm0000gn/T/ipykernel_31243/1484490205.py:138: RuntimeWarning: divide by zero encountered in double_scalars\n",
      "  d_up = (np.log(close/K) + (mu - 0.5 * sigma **2) * (count)) / (sigma * math.sqrt(count))\n"
     ]
    },
    {
     "name": "stdout",
     "output_type": "stream",
     "text": [
      "[*********************100%***********************]  1 of 1 completed\n"
     ]
    },
    {
     "name": "stderr",
     "output_type": "stream",
     "text": [
      "/var/folders/g3/164q6cz52jv0sjllnsg7jdsm0000gn/T/ipykernel_31243/1592665972.py:2: RuntimeWarning: divide by zero encountered in double_scalars\n",
      "  d1 = (np.log(S/K) + (r - p + sigma**2/2)*T)/(sigma*np.sqrt(T))\n",
      "/var/folders/g3/164q6cz52jv0sjllnsg7jdsm0000gn/T/ipykernel_31243/1484490205.py:138: RuntimeWarning: divide by zero encountered in double_scalars\n",
      "  d_up = (np.log(close/K) + (mu - 0.5 * sigma **2) * (count)) / (sigma * math.sqrt(count))\n"
     ]
    },
    {
     "name": "stdout",
     "output_type": "stream",
     "text": [
      "[*********************100%***********************]  1 of 1 completed\n"
     ]
    },
    {
     "name": "stderr",
     "output_type": "stream",
     "text": [
      "/var/folders/g3/164q6cz52jv0sjllnsg7jdsm0000gn/T/ipykernel_31243/1592665972.py:2: RuntimeWarning: divide by zero encountered in double_scalars\n",
      "  d1 = (np.log(S/K) + (r - p + sigma**2/2)*T)/(sigma*np.sqrt(T))\n",
      "/var/folders/g3/164q6cz52jv0sjllnsg7jdsm0000gn/T/ipykernel_31243/1484490205.py:138: RuntimeWarning: divide by zero encountered in double_scalars\n",
      "  d_up = (np.log(close/K) + (mu - 0.5 * sigma **2) * (count)) / (sigma * math.sqrt(count))\n"
     ]
    },
    {
     "name": "stdout",
     "output_type": "stream",
     "text": [
      "[*********************100%***********************]  1 of 1 completed\n"
     ]
    },
    {
     "name": "stderr",
     "output_type": "stream",
     "text": [
      "/var/folders/g3/164q6cz52jv0sjllnsg7jdsm0000gn/T/ipykernel_31243/1592665972.py:2: RuntimeWarning: divide by zero encountered in double_scalars\n",
      "  d1 = (np.log(S/K) + (r - p + sigma**2/2)*T)/(sigma*np.sqrt(T))\n",
      "/var/folders/g3/164q6cz52jv0sjllnsg7jdsm0000gn/T/ipykernel_31243/1484490205.py:138: RuntimeWarning: divide by zero encountered in double_scalars\n",
      "  d_up = (np.log(close/K) + (mu - 0.5 * sigma **2) * (count)) / (sigma * math.sqrt(count))\n"
     ]
    },
    {
     "name": "stdout",
     "output_type": "stream",
     "text": [
      "[*********************100%***********************]  1 of 1 completed\n"
     ]
    },
    {
     "name": "stderr",
     "output_type": "stream",
     "text": [
      "/var/folders/g3/164q6cz52jv0sjllnsg7jdsm0000gn/T/ipykernel_31243/1592665972.py:2: RuntimeWarning: divide by zero encountered in double_scalars\n",
      "  d1 = (np.log(S/K) + (r - p + sigma**2/2)*T)/(sigma*np.sqrt(T))\n",
      "/var/folders/g3/164q6cz52jv0sjllnsg7jdsm0000gn/T/ipykernel_31243/1484490205.py:138: RuntimeWarning: divide by zero encountered in double_scalars\n",
      "  d_up = (np.log(close/K) + (mu - 0.5 * sigma **2) * (count)) / (sigma * math.sqrt(count))\n"
     ]
    },
    {
     "name": "stdout",
     "output_type": "stream",
     "text": [
      "[*********************100%***********************]  1 of 1 completed\n"
     ]
    },
    {
     "name": "stderr",
     "output_type": "stream",
     "text": [
      "/var/folders/g3/164q6cz52jv0sjllnsg7jdsm0000gn/T/ipykernel_31243/1592665972.py:2: RuntimeWarning: divide by zero encountered in double_scalars\n",
      "  d1 = (np.log(S/K) + (r - p + sigma**2/2)*T)/(sigma*np.sqrt(T))\n",
      "/var/folders/g3/164q6cz52jv0sjllnsg7jdsm0000gn/T/ipykernel_31243/1484490205.py:138: RuntimeWarning: divide by zero encountered in double_scalars\n",
      "  d_up = (np.log(close/K) + (mu - 0.5 * sigma **2) * (count)) / (sigma * math.sqrt(count))\n"
     ]
    },
    {
     "name": "stdout",
     "output_type": "stream",
     "text": [
      "[*********************100%***********************]  1 of 1 completed\n"
     ]
    },
    {
     "name": "stderr",
     "output_type": "stream",
     "text": [
      "/var/folders/g3/164q6cz52jv0sjllnsg7jdsm0000gn/T/ipykernel_31243/1592665972.py:2: RuntimeWarning: divide by zero encountered in double_scalars\n",
      "  d1 = (np.log(S/K) + (r - p + sigma**2/2)*T)/(sigma*np.sqrt(T))\n",
      "/var/folders/g3/164q6cz52jv0sjllnsg7jdsm0000gn/T/ipykernel_31243/1484490205.py:138: RuntimeWarning: divide by zero encountered in double_scalars\n",
      "  d_up = (np.log(close/K) + (mu - 0.5 * sigma **2) * (count)) / (sigma * math.sqrt(count))\n"
     ]
    },
    {
     "name": "stdout",
     "output_type": "stream",
     "text": [
      "[*********************100%***********************]  1 of 1 completed\n"
     ]
    },
    {
     "name": "stderr",
     "output_type": "stream",
     "text": [
      "/var/folders/g3/164q6cz52jv0sjllnsg7jdsm0000gn/T/ipykernel_31243/1592665972.py:2: RuntimeWarning: divide by zero encountered in double_scalars\n",
      "  d1 = (np.log(S/K) + (r - p + sigma**2/2)*T)/(sigma*np.sqrt(T))\n",
      "/var/folders/g3/164q6cz52jv0sjllnsg7jdsm0000gn/T/ipykernel_31243/1484490205.py:138: RuntimeWarning: divide by zero encountered in double_scalars\n",
      "  d_up = (np.log(close/K) + (mu - 0.5 * sigma **2) * (count)) / (sigma * math.sqrt(count))\n"
     ]
    },
    {
     "name": "stdout",
     "output_type": "stream",
     "text": [
      "[*********************100%***********************]  1 of 1 completed\n"
     ]
    },
    {
     "name": "stderr",
     "output_type": "stream",
     "text": [
      "/var/folders/g3/164q6cz52jv0sjllnsg7jdsm0000gn/T/ipykernel_31243/1592665972.py:2: RuntimeWarning: divide by zero encountered in double_scalars\n",
      "  d1 = (np.log(S/K) + (r - p + sigma**2/2)*T)/(sigma*np.sqrt(T))\n",
      "/var/folders/g3/164q6cz52jv0sjllnsg7jdsm0000gn/T/ipykernel_31243/1484490205.py:138: RuntimeWarning: divide by zero encountered in double_scalars\n",
      "  d_up = (np.log(close/K) + (mu - 0.5 * sigma **2) * (count)) / (sigma * math.sqrt(count))\n",
      "/var/folders/g3/164q6cz52jv0sjllnsg7jdsm0000gn/T/ipykernel_31243/1484490205.py:146: RuntimeWarning: divide by zero encountered in double_scalars\n",
      "  diff_put = (P - true_put) / P * 100\n",
      "/var/folders/g3/164q6cz52jv0sjllnsg7jdsm0000gn/T/ipykernel_31243/1484490205.py:148: RuntimeWarning: divide by zero encountered in double_scalars\n",
      "  diff_call = (C - true_call) / C * 100\n"
     ]
    },
    {
     "name": "stdout",
     "output_type": "stream",
     "text": [
      "[*********************100%***********************]  1 of 1 completed\n"
     ]
    },
    {
     "name": "stderr",
     "output_type": "stream",
     "text": [
      "/var/folders/g3/164q6cz52jv0sjllnsg7jdsm0000gn/T/ipykernel_31243/1592665972.py:2: RuntimeWarning: divide by zero encountered in double_scalars\n",
      "  d1 = (np.log(S/K) + (r - p + sigma**2/2)*T)/(sigma*np.sqrt(T))\n",
      "/var/folders/g3/164q6cz52jv0sjllnsg7jdsm0000gn/T/ipykernel_31243/1484490205.py:138: RuntimeWarning: divide by zero encountered in double_scalars\n",
      "  d_up = (np.log(close/K) + (mu - 0.5 * sigma **2) * (count)) / (sigma * math.sqrt(count))\n"
     ]
    },
    {
     "name": "stdout",
     "output_type": "stream",
     "text": [
      "[*********************100%***********************]  1 of 1 completed\n"
     ]
    },
    {
     "name": "stderr",
     "output_type": "stream",
     "text": [
      "/var/folders/g3/164q6cz52jv0sjllnsg7jdsm0000gn/T/ipykernel_31243/1592665972.py:2: RuntimeWarning: divide by zero encountered in double_scalars\n",
      "  d1 = (np.log(S/K) + (r - p + sigma**2/2)*T)/(sigma*np.sqrt(T))\n",
      "/var/folders/g3/164q6cz52jv0sjllnsg7jdsm0000gn/T/ipykernel_31243/1484490205.py:138: RuntimeWarning: divide by zero encountered in double_scalars\n",
      "  d_up = (np.log(close/K) + (mu - 0.5 * sigma **2) * (count)) / (sigma * math.sqrt(count))\n"
     ]
    },
    {
     "name": "stdout",
     "output_type": "stream",
     "text": [
      "[*********************100%***********************]  1 of 1 completed\n"
     ]
    },
    {
     "name": "stderr",
     "output_type": "stream",
     "text": [
      "/var/folders/g3/164q6cz52jv0sjllnsg7jdsm0000gn/T/ipykernel_31243/1592665972.py:2: RuntimeWarning: divide by zero encountered in double_scalars\n",
      "  d1 = (np.log(S/K) + (r - p + sigma**2/2)*T)/(sigma*np.sqrt(T))\n",
      "/var/folders/g3/164q6cz52jv0sjllnsg7jdsm0000gn/T/ipykernel_31243/1484490205.py:138: RuntimeWarning: divide by zero encountered in double_scalars\n",
      "  d_up = (np.log(close/K) + (mu - 0.5 * sigma **2) * (count)) / (sigma * math.sqrt(count))\n"
     ]
    },
    {
     "name": "stdout",
     "output_type": "stream",
     "text": [
      "[*********************100%***********************]  1 of 1 completed\n"
     ]
    },
    {
     "name": "stderr",
     "output_type": "stream",
     "text": [
      "/var/folders/g3/164q6cz52jv0sjllnsg7jdsm0000gn/T/ipykernel_31243/1592665972.py:2: RuntimeWarning: divide by zero encountered in double_scalars\n",
      "  d1 = (np.log(S/K) + (r - p + sigma**2/2)*T)/(sigma*np.sqrt(T))\n",
      "/var/folders/g3/164q6cz52jv0sjllnsg7jdsm0000gn/T/ipykernel_31243/1484490205.py:138: RuntimeWarning: divide by zero encountered in double_scalars\n",
      "  d_up = (np.log(close/K) + (mu - 0.5 * sigma **2) * (count)) / (sigma * math.sqrt(count))\n"
     ]
    },
    {
     "name": "stdout",
     "output_type": "stream",
     "text": [
      "[*********************100%***********************]  1 of 1 completed\n"
     ]
    },
    {
     "name": "stderr",
     "output_type": "stream",
     "text": [
      "/var/folders/g3/164q6cz52jv0sjllnsg7jdsm0000gn/T/ipykernel_31243/1592665972.py:2: RuntimeWarning: divide by zero encountered in double_scalars\n",
      "  d1 = (np.log(S/K) + (r - p + sigma**2/2)*T)/(sigma*np.sqrt(T))\n",
      "/var/folders/g3/164q6cz52jv0sjllnsg7jdsm0000gn/T/ipykernel_31243/1484490205.py:138: RuntimeWarning: divide by zero encountered in double_scalars\n",
      "  d_up = (np.log(close/K) + (mu - 0.5 * sigma **2) * (count)) / (sigma * math.sqrt(count))\n"
     ]
    },
    {
     "name": "stdout",
     "output_type": "stream",
     "text": [
      "[*********************100%***********************]  1 of 1 completed\n"
     ]
    },
    {
     "name": "stderr",
     "output_type": "stream",
     "text": [
      "/var/folders/g3/164q6cz52jv0sjllnsg7jdsm0000gn/T/ipykernel_31243/1592665972.py:2: RuntimeWarning: divide by zero encountered in double_scalars\n",
      "  d1 = (np.log(S/K) + (r - p + sigma**2/2)*T)/(sigma*np.sqrt(T))\n",
      "/var/folders/g3/164q6cz52jv0sjllnsg7jdsm0000gn/T/ipykernel_31243/1484490205.py:138: RuntimeWarning: divide by zero encountered in double_scalars\n",
      "  d_up = (np.log(close/K) + (mu - 0.5 * sigma **2) * (count)) / (sigma * math.sqrt(count))\n"
     ]
    },
    {
     "name": "stdout",
     "output_type": "stream",
     "text": [
      "[*********************100%***********************]  1 of 1 completed\n"
     ]
    },
    {
     "name": "stderr",
     "output_type": "stream",
     "text": [
      "/var/folders/g3/164q6cz52jv0sjllnsg7jdsm0000gn/T/ipykernel_31243/1592665972.py:2: RuntimeWarning: divide by zero encountered in double_scalars\n",
      "  d1 = (np.log(S/K) + (r - p + sigma**2/2)*T)/(sigma*np.sqrt(T))\n",
      "/var/folders/g3/164q6cz52jv0sjllnsg7jdsm0000gn/T/ipykernel_31243/1484490205.py:138: RuntimeWarning: divide by zero encountered in double_scalars\n",
      "  d_up = (np.log(close/K) + (mu - 0.5 * sigma **2) * (count)) / (sigma * math.sqrt(count))\n",
      "/var/folders/g3/164q6cz52jv0sjllnsg7jdsm0000gn/T/ipykernel_31243/1484490205.py:146: RuntimeWarning: divide by zero encountered in double_scalars\n",
      "  diff_put = (P - true_put) / P * 100\n",
      "/var/folders/g3/164q6cz52jv0sjllnsg7jdsm0000gn/T/ipykernel_31243/1484490205.py:148: RuntimeWarning: divide by zero encountered in double_scalars\n",
      "  diff_call = (C - true_call) / C * 100\n"
     ]
    },
    {
     "name": "stdout",
     "output_type": "stream",
     "text": [
      "[*********************100%***********************]  1 of 1 completed\n"
     ]
    },
    {
     "name": "stderr",
     "output_type": "stream",
     "text": [
      "/var/folders/g3/164q6cz52jv0sjllnsg7jdsm0000gn/T/ipykernel_31243/1592665972.py:2: RuntimeWarning: divide by zero encountered in double_scalars\n",
      "  d1 = (np.log(S/K) + (r - p + sigma**2/2)*T)/(sigma*np.sqrt(T))\n",
      "/var/folders/g3/164q6cz52jv0sjllnsg7jdsm0000gn/T/ipykernel_31243/1484490205.py:138: RuntimeWarning: divide by zero encountered in double_scalars\n",
      "  d_up = (np.log(close/K) + (mu - 0.5 * sigma **2) * (count)) / (sigma * math.sqrt(count))\n"
     ]
    },
    {
     "name": "stdout",
     "output_type": "stream",
     "text": [
      "[*********************100%***********************]  1 of 1 completed\n"
     ]
    },
    {
     "name": "stderr",
     "output_type": "stream",
     "text": [
      "/var/folders/g3/164q6cz52jv0sjllnsg7jdsm0000gn/T/ipykernel_31243/1592665972.py:2: RuntimeWarning: divide by zero encountered in double_scalars\n",
      "  d1 = (np.log(S/K) + (r - p + sigma**2/2)*T)/(sigma*np.sqrt(T))\n",
      "/var/folders/g3/164q6cz52jv0sjllnsg7jdsm0000gn/T/ipykernel_31243/1484490205.py:138: RuntimeWarning: divide by zero encountered in double_scalars\n",
      "  d_up = (np.log(close/K) + (mu - 0.5 * sigma **2) * (count)) / (sigma * math.sqrt(count))\n"
     ]
    },
    {
     "name": "stdout",
     "output_type": "stream",
     "text": [
      "[*********************100%***********************]  1 of 1 completed\n"
     ]
    },
    {
     "name": "stderr",
     "output_type": "stream",
     "text": [
      "/var/folders/g3/164q6cz52jv0sjllnsg7jdsm0000gn/T/ipykernel_31243/1592665972.py:2: RuntimeWarning: divide by zero encountered in double_scalars\n",
      "  d1 = (np.log(S/K) + (r - p + sigma**2/2)*T)/(sigma*np.sqrt(T))\n",
      "/var/folders/g3/164q6cz52jv0sjllnsg7jdsm0000gn/T/ipykernel_31243/1484490205.py:138: RuntimeWarning: divide by zero encountered in double_scalars\n",
      "  d_up = (np.log(close/K) + (mu - 0.5 * sigma **2) * (count)) / (sigma * math.sqrt(count))\n",
      "/var/folders/g3/164q6cz52jv0sjllnsg7jdsm0000gn/T/ipykernel_31243/1484490205.py:146: RuntimeWarning: divide by zero encountered in double_scalars\n",
      "  diff_put = (P - true_put) / P * 100\n",
      "/var/folders/g3/164q6cz52jv0sjllnsg7jdsm0000gn/T/ipykernel_31243/1484490205.py:148: RuntimeWarning: divide by zero encountered in double_scalars\n",
      "  diff_call = (C - true_call) / C * 100\n"
     ]
    },
    {
     "name": "stdout",
     "output_type": "stream",
     "text": [
      "[*********************100%***********************]  1 of 1 completed\n"
     ]
    },
    {
     "name": "stderr",
     "output_type": "stream",
     "text": [
      "/var/folders/g3/164q6cz52jv0sjllnsg7jdsm0000gn/T/ipykernel_31243/1592665972.py:2: RuntimeWarning: divide by zero encountered in double_scalars\n",
      "  d1 = (np.log(S/K) + (r - p + sigma**2/2)*T)/(sigma*np.sqrt(T))\n",
      "/var/folders/g3/164q6cz52jv0sjllnsg7jdsm0000gn/T/ipykernel_31243/1484490205.py:138: RuntimeWarning: divide by zero encountered in double_scalars\n",
      "  d_up = (np.log(close/K) + (mu - 0.5 * sigma **2) * (count)) / (sigma * math.sqrt(count))\n"
     ]
    },
    {
     "name": "stdout",
     "output_type": "stream",
     "text": [
      "[*********************100%***********************]  1 of 1 completed\n"
     ]
    },
    {
     "name": "stderr",
     "output_type": "stream",
     "text": [
      "/var/folders/g3/164q6cz52jv0sjllnsg7jdsm0000gn/T/ipykernel_31243/1592665972.py:2: RuntimeWarning: divide by zero encountered in double_scalars\n",
      "  d1 = (np.log(S/K) + (r - p + sigma**2/2)*T)/(sigma*np.sqrt(T))\n",
      "/var/folders/g3/164q6cz52jv0sjllnsg7jdsm0000gn/T/ipykernel_31243/1484490205.py:138: RuntimeWarning: divide by zero encountered in double_scalars\n",
      "  d_up = (np.log(close/K) + (mu - 0.5 * sigma **2) * (count)) / (sigma * math.sqrt(count))\n"
     ]
    },
    {
     "name": "stdout",
     "output_type": "stream",
     "text": [
      "[*********************100%***********************]  1 of 1 completed\n"
     ]
    },
    {
     "name": "stderr",
     "output_type": "stream",
     "text": [
      "/var/folders/g3/164q6cz52jv0sjllnsg7jdsm0000gn/T/ipykernel_31243/1592665972.py:2: RuntimeWarning: divide by zero encountered in double_scalars\n",
      "  d1 = (np.log(S/K) + (r - p + sigma**2/2)*T)/(sigma*np.sqrt(T))\n",
      "/var/folders/g3/164q6cz52jv0sjllnsg7jdsm0000gn/T/ipykernel_31243/1484490205.py:138: RuntimeWarning: divide by zero encountered in double_scalars\n",
      "  d_up = (np.log(close/K) + (mu - 0.5 * sigma **2) * (count)) / (sigma * math.sqrt(count))\n"
     ]
    },
    {
     "name": "stdout",
     "output_type": "stream",
     "text": [
      "[*********************100%***********************]  1 of 1 completed\n"
     ]
    },
    {
     "name": "stderr",
     "output_type": "stream",
     "text": [
      "/var/folders/g3/164q6cz52jv0sjllnsg7jdsm0000gn/T/ipykernel_31243/1592665972.py:2: RuntimeWarning: divide by zero encountered in double_scalars\n",
      "  d1 = (np.log(S/K) + (r - p + sigma**2/2)*T)/(sigma*np.sqrt(T))\n",
      "/var/folders/g3/164q6cz52jv0sjllnsg7jdsm0000gn/T/ipykernel_31243/1484490205.py:138: RuntimeWarning: divide by zero encountered in double_scalars\n",
      "  d_up = (np.log(close/K) + (mu - 0.5 * sigma **2) * (count)) / (sigma * math.sqrt(count))\n"
     ]
    },
    {
     "name": "stdout",
     "output_type": "stream",
     "text": [
      "[*********************100%***********************]  1 of 1 completed\n"
     ]
    },
    {
     "name": "stderr",
     "output_type": "stream",
     "text": [
      "/var/folders/g3/164q6cz52jv0sjllnsg7jdsm0000gn/T/ipykernel_31243/1592665972.py:2: RuntimeWarning: divide by zero encountered in double_scalars\n",
      "  d1 = (np.log(S/K) + (r - p + sigma**2/2)*T)/(sigma*np.sqrt(T))\n",
      "/var/folders/g3/164q6cz52jv0sjllnsg7jdsm0000gn/T/ipykernel_31243/1484490205.py:138: RuntimeWarning: divide by zero encountered in double_scalars\n",
      "  d_up = (np.log(close/K) + (mu - 0.5 * sigma **2) * (count)) / (sigma * math.sqrt(count))\n"
     ]
    },
    {
     "name": "stdout",
     "output_type": "stream",
     "text": [
      "[*********************100%***********************]  1 of 1 completed\n"
     ]
    },
    {
     "name": "stderr",
     "output_type": "stream",
     "text": [
      "/var/folders/g3/164q6cz52jv0sjllnsg7jdsm0000gn/T/ipykernel_31243/1592665972.py:2: RuntimeWarning: divide by zero encountered in double_scalars\n",
      "  d1 = (np.log(S/K) + (r - p + sigma**2/2)*T)/(sigma*np.sqrt(T))\n",
      "/var/folders/g3/164q6cz52jv0sjllnsg7jdsm0000gn/T/ipykernel_31243/1484490205.py:138: RuntimeWarning: divide by zero encountered in double_scalars\n",
      "  d_up = (np.log(close/K) + (mu - 0.5 * sigma **2) * (count)) / (sigma * math.sqrt(count))\n"
     ]
    },
    {
     "name": "stdout",
     "output_type": "stream",
     "text": [
      "[*********************100%***********************]  1 of 1 completed\n"
     ]
    },
    {
     "name": "stderr",
     "output_type": "stream",
     "text": [
      "/var/folders/g3/164q6cz52jv0sjllnsg7jdsm0000gn/T/ipykernel_31243/1592665972.py:2: RuntimeWarning: divide by zero encountered in double_scalars\n",
      "  d1 = (np.log(S/K) + (r - p + sigma**2/2)*T)/(sigma*np.sqrt(T))\n",
      "/var/folders/g3/164q6cz52jv0sjllnsg7jdsm0000gn/T/ipykernel_31243/1484490205.py:138: RuntimeWarning: divide by zero encountered in double_scalars\n",
      "  d_up = (np.log(close/K) + (mu - 0.5 * sigma **2) * (count)) / (sigma * math.sqrt(count))\n"
     ]
    },
    {
     "name": "stdout",
     "output_type": "stream",
     "text": [
      "[*********************100%***********************]  1 of 1 completed\n"
     ]
    },
    {
     "name": "stderr",
     "output_type": "stream",
     "text": [
      "/var/folders/g3/164q6cz52jv0sjllnsg7jdsm0000gn/T/ipykernel_31243/1592665972.py:2: RuntimeWarning: divide by zero encountered in double_scalars\n",
      "  d1 = (np.log(S/K) + (r - p + sigma**2/2)*T)/(sigma*np.sqrt(T))\n",
      "/var/folders/g3/164q6cz52jv0sjllnsg7jdsm0000gn/T/ipykernel_31243/1484490205.py:138: RuntimeWarning: divide by zero encountered in double_scalars\n",
      "  d_up = (np.log(close/K) + (mu - 0.5 * sigma **2) * (count)) / (sigma * math.sqrt(count))\n"
     ]
    },
    {
     "name": "stdout",
     "output_type": "stream",
     "text": [
      "[*********************100%***********************]  1 of 1 completed\n"
     ]
    },
    {
     "name": "stderr",
     "output_type": "stream",
     "text": [
      "/var/folders/g3/164q6cz52jv0sjllnsg7jdsm0000gn/T/ipykernel_31243/1592665972.py:2: RuntimeWarning: divide by zero encountered in double_scalars\n",
      "  d1 = (np.log(S/K) + (r - p + sigma**2/2)*T)/(sigma*np.sqrt(T))\n",
      "/var/folders/g3/164q6cz52jv0sjllnsg7jdsm0000gn/T/ipykernel_31243/1484490205.py:138: RuntimeWarning: divide by zero encountered in double_scalars\n",
      "  d_up = (np.log(close/K) + (mu - 0.5 * sigma **2) * (count)) / (sigma * math.sqrt(count))\n"
     ]
    },
    {
     "name": "stdout",
     "output_type": "stream",
     "text": [
      "[*********************100%***********************]  1 of 1 completed\n"
     ]
    },
    {
     "name": "stderr",
     "output_type": "stream",
     "text": [
      "/var/folders/g3/164q6cz52jv0sjllnsg7jdsm0000gn/T/ipykernel_31243/1592665972.py:2: RuntimeWarning: divide by zero encountered in double_scalars\n",
      "  d1 = (np.log(S/K) + (r - p + sigma**2/2)*T)/(sigma*np.sqrt(T))\n",
      "/var/folders/g3/164q6cz52jv0sjllnsg7jdsm0000gn/T/ipykernel_31243/1484490205.py:138: RuntimeWarning: divide by zero encountered in double_scalars\n",
      "  d_up = (np.log(close/K) + (mu - 0.5 * sigma **2) * (count)) / (sigma * math.sqrt(count))\n"
     ]
    },
    {
     "name": "stdout",
     "output_type": "stream",
     "text": [
      "[*********************100%***********************]  1 of 1 completed\n"
     ]
    },
    {
     "name": "stderr",
     "output_type": "stream",
     "text": [
      "/var/folders/g3/164q6cz52jv0sjllnsg7jdsm0000gn/T/ipykernel_31243/1592665972.py:2: RuntimeWarning: divide by zero encountered in double_scalars\n",
      "  d1 = (np.log(S/K) + (r - p + sigma**2/2)*T)/(sigma*np.sqrt(T))\n",
      "/var/folders/g3/164q6cz52jv0sjllnsg7jdsm0000gn/T/ipykernel_31243/1484490205.py:138: RuntimeWarning: divide by zero encountered in double_scalars\n",
      "  d_up = (np.log(close/K) + (mu - 0.5 * sigma **2) * (count)) / (sigma * math.sqrt(count))\n"
     ]
    },
    {
     "name": "stdout",
     "output_type": "stream",
     "text": [
      "[*********************100%***********************]  1 of 1 completed\n"
     ]
    },
    {
     "name": "stderr",
     "output_type": "stream",
     "text": [
      "/var/folders/g3/164q6cz52jv0sjllnsg7jdsm0000gn/T/ipykernel_31243/1592665972.py:2: RuntimeWarning: divide by zero encountered in double_scalars\n",
      "  d1 = (np.log(S/K) + (r - p + sigma**2/2)*T)/(sigma*np.sqrt(T))\n",
      "/var/folders/g3/164q6cz52jv0sjllnsg7jdsm0000gn/T/ipykernel_31243/1484490205.py:138: RuntimeWarning: divide by zero encountered in double_scalars\n",
      "  d_up = (np.log(close/K) + (mu - 0.5 * sigma **2) * (count)) / (sigma * math.sqrt(count))\n"
     ]
    },
    {
     "name": "stdout",
     "output_type": "stream",
     "text": [
      "[*********************100%***********************]  1 of 1 completed\n"
     ]
    },
    {
     "name": "stderr",
     "output_type": "stream",
     "text": [
      "/var/folders/g3/164q6cz52jv0sjllnsg7jdsm0000gn/T/ipykernel_31243/1592665972.py:2: RuntimeWarning: divide by zero encountered in double_scalars\n",
      "  d1 = (np.log(S/K) + (r - p + sigma**2/2)*T)/(sigma*np.sqrt(T))\n",
      "/var/folders/g3/164q6cz52jv0sjllnsg7jdsm0000gn/T/ipykernel_31243/1484490205.py:138: RuntimeWarning: divide by zero encountered in double_scalars\n",
      "  d_up = (np.log(close/K) + (mu - 0.5 * sigma **2) * (count)) / (sigma * math.sqrt(count))\n"
     ]
    },
    {
     "name": "stdout",
     "output_type": "stream",
     "text": [
      "[*********************100%***********************]  1 of 1 completed\n"
     ]
    },
    {
     "name": "stderr",
     "output_type": "stream",
     "text": [
      "/var/folders/g3/164q6cz52jv0sjllnsg7jdsm0000gn/T/ipykernel_31243/1592665972.py:2: RuntimeWarning: divide by zero encountered in double_scalars\n",
      "  d1 = (np.log(S/K) + (r - p + sigma**2/2)*T)/(sigma*np.sqrt(T))\n",
      "/var/folders/g3/164q6cz52jv0sjllnsg7jdsm0000gn/T/ipykernel_31243/1484490205.py:138: RuntimeWarning: divide by zero encountered in double_scalars\n",
      "  d_up = (np.log(close/K) + (mu - 0.5 * sigma **2) * (count)) / (sigma * math.sqrt(count))\n",
      "/var/folders/g3/164q6cz52jv0sjllnsg7jdsm0000gn/T/ipykernel_31243/1484490205.py:146: RuntimeWarning: divide by zero encountered in double_scalars\n",
      "  diff_put = (P - true_put) / P * 100\n",
      "/var/folders/g3/164q6cz52jv0sjllnsg7jdsm0000gn/T/ipykernel_31243/1484490205.py:148: RuntimeWarning: divide by zero encountered in double_scalars\n",
      "  diff_call = (C - true_call) / C * 100\n"
     ]
    },
    {
     "name": "stdout",
     "output_type": "stream",
     "text": [
      "[*********************100%***********************]  1 of 1 completed\n"
     ]
    },
    {
     "name": "stderr",
     "output_type": "stream",
     "text": [
      "/var/folders/g3/164q6cz52jv0sjllnsg7jdsm0000gn/T/ipykernel_31243/1592665972.py:2: RuntimeWarning: divide by zero encountered in double_scalars\n",
      "  d1 = (np.log(S/K) + (r - p + sigma**2/2)*T)/(sigma*np.sqrt(T))\n",
      "/var/folders/g3/164q6cz52jv0sjllnsg7jdsm0000gn/T/ipykernel_31243/1484490205.py:138: RuntimeWarning: divide by zero encountered in double_scalars\n",
      "  d_up = (np.log(close/K) + (mu - 0.5 * sigma **2) * (count)) / (sigma * math.sqrt(count))\n"
     ]
    },
    {
     "name": "stdout",
     "output_type": "stream",
     "text": [
      "[*********************100%***********************]  1 of 1 completed\n"
     ]
    },
    {
     "name": "stderr",
     "output_type": "stream",
     "text": [
      "/var/folders/g3/164q6cz52jv0sjllnsg7jdsm0000gn/T/ipykernel_31243/1592665972.py:2: RuntimeWarning: divide by zero encountered in double_scalars\n",
      "  d1 = (np.log(S/K) + (r - p + sigma**2/2)*T)/(sigma*np.sqrt(T))\n",
      "/var/folders/g3/164q6cz52jv0sjllnsg7jdsm0000gn/T/ipykernel_31243/1484490205.py:138: RuntimeWarning: divide by zero encountered in double_scalars\n",
      "  d_up = (np.log(close/K) + (mu - 0.5 * sigma **2) * (count)) / (sigma * math.sqrt(count))\n"
     ]
    },
    {
     "name": "stdout",
     "output_type": "stream",
     "text": [
      "[*********************100%***********************]  1 of 1 completed\n"
     ]
    },
    {
     "name": "stderr",
     "output_type": "stream",
     "text": [
      "/var/folders/g3/164q6cz52jv0sjllnsg7jdsm0000gn/T/ipykernel_31243/1592665972.py:2: RuntimeWarning: divide by zero encountered in double_scalars\n",
      "  d1 = (np.log(S/K) + (r - p + sigma**2/2)*T)/(sigma*np.sqrt(T))\n",
      "/var/folders/g3/164q6cz52jv0sjllnsg7jdsm0000gn/T/ipykernel_31243/1484490205.py:138: RuntimeWarning: divide by zero encountered in double_scalars\n",
      "  d_up = (np.log(close/K) + (mu - 0.5 * sigma **2) * (count)) / (sigma * math.sqrt(count))\n"
     ]
    },
    {
     "name": "stdout",
     "output_type": "stream",
     "text": [
      "[*********************100%***********************]  1 of 1 completed\n"
     ]
    },
    {
     "name": "stderr",
     "output_type": "stream",
     "text": [
      "/var/folders/g3/164q6cz52jv0sjllnsg7jdsm0000gn/T/ipykernel_31243/1592665972.py:2: RuntimeWarning: divide by zero encountered in double_scalars\n",
      "  d1 = (np.log(S/K) + (r - p + sigma**2/2)*T)/(sigma*np.sqrt(T))\n",
      "/var/folders/g3/164q6cz52jv0sjllnsg7jdsm0000gn/T/ipykernel_31243/1484490205.py:138: RuntimeWarning: divide by zero encountered in double_scalars\n",
      "  d_up = (np.log(close/K) + (mu - 0.5 * sigma **2) * (count)) / (sigma * math.sqrt(count))\n"
     ]
    },
    {
     "name": "stdout",
     "output_type": "stream",
     "text": [
      "[*********************100%***********************]  1 of 1 completed\n"
     ]
    },
    {
     "name": "stderr",
     "output_type": "stream",
     "text": [
      "/var/folders/g3/164q6cz52jv0sjllnsg7jdsm0000gn/T/ipykernel_31243/1592665972.py:2: RuntimeWarning: divide by zero encountered in double_scalars\n",
      "  d1 = (np.log(S/K) + (r - p + sigma**2/2)*T)/(sigma*np.sqrt(T))\n",
      "/var/folders/g3/164q6cz52jv0sjllnsg7jdsm0000gn/T/ipykernel_31243/1484490205.py:138: RuntimeWarning: divide by zero encountered in double_scalars\n",
      "  d_up = (np.log(close/K) + (mu - 0.5 * sigma **2) * (count)) / (sigma * math.sqrt(count))\n"
     ]
    },
    {
     "name": "stdout",
     "output_type": "stream",
     "text": [
      "[*********************100%***********************]  1 of 1 completed\n"
     ]
    },
    {
     "name": "stderr",
     "output_type": "stream",
     "text": [
      "/var/folders/g3/164q6cz52jv0sjllnsg7jdsm0000gn/T/ipykernel_31243/1592665972.py:2: RuntimeWarning: divide by zero encountered in double_scalars\n",
      "  d1 = (np.log(S/K) + (r - p + sigma**2/2)*T)/(sigma*np.sqrt(T))\n",
      "/var/folders/g3/164q6cz52jv0sjllnsg7jdsm0000gn/T/ipykernel_31243/1484490205.py:138: RuntimeWarning: divide by zero encountered in double_scalars\n",
      "  d_up = (np.log(close/K) + (mu - 0.5 * sigma **2) * (count)) / (sigma * math.sqrt(count))\n"
     ]
    },
    {
     "name": "stdout",
     "output_type": "stream",
     "text": [
      "[*********************100%***********************]  1 of 1 completed\n"
     ]
    },
    {
     "name": "stderr",
     "output_type": "stream",
     "text": [
      "/var/folders/g3/164q6cz52jv0sjllnsg7jdsm0000gn/T/ipykernel_31243/1592665972.py:2: RuntimeWarning: divide by zero encountered in double_scalars\n",
      "  d1 = (np.log(S/K) + (r - p + sigma**2/2)*T)/(sigma*np.sqrt(T))\n",
      "/var/folders/g3/164q6cz52jv0sjllnsg7jdsm0000gn/T/ipykernel_31243/1484490205.py:138: RuntimeWarning: divide by zero encountered in double_scalars\n",
      "  d_up = (np.log(close/K) + (mu - 0.5 * sigma **2) * (count)) / (sigma * math.sqrt(count))\n"
     ]
    },
    {
     "name": "stdout",
     "output_type": "stream",
     "text": [
      "[*********************100%***********************]  1 of 1 completed\n"
     ]
    },
    {
     "name": "stderr",
     "output_type": "stream",
     "text": [
      "/var/folders/g3/164q6cz52jv0sjllnsg7jdsm0000gn/T/ipykernel_31243/1592665972.py:2: RuntimeWarning: divide by zero encountered in double_scalars\n",
      "  d1 = (np.log(S/K) + (r - p + sigma**2/2)*T)/(sigma*np.sqrt(T))\n",
      "/var/folders/g3/164q6cz52jv0sjllnsg7jdsm0000gn/T/ipykernel_31243/1484490205.py:138: RuntimeWarning: divide by zero encountered in double_scalars\n",
      "  d_up = (np.log(close/K) + (mu - 0.5 * sigma **2) * (count)) / (sigma * math.sqrt(count))\n"
     ]
    },
    {
     "name": "stdout",
     "output_type": "stream",
     "text": [
      "[*********************100%***********************]  1 of 1 completed\n"
     ]
    },
    {
     "name": "stderr",
     "output_type": "stream",
     "text": [
      "/var/folders/g3/164q6cz52jv0sjllnsg7jdsm0000gn/T/ipykernel_31243/1592665972.py:2: RuntimeWarning: divide by zero encountered in double_scalars\n",
      "  d1 = (np.log(S/K) + (r - p + sigma**2/2)*T)/(sigma*np.sqrt(T))\n",
      "/var/folders/g3/164q6cz52jv0sjllnsg7jdsm0000gn/T/ipykernel_31243/1484490205.py:138: RuntimeWarning: divide by zero encountered in double_scalars\n",
      "  d_up = (np.log(close/K) + (mu - 0.5 * sigma **2) * (count)) / (sigma * math.sqrt(count))\n"
     ]
    },
    {
     "name": "stdout",
     "output_type": "stream",
     "text": [
      "[*********************100%***********************]  1 of 1 completed\n"
     ]
    },
    {
     "name": "stderr",
     "output_type": "stream",
     "text": [
      "/var/folders/g3/164q6cz52jv0sjllnsg7jdsm0000gn/T/ipykernel_31243/1592665972.py:2: RuntimeWarning: divide by zero encountered in double_scalars\n",
      "  d1 = (np.log(S/K) + (r - p + sigma**2/2)*T)/(sigma*np.sqrt(T))\n",
      "/var/folders/g3/164q6cz52jv0sjllnsg7jdsm0000gn/T/ipykernel_31243/1484490205.py:138: RuntimeWarning: divide by zero encountered in double_scalars\n",
      "  d_up = (np.log(close/K) + (mu - 0.5 * sigma **2) * (count)) / (sigma * math.sqrt(count))\n"
     ]
    },
    {
     "name": "stdout",
     "output_type": "stream",
     "text": [
      "[*********************100%***********************]  1 of 1 completed\n"
     ]
    },
    {
     "name": "stderr",
     "output_type": "stream",
     "text": [
      "/var/folders/g3/164q6cz52jv0sjllnsg7jdsm0000gn/T/ipykernel_31243/1592665972.py:2: RuntimeWarning: divide by zero encountered in double_scalars\n",
      "  d1 = (np.log(S/K) + (r - p + sigma**2/2)*T)/(sigma*np.sqrt(T))\n",
      "/var/folders/g3/164q6cz52jv0sjllnsg7jdsm0000gn/T/ipykernel_31243/1484490205.py:138: RuntimeWarning: divide by zero encountered in double_scalars\n",
      "  d_up = (np.log(close/K) + (mu - 0.5 * sigma **2) * (count)) / (sigma * math.sqrt(count))\n"
     ]
    },
    {
     "name": "stdout",
     "output_type": "stream",
     "text": [
      "[*********************100%***********************]  1 of 1 completed\n"
     ]
    },
    {
     "name": "stderr",
     "output_type": "stream",
     "text": [
      "/var/folders/g3/164q6cz52jv0sjllnsg7jdsm0000gn/T/ipykernel_31243/1592665972.py:2: RuntimeWarning: divide by zero encountered in double_scalars\n",
      "  d1 = (np.log(S/K) + (r - p + sigma**2/2)*T)/(sigma*np.sqrt(T))\n",
      "/var/folders/g3/164q6cz52jv0sjllnsg7jdsm0000gn/T/ipykernel_31243/1484490205.py:138: RuntimeWarning: divide by zero encountered in double_scalars\n",
      "  d_up = (np.log(close/K) + (mu - 0.5 * sigma **2) * (count)) / (sigma * math.sqrt(count))\n"
     ]
    },
    {
     "name": "stdout",
     "output_type": "stream",
     "text": [
      "[*********************100%***********************]  1 of 1 completed\n"
     ]
    },
    {
     "name": "stderr",
     "output_type": "stream",
     "text": [
      "/var/folders/g3/164q6cz52jv0sjllnsg7jdsm0000gn/T/ipykernel_31243/1592665972.py:2: RuntimeWarning: divide by zero encountered in double_scalars\n",
      "  d1 = (np.log(S/K) + (r - p + sigma**2/2)*T)/(sigma*np.sqrt(T))\n",
      "/var/folders/g3/164q6cz52jv0sjllnsg7jdsm0000gn/T/ipykernel_31243/1484490205.py:138: RuntimeWarning: divide by zero encountered in double_scalars\n",
      "  d_up = (np.log(close/K) + (mu - 0.5 * sigma **2) * (count)) / (sigma * math.sqrt(count))\n"
     ]
    },
    {
     "name": "stdout",
     "output_type": "stream",
     "text": [
      "[*********************100%***********************]  1 of 1 completed\n"
     ]
    },
    {
     "name": "stderr",
     "output_type": "stream",
     "text": [
      "/var/folders/g3/164q6cz52jv0sjllnsg7jdsm0000gn/T/ipykernel_31243/1592665972.py:2: RuntimeWarning: divide by zero encountered in double_scalars\n",
      "  d1 = (np.log(S/K) + (r - p + sigma**2/2)*T)/(sigma*np.sqrt(T))\n",
      "/var/folders/g3/164q6cz52jv0sjllnsg7jdsm0000gn/T/ipykernel_31243/1484490205.py:138: RuntimeWarning: divide by zero encountered in double_scalars\n",
      "  d_up = (np.log(close/K) + (mu - 0.5 * sigma **2) * (count)) / (sigma * math.sqrt(count))\n"
     ]
    },
    {
     "name": "stdout",
     "output_type": "stream",
     "text": [
      "[*********************100%***********************]  1 of 1 completed\n"
     ]
    },
    {
     "name": "stderr",
     "output_type": "stream",
     "text": [
      "/var/folders/g3/164q6cz52jv0sjllnsg7jdsm0000gn/T/ipykernel_31243/1592665972.py:2: RuntimeWarning: divide by zero encountered in double_scalars\n",
      "  d1 = (np.log(S/K) + (r - p + sigma**2/2)*T)/(sigma*np.sqrt(T))\n",
      "/var/folders/g3/164q6cz52jv0sjllnsg7jdsm0000gn/T/ipykernel_31243/1484490205.py:138: RuntimeWarning: divide by zero encountered in double_scalars\n",
      "  d_up = (np.log(close/K) + (mu - 0.5 * sigma **2) * (count)) / (sigma * math.sqrt(count))\n"
     ]
    },
    {
     "name": "stdout",
     "output_type": "stream",
     "text": [
      "[*********************100%***********************]  1 of 1 completed\n"
     ]
    },
    {
     "name": "stderr",
     "output_type": "stream",
     "text": [
      "/var/folders/g3/164q6cz52jv0sjllnsg7jdsm0000gn/T/ipykernel_31243/1592665972.py:2: RuntimeWarning: divide by zero encountered in double_scalars\n",
      "  d1 = (np.log(S/K) + (r - p + sigma**2/2)*T)/(sigma*np.sqrt(T))\n",
      "/var/folders/g3/164q6cz52jv0sjllnsg7jdsm0000gn/T/ipykernel_31243/1484490205.py:138: RuntimeWarning: divide by zero encountered in double_scalars\n",
      "  d_up = (np.log(close/K) + (mu - 0.5 * sigma **2) * (count)) / (sigma * math.sqrt(count))\n"
     ]
    },
    {
     "name": "stdout",
     "output_type": "stream",
     "text": [
      "[*********************100%***********************]  1 of 1 completed\n"
     ]
    },
    {
     "name": "stderr",
     "output_type": "stream",
     "text": [
      "/var/folders/g3/164q6cz52jv0sjllnsg7jdsm0000gn/T/ipykernel_31243/1592665972.py:2: RuntimeWarning: divide by zero encountered in double_scalars\n",
      "  d1 = (np.log(S/K) + (r - p + sigma**2/2)*T)/(sigma*np.sqrt(T))\n",
      "/var/folders/g3/164q6cz52jv0sjllnsg7jdsm0000gn/T/ipykernel_31243/1484490205.py:138: RuntimeWarning: divide by zero encountered in double_scalars\n",
      "  d_up = (np.log(close/K) + (mu - 0.5 * sigma **2) * (count)) / (sigma * math.sqrt(count))\n"
     ]
    },
    {
     "name": "stdout",
     "output_type": "stream",
     "text": [
      "[*********************100%***********************]  1 of 1 completed\n"
     ]
    },
    {
     "name": "stderr",
     "output_type": "stream",
     "text": [
      "/var/folders/g3/164q6cz52jv0sjllnsg7jdsm0000gn/T/ipykernel_31243/1592665972.py:2: RuntimeWarning: divide by zero encountered in double_scalars\n",
      "  d1 = (np.log(S/K) + (r - p + sigma**2/2)*T)/(sigma*np.sqrt(T))\n",
      "/var/folders/g3/164q6cz52jv0sjllnsg7jdsm0000gn/T/ipykernel_31243/1484490205.py:138: RuntimeWarning: divide by zero encountered in double_scalars\n",
      "  d_up = (np.log(close/K) + (mu - 0.5 * sigma **2) * (count)) / (sigma * math.sqrt(count))\n"
     ]
    },
    {
     "name": "stdout",
     "output_type": "stream",
     "text": [
      "[*********************100%***********************]  1 of 1 completed\n"
     ]
    },
    {
     "name": "stderr",
     "output_type": "stream",
     "text": [
      "/var/folders/g3/164q6cz52jv0sjllnsg7jdsm0000gn/T/ipykernel_31243/1592665972.py:2: RuntimeWarning: divide by zero encountered in double_scalars\n",
      "  d1 = (np.log(S/K) + (r - p + sigma**2/2)*T)/(sigma*np.sqrt(T))\n",
      "/var/folders/g3/164q6cz52jv0sjllnsg7jdsm0000gn/T/ipykernel_31243/1484490205.py:138: RuntimeWarning: divide by zero encountered in double_scalars\n",
      "  d_up = (np.log(close/K) + (mu - 0.5 * sigma **2) * (count)) / (sigma * math.sqrt(count))\n"
     ]
    },
    {
     "name": "stdout",
     "output_type": "stream",
     "text": [
      "[*********************100%***********************]  1 of 1 completed\n"
     ]
    },
    {
     "name": "stderr",
     "output_type": "stream",
     "text": [
      "/var/folders/g3/164q6cz52jv0sjllnsg7jdsm0000gn/T/ipykernel_31243/1592665972.py:2: RuntimeWarning: divide by zero encountered in double_scalars\n",
      "  d1 = (np.log(S/K) + (r - p + sigma**2/2)*T)/(sigma*np.sqrt(T))\n",
      "/var/folders/g3/164q6cz52jv0sjllnsg7jdsm0000gn/T/ipykernel_31243/1484490205.py:138: RuntimeWarning: divide by zero encountered in double_scalars\n",
      "  d_up = (np.log(close/K) + (mu - 0.5 * sigma **2) * (count)) / (sigma * math.sqrt(count))\n"
     ]
    },
    {
     "name": "stdout",
     "output_type": "stream",
     "text": [
      "[*********************100%***********************]  1 of 1 completed\n"
     ]
    },
    {
     "name": "stderr",
     "output_type": "stream",
     "text": [
      "/var/folders/g3/164q6cz52jv0sjllnsg7jdsm0000gn/T/ipykernel_31243/1592665972.py:2: RuntimeWarning: divide by zero encountered in double_scalars\n",
      "  d1 = (np.log(S/K) + (r - p + sigma**2/2)*T)/(sigma*np.sqrt(T))\n",
      "/var/folders/g3/164q6cz52jv0sjllnsg7jdsm0000gn/T/ipykernel_31243/1484490205.py:138: RuntimeWarning: divide by zero encountered in double_scalars\n",
      "  d_up = (np.log(close/K) + (mu - 0.5 * sigma **2) * (count)) / (sigma * math.sqrt(count))\n"
     ]
    },
    {
     "name": "stdout",
     "output_type": "stream",
     "text": [
      "[*********************100%***********************]  1 of 1 completed\n"
     ]
    },
    {
     "name": "stderr",
     "output_type": "stream",
     "text": [
      "/var/folders/g3/164q6cz52jv0sjllnsg7jdsm0000gn/T/ipykernel_31243/1592665972.py:2: RuntimeWarning: divide by zero encountered in double_scalars\n",
      "  d1 = (np.log(S/K) + (r - p + sigma**2/2)*T)/(sigma*np.sqrt(T))\n",
      "/var/folders/g3/164q6cz52jv0sjllnsg7jdsm0000gn/T/ipykernel_31243/1484490205.py:138: RuntimeWarning: divide by zero encountered in double_scalars\n",
      "  d_up = (np.log(close/K) + (mu - 0.5 * sigma **2) * (count)) / (sigma * math.sqrt(count))\n"
     ]
    },
    {
     "name": "stdout",
     "output_type": "stream",
     "text": [
      "[*********************100%***********************]  1 of 1 completed\n"
     ]
    },
    {
     "name": "stderr",
     "output_type": "stream",
     "text": [
      "/var/folders/g3/164q6cz52jv0sjllnsg7jdsm0000gn/T/ipykernel_31243/1592665972.py:2: RuntimeWarning: divide by zero encountered in double_scalars\n",
      "  d1 = (np.log(S/K) + (r - p + sigma**2/2)*T)/(sigma*np.sqrt(T))\n",
      "/var/folders/g3/164q6cz52jv0sjllnsg7jdsm0000gn/T/ipykernel_31243/1484490205.py:138: RuntimeWarning: divide by zero encountered in double_scalars\n",
      "  d_up = (np.log(close/K) + (mu - 0.5 * sigma **2) * (count)) / (sigma * math.sqrt(count))\n"
     ]
    },
    {
     "name": "stdout",
     "output_type": "stream",
     "text": [
      "[*********************100%***********************]  1 of 1 completed\n"
     ]
    },
    {
     "name": "stderr",
     "output_type": "stream",
     "text": [
      "/var/folders/g3/164q6cz52jv0sjllnsg7jdsm0000gn/T/ipykernel_31243/1592665972.py:2: RuntimeWarning: divide by zero encountered in double_scalars\n",
      "  d1 = (np.log(S/K) + (r - p + sigma**2/2)*T)/(sigma*np.sqrt(T))\n",
      "/var/folders/g3/164q6cz52jv0sjllnsg7jdsm0000gn/T/ipykernel_31243/1484490205.py:138: RuntimeWarning: divide by zero encountered in double_scalars\n",
      "  d_up = (np.log(close/K) + (mu - 0.5 * sigma **2) * (count)) / (sigma * math.sqrt(count))\n"
     ]
    },
    {
     "name": "stdout",
     "output_type": "stream",
     "text": [
      "[*********************100%***********************]  1 of 1 completed\n"
     ]
    },
    {
     "name": "stderr",
     "output_type": "stream",
     "text": [
      "/var/folders/g3/164q6cz52jv0sjllnsg7jdsm0000gn/T/ipykernel_31243/1592665972.py:2: RuntimeWarning: divide by zero encountered in double_scalars\n",
      "  d1 = (np.log(S/K) + (r - p + sigma**2/2)*T)/(sigma*np.sqrt(T))\n",
      "/var/folders/g3/164q6cz52jv0sjllnsg7jdsm0000gn/T/ipykernel_31243/1484490205.py:138: RuntimeWarning: divide by zero encountered in double_scalars\n",
      "  d_up = (np.log(close/K) + (mu - 0.5 * sigma **2) * (count)) / (sigma * math.sqrt(count))\n"
     ]
    },
    {
     "name": "stdout",
     "output_type": "stream",
     "text": [
      "[*********************100%***********************]  1 of 1 completed\n"
     ]
    },
    {
     "name": "stderr",
     "output_type": "stream",
     "text": [
      "/var/folders/g3/164q6cz52jv0sjllnsg7jdsm0000gn/T/ipykernel_31243/1592665972.py:2: RuntimeWarning: divide by zero encountered in double_scalars\n",
      "  d1 = (np.log(S/K) + (r - p + sigma**2/2)*T)/(sigma*np.sqrt(T))\n",
      "/var/folders/g3/164q6cz52jv0sjllnsg7jdsm0000gn/T/ipykernel_31243/1484490205.py:138: RuntimeWarning: divide by zero encountered in double_scalars\n",
      "  d_up = (np.log(close/K) + (mu - 0.5 * sigma **2) * (count)) / (sigma * math.sqrt(count))\n"
     ]
    },
    {
     "name": "stdout",
     "output_type": "stream",
     "text": [
      "[*********************100%***********************]  1 of 1 completed\n"
     ]
    },
    {
     "name": "stderr",
     "output_type": "stream",
     "text": [
      "/var/folders/g3/164q6cz52jv0sjllnsg7jdsm0000gn/T/ipykernel_31243/1592665972.py:2: RuntimeWarning: divide by zero encountered in double_scalars\n",
      "  d1 = (np.log(S/K) + (r - p + sigma**2/2)*T)/(sigma*np.sqrt(T))\n",
      "/var/folders/g3/164q6cz52jv0sjllnsg7jdsm0000gn/T/ipykernel_31243/1484490205.py:138: RuntimeWarning: divide by zero encountered in double_scalars\n",
      "  d_up = (np.log(close/K) + (mu - 0.5 * sigma **2) * (count)) / (sigma * math.sqrt(count))\n"
     ]
    },
    {
     "name": "stdout",
     "output_type": "stream",
     "text": [
      "[*********************100%***********************]  1 of 1 completed\n"
     ]
    },
    {
     "name": "stderr",
     "output_type": "stream",
     "text": [
      "/var/folders/g3/164q6cz52jv0sjllnsg7jdsm0000gn/T/ipykernel_31243/1592665972.py:2: RuntimeWarning: divide by zero encountered in double_scalars\n",
      "  d1 = (np.log(S/K) + (r - p + sigma**2/2)*T)/(sigma*np.sqrt(T))\n",
      "/var/folders/g3/164q6cz52jv0sjllnsg7jdsm0000gn/T/ipykernel_31243/1484490205.py:138: RuntimeWarning: divide by zero encountered in double_scalars\n",
      "  d_up = (np.log(close/K) + (mu - 0.5 * sigma **2) * (count)) / (sigma * math.sqrt(count))\n"
     ]
    },
    {
     "name": "stdout",
     "output_type": "stream",
     "text": [
      "[*********************100%***********************]  1 of 1 completed\n"
     ]
    },
    {
     "name": "stderr",
     "output_type": "stream",
     "text": [
      "/var/folders/g3/164q6cz52jv0sjllnsg7jdsm0000gn/T/ipykernel_31243/1592665972.py:2: RuntimeWarning: divide by zero encountered in double_scalars\n",
      "  d1 = (np.log(S/K) + (r - p + sigma**2/2)*T)/(sigma*np.sqrt(T))\n",
      "/var/folders/g3/164q6cz52jv0sjllnsg7jdsm0000gn/T/ipykernel_31243/1484490205.py:138: RuntimeWarning: divide by zero encountered in double_scalars\n",
      "  d_up = (np.log(close/K) + (mu - 0.5 * sigma **2) * (count)) / (sigma * math.sqrt(count))\n"
     ]
    },
    {
     "name": "stdout",
     "output_type": "stream",
     "text": [
      "[*********************100%***********************]  1 of 1 completed\n"
     ]
    },
    {
     "name": "stderr",
     "output_type": "stream",
     "text": [
      "/var/folders/g3/164q6cz52jv0sjllnsg7jdsm0000gn/T/ipykernel_31243/1592665972.py:2: RuntimeWarning: divide by zero encountered in double_scalars\n",
      "  d1 = (np.log(S/K) + (r - p + sigma**2/2)*T)/(sigma*np.sqrt(T))\n",
      "/var/folders/g3/164q6cz52jv0sjllnsg7jdsm0000gn/T/ipykernel_31243/1484490205.py:138: RuntimeWarning: divide by zero encountered in double_scalars\n",
      "  d_up = (np.log(close/K) + (mu - 0.5 * sigma **2) * (count)) / (sigma * math.sqrt(count))\n"
     ]
    },
    {
     "name": "stdout",
     "output_type": "stream",
     "text": [
      "[*********************100%***********************]  1 of 1 completed\n"
     ]
    },
    {
     "name": "stderr",
     "output_type": "stream",
     "text": [
      "/var/folders/g3/164q6cz52jv0sjllnsg7jdsm0000gn/T/ipykernel_31243/1592665972.py:2: RuntimeWarning: divide by zero encountered in double_scalars\n",
      "  d1 = (np.log(S/K) + (r - p + sigma**2/2)*T)/(sigma*np.sqrt(T))\n",
      "/var/folders/g3/164q6cz52jv0sjllnsg7jdsm0000gn/T/ipykernel_31243/1484490205.py:138: RuntimeWarning: divide by zero encountered in double_scalars\n",
      "  d_up = (np.log(close/K) + (mu - 0.5 * sigma **2) * (count)) / (sigma * math.sqrt(count))\n"
     ]
    },
    {
     "name": "stdout",
     "output_type": "stream",
     "text": [
      "[*********************100%***********************]  1 of 1 completed\n"
     ]
    },
    {
     "name": "stderr",
     "output_type": "stream",
     "text": [
      "/var/folders/g3/164q6cz52jv0sjllnsg7jdsm0000gn/T/ipykernel_31243/1592665972.py:2: RuntimeWarning: divide by zero encountered in double_scalars\n",
      "  d1 = (np.log(S/K) + (r - p + sigma**2/2)*T)/(sigma*np.sqrt(T))\n",
      "/var/folders/g3/164q6cz52jv0sjllnsg7jdsm0000gn/T/ipykernel_31243/1484490205.py:138: RuntimeWarning: divide by zero encountered in double_scalars\n",
      "  d_up = (np.log(close/K) + (mu - 0.5 * sigma **2) * (count)) / (sigma * math.sqrt(count))\n"
     ]
    },
    {
     "name": "stdout",
     "output_type": "stream",
     "text": [
      "[*********************100%***********************]  1 of 1 completed\n"
     ]
    },
    {
     "name": "stderr",
     "output_type": "stream",
     "text": [
      "/var/folders/g3/164q6cz52jv0sjllnsg7jdsm0000gn/T/ipykernel_31243/1592665972.py:2: RuntimeWarning: divide by zero encountered in double_scalars\n",
      "  d1 = (np.log(S/K) + (r - p + sigma**2/2)*T)/(sigma*np.sqrt(T))\n",
      "/var/folders/g3/164q6cz52jv0sjllnsg7jdsm0000gn/T/ipykernel_31243/1484490205.py:138: RuntimeWarning: divide by zero encountered in double_scalars\n",
      "  d_up = (np.log(close/K) + (mu - 0.5 * sigma **2) * (count)) / (sigma * math.sqrt(count))\n"
     ]
    },
    {
     "name": "stdout",
     "output_type": "stream",
     "text": [
      "[*********************100%***********************]  1 of 1 completed\n"
     ]
    },
    {
     "name": "stderr",
     "output_type": "stream",
     "text": [
      "/var/folders/g3/164q6cz52jv0sjllnsg7jdsm0000gn/T/ipykernel_31243/1592665972.py:2: RuntimeWarning: divide by zero encountered in double_scalars\n",
      "  d1 = (np.log(S/K) + (r - p + sigma**2/2)*T)/(sigma*np.sqrt(T))\n",
      "/var/folders/g3/164q6cz52jv0sjllnsg7jdsm0000gn/T/ipykernel_31243/1484490205.py:138: RuntimeWarning: divide by zero encountered in double_scalars\n",
      "  d_up = (np.log(close/K) + (mu - 0.5 * sigma **2) * (count)) / (sigma * math.sqrt(count))\n"
     ]
    },
    {
     "name": "stdout",
     "output_type": "stream",
     "text": [
      "[*********************100%***********************]  1 of 1 completed\n"
     ]
    },
    {
     "name": "stderr",
     "output_type": "stream",
     "text": [
      "/var/folders/g3/164q6cz52jv0sjllnsg7jdsm0000gn/T/ipykernel_31243/1592665972.py:2: RuntimeWarning: divide by zero encountered in double_scalars\n",
      "  d1 = (np.log(S/K) + (r - p + sigma**2/2)*T)/(sigma*np.sqrt(T))\n",
      "/var/folders/g3/164q6cz52jv0sjllnsg7jdsm0000gn/T/ipykernel_31243/1484490205.py:138: RuntimeWarning: divide by zero encountered in double_scalars\n",
      "  d_up = (np.log(close/K) + (mu - 0.5 * sigma **2) * (count)) / (sigma * math.sqrt(count))\n"
     ]
    },
    {
     "name": "stdout",
     "output_type": "stream",
     "text": [
      "[*********************100%***********************]  1 of 1 completed\n"
     ]
    },
    {
     "name": "stderr",
     "output_type": "stream",
     "text": [
      "/var/folders/g3/164q6cz52jv0sjllnsg7jdsm0000gn/T/ipykernel_31243/1592665972.py:2: RuntimeWarning: divide by zero encountered in double_scalars\n",
      "  d1 = (np.log(S/K) + (r - p + sigma**2/2)*T)/(sigma*np.sqrt(T))\n",
      "/var/folders/g3/164q6cz52jv0sjllnsg7jdsm0000gn/T/ipykernel_31243/1484490205.py:138: RuntimeWarning: divide by zero encountered in double_scalars\n",
      "  d_up = (np.log(close/K) + (mu - 0.5 * sigma **2) * (count)) / (sigma * math.sqrt(count))\n"
     ]
    },
    {
     "name": "stdout",
     "output_type": "stream",
     "text": [
      "[*********************100%***********************]  1 of 1 completed\n"
     ]
    },
    {
     "name": "stderr",
     "output_type": "stream",
     "text": [
      "/var/folders/g3/164q6cz52jv0sjllnsg7jdsm0000gn/T/ipykernel_31243/1592665972.py:2: RuntimeWarning: divide by zero encountered in double_scalars\n",
      "  d1 = (np.log(S/K) + (r - p + sigma**2/2)*T)/(sigma*np.sqrt(T))\n",
      "/var/folders/g3/164q6cz52jv0sjllnsg7jdsm0000gn/T/ipykernel_31243/1484490205.py:138: RuntimeWarning: divide by zero encountered in double_scalars\n",
      "  d_up = (np.log(close/K) + (mu - 0.5 * sigma **2) * (count)) / (sigma * math.sqrt(count))\n"
     ]
    },
    {
     "name": "stdout",
     "output_type": "stream",
     "text": [
      "[*********************100%***********************]  1 of 1 completed\n"
     ]
    },
    {
     "name": "stderr",
     "output_type": "stream",
     "text": [
      "/var/folders/g3/164q6cz52jv0sjllnsg7jdsm0000gn/T/ipykernel_31243/1592665972.py:2: RuntimeWarning: divide by zero encountered in double_scalars\n",
      "  d1 = (np.log(S/K) + (r - p + sigma**2/2)*T)/(sigma*np.sqrt(T))\n",
      "/var/folders/g3/164q6cz52jv0sjllnsg7jdsm0000gn/T/ipykernel_31243/1484490205.py:138: RuntimeWarning: divide by zero encountered in double_scalars\n",
      "  d_up = (np.log(close/K) + (mu - 0.5 * sigma **2) * (count)) / (sigma * math.sqrt(count))\n"
     ]
    },
    {
     "name": "stdout",
     "output_type": "stream",
     "text": [
      "[*********************100%***********************]  1 of 1 completed\n"
     ]
    },
    {
     "name": "stderr",
     "output_type": "stream",
     "text": [
      "/var/folders/g3/164q6cz52jv0sjllnsg7jdsm0000gn/T/ipykernel_31243/1592665972.py:2: RuntimeWarning: divide by zero encountered in double_scalars\n",
      "  d1 = (np.log(S/K) + (r - p + sigma**2/2)*T)/(sigma*np.sqrt(T))\n",
      "/var/folders/g3/164q6cz52jv0sjllnsg7jdsm0000gn/T/ipykernel_31243/1484490205.py:138: RuntimeWarning: divide by zero encountered in double_scalars\n",
      "  d_up = (np.log(close/K) + (mu - 0.5 * sigma **2) * (count)) / (sigma * math.sqrt(count))\n"
     ]
    },
    {
     "name": "stdout",
     "output_type": "stream",
     "text": [
      "[*********************100%***********************]  1 of 1 completed\n"
     ]
    },
    {
     "name": "stderr",
     "output_type": "stream",
     "text": [
      "/var/folders/g3/164q6cz52jv0sjllnsg7jdsm0000gn/T/ipykernel_31243/1592665972.py:2: RuntimeWarning: divide by zero encountered in double_scalars\n",
      "  d1 = (np.log(S/K) + (r - p + sigma**2/2)*T)/(sigma*np.sqrt(T))\n",
      "/var/folders/g3/164q6cz52jv0sjllnsg7jdsm0000gn/T/ipykernel_31243/1484490205.py:138: RuntimeWarning: divide by zero encountered in double_scalars\n",
      "  d_up = (np.log(close/K) + (mu - 0.5 * sigma **2) * (count)) / (sigma * math.sqrt(count))\n"
     ]
    },
    {
     "name": "stdout",
     "output_type": "stream",
     "text": [
      "[*********************100%***********************]  1 of 1 completed\n"
     ]
    },
    {
     "name": "stderr",
     "output_type": "stream",
     "text": [
      "/var/folders/g3/164q6cz52jv0sjllnsg7jdsm0000gn/T/ipykernel_31243/1592665972.py:2: RuntimeWarning: divide by zero encountered in double_scalars\n",
      "  d1 = (np.log(S/K) + (r - p + sigma**2/2)*T)/(sigma*np.sqrt(T))\n",
      "/var/folders/g3/164q6cz52jv0sjllnsg7jdsm0000gn/T/ipykernel_31243/1484490205.py:138: RuntimeWarning: divide by zero encountered in double_scalars\n",
      "  d_up = (np.log(close/K) + (mu - 0.5 * sigma **2) * (count)) / (sigma * math.sqrt(count))\n"
     ]
    },
    {
     "name": "stdout",
     "output_type": "stream",
     "text": [
      "[*********************100%***********************]  1 of 1 completed\n"
     ]
    },
    {
     "name": "stderr",
     "output_type": "stream",
     "text": [
      "/var/folders/g3/164q6cz52jv0sjllnsg7jdsm0000gn/T/ipykernel_31243/1592665972.py:2: RuntimeWarning: divide by zero encountered in double_scalars\n",
      "  d1 = (np.log(S/K) + (r - p + sigma**2/2)*T)/(sigma*np.sqrt(T))\n",
      "/var/folders/g3/164q6cz52jv0sjllnsg7jdsm0000gn/T/ipykernel_31243/1484490205.py:138: RuntimeWarning: divide by zero encountered in double_scalars\n",
      "  d_up = (np.log(close/K) + (mu - 0.5 * sigma **2) * (count)) / (sigma * math.sqrt(count))\n"
     ]
    },
    {
     "name": "stdout",
     "output_type": "stream",
     "text": [
      "[*********************100%***********************]  1 of 1 completed\n"
     ]
    },
    {
     "name": "stderr",
     "output_type": "stream",
     "text": [
      "/var/folders/g3/164q6cz52jv0sjllnsg7jdsm0000gn/T/ipykernel_31243/1592665972.py:2: RuntimeWarning: divide by zero encountered in double_scalars\n",
      "  d1 = (np.log(S/K) + (r - p + sigma**2/2)*T)/(sigma*np.sqrt(T))\n",
      "/var/folders/g3/164q6cz52jv0sjllnsg7jdsm0000gn/T/ipykernel_31243/1484490205.py:138: RuntimeWarning: divide by zero encountered in double_scalars\n",
      "  d_up = (np.log(close/K) + (mu - 0.5 * sigma **2) * (count)) / (sigma * math.sqrt(count))\n"
     ]
    },
    {
     "name": "stdout",
     "output_type": "stream",
     "text": [
      "[*********************100%***********************]  1 of 1 completed\n"
     ]
    },
    {
     "name": "stderr",
     "output_type": "stream",
     "text": [
      "/var/folders/g3/164q6cz52jv0sjllnsg7jdsm0000gn/T/ipykernel_31243/1592665972.py:2: RuntimeWarning: divide by zero encountered in double_scalars\n",
      "  d1 = (np.log(S/K) + (r - p + sigma**2/2)*T)/(sigma*np.sqrt(T))\n",
      "/var/folders/g3/164q6cz52jv0sjllnsg7jdsm0000gn/T/ipykernel_31243/1484490205.py:138: RuntimeWarning: divide by zero encountered in double_scalars\n",
      "  d_up = (np.log(close/K) + (mu - 0.5 * sigma **2) * (count)) / (sigma * math.sqrt(count))\n"
     ]
    },
    {
     "name": "stdout",
     "output_type": "stream",
     "text": [
      "[*********************100%***********************]  1 of 1 completed\n"
     ]
    },
    {
     "name": "stderr",
     "output_type": "stream",
     "text": [
      "/var/folders/g3/164q6cz52jv0sjllnsg7jdsm0000gn/T/ipykernel_31243/1592665972.py:2: RuntimeWarning: divide by zero encountered in double_scalars\n",
      "  d1 = (np.log(S/K) + (r - p + sigma**2/2)*T)/(sigma*np.sqrt(T))\n",
      "/var/folders/g3/164q6cz52jv0sjllnsg7jdsm0000gn/T/ipykernel_31243/1484490205.py:138: RuntimeWarning: divide by zero encountered in double_scalars\n",
      "  d_up = (np.log(close/K) + (mu - 0.5 * sigma **2) * (count)) / (sigma * math.sqrt(count))\n"
     ]
    },
    {
     "name": "stdout",
     "output_type": "stream",
     "text": [
      "[*********************100%***********************]  1 of 1 completed\n"
     ]
    },
    {
     "name": "stderr",
     "output_type": "stream",
     "text": [
      "/var/folders/g3/164q6cz52jv0sjllnsg7jdsm0000gn/T/ipykernel_31243/1592665972.py:2: RuntimeWarning: divide by zero encountered in double_scalars\n",
      "  d1 = (np.log(S/K) + (r - p + sigma**2/2)*T)/(sigma*np.sqrt(T))\n",
      "/var/folders/g3/164q6cz52jv0sjllnsg7jdsm0000gn/T/ipykernel_31243/1484490205.py:138: RuntimeWarning: divide by zero encountered in double_scalars\n",
      "  d_up = (np.log(close/K) + (mu - 0.5 * sigma **2) * (count)) / (sigma * math.sqrt(count))\n"
     ]
    },
    {
     "name": "stdout",
     "output_type": "stream",
     "text": [
      "[*********************100%***********************]  1 of 1 completed\n"
     ]
    },
    {
     "name": "stderr",
     "output_type": "stream",
     "text": [
      "/var/folders/g3/164q6cz52jv0sjllnsg7jdsm0000gn/T/ipykernel_31243/1592665972.py:2: RuntimeWarning: divide by zero encountered in double_scalars\n",
      "  d1 = (np.log(S/K) + (r - p + sigma**2/2)*T)/(sigma*np.sqrt(T))\n",
      "/var/folders/g3/164q6cz52jv0sjllnsg7jdsm0000gn/T/ipykernel_31243/1484490205.py:138: RuntimeWarning: divide by zero encountered in double_scalars\n",
      "  d_up = (np.log(close/K) + (mu - 0.5 * sigma **2) * (count)) / (sigma * math.sqrt(count))\n"
     ]
    },
    {
     "name": "stdout",
     "output_type": "stream",
     "text": [
      "[*********************100%***********************]  1 of 1 completed\n"
     ]
    },
    {
     "name": "stderr",
     "output_type": "stream",
     "text": [
      "/var/folders/g3/164q6cz52jv0sjllnsg7jdsm0000gn/T/ipykernel_31243/1592665972.py:2: RuntimeWarning: divide by zero encountered in double_scalars\n",
      "  d1 = (np.log(S/K) + (r - p + sigma**2/2)*T)/(sigma*np.sqrt(T))\n",
      "/var/folders/g3/164q6cz52jv0sjllnsg7jdsm0000gn/T/ipykernel_31243/1484490205.py:138: RuntimeWarning: divide by zero encountered in double_scalars\n",
      "  d_up = (np.log(close/K) + (mu - 0.5 * sigma **2) * (count)) / (sigma * math.sqrt(count))\n"
     ]
    },
    {
     "name": "stdout",
     "output_type": "stream",
     "text": [
      "[*********************100%***********************]  1 of 1 completed\n"
     ]
    },
    {
     "name": "stderr",
     "output_type": "stream",
     "text": [
      "/var/folders/g3/164q6cz52jv0sjllnsg7jdsm0000gn/T/ipykernel_31243/1592665972.py:2: RuntimeWarning: divide by zero encountered in double_scalars\n",
      "  d1 = (np.log(S/K) + (r - p + sigma**2/2)*T)/(sigma*np.sqrt(T))\n",
      "/var/folders/g3/164q6cz52jv0sjllnsg7jdsm0000gn/T/ipykernel_31243/1484490205.py:138: RuntimeWarning: divide by zero encountered in double_scalars\n",
      "  d_up = (np.log(close/K) + (mu - 0.5 * sigma **2) * (count)) / (sigma * math.sqrt(count))\n"
     ]
    },
    {
     "name": "stdout",
     "output_type": "stream",
     "text": [
      "[*********************100%***********************]  1 of 1 completed\n"
     ]
    },
    {
     "name": "stderr",
     "output_type": "stream",
     "text": [
      "/var/folders/g3/164q6cz52jv0sjllnsg7jdsm0000gn/T/ipykernel_31243/1592665972.py:2: RuntimeWarning: divide by zero encountered in double_scalars\n",
      "  d1 = (np.log(S/K) + (r - p + sigma**2/2)*T)/(sigma*np.sqrt(T))\n",
      "/var/folders/g3/164q6cz52jv0sjllnsg7jdsm0000gn/T/ipykernel_31243/1484490205.py:138: RuntimeWarning: divide by zero encountered in double_scalars\n",
      "  d_up = (np.log(close/K) + (mu - 0.5 * sigma **2) * (count)) / (sigma * math.sqrt(count))\n"
     ]
    },
    {
     "name": "stdout",
     "output_type": "stream",
     "text": [
      "[*********************100%***********************]  1 of 1 completed\n"
     ]
    },
    {
     "name": "stderr",
     "output_type": "stream",
     "text": [
      "/var/folders/g3/164q6cz52jv0sjllnsg7jdsm0000gn/T/ipykernel_31243/1484490205.py:148: RuntimeWarning: divide by zero encountered in double_scalars\n",
      "  diff_call = (C - true_call) / C * 100\n",
      "/var/folders/g3/164q6cz52jv0sjllnsg7jdsm0000gn/T/ipykernel_31243/1484490205.py:146: RuntimeWarning: divide by zero encountered in double_scalars\n",
      "  diff_put = (P - true_put) / P * 100\n"
     ]
    },
    {
     "name": "stdout",
     "output_type": "stream",
     "text": [
      "[*********************100%***********************]  1 of 1 completed\n"
     ]
    },
    {
     "name": "stderr",
     "output_type": "stream",
     "text": [
      "/var/folders/g3/164q6cz52jv0sjllnsg7jdsm0000gn/T/ipykernel_31243/1592665972.py:2: RuntimeWarning: divide by zero encountered in double_scalars\n",
      "  d1 = (np.log(S/K) + (r - p + sigma**2/2)*T)/(sigma*np.sqrt(T))\n",
      "/var/folders/g3/164q6cz52jv0sjllnsg7jdsm0000gn/T/ipykernel_31243/1484490205.py:138: RuntimeWarning: divide by zero encountered in double_scalars\n",
      "  d_up = (np.log(close/K) + (mu - 0.5 * sigma **2) * (count)) / (sigma * math.sqrt(count))\n"
     ]
    },
    {
     "name": "stdout",
     "output_type": "stream",
     "text": [
      "[*********************100%***********************]  1 of 1 completed\n"
     ]
    },
    {
     "name": "stderr",
     "output_type": "stream",
     "text": [
      "/var/folders/g3/164q6cz52jv0sjllnsg7jdsm0000gn/T/ipykernel_31243/1592665972.py:2: RuntimeWarning: divide by zero encountered in double_scalars\n",
      "  d1 = (np.log(S/K) + (r - p + sigma**2/2)*T)/(sigma*np.sqrt(T))\n",
      "/var/folders/g3/164q6cz52jv0sjllnsg7jdsm0000gn/T/ipykernel_31243/1484490205.py:138: RuntimeWarning: divide by zero encountered in double_scalars\n",
      "  d_up = (np.log(close/K) + (mu - 0.5 * sigma **2) * (count)) / (sigma * math.sqrt(count))\n"
     ]
    },
    {
     "name": "stdout",
     "output_type": "stream",
     "text": [
      "[*********************100%***********************]  1 of 1 completed\n"
     ]
    },
    {
     "name": "stderr",
     "output_type": "stream",
     "text": [
      "/var/folders/g3/164q6cz52jv0sjllnsg7jdsm0000gn/T/ipykernel_31243/1592665972.py:2: RuntimeWarning: divide by zero encountered in double_scalars\n",
      "  d1 = (np.log(S/K) + (r - p + sigma**2/2)*T)/(sigma*np.sqrt(T))\n",
      "/var/folders/g3/164q6cz52jv0sjllnsg7jdsm0000gn/T/ipykernel_31243/1484490205.py:138: RuntimeWarning: divide by zero encountered in double_scalars\n",
      "  d_up = (np.log(close/K) + (mu - 0.5 * sigma **2) * (count)) / (sigma * math.sqrt(count))\n"
     ]
    },
    {
     "name": "stdout",
     "output_type": "stream",
     "text": [
      "[*********************100%***********************]  1 of 1 completed\n"
     ]
    },
    {
     "name": "stderr",
     "output_type": "stream",
     "text": [
      "/var/folders/g3/164q6cz52jv0sjllnsg7jdsm0000gn/T/ipykernel_31243/1592665972.py:2: RuntimeWarning: divide by zero encountered in double_scalars\n",
      "  d1 = (np.log(S/K) + (r - p + sigma**2/2)*T)/(sigma*np.sqrt(T))\n",
      "/var/folders/g3/164q6cz52jv0sjllnsg7jdsm0000gn/T/ipykernel_31243/1484490205.py:138: RuntimeWarning: divide by zero encountered in double_scalars\n",
      "  d_up = (np.log(close/K) + (mu - 0.5 * sigma **2) * (count)) / (sigma * math.sqrt(count))\n"
     ]
    },
    {
     "name": "stdout",
     "output_type": "stream",
     "text": [
      "[*********************100%***********************]  1 of 1 completed\n"
     ]
    },
    {
     "name": "stderr",
     "output_type": "stream",
     "text": [
      "/var/folders/g3/164q6cz52jv0sjllnsg7jdsm0000gn/T/ipykernel_31243/1592665972.py:2: RuntimeWarning: divide by zero encountered in double_scalars\n",
      "  d1 = (np.log(S/K) + (r - p + sigma**2/2)*T)/(sigma*np.sqrt(T))\n",
      "/var/folders/g3/164q6cz52jv0sjllnsg7jdsm0000gn/T/ipykernel_31243/1484490205.py:138: RuntimeWarning: divide by zero encountered in double_scalars\n",
      "  d_up = (np.log(close/K) + (mu - 0.5 * sigma **2) * (count)) / (sigma * math.sqrt(count))\n"
     ]
    },
    {
     "name": "stdout",
     "output_type": "stream",
     "text": [
      "[*********************100%***********************]  1 of 1 completed\n"
     ]
    },
    {
     "name": "stderr",
     "output_type": "stream",
     "text": [
      "/var/folders/g3/164q6cz52jv0sjllnsg7jdsm0000gn/T/ipykernel_31243/1592665972.py:2: RuntimeWarning: divide by zero encountered in double_scalars\n",
      "  d1 = (np.log(S/K) + (r - p + sigma**2/2)*T)/(sigma*np.sqrt(T))\n",
      "/var/folders/g3/164q6cz52jv0sjllnsg7jdsm0000gn/T/ipykernel_31243/1484490205.py:138: RuntimeWarning: divide by zero encountered in double_scalars\n",
      "  d_up = (np.log(close/K) + (mu - 0.5 * sigma **2) * (count)) / (sigma * math.sqrt(count))\n"
     ]
    },
    {
     "name": "stdout",
     "output_type": "stream",
     "text": [
      "[*********************100%***********************]  1 of 1 completed\n"
     ]
    },
    {
     "name": "stderr",
     "output_type": "stream",
     "text": [
      "/var/folders/g3/164q6cz52jv0sjllnsg7jdsm0000gn/T/ipykernel_31243/1592665972.py:2: RuntimeWarning: divide by zero encountered in double_scalars\n",
      "  d1 = (np.log(S/K) + (r - p + sigma**2/2)*T)/(sigma*np.sqrt(T))\n",
      "/var/folders/g3/164q6cz52jv0sjllnsg7jdsm0000gn/T/ipykernel_31243/1484490205.py:138: RuntimeWarning: divide by zero encountered in double_scalars\n",
      "  d_up = (np.log(close/K) + (mu - 0.5 * sigma **2) * (count)) / (sigma * math.sqrt(count))\n"
     ]
    },
    {
     "name": "stdout",
     "output_type": "stream",
     "text": [
      "[*********************100%***********************]  1 of 1 completed\n"
     ]
    },
    {
     "name": "stderr",
     "output_type": "stream",
     "text": [
      "/var/folders/g3/164q6cz52jv0sjllnsg7jdsm0000gn/T/ipykernel_31243/1592665972.py:2: RuntimeWarning: divide by zero encountered in double_scalars\n",
      "  d1 = (np.log(S/K) + (r - p + sigma**2/2)*T)/(sigma*np.sqrt(T))\n",
      "/var/folders/g3/164q6cz52jv0sjllnsg7jdsm0000gn/T/ipykernel_31243/1484490205.py:138: RuntimeWarning: divide by zero encountered in double_scalars\n",
      "  d_up = (np.log(close/K) + (mu - 0.5 * sigma **2) * (count)) / (sigma * math.sqrt(count))\n"
     ]
    },
    {
     "name": "stdout",
     "output_type": "stream",
     "text": [
      "[*********************100%***********************]  1 of 1 completed\n"
     ]
    },
    {
     "name": "stderr",
     "output_type": "stream",
     "text": [
      "/var/folders/g3/164q6cz52jv0sjllnsg7jdsm0000gn/T/ipykernel_31243/1592665972.py:2: RuntimeWarning: divide by zero encountered in double_scalars\n",
      "  d1 = (np.log(S/K) + (r - p + sigma**2/2)*T)/(sigma*np.sqrt(T))\n",
      "/var/folders/g3/164q6cz52jv0sjllnsg7jdsm0000gn/T/ipykernel_31243/1484490205.py:138: RuntimeWarning: divide by zero encountered in double_scalars\n",
      "  d_up = (np.log(close/K) + (mu - 0.5 * sigma **2) * (count)) / (sigma * math.sqrt(count))\n"
     ]
    },
    {
     "name": "stdout",
     "output_type": "stream",
     "text": [
      "[*********************100%***********************]  1 of 1 completed\n"
     ]
    },
    {
     "name": "stderr",
     "output_type": "stream",
     "text": [
      "/var/folders/g3/164q6cz52jv0sjllnsg7jdsm0000gn/T/ipykernel_31243/1592665972.py:2: RuntimeWarning: divide by zero encountered in double_scalars\n",
      "  d1 = (np.log(S/K) + (r - p + sigma**2/2)*T)/(sigma*np.sqrt(T))\n",
      "/var/folders/g3/164q6cz52jv0sjllnsg7jdsm0000gn/T/ipykernel_31243/1484490205.py:138: RuntimeWarning: divide by zero encountered in double_scalars\n",
      "  d_up = (np.log(close/K) + (mu - 0.5 * sigma **2) * (count)) / (sigma * math.sqrt(count))\n"
     ]
    },
    {
     "name": "stdout",
     "output_type": "stream",
     "text": [
      "[*********************100%***********************]  1 of 1 completed\n"
     ]
    },
    {
     "name": "stderr",
     "output_type": "stream",
     "text": [
      "/var/folders/g3/164q6cz52jv0sjllnsg7jdsm0000gn/T/ipykernel_31243/1592665972.py:2: RuntimeWarning: divide by zero encountered in double_scalars\n",
      "  d1 = (np.log(S/K) + (r - p + sigma**2/2)*T)/(sigma*np.sqrt(T))\n",
      "/var/folders/g3/164q6cz52jv0sjllnsg7jdsm0000gn/T/ipykernel_31243/1484490205.py:138: RuntimeWarning: divide by zero encountered in double_scalars\n",
      "  d_up = (np.log(close/K) + (mu - 0.5 * sigma **2) * (count)) / (sigma * math.sqrt(count))\n"
     ]
    },
    {
     "name": "stdout",
     "output_type": "stream",
     "text": [
      "[*********************100%***********************]  1 of 1 completed\n"
     ]
    },
    {
     "name": "stderr",
     "output_type": "stream",
     "text": [
      "/var/folders/g3/164q6cz52jv0sjllnsg7jdsm0000gn/T/ipykernel_31243/1592665972.py:2: RuntimeWarning: divide by zero encountered in double_scalars\n",
      "  d1 = (np.log(S/K) + (r - p + sigma**2/2)*T)/(sigma*np.sqrt(T))\n",
      "/var/folders/g3/164q6cz52jv0sjllnsg7jdsm0000gn/T/ipykernel_31243/1484490205.py:138: RuntimeWarning: divide by zero encountered in double_scalars\n",
      "  d_up = (np.log(close/K) + (mu - 0.5 * sigma **2) * (count)) / (sigma * math.sqrt(count))\n"
     ]
    },
    {
     "name": "stdout",
     "output_type": "stream",
     "text": [
      "[*********************100%***********************]  1 of 1 completed\n",
      "\n",
      "1 Failed download:\n",
      "- BF.B: No data found for this date range, symbol may be delisted\n",
      "[*********************100%***********************]  1 of 1 completed\n"
     ]
    },
    {
     "name": "stderr",
     "output_type": "stream",
     "text": [
      "/var/folders/g3/164q6cz52jv0sjllnsg7jdsm0000gn/T/ipykernel_31243/1592665972.py:2: RuntimeWarning: divide by zero encountered in double_scalars\n",
      "  d1 = (np.log(S/K) + (r - p + sigma**2/2)*T)/(sigma*np.sqrt(T))\n",
      "/var/folders/g3/164q6cz52jv0sjllnsg7jdsm0000gn/T/ipykernel_31243/1484490205.py:138: RuntimeWarning: divide by zero encountered in double_scalars\n",
      "  d_up = (np.log(close/K) + (mu - 0.5 * sigma **2) * (count)) / (sigma * math.sqrt(count))\n"
     ]
    },
    {
     "name": "stdout",
     "output_type": "stream",
     "text": [
      "[*********************100%***********************]  1 of 1 completed\n"
     ]
    },
    {
     "name": "stderr",
     "output_type": "stream",
     "text": [
      "/var/folders/g3/164q6cz52jv0sjllnsg7jdsm0000gn/T/ipykernel_31243/1592665972.py:2: RuntimeWarning: divide by zero encountered in double_scalars\n",
      "  d1 = (np.log(S/K) + (r - p + sigma**2/2)*T)/(sigma*np.sqrt(T))\n",
      "/var/folders/g3/164q6cz52jv0sjllnsg7jdsm0000gn/T/ipykernel_31243/1484490205.py:138: RuntimeWarning: divide by zero encountered in double_scalars\n",
      "  d_up = (np.log(close/K) + (mu - 0.5 * sigma **2) * (count)) / (sigma * math.sqrt(count))\n"
     ]
    },
    {
     "name": "stdout",
     "output_type": "stream",
     "text": [
      "[*********************100%***********************]  1 of 1 completed\n"
     ]
    },
    {
     "name": "stderr",
     "output_type": "stream",
     "text": [
      "/var/folders/g3/164q6cz52jv0sjllnsg7jdsm0000gn/T/ipykernel_31243/1592665972.py:2: RuntimeWarning: divide by zero encountered in double_scalars\n",
      "  d1 = (np.log(S/K) + (r - p + sigma**2/2)*T)/(sigma*np.sqrt(T))\n",
      "/var/folders/g3/164q6cz52jv0sjllnsg7jdsm0000gn/T/ipykernel_31243/1484490205.py:138: RuntimeWarning: divide by zero encountered in double_scalars\n",
      "  d_up = (np.log(close/K) + (mu - 0.5 * sigma **2) * (count)) / (sigma * math.sqrt(count))\n"
     ]
    },
    {
     "name": "stdout",
     "output_type": "stream",
     "text": [
      "[*********************100%***********************]  1 of 1 completed\n"
     ]
    },
    {
     "name": "stderr",
     "output_type": "stream",
     "text": [
      "/var/folders/g3/164q6cz52jv0sjllnsg7jdsm0000gn/T/ipykernel_31243/1592665972.py:2: RuntimeWarning: divide by zero encountered in double_scalars\n",
      "  d1 = (np.log(S/K) + (r - p + sigma**2/2)*T)/(sigma*np.sqrt(T))\n",
      "/var/folders/g3/164q6cz52jv0sjllnsg7jdsm0000gn/T/ipykernel_31243/1484490205.py:138: RuntimeWarning: divide by zero encountered in double_scalars\n",
      "  d_up = (np.log(close/K) + (mu - 0.5 * sigma **2) * (count)) / (sigma * math.sqrt(count))\n"
     ]
    },
    {
     "name": "stdout",
     "output_type": "stream",
     "text": [
      "[*********************100%***********************]  1 of 1 completed\n"
     ]
    },
    {
     "name": "stderr",
     "output_type": "stream",
     "text": [
      "/var/folders/g3/164q6cz52jv0sjllnsg7jdsm0000gn/T/ipykernel_31243/1592665972.py:2: RuntimeWarning: divide by zero encountered in double_scalars\n",
      "  d1 = (np.log(S/K) + (r - p + sigma**2/2)*T)/(sigma*np.sqrt(T))\n",
      "/var/folders/g3/164q6cz52jv0sjllnsg7jdsm0000gn/T/ipykernel_31243/1484490205.py:138: RuntimeWarning: divide by zero encountered in double_scalars\n",
      "  d_up = (np.log(close/K) + (mu - 0.5 * sigma **2) * (count)) / (sigma * math.sqrt(count))\n"
     ]
    },
    {
     "name": "stdout",
     "output_type": "stream",
     "text": [
      "[*********************100%***********************]  1 of 1 completed\n"
     ]
    },
    {
     "name": "stderr",
     "output_type": "stream",
     "text": [
      "/var/folders/g3/164q6cz52jv0sjllnsg7jdsm0000gn/T/ipykernel_31243/1592665972.py:2: RuntimeWarning: divide by zero encountered in double_scalars\n",
      "  d1 = (np.log(S/K) + (r - p + sigma**2/2)*T)/(sigma*np.sqrt(T))\n",
      "/var/folders/g3/164q6cz52jv0sjllnsg7jdsm0000gn/T/ipykernel_31243/1484490205.py:138: RuntimeWarning: divide by zero encountered in double_scalars\n",
      "  d_up = (np.log(close/K) + (mu - 0.5 * sigma **2) * (count)) / (sigma * math.sqrt(count))\n"
     ]
    },
    {
     "name": "stdout",
     "output_type": "stream",
     "text": [
      "[*********************100%***********************]  1 of 1 completed\n"
     ]
    },
    {
     "name": "stderr",
     "output_type": "stream",
     "text": [
      "/var/folders/g3/164q6cz52jv0sjllnsg7jdsm0000gn/T/ipykernel_31243/1592665972.py:2: RuntimeWarning: divide by zero encountered in double_scalars\n",
      "  d1 = (np.log(S/K) + (r - p + sigma**2/2)*T)/(sigma*np.sqrt(T))\n",
      "/var/folders/g3/164q6cz52jv0sjllnsg7jdsm0000gn/T/ipykernel_31243/1484490205.py:138: RuntimeWarning: divide by zero encountered in double_scalars\n",
      "  d_up = (np.log(close/K) + (mu - 0.5 * sigma **2) * (count)) / (sigma * math.sqrt(count))\n"
     ]
    },
    {
     "name": "stdout",
     "output_type": "stream",
     "text": [
      "[*********************100%***********************]  1 of 1 completed\n"
     ]
    },
    {
     "name": "stderr",
     "output_type": "stream",
     "text": [
      "/var/folders/g3/164q6cz52jv0sjllnsg7jdsm0000gn/T/ipykernel_31243/1592665972.py:2: RuntimeWarning: divide by zero encountered in double_scalars\n",
      "  d1 = (np.log(S/K) + (r - p + sigma**2/2)*T)/(sigma*np.sqrt(T))\n",
      "/var/folders/g3/164q6cz52jv0sjllnsg7jdsm0000gn/T/ipykernel_31243/1484490205.py:138: RuntimeWarning: divide by zero encountered in double_scalars\n",
      "  d_up = (np.log(close/K) + (mu - 0.5 * sigma **2) * (count)) / (sigma * math.sqrt(count))\n"
     ]
    },
    {
     "name": "stdout",
     "output_type": "stream",
     "text": [
      "[*********************100%***********************]  1 of 1 completed\n"
     ]
    },
    {
     "name": "stderr",
     "output_type": "stream",
     "text": [
      "/var/folders/g3/164q6cz52jv0sjllnsg7jdsm0000gn/T/ipykernel_31243/1592665972.py:2: RuntimeWarning: divide by zero encountered in double_scalars\n",
      "  d1 = (np.log(S/K) + (r - p + sigma**2/2)*T)/(sigma*np.sqrt(T))\n",
      "/var/folders/g3/164q6cz52jv0sjllnsg7jdsm0000gn/T/ipykernel_31243/1484490205.py:138: RuntimeWarning: divide by zero encountered in double_scalars\n",
      "  d_up = (np.log(close/K) + (mu - 0.5 * sigma **2) * (count)) / (sigma * math.sqrt(count))\n"
     ]
    },
    {
     "name": "stdout",
     "output_type": "stream",
     "text": [
      "[*********************100%***********************]  1 of 1 completed\n"
     ]
    },
    {
     "name": "stderr",
     "output_type": "stream",
     "text": [
      "/var/folders/g3/164q6cz52jv0sjllnsg7jdsm0000gn/T/ipykernel_31243/1592665972.py:2: RuntimeWarning: divide by zero encountered in double_scalars\n",
      "  d1 = (np.log(S/K) + (r - p + sigma**2/2)*T)/(sigma*np.sqrt(T))\n",
      "/var/folders/g3/164q6cz52jv0sjllnsg7jdsm0000gn/T/ipykernel_31243/1484490205.py:138: RuntimeWarning: divide by zero encountered in double_scalars\n",
      "  d_up = (np.log(close/K) + (mu - 0.5 * sigma **2) * (count)) / (sigma * math.sqrt(count))\n"
     ]
    },
    {
     "name": "stdout",
     "output_type": "stream",
     "text": [
      "[*********************100%***********************]  1 of 1 completed\n"
     ]
    },
    {
     "name": "stderr",
     "output_type": "stream",
     "text": [
      "/var/folders/g3/164q6cz52jv0sjllnsg7jdsm0000gn/T/ipykernel_31243/1592665972.py:2: RuntimeWarning: divide by zero encountered in double_scalars\n",
      "  d1 = (np.log(S/K) + (r - p + sigma**2/2)*T)/(sigma*np.sqrt(T))\n",
      "/var/folders/g3/164q6cz52jv0sjllnsg7jdsm0000gn/T/ipykernel_31243/1484490205.py:138: RuntimeWarning: divide by zero encountered in double_scalars\n",
      "  d_up = (np.log(close/K) + (mu - 0.5 * sigma **2) * (count)) / (sigma * math.sqrt(count))\n"
     ]
    },
    {
     "name": "stdout",
     "output_type": "stream",
     "text": [
      "[*********************100%***********************]  1 of 1 completed\n"
     ]
    },
    {
     "name": "stderr",
     "output_type": "stream",
     "text": [
      "/var/folders/g3/164q6cz52jv0sjllnsg7jdsm0000gn/T/ipykernel_31243/1592665972.py:2: RuntimeWarning: divide by zero encountered in double_scalars\n",
      "  d1 = (np.log(S/K) + (r - p + sigma**2/2)*T)/(sigma*np.sqrt(T))\n",
      "/var/folders/g3/164q6cz52jv0sjllnsg7jdsm0000gn/T/ipykernel_31243/1484490205.py:138: RuntimeWarning: divide by zero encountered in double_scalars\n",
      "  d_up = (np.log(close/K) + (mu - 0.5 * sigma **2) * (count)) / (sigma * math.sqrt(count))\n"
     ]
    },
    {
     "name": "stdout",
     "output_type": "stream",
     "text": [
      "[*********************100%***********************]  1 of 1 completed\n"
     ]
    },
    {
     "name": "stderr",
     "output_type": "stream",
     "text": [
      "/var/folders/g3/164q6cz52jv0sjllnsg7jdsm0000gn/T/ipykernel_31243/1592665972.py:2: RuntimeWarning: divide by zero encountered in double_scalars\n",
      "  d1 = (np.log(S/K) + (r - p + sigma**2/2)*T)/(sigma*np.sqrt(T))\n",
      "/var/folders/g3/164q6cz52jv0sjllnsg7jdsm0000gn/T/ipykernel_31243/1484490205.py:138: RuntimeWarning: divide by zero encountered in double_scalars\n",
      "  d_up = (np.log(close/K) + (mu - 0.5 * sigma **2) * (count)) / (sigma * math.sqrt(count))\n"
     ]
    },
    {
     "name": "stdout",
     "output_type": "stream",
     "text": [
      "[*********************100%***********************]  1 of 1 completed\n"
     ]
    },
    {
     "name": "stderr",
     "output_type": "stream",
     "text": [
      "/var/folders/g3/164q6cz52jv0sjllnsg7jdsm0000gn/T/ipykernel_31243/1592665972.py:2: RuntimeWarning: divide by zero encountered in double_scalars\n",
      "  d1 = (np.log(S/K) + (r - p + sigma**2/2)*T)/(sigma*np.sqrt(T))\n",
      "/var/folders/g3/164q6cz52jv0sjllnsg7jdsm0000gn/T/ipykernel_31243/1484490205.py:138: RuntimeWarning: divide by zero encountered in double_scalars\n",
      "  d_up = (np.log(close/K) + (mu - 0.5 * sigma **2) * (count)) / (sigma * math.sqrt(count))\n"
     ]
    },
    {
     "name": "stdout",
     "output_type": "stream",
     "text": [
      "[*********************100%***********************]  1 of 1 completed\n"
     ]
    },
    {
     "name": "stderr",
     "output_type": "stream",
     "text": [
      "/var/folders/g3/164q6cz52jv0sjllnsg7jdsm0000gn/T/ipykernel_31243/1592665972.py:2: RuntimeWarning: divide by zero encountered in double_scalars\n",
      "  d1 = (np.log(S/K) + (r - p + sigma**2/2)*T)/(sigma*np.sqrt(T))\n",
      "/var/folders/g3/164q6cz52jv0sjllnsg7jdsm0000gn/T/ipykernel_31243/1484490205.py:138: RuntimeWarning: divide by zero encountered in double_scalars\n",
      "  d_up = (np.log(close/K) + (mu - 0.5 * sigma **2) * (count)) / (sigma * math.sqrt(count))\n"
     ]
    },
    {
     "name": "stdout",
     "output_type": "stream",
     "text": [
      "[*********************100%***********************]  1 of 1 completed\n"
     ]
    },
    {
     "name": "stderr",
     "output_type": "stream",
     "text": [
      "/var/folders/g3/164q6cz52jv0sjllnsg7jdsm0000gn/T/ipykernel_31243/1592665972.py:2: RuntimeWarning: divide by zero encountered in double_scalars\n",
      "  d1 = (np.log(S/K) + (r - p + sigma**2/2)*T)/(sigma*np.sqrt(T))\n",
      "/var/folders/g3/164q6cz52jv0sjllnsg7jdsm0000gn/T/ipykernel_31243/1484490205.py:138: RuntimeWarning: divide by zero encountered in double_scalars\n",
      "  d_up = (np.log(close/K) + (mu - 0.5 * sigma **2) * (count)) / (sigma * math.sqrt(count))\n"
     ]
    },
    {
     "name": "stdout",
     "output_type": "stream",
     "text": [
      "[*********************100%***********************]  1 of 1 completed\n"
     ]
    },
    {
     "name": "stderr",
     "output_type": "stream",
     "text": [
      "/var/folders/g3/164q6cz52jv0sjllnsg7jdsm0000gn/T/ipykernel_31243/1592665972.py:2: RuntimeWarning: divide by zero encountered in double_scalars\n",
      "  d1 = (np.log(S/K) + (r - p + sigma**2/2)*T)/(sigma*np.sqrt(T))\n",
      "/var/folders/g3/164q6cz52jv0sjllnsg7jdsm0000gn/T/ipykernel_31243/1484490205.py:138: RuntimeWarning: divide by zero encountered in double_scalars\n",
      "  d_up = (np.log(close/K) + (mu - 0.5 * sigma **2) * (count)) / (sigma * math.sqrt(count))\n"
     ]
    },
    {
     "name": "stdout",
     "output_type": "stream",
     "text": [
      "[*********************100%***********************]  1 of 1 completed\n"
     ]
    },
    {
     "name": "stderr",
     "output_type": "stream",
     "text": [
      "/var/folders/g3/164q6cz52jv0sjllnsg7jdsm0000gn/T/ipykernel_31243/1592665972.py:2: RuntimeWarning: divide by zero encountered in double_scalars\n",
      "  d1 = (np.log(S/K) + (r - p + sigma**2/2)*T)/(sigma*np.sqrt(T))\n",
      "/var/folders/g3/164q6cz52jv0sjllnsg7jdsm0000gn/T/ipykernel_31243/1484490205.py:138: RuntimeWarning: divide by zero encountered in double_scalars\n",
      "  d_up = (np.log(close/K) + (mu - 0.5 * sigma **2) * (count)) / (sigma * math.sqrt(count))\n"
     ]
    },
    {
     "name": "stdout",
     "output_type": "stream",
     "text": [
      "[*********************100%***********************]  1 of 1 completed\n"
     ]
    },
    {
     "name": "stderr",
     "output_type": "stream",
     "text": [
      "/var/folders/g3/164q6cz52jv0sjllnsg7jdsm0000gn/T/ipykernel_31243/1592665972.py:2: RuntimeWarning: divide by zero encountered in double_scalars\n",
      "  d1 = (np.log(S/K) + (r - p + sigma**2/2)*T)/(sigma*np.sqrt(T))\n",
      "/var/folders/g3/164q6cz52jv0sjllnsg7jdsm0000gn/T/ipykernel_31243/1484490205.py:138: RuntimeWarning: divide by zero encountered in double_scalars\n",
      "  d_up = (np.log(close/K) + (mu - 0.5 * sigma **2) * (count)) / (sigma * math.sqrt(count))\n"
     ]
    },
    {
     "name": "stdout",
     "output_type": "stream",
     "text": [
      "[*********************100%***********************]  1 of 1 completed\n"
     ]
    },
    {
     "name": "stderr",
     "output_type": "stream",
     "text": [
      "/var/folders/g3/164q6cz52jv0sjllnsg7jdsm0000gn/T/ipykernel_31243/1592665972.py:2: RuntimeWarning: divide by zero encountered in double_scalars\n",
      "  d1 = (np.log(S/K) + (r - p + sigma**2/2)*T)/(sigma*np.sqrt(T))\n",
      "/var/folders/g3/164q6cz52jv0sjllnsg7jdsm0000gn/T/ipykernel_31243/1484490205.py:138: RuntimeWarning: divide by zero encountered in double_scalars\n",
      "  d_up = (np.log(close/K) + (mu - 0.5 * sigma **2) * (count)) / (sigma * math.sqrt(count))\n"
     ]
    },
    {
     "name": "stdout",
     "output_type": "stream",
     "text": [
      "[*********************100%***********************]  1 of 1 completed\n"
     ]
    },
    {
     "name": "stderr",
     "output_type": "stream",
     "text": [
      "/var/folders/g3/164q6cz52jv0sjllnsg7jdsm0000gn/T/ipykernel_31243/1592665972.py:2: RuntimeWarning: divide by zero encountered in double_scalars\n",
      "  d1 = (np.log(S/K) + (r - p + sigma**2/2)*T)/(sigma*np.sqrt(T))\n",
      "/var/folders/g3/164q6cz52jv0sjllnsg7jdsm0000gn/T/ipykernel_31243/1484490205.py:138: RuntimeWarning: divide by zero encountered in double_scalars\n",
      "  d_up = (np.log(close/K) + (mu - 0.5 * sigma **2) * (count)) / (sigma * math.sqrt(count))\n"
     ]
    },
    {
     "name": "stdout",
     "output_type": "stream",
     "text": [
      "[*********************100%***********************]  1 of 1 completed\n"
     ]
    },
    {
     "name": "stderr",
     "output_type": "stream",
     "text": [
      "/var/folders/g3/164q6cz52jv0sjllnsg7jdsm0000gn/T/ipykernel_31243/1592665972.py:2: RuntimeWarning: divide by zero encountered in double_scalars\n",
      "  d1 = (np.log(S/K) + (r - p + sigma**2/2)*T)/(sigma*np.sqrt(T))\n",
      "/var/folders/g3/164q6cz52jv0sjllnsg7jdsm0000gn/T/ipykernel_31243/1484490205.py:138: RuntimeWarning: divide by zero encountered in double_scalars\n",
      "  d_up = (np.log(close/K) + (mu - 0.5 * sigma **2) * (count)) / (sigma * math.sqrt(count))\n"
     ]
    },
    {
     "name": "stdout",
     "output_type": "stream",
     "text": [
      "[*********************100%***********************]  1 of 1 completed\n"
     ]
    },
    {
     "name": "stderr",
     "output_type": "stream",
     "text": [
      "/var/folders/g3/164q6cz52jv0sjllnsg7jdsm0000gn/T/ipykernel_31243/1592665972.py:2: RuntimeWarning: divide by zero encountered in double_scalars\n",
      "  d1 = (np.log(S/K) + (r - p + sigma**2/2)*T)/(sigma*np.sqrt(T))\n",
      "/var/folders/g3/164q6cz52jv0sjllnsg7jdsm0000gn/T/ipykernel_31243/1484490205.py:138: RuntimeWarning: divide by zero encountered in double_scalars\n",
      "  d_up = (np.log(close/K) + (mu - 0.5 * sigma **2) * (count)) / (sigma * math.sqrt(count))\n",
      "/var/folders/g3/164q6cz52jv0sjllnsg7jdsm0000gn/T/ipykernel_31243/1484490205.py:146: RuntimeWarning: divide by zero encountered in double_scalars\n",
      "  diff_put = (P - true_put) / P * 100\n",
      "/var/folders/g3/164q6cz52jv0sjllnsg7jdsm0000gn/T/ipykernel_31243/1484490205.py:148: RuntimeWarning: divide by zero encountered in double_scalars\n",
      "  diff_call = (C - true_call) / C * 100\n"
     ]
    },
    {
     "name": "stdout",
     "output_type": "stream",
     "text": [
      "[*********************100%***********************]  1 of 1 completed\n"
     ]
    },
    {
     "name": "stderr",
     "output_type": "stream",
     "text": [
      "/var/folders/g3/164q6cz52jv0sjllnsg7jdsm0000gn/T/ipykernel_31243/1592665972.py:2: RuntimeWarning: divide by zero encountered in double_scalars\n",
      "  d1 = (np.log(S/K) + (r - p + sigma**2/2)*T)/(sigma*np.sqrt(T))\n",
      "/var/folders/g3/164q6cz52jv0sjllnsg7jdsm0000gn/T/ipykernel_31243/1484490205.py:138: RuntimeWarning: divide by zero encountered in double_scalars\n",
      "  d_up = (np.log(close/K) + (mu - 0.5 * sigma **2) * (count)) / (sigma * math.sqrt(count))\n"
     ]
    },
    {
     "name": "stdout",
     "output_type": "stream",
     "text": [
      "[*********************100%***********************]  1 of 1 completed\n"
     ]
    },
    {
     "name": "stderr",
     "output_type": "stream",
     "text": [
      "/var/folders/g3/164q6cz52jv0sjllnsg7jdsm0000gn/T/ipykernel_31243/1592665972.py:2: RuntimeWarning: divide by zero encountered in double_scalars\n",
      "  d1 = (np.log(S/K) + (r - p + sigma**2/2)*T)/(sigma*np.sqrt(T))\n",
      "/var/folders/g3/164q6cz52jv0sjllnsg7jdsm0000gn/T/ipykernel_31243/1484490205.py:138: RuntimeWarning: divide by zero encountered in double_scalars\n",
      "  d_up = (np.log(close/K) + (mu - 0.5 * sigma **2) * (count)) / (sigma * math.sqrt(count))\n"
     ]
    },
    {
     "name": "stdout",
     "output_type": "stream",
     "text": [
      "[*********************100%***********************]  1 of 1 completed\n"
     ]
    },
    {
     "name": "stderr",
     "output_type": "stream",
     "text": [
      "/var/folders/g3/164q6cz52jv0sjllnsg7jdsm0000gn/T/ipykernel_31243/1592665972.py:2: RuntimeWarning: divide by zero encountered in double_scalars\n",
      "  d1 = (np.log(S/K) + (r - p + sigma**2/2)*T)/(sigma*np.sqrt(T))\n",
      "/var/folders/g3/164q6cz52jv0sjllnsg7jdsm0000gn/T/ipykernel_31243/1484490205.py:138: RuntimeWarning: divide by zero encountered in double_scalars\n",
      "  d_up = (np.log(close/K) + (mu - 0.5 * sigma **2) * (count)) / (sigma * math.sqrt(count))\n"
     ]
    },
    {
     "name": "stdout",
     "output_type": "stream",
     "text": [
      "[*********************100%***********************]  1 of 1 completed\n"
     ]
    },
    {
     "name": "stderr",
     "output_type": "stream",
     "text": [
      "/var/folders/g3/164q6cz52jv0sjllnsg7jdsm0000gn/T/ipykernel_31243/1592665972.py:2: RuntimeWarning: divide by zero encountered in double_scalars\n",
      "  d1 = (np.log(S/K) + (r - p + sigma**2/2)*T)/(sigma*np.sqrt(T))\n",
      "/var/folders/g3/164q6cz52jv0sjllnsg7jdsm0000gn/T/ipykernel_31243/1484490205.py:138: RuntimeWarning: divide by zero encountered in double_scalars\n",
      "  d_up = (np.log(close/K) + (mu - 0.5 * sigma **2) * (count)) / (sigma * math.sqrt(count))\n"
     ]
    },
    {
     "name": "stdout",
     "output_type": "stream",
     "text": [
      "[*********************100%***********************]  1 of 1 completed\n"
     ]
    },
    {
     "name": "stderr",
     "output_type": "stream",
     "text": [
      "/var/folders/g3/164q6cz52jv0sjllnsg7jdsm0000gn/T/ipykernel_31243/1592665972.py:2: RuntimeWarning: divide by zero encountered in double_scalars\n",
      "  d1 = (np.log(S/K) + (r - p + sigma**2/2)*T)/(sigma*np.sqrt(T))\n",
      "/var/folders/g3/164q6cz52jv0sjllnsg7jdsm0000gn/T/ipykernel_31243/1484490205.py:138: RuntimeWarning: divide by zero encountered in double_scalars\n",
      "  d_up = (np.log(close/K) + (mu - 0.5 * sigma **2) * (count)) / (sigma * math.sqrt(count))\n"
     ]
    },
    {
     "name": "stdout",
     "output_type": "stream",
     "text": [
      "[*********************100%***********************]  1 of 1 completed\n"
     ]
    },
    {
     "name": "stderr",
     "output_type": "stream",
     "text": [
      "/var/folders/g3/164q6cz52jv0sjllnsg7jdsm0000gn/T/ipykernel_31243/1592665972.py:2: RuntimeWarning: divide by zero encountered in double_scalars\n",
      "  d1 = (np.log(S/K) + (r - p + sigma**2/2)*T)/(sigma*np.sqrt(T))\n",
      "/var/folders/g3/164q6cz52jv0sjllnsg7jdsm0000gn/T/ipykernel_31243/1484490205.py:138: RuntimeWarning: divide by zero encountered in double_scalars\n",
      "  d_up = (np.log(close/K) + (mu - 0.5 * sigma **2) * (count)) / (sigma * math.sqrt(count))\n"
     ]
    },
    {
     "name": "stdout",
     "output_type": "stream",
     "text": [
      "[*********************100%***********************]  1 of 1 completed\n"
     ]
    },
    {
     "name": "stderr",
     "output_type": "stream",
     "text": [
      "/var/folders/g3/164q6cz52jv0sjllnsg7jdsm0000gn/T/ipykernel_31243/1592665972.py:2: RuntimeWarning: divide by zero encountered in double_scalars\n",
      "  d1 = (np.log(S/K) + (r - p + sigma**2/2)*T)/(sigma*np.sqrt(T))\n",
      "/var/folders/g3/164q6cz52jv0sjllnsg7jdsm0000gn/T/ipykernel_31243/1484490205.py:138: RuntimeWarning: divide by zero encountered in double_scalars\n",
      "  d_up = (np.log(close/K) + (mu - 0.5 * sigma **2) * (count)) / (sigma * math.sqrt(count))\n"
     ]
    },
    {
     "name": "stdout",
     "output_type": "stream",
     "text": [
      "[*********************100%***********************]  1 of 1 completed\n"
     ]
    },
    {
     "name": "stderr",
     "output_type": "stream",
     "text": [
      "/var/folders/g3/164q6cz52jv0sjllnsg7jdsm0000gn/T/ipykernel_31243/1592665972.py:2: RuntimeWarning: divide by zero encountered in double_scalars\n",
      "  d1 = (np.log(S/K) + (r - p + sigma**2/2)*T)/(sigma*np.sqrt(T))\n",
      "/var/folders/g3/164q6cz52jv0sjllnsg7jdsm0000gn/T/ipykernel_31243/1484490205.py:138: RuntimeWarning: divide by zero encountered in double_scalars\n",
      "  d_up = (np.log(close/K) + (mu - 0.5 * sigma **2) * (count)) / (sigma * math.sqrt(count))\n"
     ]
    },
    {
     "name": "stdout",
     "output_type": "stream",
     "text": [
      "[*********************100%***********************]  1 of 1 completed\n"
     ]
    },
    {
     "name": "stderr",
     "output_type": "stream",
     "text": [
      "/var/folders/g3/164q6cz52jv0sjllnsg7jdsm0000gn/T/ipykernel_31243/1592665972.py:2: RuntimeWarning: divide by zero encountered in double_scalars\n",
      "  d1 = (np.log(S/K) + (r - p + sigma**2/2)*T)/(sigma*np.sqrt(T))\n",
      "/var/folders/g3/164q6cz52jv0sjllnsg7jdsm0000gn/T/ipykernel_31243/1484490205.py:138: RuntimeWarning: divide by zero encountered in double_scalars\n",
      "  d_up = (np.log(close/K) + (mu - 0.5 * sigma **2) * (count)) / (sigma * math.sqrt(count))\n"
     ]
    },
    {
     "name": "stdout",
     "output_type": "stream",
     "text": [
      "[*********************100%***********************]  1 of 1 completed\n"
     ]
    },
    {
     "name": "stderr",
     "output_type": "stream",
     "text": [
      "/var/folders/g3/164q6cz52jv0sjllnsg7jdsm0000gn/T/ipykernel_31243/1592665972.py:2: RuntimeWarning: divide by zero encountered in double_scalars\n",
      "  d1 = (np.log(S/K) + (r - p + sigma**2/2)*T)/(sigma*np.sqrt(T))\n",
      "/var/folders/g3/164q6cz52jv0sjllnsg7jdsm0000gn/T/ipykernel_31243/1484490205.py:138: RuntimeWarning: divide by zero encountered in double_scalars\n",
      "  d_up = (np.log(close/K) + (mu - 0.5 * sigma **2) * (count)) / (sigma * math.sqrt(count))\n"
     ]
    },
    {
     "name": "stdout",
     "output_type": "stream",
     "text": [
      "[*********************100%***********************]  1 of 1 completed\n"
     ]
    },
    {
     "name": "stderr",
     "output_type": "stream",
     "text": [
      "/var/folders/g3/164q6cz52jv0sjllnsg7jdsm0000gn/T/ipykernel_31243/1592665972.py:2: RuntimeWarning: divide by zero encountered in double_scalars\n",
      "  d1 = (np.log(S/K) + (r - p + sigma**2/2)*T)/(sigma*np.sqrt(T))\n",
      "/var/folders/g3/164q6cz52jv0sjllnsg7jdsm0000gn/T/ipykernel_31243/1484490205.py:138: RuntimeWarning: divide by zero encountered in double_scalars\n",
      "  d_up = (np.log(close/K) + (mu - 0.5 * sigma **2) * (count)) / (sigma * math.sqrt(count))\n"
     ]
    },
    {
     "name": "stdout",
     "output_type": "stream",
     "text": [
      "[*********************100%***********************]  1 of 1 completed\n"
     ]
    },
    {
     "name": "stderr",
     "output_type": "stream",
     "text": [
      "/var/folders/g3/164q6cz52jv0sjllnsg7jdsm0000gn/T/ipykernel_31243/1592665972.py:2: RuntimeWarning: divide by zero encountered in double_scalars\n",
      "  d1 = (np.log(S/K) + (r - p + sigma**2/2)*T)/(sigma*np.sqrt(T))\n",
      "/var/folders/g3/164q6cz52jv0sjllnsg7jdsm0000gn/T/ipykernel_31243/1484490205.py:138: RuntimeWarning: divide by zero encountered in double_scalars\n",
      "  d_up = (np.log(close/K) + (mu - 0.5 * sigma **2) * (count)) / (sigma * math.sqrt(count))\n"
     ]
    },
    {
     "name": "stdout",
     "output_type": "stream",
     "text": [
      "[*********************100%***********************]  1 of 1 completed\n"
     ]
    },
    {
     "name": "stderr",
     "output_type": "stream",
     "text": [
      "/var/folders/g3/164q6cz52jv0sjllnsg7jdsm0000gn/T/ipykernel_31243/1592665972.py:2: RuntimeWarning: divide by zero encountered in double_scalars\n",
      "  d1 = (np.log(S/K) + (r - p + sigma**2/2)*T)/(sigma*np.sqrt(T))\n",
      "/var/folders/g3/164q6cz52jv0sjllnsg7jdsm0000gn/T/ipykernel_31243/1484490205.py:138: RuntimeWarning: divide by zero encountered in double_scalars\n",
      "  d_up = (np.log(close/K) + (mu - 0.5 * sigma **2) * (count)) / (sigma * math.sqrt(count))\n"
     ]
    },
    {
     "name": "stdout",
     "output_type": "stream",
     "text": [
      "[*********************100%***********************]  1 of 1 completed\n"
     ]
    },
    {
     "name": "stderr",
     "output_type": "stream",
     "text": [
      "/var/folders/g3/164q6cz52jv0sjllnsg7jdsm0000gn/T/ipykernel_31243/1592665972.py:2: RuntimeWarning: divide by zero encountered in double_scalars\n",
      "  d1 = (np.log(S/K) + (r - p + sigma**2/2)*T)/(sigma*np.sqrt(T))\n",
      "/var/folders/g3/164q6cz52jv0sjllnsg7jdsm0000gn/T/ipykernel_31243/1484490205.py:138: RuntimeWarning: divide by zero encountered in double_scalars\n",
      "  d_up = (np.log(close/K) + (mu - 0.5 * sigma **2) * (count)) / (sigma * math.sqrt(count))\n"
     ]
    },
    {
     "name": "stdout",
     "output_type": "stream",
     "text": [
      "[*********************100%***********************]  1 of 1 completed\n"
     ]
    },
    {
     "name": "stderr",
     "output_type": "stream",
     "text": [
      "/var/folders/g3/164q6cz52jv0sjllnsg7jdsm0000gn/T/ipykernel_31243/1592665972.py:2: RuntimeWarning: divide by zero encountered in double_scalars\n",
      "  d1 = (np.log(S/K) + (r - p + sigma**2/2)*T)/(sigma*np.sqrt(T))\n",
      "/var/folders/g3/164q6cz52jv0sjllnsg7jdsm0000gn/T/ipykernel_31243/1484490205.py:138: RuntimeWarning: divide by zero encountered in double_scalars\n",
      "  d_up = (np.log(close/K) + (mu - 0.5 * sigma **2) * (count)) / (sigma * math.sqrt(count))\n"
     ]
    },
    {
     "name": "stdout",
     "output_type": "stream",
     "text": [
      "[*********************100%***********************]  1 of 1 completed\n"
     ]
    },
    {
     "name": "stderr",
     "output_type": "stream",
     "text": [
      "/var/folders/g3/164q6cz52jv0sjllnsg7jdsm0000gn/T/ipykernel_31243/1592665972.py:2: RuntimeWarning: divide by zero encountered in double_scalars\n",
      "  d1 = (np.log(S/K) + (r - p + sigma**2/2)*T)/(sigma*np.sqrt(T))\n",
      "/var/folders/g3/164q6cz52jv0sjllnsg7jdsm0000gn/T/ipykernel_31243/1484490205.py:138: RuntimeWarning: divide by zero encountered in double_scalars\n",
      "  d_up = (np.log(close/K) + (mu - 0.5 * sigma **2) * (count)) / (sigma * math.sqrt(count))\n"
     ]
    },
    {
     "name": "stdout",
     "output_type": "stream",
     "text": [
      "[*********************100%***********************]  1 of 1 completed\n"
     ]
    },
    {
     "name": "stderr",
     "output_type": "stream",
     "text": [
      "/var/folders/g3/164q6cz52jv0sjllnsg7jdsm0000gn/T/ipykernel_31243/1592665972.py:2: RuntimeWarning: divide by zero encountered in double_scalars\n",
      "  d1 = (np.log(S/K) + (r - p + sigma**2/2)*T)/(sigma*np.sqrt(T))\n",
      "/var/folders/g3/164q6cz52jv0sjllnsg7jdsm0000gn/T/ipykernel_31243/1484490205.py:138: RuntimeWarning: divide by zero encountered in double_scalars\n",
      "  d_up = (np.log(close/K) + (mu - 0.5 * sigma **2) * (count)) / (sigma * math.sqrt(count))\n",
      "/var/folders/g3/164q6cz52jv0sjllnsg7jdsm0000gn/T/ipykernel_31243/1484490205.py:148: RuntimeWarning: divide by zero encountered in double_scalars\n",
      "  diff_call = (C - true_call) / C * 100\n",
      "/var/folders/g3/164q6cz52jv0sjllnsg7jdsm0000gn/T/ipykernel_31243/1484490205.py:146: RuntimeWarning: divide by zero encountered in double_scalars\n",
      "  diff_put = (P - true_put) / P * 100\n"
     ]
    },
    {
     "name": "stdout",
     "output_type": "stream",
     "text": [
      "[*********************100%***********************]  1 of 1 completed\n"
     ]
    },
    {
     "name": "stderr",
     "output_type": "stream",
     "text": [
      "/var/folders/g3/164q6cz52jv0sjllnsg7jdsm0000gn/T/ipykernel_31243/1592665972.py:2: RuntimeWarning: divide by zero encountered in double_scalars\n",
      "  d1 = (np.log(S/K) + (r - p + sigma**2/2)*T)/(sigma*np.sqrt(T))\n",
      "/var/folders/g3/164q6cz52jv0sjllnsg7jdsm0000gn/T/ipykernel_31243/1484490205.py:138: RuntimeWarning: divide by zero encountered in double_scalars\n",
      "  d_up = (np.log(close/K) + (mu - 0.5 * sigma **2) * (count)) / (sigma * math.sqrt(count))\n"
     ]
    },
    {
     "name": "stdout",
     "output_type": "stream",
     "text": [
      "[*********************100%***********************]  1 of 1 completed\n"
     ]
    },
    {
     "name": "stderr",
     "output_type": "stream",
     "text": [
      "/var/folders/g3/164q6cz52jv0sjllnsg7jdsm0000gn/T/ipykernel_31243/1592665972.py:2: RuntimeWarning: divide by zero encountered in double_scalars\n",
      "  d1 = (np.log(S/K) + (r - p + sigma**2/2)*T)/(sigma*np.sqrt(T))\n",
      "/var/folders/g3/164q6cz52jv0sjllnsg7jdsm0000gn/T/ipykernel_31243/1484490205.py:138: RuntimeWarning: divide by zero encountered in double_scalars\n",
      "  d_up = (np.log(close/K) + (mu - 0.5 * sigma **2) * (count)) / (sigma * math.sqrt(count))\n"
     ]
    },
    {
     "name": "stdout",
     "output_type": "stream",
     "text": [
      "[*********************100%***********************]  1 of 1 completed\n"
     ]
    },
    {
     "name": "stderr",
     "output_type": "stream",
     "text": [
      "/var/folders/g3/164q6cz52jv0sjllnsg7jdsm0000gn/T/ipykernel_31243/1592665972.py:2: RuntimeWarning: divide by zero encountered in double_scalars\n",
      "  d1 = (np.log(S/K) + (r - p + sigma**2/2)*T)/(sigma*np.sqrt(T))\n",
      "/var/folders/g3/164q6cz52jv0sjllnsg7jdsm0000gn/T/ipykernel_31243/1484490205.py:138: RuntimeWarning: divide by zero encountered in double_scalars\n",
      "  d_up = (np.log(close/K) + (mu - 0.5 * sigma **2) * (count)) / (sigma * math.sqrt(count))\n"
     ]
    },
    {
     "name": "stdout",
     "output_type": "stream",
     "text": [
      "[*********************100%***********************]  1 of 1 completed\n"
     ]
    },
    {
     "name": "stderr",
     "output_type": "stream",
     "text": [
      "/var/folders/g3/164q6cz52jv0sjllnsg7jdsm0000gn/T/ipykernel_31243/1592665972.py:2: RuntimeWarning: divide by zero encountered in double_scalars\n",
      "  d1 = (np.log(S/K) + (r - p + sigma**2/2)*T)/(sigma*np.sqrt(T))\n",
      "/var/folders/g3/164q6cz52jv0sjllnsg7jdsm0000gn/T/ipykernel_31243/1484490205.py:138: RuntimeWarning: divide by zero encountered in double_scalars\n",
      "  d_up = (np.log(close/K) + (mu - 0.5 * sigma **2) * (count)) / (sigma * math.sqrt(count))\n",
      "/var/folders/g3/164q6cz52jv0sjllnsg7jdsm0000gn/T/ipykernel_31243/1484490205.py:146: RuntimeWarning: divide by zero encountered in double_scalars\n",
      "  diff_put = (P - true_put) / P * 100\n",
      "/var/folders/g3/164q6cz52jv0sjllnsg7jdsm0000gn/T/ipykernel_31243/1484490205.py:148: RuntimeWarning: divide by zero encountered in double_scalars\n",
      "  diff_call = (C - true_call) / C * 100\n"
     ]
    },
    {
     "name": "stdout",
     "output_type": "stream",
     "text": [
      "[*********************100%***********************]  1 of 1 completed\n"
     ]
    },
    {
     "name": "stderr",
     "output_type": "stream",
     "text": [
      "/var/folders/g3/164q6cz52jv0sjllnsg7jdsm0000gn/T/ipykernel_31243/1592665972.py:2: RuntimeWarning: divide by zero encountered in double_scalars\n",
      "  d1 = (np.log(S/K) + (r - p + sigma**2/2)*T)/(sigma*np.sqrt(T))\n",
      "/var/folders/g3/164q6cz52jv0sjllnsg7jdsm0000gn/T/ipykernel_31243/1484490205.py:138: RuntimeWarning: divide by zero encountered in double_scalars\n",
      "  d_up = (np.log(close/K) + (mu - 0.5 * sigma **2) * (count)) / (sigma * math.sqrt(count))\n"
     ]
    },
    {
     "name": "stdout",
     "output_type": "stream",
     "text": [
      "[*********************100%***********************]  1 of 1 completed\n"
     ]
    },
    {
     "name": "stderr",
     "output_type": "stream",
     "text": [
      "/var/folders/g3/164q6cz52jv0sjllnsg7jdsm0000gn/T/ipykernel_31243/1592665972.py:2: RuntimeWarning: divide by zero encountered in double_scalars\n",
      "  d1 = (np.log(S/K) + (r - p + sigma**2/2)*T)/(sigma*np.sqrt(T))\n",
      "/var/folders/g3/164q6cz52jv0sjllnsg7jdsm0000gn/T/ipykernel_31243/1484490205.py:138: RuntimeWarning: divide by zero encountered in double_scalars\n",
      "  d_up = (np.log(close/K) + (mu - 0.5 * sigma **2) * (count)) / (sigma * math.sqrt(count))\n"
     ]
    },
    {
     "name": "stdout",
     "output_type": "stream",
     "text": [
      "[*********************100%***********************]  1 of 1 completed\n"
     ]
    },
    {
     "name": "stderr",
     "output_type": "stream",
     "text": [
      "/var/folders/g3/164q6cz52jv0sjllnsg7jdsm0000gn/T/ipykernel_31243/1592665972.py:2: RuntimeWarning: divide by zero encountered in double_scalars\n",
      "  d1 = (np.log(S/K) + (r - p + sigma**2/2)*T)/(sigma*np.sqrt(T))\n",
      "/var/folders/g3/164q6cz52jv0sjllnsg7jdsm0000gn/T/ipykernel_31243/1484490205.py:138: RuntimeWarning: divide by zero encountered in double_scalars\n",
      "  d_up = (np.log(close/K) + (mu - 0.5 * sigma **2) * (count)) / (sigma * math.sqrt(count))\n"
     ]
    },
    {
     "name": "stdout",
     "output_type": "stream",
     "text": [
      "[*********************100%***********************]  1 of 1 completed\n"
     ]
    },
    {
     "name": "stderr",
     "output_type": "stream",
     "text": [
      "/var/folders/g3/164q6cz52jv0sjllnsg7jdsm0000gn/T/ipykernel_31243/1592665972.py:2: RuntimeWarning: divide by zero encountered in double_scalars\n",
      "  d1 = (np.log(S/K) + (r - p + sigma**2/2)*T)/(sigma*np.sqrt(T))\n",
      "/var/folders/g3/164q6cz52jv0sjllnsg7jdsm0000gn/T/ipykernel_31243/1484490205.py:138: RuntimeWarning: divide by zero encountered in double_scalars\n",
      "  d_up = (np.log(close/K) + (mu - 0.5 * sigma **2) * (count)) / (sigma * math.sqrt(count))\n"
     ]
    },
    {
     "name": "stdout",
     "output_type": "stream",
     "text": [
      "[*********************100%***********************]  1 of 1 completed\n"
     ]
    },
    {
     "name": "stderr",
     "output_type": "stream",
     "text": [
      "/var/folders/g3/164q6cz52jv0sjllnsg7jdsm0000gn/T/ipykernel_31243/1592665972.py:2: RuntimeWarning: divide by zero encountered in double_scalars\n",
      "  d1 = (np.log(S/K) + (r - p + sigma**2/2)*T)/(sigma*np.sqrt(T))\n",
      "/var/folders/g3/164q6cz52jv0sjllnsg7jdsm0000gn/T/ipykernel_31243/1484490205.py:138: RuntimeWarning: divide by zero encountered in double_scalars\n",
      "  d_up = (np.log(close/K) + (mu - 0.5 * sigma **2) * (count)) / (sigma * math.sqrt(count))\n"
     ]
    },
    {
     "name": "stdout",
     "output_type": "stream",
     "text": [
      "[*********************100%***********************]  1 of 1 completed\n"
     ]
    },
    {
     "name": "stderr",
     "output_type": "stream",
     "text": [
      "/var/folders/g3/164q6cz52jv0sjllnsg7jdsm0000gn/T/ipykernel_31243/1592665972.py:2: RuntimeWarning: divide by zero encountered in double_scalars\n",
      "  d1 = (np.log(S/K) + (r - p + sigma**2/2)*T)/(sigma*np.sqrt(T))\n",
      "/var/folders/g3/164q6cz52jv0sjllnsg7jdsm0000gn/T/ipykernel_31243/1484490205.py:138: RuntimeWarning: divide by zero encountered in double_scalars\n",
      "  d_up = (np.log(close/K) + (mu - 0.5 * sigma **2) * (count)) / (sigma * math.sqrt(count))\n"
     ]
    },
    {
     "name": "stdout",
     "output_type": "stream",
     "text": [
      "[*********************100%***********************]  1 of 1 completed\n"
     ]
    },
    {
     "name": "stderr",
     "output_type": "stream",
     "text": [
      "/var/folders/g3/164q6cz52jv0sjllnsg7jdsm0000gn/T/ipykernel_31243/1592665972.py:2: RuntimeWarning: divide by zero encountered in double_scalars\n",
      "  d1 = (np.log(S/K) + (r - p + sigma**2/2)*T)/(sigma*np.sqrt(T))\n",
      "/var/folders/g3/164q6cz52jv0sjllnsg7jdsm0000gn/T/ipykernel_31243/1484490205.py:138: RuntimeWarning: divide by zero encountered in double_scalars\n",
      "  d_up = (np.log(close/K) + (mu - 0.5 * sigma **2) * (count)) / (sigma * math.sqrt(count))\n"
     ]
    },
    {
     "name": "stdout",
     "output_type": "stream",
     "text": [
      "[*********************100%***********************]  1 of 1 completed\n"
     ]
    },
    {
     "name": "stderr",
     "output_type": "stream",
     "text": [
      "/var/folders/g3/164q6cz52jv0sjllnsg7jdsm0000gn/T/ipykernel_31243/1592665972.py:2: RuntimeWarning: divide by zero encountered in double_scalars\n",
      "  d1 = (np.log(S/K) + (r - p + sigma**2/2)*T)/(sigma*np.sqrt(T))\n",
      "/var/folders/g3/164q6cz52jv0sjllnsg7jdsm0000gn/T/ipykernel_31243/1484490205.py:138: RuntimeWarning: divide by zero encountered in double_scalars\n",
      "  d_up = (np.log(close/K) + (mu - 0.5 * sigma **2) * (count)) / (sigma * math.sqrt(count))\n",
      "/var/folders/g3/164q6cz52jv0sjllnsg7jdsm0000gn/T/ipykernel_31243/1484490205.py:146: RuntimeWarning: divide by zero encountered in double_scalars\n",
      "  diff_put = (P - true_put) / P * 100\n",
      "/var/folders/g3/164q6cz52jv0sjllnsg7jdsm0000gn/T/ipykernel_31243/1484490205.py:148: RuntimeWarning: divide by zero encountered in double_scalars\n",
      "  diff_call = (C - true_call) / C * 100\n"
     ]
    },
    {
     "name": "stdout",
     "output_type": "stream",
     "text": [
      "[*********************100%***********************]  1 of 1 completed\n"
     ]
    },
    {
     "name": "stderr",
     "output_type": "stream",
     "text": [
      "/var/folders/g3/164q6cz52jv0sjllnsg7jdsm0000gn/T/ipykernel_31243/1592665972.py:2: RuntimeWarning: divide by zero encountered in double_scalars\n",
      "  d1 = (np.log(S/K) + (r - p + sigma**2/2)*T)/(sigma*np.sqrt(T))\n",
      "/var/folders/g3/164q6cz52jv0sjllnsg7jdsm0000gn/T/ipykernel_31243/1484490205.py:138: RuntimeWarning: divide by zero encountered in double_scalars\n",
      "  d_up = (np.log(close/K) + (mu - 0.5 * sigma **2) * (count)) / (sigma * math.sqrt(count))\n"
     ]
    },
    {
     "name": "stdout",
     "output_type": "stream",
     "text": [
      "[*********************100%***********************]  1 of 1 completed\n"
     ]
    },
    {
     "name": "stderr",
     "output_type": "stream",
     "text": [
      "/var/folders/g3/164q6cz52jv0sjllnsg7jdsm0000gn/T/ipykernel_31243/1592665972.py:2: RuntimeWarning: divide by zero encountered in double_scalars\n",
      "  d1 = (np.log(S/K) + (r - p + sigma**2/2)*T)/(sigma*np.sqrt(T))\n",
      "/var/folders/g3/164q6cz52jv0sjllnsg7jdsm0000gn/T/ipykernel_31243/1484490205.py:138: RuntimeWarning: divide by zero encountered in double_scalars\n",
      "  d_up = (np.log(close/K) + (mu - 0.5 * sigma **2) * (count)) / (sigma * math.sqrt(count))\n"
     ]
    },
    {
     "name": "stdout",
     "output_type": "stream",
     "text": [
      "[*********************100%***********************]  1 of 1 completed\n"
     ]
    },
    {
     "name": "stderr",
     "output_type": "stream",
     "text": [
      "/var/folders/g3/164q6cz52jv0sjllnsg7jdsm0000gn/T/ipykernel_31243/1592665972.py:2: RuntimeWarning: divide by zero encountered in double_scalars\n",
      "  d1 = (np.log(S/K) + (r - p + sigma**2/2)*T)/(sigma*np.sqrt(T))\n",
      "/var/folders/g3/164q6cz52jv0sjllnsg7jdsm0000gn/T/ipykernel_31243/1484490205.py:138: RuntimeWarning: divide by zero encountered in double_scalars\n",
      "  d_up = (np.log(close/K) + (mu - 0.5 * sigma **2) * (count)) / (sigma * math.sqrt(count))\n"
     ]
    },
    {
     "name": "stdout",
     "output_type": "stream",
     "text": [
      "[*********************100%***********************]  1 of 1 completed\n"
     ]
    },
    {
     "name": "stderr",
     "output_type": "stream",
     "text": [
      "/var/folders/g3/164q6cz52jv0sjllnsg7jdsm0000gn/T/ipykernel_31243/1592665972.py:2: RuntimeWarning: divide by zero encountered in double_scalars\n",
      "  d1 = (np.log(S/K) + (r - p + sigma**2/2)*T)/(sigma*np.sqrt(T))\n",
      "/var/folders/g3/164q6cz52jv0sjllnsg7jdsm0000gn/T/ipykernel_31243/1484490205.py:138: RuntimeWarning: divide by zero encountered in double_scalars\n",
      "  d_up = (np.log(close/K) + (mu - 0.5 * sigma **2) * (count)) / (sigma * math.sqrt(count))\n"
     ]
    },
    {
     "name": "stdout",
     "output_type": "stream",
     "text": [
      "[*********************100%***********************]  1 of 1 completed\n"
     ]
    },
    {
     "name": "stderr",
     "output_type": "stream",
     "text": [
      "/var/folders/g3/164q6cz52jv0sjllnsg7jdsm0000gn/T/ipykernel_31243/1592665972.py:2: RuntimeWarning: divide by zero encountered in double_scalars\n",
      "  d1 = (np.log(S/K) + (r - p + sigma**2/2)*T)/(sigma*np.sqrt(T))\n",
      "/var/folders/g3/164q6cz52jv0sjllnsg7jdsm0000gn/T/ipykernel_31243/1484490205.py:138: RuntimeWarning: divide by zero encountered in double_scalars\n",
      "  d_up = (np.log(close/K) + (mu - 0.5 * sigma **2) * (count)) / (sigma * math.sqrt(count))\n"
     ]
    },
    {
     "name": "stdout",
     "output_type": "stream",
     "text": [
      "[*********************100%***********************]  1 of 1 completed\n"
     ]
    },
    {
     "name": "stderr",
     "output_type": "stream",
     "text": [
      "/var/folders/g3/164q6cz52jv0sjllnsg7jdsm0000gn/T/ipykernel_31243/1592665972.py:2: RuntimeWarning: divide by zero encountered in double_scalars\n",
      "  d1 = (np.log(S/K) + (r - p + sigma**2/2)*T)/(sigma*np.sqrt(T))\n",
      "/var/folders/g3/164q6cz52jv0sjllnsg7jdsm0000gn/T/ipykernel_31243/1484490205.py:138: RuntimeWarning: divide by zero encountered in double_scalars\n",
      "  d_up = (np.log(close/K) + (mu - 0.5 * sigma **2) * (count)) / (sigma * math.sqrt(count))\n"
     ]
    },
    {
     "name": "stdout",
     "output_type": "stream",
     "text": [
      "[*********************100%***********************]  1 of 1 completed\n"
     ]
    },
    {
     "name": "stderr",
     "output_type": "stream",
     "text": [
      "/var/folders/g3/164q6cz52jv0sjllnsg7jdsm0000gn/T/ipykernel_31243/1592665972.py:2: RuntimeWarning: divide by zero encountered in double_scalars\n",
      "  d1 = (np.log(S/K) + (r - p + sigma**2/2)*T)/(sigma*np.sqrt(T))\n",
      "/var/folders/g3/164q6cz52jv0sjllnsg7jdsm0000gn/T/ipykernel_31243/1484490205.py:138: RuntimeWarning: divide by zero encountered in double_scalars\n",
      "  d_up = (np.log(close/K) + (mu - 0.5 * sigma **2) * (count)) / (sigma * math.sqrt(count))\n"
     ]
    },
    {
     "name": "stdout",
     "output_type": "stream",
     "text": [
      "[*********************100%***********************]  1 of 1 completed\n"
     ]
    },
    {
     "name": "stderr",
     "output_type": "stream",
     "text": [
      "/var/folders/g3/164q6cz52jv0sjllnsg7jdsm0000gn/T/ipykernel_31243/1592665972.py:2: RuntimeWarning: divide by zero encountered in double_scalars\n",
      "  d1 = (np.log(S/K) + (r - p + sigma**2/2)*T)/(sigma*np.sqrt(T))\n",
      "/var/folders/g3/164q6cz52jv0sjllnsg7jdsm0000gn/T/ipykernel_31243/1484490205.py:138: RuntimeWarning: divide by zero encountered in double_scalars\n",
      "  d_up = (np.log(close/K) + (mu - 0.5 * sigma **2) * (count)) / (sigma * math.sqrt(count))\n"
     ]
    },
    {
     "name": "stdout",
     "output_type": "stream",
     "text": [
      "[*********************100%***********************]  1 of 1 completed\n"
     ]
    },
    {
     "name": "stderr",
     "output_type": "stream",
     "text": [
      "/var/folders/g3/164q6cz52jv0sjllnsg7jdsm0000gn/T/ipykernel_31243/1484490205.py:146: RuntimeWarning: divide by zero encountered in double_scalars\n",
      "  diff_put = (P - true_put) / P * 100\n",
      "/var/folders/g3/164q6cz52jv0sjllnsg7jdsm0000gn/T/ipykernel_31243/1484490205.py:148: RuntimeWarning: divide by zero encountered in double_scalars\n",
      "  diff_call = (C - true_call) / C * 100\n"
     ]
    },
    {
     "name": "stdout",
     "output_type": "stream",
     "text": [
      "[*********************100%***********************]  1 of 1 completed\n"
     ]
    },
    {
     "name": "stderr",
     "output_type": "stream",
     "text": [
      "/var/folders/g3/164q6cz52jv0sjllnsg7jdsm0000gn/T/ipykernel_31243/1592665972.py:2: RuntimeWarning: divide by zero encountered in double_scalars\n",
      "  d1 = (np.log(S/K) + (r - p + sigma**2/2)*T)/(sigma*np.sqrt(T))\n",
      "/var/folders/g3/164q6cz52jv0sjllnsg7jdsm0000gn/T/ipykernel_31243/1484490205.py:138: RuntimeWarning: divide by zero encountered in double_scalars\n",
      "  d_up = (np.log(close/K) + (mu - 0.5 * sigma **2) * (count)) / (sigma * math.sqrt(count))\n"
     ]
    },
    {
     "name": "stdout",
     "output_type": "stream",
     "text": [
      "[*********************100%***********************]  1 of 1 completed\n"
     ]
    },
    {
     "name": "stderr",
     "output_type": "stream",
     "text": [
      "/var/folders/g3/164q6cz52jv0sjllnsg7jdsm0000gn/T/ipykernel_31243/1592665972.py:2: RuntimeWarning: divide by zero encountered in double_scalars\n",
      "  d1 = (np.log(S/K) + (r - p + sigma**2/2)*T)/(sigma*np.sqrt(T))\n",
      "/var/folders/g3/164q6cz52jv0sjllnsg7jdsm0000gn/T/ipykernel_31243/1484490205.py:138: RuntimeWarning: divide by zero encountered in double_scalars\n",
      "  d_up = (np.log(close/K) + (mu - 0.5 * sigma **2) * (count)) / (sigma * math.sqrt(count))\n"
     ]
    },
    {
     "name": "stdout",
     "output_type": "stream",
     "text": [
      "[*********************100%***********************]  1 of 1 completed\n"
     ]
    },
    {
     "name": "stderr",
     "output_type": "stream",
     "text": [
      "/var/folders/g3/164q6cz52jv0sjllnsg7jdsm0000gn/T/ipykernel_31243/1592665972.py:2: RuntimeWarning: divide by zero encountered in double_scalars\n",
      "  d1 = (np.log(S/K) + (r - p + sigma**2/2)*T)/(sigma*np.sqrt(T))\n",
      "/var/folders/g3/164q6cz52jv0sjllnsg7jdsm0000gn/T/ipykernel_31243/1484490205.py:138: RuntimeWarning: divide by zero encountered in double_scalars\n",
      "  d_up = (np.log(close/K) + (mu - 0.5 * sigma **2) * (count)) / (sigma * math.sqrt(count))\n"
     ]
    },
    {
     "name": "stdout",
     "output_type": "stream",
     "text": [
      "[*********************100%***********************]  1 of 1 completed\n"
     ]
    },
    {
     "name": "stderr",
     "output_type": "stream",
     "text": [
      "/var/folders/g3/164q6cz52jv0sjllnsg7jdsm0000gn/T/ipykernel_31243/1592665972.py:2: RuntimeWarning: divide by zero encountered in double_scalars\n",
      "  d1 = (np.log(S/K) + (r - p + sigma**2/2)*T)/(sigma*np.sqrt(T))\n",
      "/var/folders/g3/164q6cz52jv0sjllnsg7jdsm0000gn/T/ipykernel_31243/1484490205.py:138: RuntimeWarning: divide by zero encountered in double_scalars\n",
      "  d_up = (np.log(close/K) + (mu - 0.5 * sigma **2) * (count)) / (sigma * math.sqrt(count))\n"
     ]
    },
    {
     "name": "stdout",
     "output_type": "stream",
     "text": [
      "[*********************100%***********************]  1 of 1 completed\n"
     ]
    },
    {
     "name": "stderr",
     "output_type": "stream",
     "text": [
      "/var/folders/g3/164q6cz52jv0sjllnsg7jdsm0000gn/T/ipykernel_31243/1592665972.py:2: RuntimeWarning: divide by zero encountered in double_scalars\n",
      "  d1 = (np.log(S/K) + (r - p + sigma**2/2)*T)/(sigma*np.sqrt(T))\n",
      "/var/folders/g3/164q6cz52jv0sjllnsg7jdsm0000gn/T/ipykernel_31243/1484490205.py:138: RuntimeWarning: divide by zero encountered in double_scalars\n",
      "  d_up = (np.log(close/K) + (mu - 0.5 * sigma **2) * (count)) / (sigma * math.sqrt(count))\n"
     ]
    },
    {
     "name": "stdout",
     "output_type": "stream",
     "text": [
      "[*********************100%***********************]  1 of 1 completed\n"
     ]
    },
    {
     "name": "stderr",
     "output_type": "stream",
     "text": [
      "/var/folders/g3/164q6cz52jv0sjllnsg7jdsm0000gn/T/ipykernel_31243/1592665972.py:2: RuntimeWarning: divide by zero encountered in double_scalars\n",
      "  d1 = (np.log(S/K) + (r - p + sigma**2/2)*T)/(sigma*np.sqrt(T))\n",
      "/var/folders/g3/164q6cz52jv0sjllnsg7jdsm0000gn/T/ipykernel_31243/1484490205.py:138: RuntimeWarning: divide by zero encountered in double_scalars\n",
      "  d_up = (np.log(close/K) + (mu - 0.5 * sigma **2) * (count)) / (sigma * math.sqrt(count))\n"
     ]
    },
    {
     "name": "stdout",
     "output_type": "stream",
     "text": [
      "[*********************100%***********************]  1 of 1 completed\n"
     ]
    },
    {
     "name": "stderr",
     "output_type": "stream",
     "text": [
      "/var/folders/g3/164q6cz52jv0sjllnsg7jdsm0000gn/T/ipykernel_31243/1592665972.py:2: RuntimeWarning: divide by zero encountered in double_scalars\n",
      "  d1 = (np.log(S/K) + (r - p + sigma**2/2)*T)/(sigma*np.sqrt(T))\n",
      "/var/folders/g3/164q6cz52jv0sjllnsg7jdsm0000gn/T/ipykernel_31243/1484490205.py:138: RuntimeWarning: divide by zero encountered in double_scalars\n",
      "  d_up = (np.log(close/K) + (mu - 0.5 * sigma **2) * (count)) / (sigma * math.sqrt(count))\n"
     ]
    },
    {
     "name": "stdout",
     "output_type": "stream",
     "text": [
      "[*********************100%***********************]  1 of 1 completed\n"
     ]
    },
    {
     "name": "stderr",
     "output_type": "stream",
     "text": [
      "/var/folders/g3/164q6cz52jv0sjllnsg7jdsm0000gn/T/ipykernel_31243/1592665972.py:2: RuntimeWarning: divide by zero encountered in double_scalars\n",
      "  d1 = (np.log(S/K) + (r - p + sigma**2/2)*T)/(sigma*np.sqrt(T))\n",
      "/var/folders/g3/164q6cz52jv0sjllnsg7jdsm0000gn/T/ipykernel_31243/1484490205.py:138: RuntimeWarning: divide by zero encountered in double_scalars\n",
      "  d_up = (np.log(close/K) + (mu - 0.5 * sigma **2) * (count)) / (sigma * math.sqrt(count))\n"
     ]
    },
    {
     "name": "stdout",
     "output_type": "stream",
     "text": [
      "[*********************100%***********************]  1 of 1 completed\n"
     ]
    },
    {
     "name": "stderr",
     "output_type": "stream",
     "text": [
      "/var/folders/g3/164q6cz52jv0sjllnsg7jdsm0000gn/T/ipykernel_31243/1592665972.py:2: RuntimeWarning: divide by zero encountered in double_scalars\n",
      "  d1 = (np.log(S/K) + (r - p + sigma**2/2)*T)/(sigma*np.sqrt(T))\n",
      "/var/folders/g3/164q6cz52jv0sjllnsg7jdsm0000gn/T/ipykernel_31243/1484490205.py:138: RuntimeWarning: divide by zero encountered in double_scalars\n",
      "  d_up = (np.log(close/K) + (mu - 0.5 * sigma **2) * (count)) / (sigma * math.sqrt(count))\n"
     ]
    },
    {
     "name": "stdout",
     "output_type": "stream",
     "text": [
      "[*********************100%***********************]  1 of 1 completed\n"
     ]
    },
    {
     "name": "stderr",
     "output_type": "stream",
     "text": [
      "/var/folders/g3/164q6cz52jv0sjllnsg7jdsm0000gn/T/ipykernel_31243/1592665972.py:2: RuntimeWarning: divide by zero encountered in double_scalars\n",
      "  d1 = (np.log(S/K) + (r - p + sigma**2/2)*T)/(sigma*np.sqrt(T))\n",
      "/var/folders/g3/164q6cz52jv0sjllnsg7jdsm0000gn/T/ipykernel_31243/1484490205.py:138: RuntimeWarning: divide by zero encountered in double_scalars\n",
      "  d_up = (np.log(close/K) + (mu - 0.5 * sigma **2) * (count)) / (sigma * math.sqrt(count))\n"
     ]
    },
    {
     "name": "stdout",
     "output_type": "stream",
     "text": [
      "[*********************100%***********************]  1 of 1 completed\n"
     ]
    },
    {
     "name": "stderr",
     "output_type": "stream",
     "text": [
      "/var/folders/g3/164q6cz52jv0sjllnsg7jdsm0000gn/T/ipykernel_31243/1592665972.py:2: RuntimeWarning: divide by zero encountered in double_scalars\n",
      "  d1 = (np.log(S/K) + (r - p + sigma**2/2)*T)/(sigma*np.sqrt(T))\n",
      "/var/folders/g3/164q6cz52jv0sjllnsg7jdsm0000gn/T/ipykernel_31243/1484490205.py:138: RuntimeWarning: divide by zero encountered in double_scalars\n",
      "  d_up = (np.log(close/K) + (mu - 0.5 * sigma **2) * (count)) / (sigma * math.sqrt(count))\n"
     ]
    },
    {
     "name": "stdout",
     "output_type": "stream",
     "text": [
      "[*********************100%***********************]  1 of 1 completed\n"
     ]
    },
    {
     "name": "stderr",
     "output_type": "stream",
     "text": [
      "/var/folders/g3/164q6cz52jv0sjllnsg7jdsm0000gn/T/ipykernel_31243/1592665972.py:2: RuntimeWarning: divide by zero encountered in double_scalars\n",
      "  d1 = (np.log(S/K) + (r - p + sigma**2/2)*T)/(sigma*np.sqrt(T))\n",
      "/var/folders/g3/164q6cz52jv0sjllnsg7jdsm0000gn/T/ipykernel_31243/1484490205.py:138: RuntimeWarning: divide by zero encountered in double_scalars\n",
      "  d_up = (np.log(close/K) + (mu - 0.5 * sigma **2) * (count)) / (sigma * math.sqrt(count))\n"
     ]
    },
    {
     "name": "stdout",
     "output_type": "stream",
     "text": [
      "[*********************100%***********************]  1 of 1 completed\n"
     ]
    },
    {
     "name": "stderr",
     "output_type": "stream",
     "text": [
      "/var/folders/g3/164q6cz52jv0sjllnsg7jdsm0000gn/T/ipykernel_31243/1592665972.py:2: RuntimeWarning: divide by zero encountered in double_scalars\n",
      "  d1 = (np.log(S/K) + (r - p + sigma**2/2)*T)/(sigma*np.sqrt(T))\n",
      "/var/folders/g3/164q6cz52jv0sjllnsg7jdsm0000gn/T/ipykernel_31243/1484490205.py:138: RuntimeWarning: divide by zero encountered in double_scalars\n",
      "  d_up = (np.log(close/K) + (mu - 0.5 * sigma **2) * (count)) / (sigma * math.sqrt(count))\n"
     ]
    },
    {
     "name": "stdout",
     "output_type": "stream",
     "text": [
      "[*********************100%***********************]  1 of 1 completed\n"
     ]
    },
    {
     "name": "stderr",
     "output_type": "stream",
     "text": [
      "/var/folders/g3/164q6cz52jv0sjllnsg7jdsm0000gn/T/ipykernel_31243/1592665972.py:2: RuntimeWarning: divide by zero encountered in double_scalars\n",
      "  d1 = (np.log(S/K) + (r - p + sigma**2/2)*T)/(sigma*np.sqrt(T))\n",
      "/var/folders/g3/164q6cz52jv0sjllnsg7jdsm0000gn/T/ipykernel_31243/1484490205.py:138: RuntimeWarning: divide by zero encountered in double_scalars\n",
      "  d_up = (np.log(close/K) + (mu - 0.5 * sigma **2) * (count)) / (sigma * math.sqrt(count))\n"
     ]
    },
    {
     "name": "stdout",
     "output_type": "stream",
     "text": [
      "[*********************100%***********************]  1 of 1 completed\n"
     ]
    },
    {
     "name": "stderr",
     "output_type": "stream",
     "text": [
      "/var/folders/g3/164q6cz52jv0sjllnsg7jdsm0000gn/T/ipykernel_31243/1592665972.py:2: RuntimeWarning: divide by zero encountered in double_scalars\n",
      "  d1 = (np.log(S/K) + (r - p + sigma**2/2)*T)/(sigma*np.sqrt(T))\n",
      "/var/folders/g3/164q6cz52jv0sjllnsg7jdsm0000gn/T/ipykernel_31243/1484490205.py:138: RuntimeWarning: divide by zero encountered in double_scalars\n",
      "  d_up = (np.log(close/K) + (mu - 0.5 * sigma **2) * (count)) / (sigma * math.sqrt(count))\n"
     ]
    },
    {
     "name": "stdout",
     "output_type": "stream",
     "text": [
      "[*********************100%***********************]  1 of 1 completed\n"
     ]
    },
    {
     "name": "stderr",
     "output_type": "stream",
     "text": [
      "/var/folders/g3/164q6cz52jv0sjllnsg7jdsm0000gn/T/ipykernel_31243/1592665972.py:2: RuntimeWarning: divide by zero encountered in double_scalars\n",
      "  d1 = (np.log(S/K) + (r - p + sigma**2/2)*T)/(sigma*np.sqrt(T))\n",
      "/var/folders/g3/164q6cz52jv0sjllnsg7jdsm0000gn/T/ipykernel_31243/1484490205.py:138: RuntimeWarning: divide by zero encountered in double_scalars\n",
      "  d_up = (np.log(close/K) + (mu - 0.5 * sigma **2) * (count)) / (sigma * math.sqrt(count))\n"
     ]
    },
    {
     "name": "stdout",
     "output_type": "stream",
     "text": [
      "[*********************100%***********************]  1 of 1 completed\n"
     ]
    },
    {
     "name": "stderr",
     "output_type": "stream",
     "text": [
      "/var/folders/g3/164q6cz52jv0sjllnsg7jdsm0000gn/T/ipykernel_31243/1592665972.py:2: RuntimeWarning: divide by zero encountered in double_scalars\n",
      "  d1 = (np.log(S/K) + (r - p + sigma**2/2)*T)/(sigma*np.sqrt(T))\n",
      "/var/folders/g3/164q6cz52jv0sjllnsg7jdsm0000gn/T/ipykernel_31243/1484490205.py:138: RuntimeWarning: divide by zero encountered in double_scalars\n",
      "  d_up = (np.log(close/K) + (mu - 0.5 * sigma **2) * (count)) / (sigma * math.sqrt(count))\n"
     ]
    },
    {
     "name": "stdout",
     "output_type": "stream",
     "text": [
      "[*********************100%***********************]  1 of 1 completed\n"
     ]
    },
    {
     "name": "stderr",
     "output_type": "stream",
     "text": [
      "/var/folders/g3/164q6cz52jv0sjllnsg7jdsm0000gn/T/ipykernel_31243/1592665972.py:2: RuntimeWarning: divide by zero encountered in double_scalars\n",
      "  d1 = (np.log(S/K) + (r - p + sigma**2/2)*T)/(sigma*np.sqrt(T))\n",
      "/var/folders/g3/164q6cz52jv0sjllnsg7jdsm0000gn/T/ipykernel_31243/1484490205.py:138: RuntimeWarning: divide by zero encountered in double_scalars\n",
      "  d_up = (np.log(close/K) + (mu - 0.5 * sigma **2) * (count)) / (sigma * math.sqrt(count))\n"
     ]
    },
    {
     "name": "stdout",
     "output_type": "stream",
     "text": [
      "[*********************100%***********************]  1 of 1 completed\n"
     ]
    },
    {
     "name": "stderr",
     "output_type": "stream",
     "text": [
      "/var/folders/g3/164q6cz52jv0sjllnsg7jdsm0000gn/T/ipykernel_31243/1592665972.py:2: RuntimeWarning: divide by zero encountered in double_scalars\n",
      "  d1 = (np.log(S/K) + (r - p + sigma**2/2)*T)/(sigma*np.sqrt(T))\n",
      "/var/folders/g3/164q6cz52jv0sjllnsg7jdsm0000gn/T/ipykernel_31243/1484490205.py:138: RuntimeWarning: divide by zero encountered in double_scalars\n",
      "  d_up = (np.log(close/K) + (mu - 0.5 * sigma **2) * (count)) / (sigma * math.sqrt(count))\n"
     ]
    },
    {
     "name": "stdout",
     "output_type": "stream",
     "text": [
      "[*********************100%***********************]  1 of 1 completed\n"
     ]
    },
    {
     "name": "stderr",
     "output_type": "stream",
     "text": [
      "/var/folders/g3/164q6cz52jv0sjllnsg7jdsm0000gn/T/ipykernel_31243/1592665972.py:2: RuntimeWarning: divide by zero encountered in double_scalars\n",
      "  d1 = (np.log(S/K) + (r - p + sigma**2/2)*T)/(sigma*np.sqrt(T))\n",
      "/var/folders/g3/164q6cz52jv0sjllnsg7jdsm0000gn/T/ipykernel_31243/1484490205.py:138: RuntimeWarning: divide by zero encountered in double_scalars\n",
      "  d_up = (np.log(close/K) + (mu - 0.5 * sigma **2) * (count)) / (sigma * math.sqrt(count))\n"
     ]
    },
    {
     "name": "stdout",
     "output_type": "stream",
     "text": [
      "[*********************100%***********************]  1 of 1 completed\n"
     ]
    },
    {
     "name": "stderr",
     "output_type": "stream",
     "text": [
      "/var/folders/g3/164q6cz52jv0sjllnsg7jdsm0000gn/T/ipykernel_31243/1592665972.py:2: RuntimeWarning: divide by zero encountered in double_scalars\n",
      "  d1 = (np.log(S/K) + (r - p + sigma**2/2)*T)/(sigma*np.sqrt(T))\n",
      "/var/folders/g3/164q6cz52jv0sjllnsg7jdsm0000gn/T/ipykernel_31243/1484490205.py:138: RuntimeWarning: divide by zero encountered in double_scalars\n",
      "  d_up = (np.log(close/K) + (mu - 0.5 * sigma **2) * (count)) / (sigma * math.sqrt(count))\n"
     ]
    },
    {
     "name": "stdout",
     "output_type": "stream",
     "text": [
      "[*********************100%***********************]  1 of 1 completed\n"
     ]
    },
    {
     "name": "stderr",
     "output_type": "stream",
     "text": [
      "/var/folders/g3/164q6cz52jv0sjllnsg7jdsm0000gn/T/ipykernel_31243/1592665972.py:2: RuntimeWarning: divide by zero encountered in double_scalars\n",
      "  d1 = (np.log(S/K) + (r - p + sigma**2/2)*T)/(sigma*np.sqrt(T))\n",
      "/var/folders/g3/164q6cz52jv0sjllnsg7jdsm0000gn/T/ipykernel_31243/1484490205.py:138: RuntimeWarning: divide by zero encountered in double_scalars\n",
      "  d_up = (np.log(close/K) + (mu - 0.5 * sigma **2) * (count)) / (sigma * math.sqrt(count))\n"
     ]
    },
    {
     "name": "stdout",
     "output_type": "stream",
     "text": [
      "[*********************100%***********************]  1 of 1 completed\n"
     ]
    },
    {
     "name": "stderr",
     "output_type": "stream",
     "text": [
      "/var/folders/g3/164q6cz52jv0sjllnsg7jdsm0000gn/T/ipykernel_31243/1592665972.py:2: RuntimeWarning: divide by zero encountered in double_scalars\n",
      "  d1 = (np.log(S/K) + (r - p + sigma**2/2)*T)/(sigma*np.sqrt(T))\n",
      "/var/folders/g3/164q6cz52jv0sjllnsg7jdsm0000gn/T/ipykernel_31243/1484490205.py:138: RuntimeWarning: divide by zero encountered in double_scalars\n",
      "  d_up = (np.log(close/K) + (mu - 0.5 * sigma **2) * (count)) / (sigma * math.sqrt(count))\n"
     ]
    },
    {
     "name": "stdout",
     "output_type": "stream",
     "text": [
      "[*********************100%***********************]  1 of 1 completed\n"
     ]
    },
    {
     "name": "stderr",
     "output_type": "stream",
     "text": [
      "/var/folders/g3/164q6cz52jv0sjllnsg7jdsm0000gn/T/ipykernel_31243/1592665972.py:2: RuntimeWarning: divide by zero encountered in double_scalars\n",
      "  d1 = (np.log(S/K) + (r - p + sigma**2/2)*T)/(sigma*np.sqrt(T))\n",
      "/var/folders/g3/164q6cz52jv0sjllnsg7jdsm0000gn/T/ipykernel_31243/1484490205.py:138: RuntimeWarning: divide by zero encountered in double_scalars\n",
      "  d_up = (np.log(close/K) + (mu - 0.5 * sigma **2) * (count)) / (sigma * math.sqrt(count))\n"
     ]
    },
    {
     "name": "stdout",
     "output_type": "stream",
     "text": [
      "[*********************100%***********************]  1 of 1 completed\n"
     ]
    },
    {
     "name": "stderr",
     "output_type": "stream",
     "text": [
      "/var/folders/g3/164q6cz52jv0sjllnsg7jdsm0000gn/T/ipykernel_31243/1592665972.py:2: RuntimeWarning: divide by zero encountered in double_scalars\n",
      "  d1 = (np.log(S/K) + (r - p + sigma**2/2)*T)/(sigma*np.sqrt(T))\n",
      "/var/folders/g3/164q6cz52jv0sjllnsg7jdsm0000gn/T/ipykernel_31243/1484490205.py:138: RuntimeWarning: divide by zero encountered in double_scalars\n",
      "  d_up = (np.log(close/K) + (mu - 0.5 * sigma **2) * (count)) / (sigma * math.sqrt(count))\n"
     ]
    },
    {
     "name": "stdout",
     "output_type": "stream",
     "text": [
      "[*********************100%***********************]  1 of 1 completed\n"
     ]
    },
    {
     "name": "stderr",
     "output_type": "stream",
     "text": [
      "/var/folders/g3/164q6cz52jv0sjllnsg7jdsm0000gn/T/ipykernel_31243/1592665972.py:2: RuntimeWarning: divide by zero encountered in double_scalars\n",
      "  d1 = (np.log(S/K) + (r - p + sigma**2/2)*T)/(sigma*np.sqrt(T))\n",
      "/var/folders/g3/164q6cz52jv0sjllnsg7jdsm0000gn/T/ipykernel_31243/1484490205.py:138: RuntimeWarning: divide by zero encountered in double_scalars\n",
      "  d_up = (np.log(close/K) + (mu - 0.5 * sigma **2) * (count)) / (sigma * math.sqrt(count))\n"
     ]
    },
    {
     "name": "stdout",
     "output_type": "stream",
     "text": [
      "[*********************100%***********************]  1 of 1 completed\n"
     ]
    },
    {
     "name": "stderr",
     "output_type": "stream",
     "text": [
      "/var/folders/g3/164q6cz52jv0sjllnsg7jdsm0000gn/T/ipykernel_31243/1592665972.py:2: RuntimeWarning: divide by zero encountered in double_scalars\n",
      "  d1 = (np.log(S/K) + (r - p + sigma**2/2)*T)/(sigma*np.sqrt(T))\n",
      "/var/folders/g3/164q6cz52jv0sjllnsg7jdsm0000gn/T/ipykernel_31243/1484490205.py:138: RuntimeWarning: divide by zero encountered in double_scalars\n",
      "  d_up = (np.log(close/K) + (mu - 0.5 * sigma **2) * (count)) / (sigma * math.sqrt(count))\n"
     ]
    },
    {
     "name": "stdout",
     "output_type": "stream",
     "text": [
      "[*********************100%***********************]  1 of 1 completed\n"
     ]
    },
    {
     "name": "stderr",
     "output_type": "stream",
     "text": [
      "/var/folders/g3/164q6cz52jv0sjllnsg7jdsm0000gn/T/ipykernel_31243/1592665972.py:2: RuntimeWarning: divide by zero encountered in double_scalars\n",
      "  d1 = (np.log(S/K) + (r - p + sigma**2/2)*T)/(sigma*np.sqrt(T))\n",
      "/var/folders/g3/164q6cz52jv0sjllnsg7jdsm0000gn/T/ipykernel_31243/1484490205.py:138: RuntimeWarning: divide by zero encountered in double_scalars\n",
      "  d_up = (np.log(close/K) + (mu - 0.5 * sigma **2) * (count)) / (sigma * math.sqrt(count))\n"
     ]
    },
    {
     "name": "stdout",
     "output_type": "stream",
     "text": [
      "[*********************100%***********************]  1 of 1 completed\n"
     ]
    },
    {
     "name": "stderr",
     "output_type": "stream",
     "text": [
      "/var/folders/g3/164q6cz52jv0sjllnsg7jdsm0000gn/T/ipykernel_31243/1592665972.py:2: RuntimeWarning: divide by zero encountered in double_scalars\n",
      "  d1 = (np.log(S/K) + (r - p + sigma**2/2)*T)/(sigma*np.sqrt(T))\n",
      "/var/folders/g3/164q6cz52jv0sjllnsg7jdsm0000gn/T/ipykernel_31243/1484490205.py:138: RuntimeWarning: divide by zero encountered in double_scalars\n",
      "  d_up = (np.log(close/K) + (mu - 0.5 * sigma **2) * (count)) / (sigma * math.sqrt(count))\n"
     ]
    },
    {
     "name": "stdout",
     "output_type": "stream",
     "text": [
      "[*********************100%***********************]  1 of 1 completed\n"
     ]
    },
    {
     "name": "stderr",
     "output_type": "stream",
     "text": [
      "/var/folders/g3/164q6cz52jv0sjllnsg7jdsm0000gn/T/ipykernel_31243/1592665972.py:2: RuntimeWarning: divide by zero encountered in double_scalars\n",
      "  d1 = (np.log(S/K) + (r - p + sigma**2/2)*T)/(sigma*np.sqrt(T))\n",
      "/var/folders/g3/164q6cz52jv0sjllnsg7jdsm0000gn/T/ipykernel_31243/1484490205.py:138: RuntimeWarning: divide by zero encountered in double_scalars\n",
      "  d_up = (np.log(close/K) + (mu - 0.5 * sigma **2) * (count)) / (sigma * math.sqrt(count))\n"
     ]
    },
    {
     "name": "stdout",
     "output_type": "stream",
     "text": [
      "[*********************100%***********************]  1 of 1 completed\n"
     ]
    },
    {
     "name": "stderr",
     "output_type": "stream",
     "text": [
      "/var/folders/g3/164q6cz52jv0sjllnsg7jdsm0000gn/T/ipykernel_31243/1592665972.py:2: RuntimeWarning: divide by zero encountered in double_scalars\n",
      "  d1 = (np.log(S/K) + (r - p + sigma**2/2)*T)/(sigma*np.sqrt(T))\n",
      "/var/folders/g3/164q6cz52jv0sjllnsg7jdsm0000gn/T/ipykernel_31243/1484490205.py:138: RuntimeWarning: divide by zero encountered in double_scalars\n",
      "  d_up = (np.log(close/K) + (mu - 0.5 * sigma **2) * (count)) / (sigma * math.sqrt(count))\n"
     ]
    },
    {
     "name": "stdout",
     "output_type": "stream",
     "text": [
      "[*********************100%***********************]  1 of 1 completed\n"
     ]
    },
    {
     "name": "stderr",
     "output_type": "stream",
     "text": [
      "/var/folders/g3/164q6cz52jv0sjllnsg7jdsm0000gn/T/ipykernel_31243/1592665972.py:2: RuntimeWarning: divide by zero encountered in double_scalars\n",
      "  d1 = (np.log(S/K) + (r - p + sigma**2/2)*T)/(sigma*np.sqrt(T))\n",
      "/var/folders/g3/164q6cz52jv0sjllnsg7jdsm0000gn/T/ipykernel_31243/1484490205.py:138: RuntimeWarning: divide by zero encountered in double_scalars\n",
      "  d_up = (np.log(close/K) + (mu - 0.5 * sigma **2) * (count)) / (sigma * math.sqrt(count))\n"
     ]
    },
    {
     "name": "stdout",
     "output_type": "stream",
     "text": [
      "[*********************100%***********************]  1 of 1 completed\n"
     ]
    },
    {
     "name": "stderr",
     "output_type": "stream",
     "text": [
      "/var/folders/g3/164q6cz52jv0sjllnsg7jdsm0000gn/T/ipykernel_31243/1592665972.py:2: RuntimeWarning: divide by zero encountered in double_scalars\n",
      "  d1 = (np.log(S/K) + (r - p + sigma**2/2)*T)/(sigma*np.sqrt(T))\n",
      "/var/folders/g3/164q6cz52jv0sjllnsg7jdsm0000gn/T/ipykernel_31243/1484490205.py:138: RuntimeWarning: divide by zero encountered in double_scalars\n",
      "  d_up = (np.log(close/K) + (mu - 0.5 * sigma **2) * (count)) / (sigma * math.sqrt(count))\n",
      "/var/folders/g3/164q6cz52jv0sjllnsg7jdsm0000gn/T/ipykernel_31243/1484490205.py:146: RuntimeWarning: divide by zero encountered in double_scalars\n",
      "  diff_put = (P - true_put) / P * 100\n",
      "/var/folders/g3/164q6cz52jv0sjllnsg7jdsm0000gn/T/ipykernel_31243/1484490205.py:148: RuntimeWarning: divide by zero encountered in double_scalars\n",
      "  diff_call = (C - true_call) / C * 100\n"
     ]
    },
    {
     "name": "stdout",
     "output_type": "stream",
     "text": [
      "[*********************100%***********************]  1 of 1 completed\n"
     ]
    },
    {
     "name": "stderr",
     "output_type": "stream",
     "text": [
      "/var/folders/g3/164q6cz52jv0sjllnsg7jdsm0000gn/T/ipykernel_31243/1592665972.py:2: RuntimeWarning: divide by zero encountered in double_scalars\n",
      "  d1 = (np.log(S/K) + (r - p + sigma**2/2)*T)/(sigma*np.sqrt(T))\n",
      "/var/folders/g3/164q6cz52jv0sjllnsg7jdsm0000gn/T/ipykernel_31243/1484490205.py:138: RuntimeWarning: divide by zero encountered in double_scalars\n",
      "  d_up = (np.log(close/K) + (mu - 0.5 * sigma **2) * (count)) / (sigma * math.sqrt(count))\n"
     ]
    },
    {
     "name": "stdout",
     "output_type": "stream",
     "text": [
      "[*********************100%***********************]  1 of 1 completed\n"
     ]
    },
    {
     "name": "stderr",
     "output_type": "stream",
     "text": [
      "/var/folders/g3/164q6cz52jv0sjllnsg7jdsm0000gn/T/ipykernel_31243/1592665972.py:2: RuntimeWarning: divide by zero encountered in double_scalars\n",
      "  d1 = (np.log(S/K) + (r - p + sigma**2/2)*T)/(sigma*np.sqrt(T))\n",
      "/var/folders/g3/164q6cz52jv0sjllnsg7jdsm0000gn/T/ipykernel_31243/1484490205.py:138: RuntimeWarning: divide by zero encountered in double_scalars\n",
      "  d_up = (np.log(close/K) + (mu - 0.5 * sigma **2) * (count)) / (sigma * math.sqrt(count))\n"
     ]
    },
    {
     "name": "stdout",
     "output_type": "stream",
     "text": [
      "[*********************100%***********************]  1 of 1 completed\n"
     ]
    },
    {
     "name": "stderr",
     "output_type": "stream",
     "text": [
      "/var/folders/g3/164q6cz52jv0sjllnsg7jdsm0000gn/T/ipykernel_31243/1592665972.py:2: RuntimeWarning: divide by zero encountered in double_scalars\n",
      "  d1 = (np.log(S/K) + (r - p + sigma**2/2)*T)/(sigma*np.sqrt(T))\n",
      "/var/folders/g3/164q6cz52jv0sjllnsg7jdsm0000gn/T/ipykernel_31243/1484490205.py:138: RuntimeWarning: divide by zero encountered in double_scalars\n",
      "  d_up = (np.log(close/K) + (mu - 0.5 * sigma **2) * (count)) / (sigma * math.sqrt(count))\n"
     ]
    },
    {
     "name": "stdout",
     "output_type": "stream",
     "text": [
      "[*********************100%***********************]  1 of 1 completed\n"
     ]
    },
    {
     "name": "stderr",
     "output_type": "stream",
     "text": [
      "/var/folders/g3/164q6cz52jv0sjllnsg7jdsm0000gn/T/ipykernel_31243/1592665972.py:2: RuntimeWarning: divide by zero encountered in double_scalars\n",
      "  d1 = (np.log(S/K) + (r - p + sigma**2/2)*T)/(sigma*np.sqrt(T))\n",
      "/var/folders/g3/164q6cz52jv0sjllnsg7jdsm0000gn/T/ipykernel_31243/1484490205.py:138: RuntimeWarning: divide by zero encountered in double_scalars\n",
      "  d_up = (np.log(close/K) + (mu - 0.5 * sigma **2) * (count)) / (sigma * math.sqrt(count))\n"
     ]
    },
    {
     "name": "stdout",
     "output_type": "stream",
     "text": [
      "[*********************100%***********************]  1 of 1 completed\n"
     ]
    },
    {
     "name": "stderr",
     "output_type": "stream",
     "text": [
      "/var/folders/g3/164q6cz52jv0sjllnsg7jdsm0000gn/T/ipykernel_31243/1592665972.py:2: RuntimeWarning: divide by zero encountered in double_scalars\n",
      "  d1 = (np.log(S/K) + (r - p + sigma**2/2)*T)/(sigma*np.sqrt(T))\n",
      "/var/folders/g3/164q6cz52jv0sjllnsg7jdsm0000gn/T/ipykernel_31243/1484490205.py:138: RuntimeWarning: divide by zero encountered in double_scalars\n",
      "  d_up = (np.log(close/K) + (mu - 0.5 * sigma **2) * (count)) / (sigma * math.sqrt(count))\n"
     ]
    },
    {
     "name": "stdout",
     "output_type": "stream",
     "text": [
      "[*********************100%***********************]  1 of 1 completed\n"
     ]
    },
    {
     "name": "stderr",
     "output_type": "stream",
     "text": [
      "/var/folders/g3/164q6cz52jv0sjllnsg7jdsm0000gn/T/ipykernel_31243/1592665972.py:2: RuntimeWarning: divide by zero encountered in double_scalars\n",
      "  d1 = (np.log(S/K) + (r - p + sigma**2/2)*T)/(sigma*np.sqrt(T))\n",
      "/var/folders/g3/164q6cz52jv0sjllnsg7jdsm0000gn/T/ipykernel_31243/1484490205.py:138: RuntimeWarning: divide by zero encountered in double_scalars\n",
      "  d_up = (np.log(close/K) + (mu - 0.5 * sigma **2) * (count)) / (sigma * math.sqrt(count))\n"
     ]
    },
    {
     "name": "stdout",
     "output_type": "stream",
     "text": [
      "[*********************100%***********************]  1 of 1 completed\n"
     ]
    },
    {
     "name": "stderr",
     "output_type": "stream",
     "text": [
      "/var/folders/g3/164q6cz52jv0sjllnsg7jdsm0000gn/T/ipykernel_31243/1592665972.py:2: RuntimeWarning: divide by zero encountered in double_scalars\n",
      "  d1 = (np.log(S/K) + (r - p + sigma**2/2)*T)/(sigma*np.sqrt(T))\n",
      "/var/folders/g3/164q6cz52jv0sjllnsg7jdsm0000gn/T/ipykernel_31243/1484490205.py:138: RuntimeWarning: divide by zero encountered in double_scalars\n",
      "  d_up = (np.log(close/K) + (mu - 0.5 * sigma **2) * (count)) / (sigma * math.sqrt(count))\n"
     ]
    },
    {
     "name": "stdout",
     "output_type": "stream",
     "text": [
      "[*********************100%***********************]  1 of 1 completed\n"
     ]
    },
    {
     "name": "stderr",
     "output_type": "stream",
     "text": [
      "/var/folders/g3/164q6cz52jv0sjllnsg7jdsm0000gn/T/ipykernel_31243/1592665972.py:2: RuntimeWarning: divide by zero encountered in double_scalars\n",
      "  d1 = (np.log(S/K) + (r - p + sigma**2/2)*T)/(sigma*np.sqrt(T))\n",
      "/var/folders/g3/164q6cz52jv0sjllnsg7jdsm0000gn/T/ipykernel_31243/1484490205.py:138: RuntimeWarning: divide by zero encountered in double_scalars\n",
      "  d_up = (np.log(close/K) + (mu - 0.5 * sigma **2) * (count)) / (sigma * math.sqrt(count))\n"
     ]
    },
    {
     "name": "stdout",
     "output_type": "stream",
     "text": [
      "[*********************100%***********************]  1 of 1 completed\n"
     ]
    },
    {
     "name": "stderr",
     "output_type": "stream",
     "text": [
      "/var/folders/g3/164q6cz52jv0sjllnsg7jdsm0000gn/T/ipykernel_31243/1592665972.py:2: RuntimeWarning: divide by zero encountered in double_scalars\n",
      "  d1 = (np.log(S/K) + (r - p + sigma**2/2)*T)/(sigma*np.sqrt(T))\n",
      "/var/folders/g3/164q6cz52jv0sjllnsg7jdsm0000gn/T/ipykernel_31243/1484490205.py:138: RuntimeWarning: divide by zero encountered in double_scalars\n",
      "  d_up = (np.log(close/K) + (mu - 0.5 * sigma **2) * (count)) / (sigma * math.sqrt(count))\n"
     ]
    },
    {
     "name": "stdout",
     "output_type": "stream",
     "text": [
      "[*********************100%***********************]  1 of 1 completed\n"
     ]
    },
    {
     "name": "stderr",
     "output_type": "stream",
     "text": [
      "/var/folders/g3/164q6cz52jv0sjllnsg7jdsm0000gn/T/ipykernel_31243/1592665972.py:2: RuntimeWarning: divide by zero encountered in double_scalars\n",
      "  d1 = (np.log(S/K) + (r - p + sigma**2/2)*T)/(sigma*np.sqrt(T))\n",
      "/var/folders/g3/164q6cz52jv0sjllnsg7jdsm0000gn/T/ipykernel_31243/1484490205.py:138: RuntimeWarning: divide by zero encountered in double_scalars\n",
      "  d_up = (np.log(close/K) + (mu - 0.5 * sigma **2) * (count)) / (sigma * math.sqrt(count))\n"
     ]
    },
    {
     "name": "stdout",
     "output_type": "stream",
     "text": [
      "[*********************100%***********************]  1 of 1 completed\n"
     ]
    },
    {
     "name": "stderr",
     "output_type": "stream",
     "text": [
      "/var/folders/g3/164q6cz52jv0sjllnsg7jdsm0000gn/T/ipykernel_31243/1592665972.py:2: RuntimeWarning: divide by zero encountered in double_scalars\n",
      "  d1 = (np.log(S/K) + (r - p + sigma**2/2)*T)/(sigma*np.sqrt(T))\n",
      "/var/folders/g3/164q6cz52jv0sjllnsg7jdsm0000gn/T/ipykernel_31243/1484490205.py:138: RuntimeWarning: divide by zero encountered in double_scalars\n",
      "  d_up = (np.log(close/K) + (mu - 0.5 * sigma **2) * (count)) / (sigma * math.sqrt(count))\n"
     ]
    },
    {
     "name": "stdout",
     "output_type": "stream",
     "text": [
      "[*********************100%***********************]  1 of 1 completed\n"
     ]
    },
    {
     "name": "stderr",
     "output_type": "stream",
     "text": [
      "/var/folders/g3/164q6cz52jv0sjllnsg7jdsm0000gn/T/ipykernel_31243/1592665972.py:2: RuntimeWarning: divide by zero encountered in double_scalars\n",
      "  d1 = (np.log(S/K) + (r - p + sigma**2/2)*T)/(sigma*np.sqrt(T))\n",
      "/var/folders/g3/164q6cz52jv0sjllnsg7jdsm0000gn/T/ipykernel_31243/1484490205.py:138: RuntimeWarning: divide by zero encountered in double_scalars\n",
      "  d_up = (np.log(close/K) + (mu - 0.5 * sigma **2) * (count)) / (sigma * math.sqrt(count))\n"
     ]
    },
    {
     "name": "stdout",
     "output_type": "stream",
     "text": [
      "[*********************100%***********************]  1 of 1 completed\n"
     ]
    },
    {
     "name": "stderr",
     "output_type": "stream",
     "text": [
      "/var/folders/g3/164q6cz52jv0sjllnsg7jdsm0000gn/T/ipykernel_31243/1592665972.py:2: RuntimeWarning: divide by zero encountered in double_scalars\n",
      "  d1 = (np.log(S/K) + (r - p + sigma**2/2)*T)/(sigma*np.sqrt(T))\n",
      "/var/folders/g3/164q6cz52jv0sjllnsg7jdsm0000gn/T/ipykernel_31243/1484490205.py:138: RuntimeWarning: divide by zero encountered in double_scalars\n",
      "  d_up = (np.log(close/K) + (mu - 0.5 * sigma **2) * (count)) / (sigma * math.sqrt(count))\n"
     ]
    },
    {
     "name": "stdout",
     "output_type": "stream",
     "text": [
      "[*********************100%***********************]  1 of 1 completed\n"
     ]
    },
    {
     "name": "stderr",
     "output_type": "stream",
     "text": [
      "/var/folders/g3/164q6cz52jv0sjllnsg7jdsm0000gn/T/ipykernel_31243/1592665972.py:2: RuntimeWarning: divide by zero encountered in double_scalars\n",
      "  d1 = (np.log(S/K) + (r - p + sigma**2/2)*T)/(sigma*np.sqrt(T))\n",
      "/var/folders/g3/164q6cz52jv0sjllnsg7jdsm0000gn/T/ipykernel_31243/1484490205.py:138: RuntimeWarning: divide by zero encountered in double_scalars\n",
      "  d_up = (np.log(close/K) + (mu - 0.5 * sigma **2) * (count)) / (sigma * math.sqrt(count))\n"
     ]
    },
    {
     "name": "stdout",
     "output_type": "stream",
     "text": [
      "[*********************100%***********************]  1 of 1 completed\n"
     ]
    },
    {
     "name": "stderr",
     "output_type": "stream",
     "text": [
      "/var/folders/g3/164q6cz52jv0sjllnsg7jdsm0000gn/T/ipykernel_31243/1592665972.py:2: RuntimeWarning: divide by zero encountered in double_scalars\n",
      "  d1 = (np.log(S/K) + (r - p + sigma**2/2)*T)/(sigma*np.sqrt(T))\n",
      "/var/folders/g3/164q6cz52jv0sjllnsg7jdsm0000gn/T/ipykernel_31243/1484490205.py:138: RuntimeWarning: divide by zero encountered in double_scalars\n",
      "  d_up = (np.log(close/K) + (mu - 0.5 * sigma **2) * (count)) / (sigma * math.sqrt(count))\n"
     ]
    },
    {
     "name": "stdout",
     "output_type": "stream",
     "text": [
      "[*********************100%***********************]  1 of 1 completed\n"
     ]
    },
    {
     "name": "stderr",
     "output_type": "stream",
     "text": [
      "/var/folders/g3/164q6cz52jv0sjllnsg7jdsm0000gn/T/ipykernel_31243/1592665972.py:2: RuntimeWarning: divide by zero encountered in double_scalars\n",
      "  d1 = (np.log(S/K) + (r - p + sigma**2/2)*T)/(sigma*np.sqrt(T))\n",
      "/var/folders/g3/164q6cz52jv0sjllnsg7jdsm0000gn/T/ipykernel_31243/1484490205.py:138: RuntimeWarning: divide by zero encountered in double_scalars\n",
      "  d_up = (np.log(close/K) + (mu - 0.5 * sigma **2) * (count)) / (sigma * math.sqrt(count))\n"
     ]
    },
    {
     "name": "stdout",
     "output_type": "stream",
     "text": [
      "[*********************100%***********************]  1 of 1 completed\n"
     ]
    },
    {
     "name": "stderr",
     "output_type": "stream",
     "text": [
      "/var/folders/g3/164q6cz52jv0sjllnsg7jdsm0000gn/T/ipykernel_31243/1592665972.py:2: RuntimeWarning: divide by zero encountered in double_scalars\n",
      "  d1 = (np.log(S/K) + (r - p + sigma**2/2)*T)/(sigma*np.sqrt(T))\n",
      "/var/folders/g3/164q6cz52jv0sjllnsg7jdsm0000gn/T/ipykernel_31243/1484490205.py:138: RuntimeWarning: divide by zero encountered in double_scalars\n",
      "  d_up = (np.log(close/K) + (mu - 0.5 * sigma **2) * (count)) / (sigma * math.sqrt(count))\n"
     ]
    },
    {
     "name": "stdout",
     "output_type": "stream",
     "text": [
      "[*********************100%***********************]  1 of 1 completed\n"
     ]
    },
    {
     "name": "stderr",
     "output_type": "stream",
     "text": [
      "/var/folders/g3/164q6cz52jv0sjllnsg7jdsm0000gn/T/ipykernel_31243/1592665972.py:2: RuntimeWarning: divide by zero encountered in double_scalars\n",
      "  d1 = (np.log(S/K) + (r - p + sigma**2/2)*T)/(sigma*np.sqrt(T))\n",
      "/var/folders/g3/164q6cz52jv0sjllnsg7jdsm0000gn/T/ipykernel_31243/1484490205.py:138: RuntimeWarning: divide by zero encountered in double_scalars\n",
      "  d_up = (np.log(close/K) + (mu - 0.5 * sigma **2) * (count)) / (sigma * math.sqrt(count))\n"
     ]
    },
    {
     "name": "stdout",
     "output_type": "stream",
     "text": [
      "[*********************100%***********************]  1 of 1 completed\n"
     ]
    },
    {
     "name": "stderr",
     "output_type": "stream",
     "text": [
      "/var/folders/g3/164q6cz52jv0sjllnsg7jdsm0000gn/T/ipykernel_31243/1592665972.py:2: RuntimeWarning: divide by zero encountered in double_scalars\n",
      "  d1 = (np.log(S/K) + (r - p + sigma**2/2)*T)/(sigma*np.sqrt(T))\n",
      "/var/folders/g3/164q6cz52jv0sjllnsg7jdsm0000gn/T/ipykernel_31243/1484490205.py:138: RuntimeWarning: divide by zero encountered in double_scalars\n",
      "  d_up = (np.log(close/K) + (mu - 0.5 * sigma **2) * (count)) / (sigma * math.sqrt(count))\n"
     ]
    },
    {
     "name": "stdout",
     "output_type": "stream",
     "text": [
      "[*********************100%***********************]  1 of 1 completed\n"
     ]
    },
    {
     "name": "stderr",
     "output_type": "stream",
     "text": [
      "/var/folders/g3/164q6cz52jv0sjllnsg7jdsm0000gn/T/ipykernel_31243/1592665972.py:2: RuntimeWarning: divide by zero encountered in double_scalars\n",
      "  d1 = (np.log(S/K) + (r - p + sigma**2/2)*T)/(sigma*np.sqrt(T))\n",
      "/var/folders/g3/164q6cz52jv0sjllnsg7jdsm0000gn/T/ipykernel_31243/1484490205.py:138: RuntimeWarning: divide by zero encountered in double_scalars\n",
      "  d_up = (np.log(close/K) + (mu - 0.5 * sigma **2) * (count)) / (sigma * math.sqrt(count))\n"
     ]
    },
    {
     "name": "stdout",
     "output_type": "stream",
     "text": [
      "[*********************100%***********************]  1 of 1 completed\n"
     ]
    },
    {
     "name": "stderr",
     "output_type": "stream",
     "text": [
      "/var/folders/g3/164q6cz52jv0sjllnsg7jdsm0000gn/T/ipykernel_31243/1592665972.py:2: RuntimeWarning: divide by zero encountered in double_scalars\n",
      "  d1 = (np.log(S/K) + (r - p + sigma**2/2)*T)/(sigma*np.sqrt(T))\n",
      "/var/folders/g3/164q6cz52jv0sjllnsg7jdsm0000gn/T/ipykernel_31243/1484490205.py:138: RuntimeWarning: divide by zero encountered in double_scalars\n",
      "  d_up = (np.log(close/K) + (mu - 0.5 * sigma **2) * (count)) / (sigma * math.sqrt(count))\n"
     ]
    },
    {
     "name": "stdout",
     "output_type": "stream",
     "text": [
      "[*********************100%***********************]  1 of 1 completed\n"
     ]
    },
    {
     "name": "stderr",
     "output_type": "stream",
     "text": [
      "/var/folders/g3/164q6cz52jv0sjllnsg7jdsm0000gn/T/ipykernel_31243/1592665972.py:2: RuntimeWarning: divide by zero encountered in double_scalars\n",
      "  d1 = (np.log(S/K) + (r - p + sigma**2/2)*T)/(sigma*np.sqrt(T))\n",
      "/var/folders/g3/164q6cz52jv0sjllnsg7jdsm0000gn/T/ipykernel_31243/1484490205.py:138: RuntimeWarning: divide by zero encountered in double_scalars\n",
      "  d_up = (np.log(close/K) + (mu - 0.5 * sigma **2) * (count)) / (sigma * math.sqrt(count))\n"
     ]
    },
    {
     "name": "stdout",
     "output_type": "stream",
     "text": [
      "[*********************100%***********************]  1 of 1 completed\n"
     ]
    },
    {
     "name": "stderr",
     "output_type": "stream",
     "text": [
      "/var/folders/g3/164q6cz52jv0sjllnsg7jdsm0000gn/T/ipykernel_31243/1592665972.py:2: RuntimeWarning: divide by zero encountered in double_scalars\n",
      "  d1 = (np.log(S/K) + (r - p + sigma**2/2)*T)/(sigma*np.sqrt(T))\n",
      "/var/folders/g3/164q6cz52jv0sjllnsg7jdsm0000gn/T/ipykernel_31243/1484490205.py:138: RuntimeWarning: divide by zero encountered in double_scalars\n",
      "  d_up = (np.log(close/K) + (mu - 0.5 * sigma **2) * (count)) / (sigma * math.sqrt(count))\n"
     ]
    },
    {
     "name": "stdout",
     "output_type": "stream",
     "text": [
      "[*********************100%***********************]  1 of 1 completed\n"
     ]
    },
    {
     "name": "stderr",
     "output_type": "stream",
     "text": [
      "/var/folders/g3/164q6cz52jv0sjllnsg7jdsm0000gn/T/ipykernel_31243/1592665972.py:2: RuntimeWarning: divide by zero encountered in double_scalars\n",
      "  d1 = (np.log(S/K) + (r - p + sigma**2/2)*T)/(sigma*np.sqrt(T))\n",
      "/var/folders/g3/164q6cz52jv0sjllnsg7jdsm0000gn/T/ipykernel_31243/1484490205.py:138: RuntimeWarning: divide by zero encountered in double_scalars\n",
      "  d_up = (np.log(close/K) + (mu - 0.5 * sigma **2) * (count)) / (sigma * math.sqrt(count))\n"
     ]
    },
    {
     "name": "stdout",
     "output_type": "stream",
     "text": [
      "[*********************100%***********************]  1 of 1 completed\n"
     ]
    },
    {
     "name": "stderr",
     "output_type": "stream",
     "text": [
      "/var/folders/g3/164q6cz52jv0sjllnsg7jdsm0000gn/T/ipykernel_31243/1592665972.py:2: RuntimeWarning: divide by zero encountered in double_scalars\n",
      "  d1 = (np.log(S/K) + (r - p + sigma**2/2)*T)/(sigma*np.sqrt(T))\n",
      "/var/folders/g3/164q6cz52jv0sjllnsg7jdsm0000gn/T/ipykernel_31243/1484490205.py:138: RuntimeWarning: divide by zero encountered in double_scalars\n",
      "  d_up = (np.log(close/K) + (mu - 0.5 * sigma **2) * (count)) / (sigma * math.sqrt(count))\n"
     ]
    },
    {
     "name": "stdout",
     "output_type": "stream",
     "text": [
      "[*********************100%***********************]  1 of 1 completed\n"
     ]
    },
    {
     "name": "stderr",
     "output_type": "stream",
     "text": [
      "/var/folders/g3/164q6cz52jv0sjllnsg7jdsm0000gn/T/ipykernel_31243/1592665972.py:2: RuntimeWarning: divide by zero encountered in double_scalars\n",
      "  d1 = (np.log(S/K) + (r - p + sigma**2/2)*T)/(sigma*np.sqrt(T))\n",
      "/var/folders/g3/164q6cz52jv0sjllnsg7jdsm0000gn/T/ipykernel_31243/1484490205.py:138: RuntimeWarning: divide by zero encountered in double_scalars\n",
      "  d_up = (np.log(close/K) + (mu - 0.5 * sigma **2) * (count)) / (sigma * math.sqrt(count))\n"
     ]
    },
    {
     "name": "stdout",
     "output_type": "stream",
     "text": [
      "[*********************100%***********************]  1 of 1 completed\n"
     ]
    },
    {
     "name": "stderr",
     "output_type": "stream",
     "text": [
      "/var/folders/g3/164q6cz52jv0sjllnsg7jdsm0000gn/T/ipykernel_31243/1592665972.py:2: RuntimeWarning: divide by zero encountered in double_scalars\n",
      "  d1 = (np.log(S/K) + (r - p + sigma**2/2)*T)/(sigma*np.sqrt(T))\n",
      "/var/folders/g3/164q6cz52jv0sjllnsg7jdsm0000gn/T/ipykernel_31243/1484490205.py:138: RuntimeWarning: divide by zero encountered in double_scalars\n",
      "  d_up = (np.log(close/K) + (mu - 0.5 * sigma **2) * (count)) / (sigma * math.sqrt(count))\n"
     ]
    },
    {
     "name": "stdout",
     "output_type": "stream",
     "text": [
      "[*********************100%***********************]  1 of 1 completed\n"
     ]
    },
    {
     "name": "stderr",
     "output_type": "stream",
     "text": [
      "/var/folders/g3/164q6cz52jv0sjllnsg7jdsm0000gn/T/ipykernel_31243/1592665972.py:2: RuntimeWarning: divide by zero encountered in double_scalars\n",
      "  d1 = (np.log(S/K) + (r - p + sigma**2/2)*T)/(sigma*np.sqrt(T))\n",
      "/var/folders/g3/164q6cz52jv0sjllnsg7jdsm0000gn/T/ipykernel_31243/1484490205.py:138: RuntimeWarning: divide by zero encountered in double_scalars\n",
      "  d_up = (np.log(close/K) + (mu - 0.5 * sigma **2) * (count)) / (sigma * math.sqrt(count))\n"
     ]
    },
    {
     "name": "stdout",
     "output_type": "stream",
     "text": [
      "[*********************100%***********************]  1 of 1 completed\n"
     ]
    },
    {
     "name": "stderr",
     "output_type": "stream",
     "text": [
      "/var/folders/g3/164q6cz52jv0sjllnsg7jdsm0000gn/T/ipykernel_31243/1592665972.py:2: RuntimeWarning: divide by zero encountered in double_scalars\n",
      "  d1 = (np.log(S/K) + (r - p + sigma**2/2)*T)/(sigma*np.sqrt(T))\n",
      "/var/folders/g3/164q6cz52jv0sjllnsg7jdsm0000gn/T/ipykernel_31243/1484490205.py:138: RuntimeWarning: divide by zero encountered in double_scalars\n",
      "  d_up = (np.log(close/K) + (mu - 0.5 * sigma **2) * (count)) / (sigma * math.sqrt(count))\n"
     ]
    },
    {
     "name": "stdout",
     "output_type": "stream",
     "text": [
      "[*********************100%***********************]  1 of 1 completed\n"
     ]
    },
    {
     "name": "stderr",
     "output_type": "stream",
     "text": [
      "/var/folders/g3/164q6cz52jv0sjllnsg7jdsm0000gn/T/ipykernel_31243/1592665972.py:2: RuntimeWarning: divide by zero encountered in double_scalars\n",
      "  d1 = (np.log(S/K) + (r - p + sigma**2/2)*T)/(sigma*np.sqrt(T))\n",
      "/var/folders/g3/164q6cz52jv0sjllnsg7jdsm0000gn/T/ipykernel_31243/1484490205.py:138: RuntimeWarning: divide by zero encountered in double_scalars\n",
      "  d_up = (np.log(close/K) + (mu - 0.5 * sigma **2) * (count)) / (sigma * math.sqrt(count))\n"
     ]
    },
    {
     "name": "stdout",
     "output_type": "stream",
     "text": [
      "[*********************100%***********************]  1 of 1 completed\n"
     ]
    },
    {
     "name": "stderr",
     "output_type": "stream",
     "text": [
      "/var/folders/g3/164q6cz52jv0sjllnsg7jdsm0000gn/T/ipykernel_31243/1592665972.py:2: RuntimeWarning: divide by zero encountered in double_scalars\n",
      "  d1 = (np.log(S/K) + (r - p + sigma**2/2)*T)/(sigma*np.sqrt(T))\n",
      "/var/folders/g3/164q6cz52jv0sjllnsg7jdsm0000gn/T/ipykernel_31243/1484490205.py:138: RuntimeWarning: divide by zero encountered in double_scalars\n",
      "  d_up = (np.log(close/K) + (mu - 0.5 * sigma **2) * (count)) / (sigma * math.sqrt(count))\n"
     ]
    },
    {
     "name": "stdout",
     "output_type": "stream",
     "text": [
      "[*********************100%***********************]  1 of 1 completed\n"
     ]
    },
    {
     "name": "stderr",
     "output_type": "stream",
     "text": [
      "/var/folders/g3/164q6cz52jv0sjllnsg7jdsm0000gn/T/ipykernel_31243/1592665972.py:2: RuntimeWarning: divide by zero encountered in double_scalars\n",
      "  d1 = (np.log(S/K) + (r - p + sigma**2/2)*T)/(sigma*np.sqrt(T))\n",
      "/var/folders/g3/164q6cz52jv0sjllnsg7jdsm0000gn/T/ipykernel_31243/1484490205.py:138: RuntimeWarning: divide by zero encountered in double_scalars\n",
      "  d_up = (np.log(close/K) + (mu - 0.5 * sigma **2) * (count)) / (sigma * math.sqrt(count))\n"
     ]
    },
    {
     "name": "stdout",
     "output_type": "stream",
     "text": [
      "[*********************100%***********************]  1 of 1 completed\n"
     ]
    },
    {
     "name": "stderr",
     "output_type": "stream",
     "text": [
      "/var/folders/g3/164q6cz52jv0sjllnsg7jdsm0000gn/T/ipykernel_31243/1592665972.py:2: RuntimeWarning: divide by zero encountered in double_scalars\n",
      "  d1 = (np.log(S/K) + (r - p + sigma**2/2)*T)/(sigma*np.sqrt(T))\n",
      "/var/folders/g3/164q6cz52jv0sjllnsg7jdsm0000gn/T/ipykernel_31243/1484490205.py:138: RuntimeWarning: divide by zero encountered in double_scalars\n",
      "  d_up = (np.log(close/K) + (mu - 0.5 * sigma **2) * (count)) / (sigma * math.sqrt(count))\n"
     ]
    },
    {
     "name": "stdout",
     "output_type": "stream",
     "text": [
      "[*********************100%***********************]  1 of 1 completed\n"
     ]
    },
    {
     "name": "stderr",
     "output_type": "stream",
     "text": [
      "/var/folders/g3/164q6cz52jv0sjllnsg7jdsm0000gn/T/ipykernel_31243/1592665972.py:2: RuntimeWarning: divide by zero encountered in double_scalars\n",
      "  d1 = (np.log(S/K) + (r - p + sigma**2/2)*T)/(sigma*np.sqrt(T))\n",
      "/var/folders/g3/164q6cz52jv0sjllnsg7jdsm0000gn/T/ipykernel_31243/1484490205.py:138: RuntimeWarning: divide by zero encountered in double_scalars\n",
      "  d_up = (np.log(close/K) + (mu - 0.5 * sigma **2) * (count)) / (sigma * math.sqrt(count))\n"
     ]
    },
    {
     "name": "stdout",
     "output_type": "stream",
     "text": [
      "[*********************100%***********************]  1 of 1 completed\n"
     ]
    },
    {
     "name": "stderr",
     "output_type": "stream",
     "text": [
      "/var/folders/g3/164q6cz52jv0sjllnsg7jdsm0000gn/T/ipykernel_31243/1592665972.py:2: RuntimeWarning: divide by zero encountered in double_scalars\n",
      "  d1 = (np.log(S/K) + (r - p + sigma**2/2)*T)/(sigma*np.sqrt(T))\n",
      "/var/folders/g3/164q6cz52jv0sjllnsg7jdsm0000gn/T/ipykernel_31243/1484490205.py:138: RuntimeWarning: divide by zero encountered in double_scalars\n",
      "  d_up = (np.log(close/K) + (mu - 0.5 * sigma **2) * (count)) / (sigma * math.sqrt(count))\n"
     ]
    },
    {
     "name": "stdout",
     "output_type": "stream",
     "text": [
      "[*********************100%***********************]  1 of 1 completed\n"
     ]
    },
    {
     "name": "stderr",
     "output_type": "stream",
     "text": [
      "/var/folders/g3/164q6cz52jv0sjllnsg7jdsm0000gn/T/ipykernel_31243/1592665972.py:2: RuntimeWarning: divide by zero encountered in double_scalars\n",
      "  d1 = (np.log(S/K) + (r - p + sigma**2/2)*T)/(sigma*np.sqrt(T))\n",
      "/var/folders/g3/164q6cz52jv0sjllnsg7jdsm0000gn/T/ipykernel_31243/1484490205.py:138: RuntimeWarning: divide by zero encountered in double_scalars\n",
      "  d_up = (np.log(close/K) + (mu - 0.5 * sigma **2) * (count)) / (sigma * math.sqrt(count))\n"
     ]
    },
    {
     "name": "stdout",
     "output_type": "stream",
     "text": [
      "[*********************100%***********************]  1 of 1 completed\n"
     ]
    },
    {
     "name": "stderr",
     "output_type": "stream",
     "text": [
      "/var/folders/g3/164q6cz52jv0sjllnsg7jdsm0000gn/T/ipykernel_31243/1592665972.py:2: RuntimeWarning: divide by zero encountered in double_scalars\n",
      "  d1 = (np.log(S/K) + (r - p + sigma**2/2)*T)/(sigma*np.sqrt(T))\n",
      "/var/folders/g3/164q6cz52jv0sjllnsg7jdsm0000gn/T/ipykernel_31243/1484490205.py:138: RuntimeWarning: divide by zero encountered in double_scalars\n",
      "  d_up = (np.log(close/K) + (mu - 0.5 * sigma **2) * (count)) / (sigma * math.sqrt(count))\n"
     ]
    },
    {
     "name": "stdout",
     "output_type": "stream",
     "text": [
      "[*********************100%***********************]  1 of 1 completed\n"
     ]
    },
    {
     "name": "stderr",
     "output_type": "stream",
     "text": [
      "/var/folders/g3/164q6cz52jv0sjllnsg7jdsm0000gn/T/ipykernel_31243/1592665972.py:2: RuntimeWarning: divide by zero encountered in double_scalars\n",
      "  d1 = (np.log(S/K) + (r - p + sigma**2/2)*T)/(sigma*np.sqrt(T))\n",
      "/var/folders/g3/164q6cz52jv0sjllnsg7jdsm0000gn/T/ipykernel_31243/1484490205.py:138: RuntimeWarning: divide by zero encountered in double_scalars\n",
      "  d_up = (np.log(close/K) + (mu - 0.5 * sigma **2) * (count)) / (sigma * math.sqrt(count))\n"
     ]
    },
    {
     "name": "stdout",
     "output_type": "stream",
     "text": [
      "[*********************100%***********************]  1 of 1 completed\n"
     ]
    },
    {
     "name": "stderr",
     "output_type": "stream",
     "text": [
      "/var/folders/g3/164q6cz52jv0sjllnsg7jdsm0000gn/T/ipykernel_31243/1592665972.py:2: RuntimeWarning: divide by zero encountered in double_scalars\n",
      "  d1 = (np.log(S/K) + (r - p + sigma**2/2)*T)/(sigma*np.sqrt(T))\n",
      "/var/folders/g3/164q6cz52jv0sjllnsg7jdsm0000gn/T/ipykernel_31243/1484490205.py:138: RuntimeWarning: divide by zero encountered in double_scalars\n",
      "  d_up = (np.log(close/K) + (mu - 0.5 * sigma **2) * (count)) / (sigma * math.sqrt(count))\n"
     ]
    },
    {
     "name": "stdout",
     "output_type": "stream",
     "text": [
      "[*********************100%***********************]  1 of 1 completed\n"
     ]
    },
    {
     "name": "stderr",
     "output_type": "stream",
     "text": [
      "/var/folders/g3/164q6cz52jv0sjllnsg7jdsm0000gn/T/ipykernel_31243/1592665972.py:2: RuntimeWarning: divide by zero encountered in double_scalars\n",
      "  d1 = (np.log(S/K) + (r - p + sigma**2/2)*T)/(sigma*np.sqrt(T))\n",
      "/var/folders/g3/164q6cz52jv0sjllnsg7jdsm0000gn/T/ipykernel_31243/1484490205.py:138: RuntimeWarning: divide by zero encountered in double_scalars\n",
      "  d_up = (np.log(close/K) + (mu - 0.5 * sigma **2) * (count)) / (sigma * math.sqrt(count))\n"
     ]
    },
    {
     "name": "stdout",
     "output_type": "stream",
     "text": [
      "[*********************100%***********************]  1 of 1 completed\n"
     ]
    },
    {
     "name": "stderr",
     "output_type": "stream",
     "text": [
      "/var/folders/g3/164q6cz52jv0sjllnsg7jdsm0000gn/T/ipykernel_31243/1592665972.py:2: RuntimeWarning: divide by zero encountered in double_scalars\n",
      "  d1 = (np.log(S/K) + (r - p + sigma**2/2)*T)/(sigma*np.sqrt(T))\n",
      "/var/folders/g3/164q6cz52jv0sjllnsg7jdsm0000gn/T/ipykernel_31243/1484490205.py:138: RuntimeWarning: divide by zero encountered in double_scalars\n",
      "  d_up = (np.log(close/K) + (mu - 0.5 * sigma **2) * (count)) / (sigma * math.sqrt(count))\n"
     ]
    },
    {
     "name": "stdout",
     "output_type": "stream",
     "text": [
      "[*********************100%***********************]  1 of 1 completed\n"
     ]
    },
    {
     "name": "stderr",
     "output_type": "stream",
     "text": [
      "/var/folders/g3/164q6cz52jv0sjllnsg7jdsm0000gn/T/ipykernel_31243/1592665972.py:2: RuntimeWarning: divide by zero encountered in double_scalars\n",
      "  d1 = (np.log(S/K) + (r - p + sigma**2/2)*T)/(sigma*np.sqrt(T))\n",
      "/var/folders/g3/164q6cz52jv0sjllnsg7jdsm0000gn/T/ipykernel_31243/1484490205.py:138: RuntimeWarning: divide by zero encountered in double_scalars\n",
      "  d_up = (np.log(close/K) + (mu - 0.5 * sigma **2) * (count)) / (sigma * math.sqrt(count))\n"
     ]
    },
    {
     "name": "stdout",
     "output_type": "stream",
     "text": [
      "[*********************100%***********************]  1 of 1 completed\n"
     ]
    },
    {
     "name": "stderr",
     "output_type": "stream",
     "text": [
      "/var/folders/g3/164q6cz52jv0sjllnsg7jdsm0000gn/T/ipykernel_31243/1592665972.py:2: RuntimeWarning: divide by zero encountered in double_scalars\n",
      "  d1 = (np.log(S/K) + (r - p + sigma**2/2)*T)/(sigma*np.sqrt(T))\n",
      "/var/folders/g3/164q6cz52jv0sjllnsg7jdsm0000gn/T/ipykernel_31243/1484490205.py:138: RuntimeWarning: divide by zero encountered in double_scalars\n",
      "  d_up = (np.log(close/K) + (mu - 0.5 * sigma **2) * (count)) / (sigma * math.sqrt(count))\n"
     ]
    },
    {
     "name": "stdout",
     "output_type": "stream",
     "text": [
      "[*********************100%***********************]  1 of 1 completed\n"
     ]
    },
    {
     "name": "stderr",
     "output_type": "stream",
     "text": [
      "/var/folders/g3/164q6cz52jv0sjllnsg7jdsm0000gn/T/ipykernel_31243/1592665972.py:2: RuntimeWarning: divide by zero encountered in double_scalars\n",
      "  d1 = (np.log(S/K) + (r - p + sigma**2/2)*T)/(sigma*np.sqrt(T))\n",
      "/var/folders/g3/164q6cz52jv0sjllnsg7jdsm0000gn/T/ipykernel_31243/1484490205.py:138: RuntimeWarning: divide by zero encountered in double_scalars\n",
      "  d_up = (np.log(close/K) + (mu - 0.5 * sigma **2) * (count)) / (sigma * math.sqrt(count))\n"
     ]
    },
    {
     "name": "stdout",
     "output_type": "stream",
     "text": [
      "[*********************100%***********************]  1 of 1 completed\n"
     ]
    },
    {
     "name": "stderr",
     "output_type": "stream",
     "text": [
      "/var/folders/g3/164q6cz52jv0sjllnsg7jdsm0000gn/T/ipykernel_31243/1592665972.py:2: RuntimeWarning: divide by zero encountered in double_scalars\n",
      "  d1 = (np.log(S/K) + (r - p + sigma**2/2)*T)/(sigma*np.sqrt(T))\n",
      "/var/folders/g3/164q6cz52jv0sjllnsg7jdsm0000gn/T/ipykernel_31243/1484490205.py:138: RuntimeWarning: divide by zero encountered in double_scalars\n",
      "  d_up = (np.log(close/K) + (mu - 0.5 * sigma **2) * (count)) / (sigma * math.sqrt(count))\n"
     ]
    },
    {
     "name": "stdout",
     "output_type": "stream",
     "text": [
      "[*********************100%***********************]  1 of 1 completed\n"
     ]
    },
    {
     "name": "stderr",
     "output_type": "stream",
     "text": [
      "/var/folders/g3/164q6cz52jv0sjllnsg7jdsm0000gn/T/ipykernel_31243/1592665972.py:2: RuntimeWarning: divide by zero encountered in double_scalars\n",
      "  d1 = (np.log(S/K) + (r - p + sigma**2/2)*T)/(sigma*np.sqrt(T))\n",
      "/var/folders/g3/164q6cz52jv0sjllnsg7jdsm0000gn/T/ipykernel_31243/1484490205.py:138: RuntimeWarning: divide by zero encountered in double_scalars\n",
      "  d_up = (np.log(close/K) + (mu - 0.5 * sigma **2) * (count)) / (sigma * math.sqrt(count))\n"
     ]
    },
    {
     "name": "stdout",
     "output_type": "stream",
     "text": [
      "[*********************100%***********************]  1 of 1 completed\n"
     ]
    },
    {
     "name": "stderr",
     "output_type": "stream",
     "text": [
      "/var/folders/g3/164q6cz52jv0sjllnsg7jdsm0000gn/T/ipykernel_31243/1592665972.py:2: RuntimeWarning: divide by zero encountered in double_scalars\n",
      "  d1 = (np.log(S/K) + (r - p + sigma**2/2)*T)/(sigma*np.sqrt(T))\n",
      "/var/folders/g3/164q6cz52jv0sjllnsg7jdsm0000gn/T/ipykernel_31243/1484490205.py:138: RuntimeWarning: divide by zero encountered in double_scalars\n",
      "  d_up = (np.log(close/K) + (mu - 0.5 * sigma **2) * (count)) / (sigma * math.sqrt(count))\n"
     ]
    },
    {
     "name": "stdout",
     "output_type": "stream",
     "text": [
      "[*********************100%***********************]  1 of 1 completed\n"
     ]
    },
    {
     "name": "stderr",
     "output_type": "stream",
     "text": [
      "/var/folders/g3/164q6cz52jv0sjllnsg7jdsm0000gn/T/ipykernel_31243/1592665972.py:2: RuntimeWarning: divide by zero encountered in double_scalars\n",
      "  d1 = (np.log(S/K) + (r - p + sigma**2/2)*T)/(sigma*np.sqrt(T))\n",
      "/var/folders/g3/164q6cz52jv0sjllnsg7jdsm0000gn/T/ipykernel_31243/1484490205.py:138: RuntimeWarning: divide by zero encountered in double_scalars\n",
      "  d_up = (np.log(close/K) + (mu - 0.5 * sigma **2) * (count)) / (sigma * math.sqrt(count))\n"
     ]
    },
    {
     "name": "stdout",
     "output_type": "stream",
     "text": [
      "[*********************100%***********************]  1 of 1 completed\n"
     ]
    },
    {
     "name": "stderr",
     "output_type": "stream",
     "text": [
      "/var/folders/g3/164q6cz52jv0sjllnsg7jdsm0000gn/T/ipykernel_31243/1592665972.py:2: RuntimeWarning: divide by zero encountered in double_scalars\n",
      "  d1 = (np.log(S/K) + (r - p + sigma**2/2)*T)/(sigma*np.sqrt(T))\n",
      "/var/folders/g3/164q6cz52jv0sjllnsg7jdsm0000gn/T/ipykernel_31243/1484490205.py:138: RuntimeWarning: divide by zero encountered in double_scalars\n",
      "  d_up = (np.log(close/K) + (mu - 0.5 * sigma **2) * (count)) / (sigma * math.sqrt(count))\n"
     ]
    },
    {
     "name": "stdout",
     "output_type": "stream",
     "text": [
      "[*********************100%***********************]  1 of 1 completed\n"
     ]
    },
    {
     "name": "stderr",
     "output_type": "stream",
     "text": [
      "/var/folders/g3/164q6cz52jv0sjllnsg7jdsm0000gn/T/ipykernel_31243/1592665972.py:2: RuntimeWarning: divide by zero encountered in double_scalars\n",
      "  d1 = (np.log(S/K) + (r - p + sigma**2/2)*T)/(sigma*np.sqrt(T))\n",
      "/var/folders/g3/164q6cz52jv0sjllnsg7jdsm0000gn/T/ipykernel_31243/1484490205.py:138: RuntimeWarning: divide by zero encountered in double_scalars\n",
      "  d_up = (np.log(close/K) + (mu - 0.5 * sigma **2) * (count)) / (sigma * math.sqrt(count))\n"
     ]
    },
    {
     "name": "stdout",
     "output_type": "stream",
     "text": [
      "[*********************100%***********************]  1 of 1 completed\n"
     ]
    },
    {
     "name": "stderr",
     "output_type": "stream",
     "text": [
      "/var/folders/g3/164q6cz52jv0sjllnsg7jdsm0000gn/T/ipykernel_31243/1592665972.py:2: RuntimeWarning: divide by zero encountered in double_scalars\n",
      "  d1 = (np.log(S/K) + (r - p + sigma**2/2)*T)/(sigma*np.sqrt(T))\n",
      "/var/folders/g3/164q6cz52jv0sjllnsg7jdsm0000gn/T/ipykernel_31243/1484490205.py:138: RuntimeWarning: divide by zero encountered in double_scalars\n",
      "  d_up = (np.log(close/K) + (mu - 0.5 * sigma **2) * (count)) / (sigma * math.sqrt(count))\n"
     ]
    },
    {
     "name": "stdout",
     "output_type": "stream",
     "text": [
      "[*********************100%***********************]  1 of 1 completed\n"
     ]
    },
    {
     "name": "stderr",
     "output_type": "stream",
     "text": [
      "/var/folders/g3/164q6cz52jv0sjllnsg7jdsm0000gn/T/ipykernel_31243/1592665972.py:2: RuntimeWarning: divide by zero encountered in double_scalars\n",
      "  d1 = (np.log(S/K) + (r - p + sigma**2/2)*T)/(sigma*np.sqrt(T))\n",
      "/var/folders/g3/164q6cz52jv0sjllnsg7jdsm0000gn/T/ipykernel_31243/1484490205.py:138: RuntimeWarning: divide by zero encountered in double_scalars\n",
      "  d_up = (np.log(close/K) + (mu - 0.5 * sigma **2) * (count)) / (sigma * math.sqrt(count))\n"
     ]
    },
    {
     "name": "stdout",
     "output_type": "stream",
     "text": [
      "[*********************100%***********************]  1 of 1 completed\n"
     ]
    },
    {
     "name": "stderr",
     "output_type": "stream",
     "text": [
      "/var/folders/g3/164q6cz52jv0sjllnsg7jdsm0000gn/T/ipykernel_31243/1592665972.py:2: RuntimeWarning: divide by zero encountered in double_scalars\n",
      "  d1 = (np.log(S/K) + (r - p + sigma**2/2)*T)/(sigma*np.sqrt(T))\n",
      "/var/folders/g3/164q6cz52jv0sjllnsg7jdsm0000gn/T/ipykernel_31243/1484490205.py:138: RuntimeWarning: divide by zero encountered in double_scalars\n",
      "  d_up = (np.log(close/K) + (mu - 0.5 * sigma **2) * (count)) / (sigma * math.sqrt(count))\n"
     ]
    },
    {
     "name": "stdout",
     "output_type": "stream",
     "text": [
      "[*********************100%***********************]  1 of 1 completed\n"
     ]
    },
    {
     "name": "stderr",
     "output_type": "stream",
     "text": [
      "/var/folders/g3/164q6cz52jv0sjllnsg7jdsm0000gn/T/ipykernel_31243/1592665972.py:2: RuntimeWarning: divide by zero encountered in double_scalars\n",
      "  d1 = (np.log(S/K) + (r - p + sigma**2/2)*T)/(sigma*np.sqrt(T))\n",
      "/var/folders/g3/164q6cz52jv0sjllnsg7jdsm0000gn/T/ipykernel_31243/1484490205.py:138: RuntimeWarning: divide by zero encountered in double_scalars\n",
      "  d_up = (np.log(close/K) + (mu - 0.5 * sigma **2) * (count)) / (sigma * math.sqrt(count))\n"
     ]
    },
    {
     "name": "stdout",
     "output_type": "stream",
     "text": [
      "[*********************100%***********************]  1 of 1 completed\n"
     ]
    },
    {
     "name": "stderr",
     "output_type": "stream",
     "text": [
      "/var/folders/g3/164q6cz52jv0sjllnsg7jdsm0000gn/T/ipykernel_31243/1592665972.py:2: RuntimeWarning: divide by zero encountered in double_scalars\n",
      "  d1 = (np.log(S/K) + (r - p + sigma**2/2)*T)/(sigma*np.sqrt(T))\n",
      "/var/folders/g3/164q6cz52jv0sjllnsg7jdsm0000gn/T/ipykernel_31243/1484490205.py:138: RuntimeWarning: divide by zero encountered in double_scalars\n",
      "  d_up = (np.log(close/K) + (mu - 0.5 * sigma **2) * (count)) / (sigma * math.sqrt(count))\n"
     ]
    },
    {
     "name": "stdout",
     "output_type": "stream",
     "text": [
      "[*********************100%***********************]  1 of 1 completed\n"
     ]
    },
    {
     "name": "stderr",
     "output_type": "stream",
     "text": [
      "/var/folders/g3/164q6cz52jv0sjllnsg7jdsm0000gn/T/ipykernel_31243/1592665972.py:2: RuntimeWarning: divide by zero encountered in double_scalars\n",
      "  d1 = (np.log(S/K) + (r - p + sigma**2/2)*T)/(sigma*np.sqrt(T))\n",
      "/var/folders/g3/164q6cz52jv0sjllnsg7jdsm0000gn/T/ipykernel_31243/1484490205.py:138: RuntimeWarning: divide by zero encountered in double_scalars\n",
      "  d_up = (np.log(close/K) + (mu - 0.5 * sigma **2) * (count)) / (sigma * math.sqrt(count))\n"
     ]
    },
    {
     "name": "stdout",
     "output_type": "stream",
     "text": [
      "[*********************100%***********************]  1 of 1 completed\n"
     ]
    },
    {
     "name": "stderr",
     "output_type": "stream",
     "text": [
      "/var/folders/g3/164q6cz52jv0sjllnsg7jdsm0000gn/T/ipykernel_31243/1592665972.py:2: RuntimeWarning: divide by zero encountered in double_scalars\n",
      "  d1 = (np.log(S/K) + (r - p + sigma**2/2)*T)/(sigma*np.sqrt(T))\n",
      "/var/folders/g3/164q6cz52jv0sjllnsg7jdsm0000gn/T/ipykernel_31243/1484490205.py:138: RuntimeWarning: divide by zero encountered in double_scalars\n",
      "  d_up = (np.log(close/K) + (mu - 0.5 * sigma **2) * (count)) / (sigma * math.sqrt(count))\n"
     ]
    },
    {
     "name": "stdout",
     "output_type": "stream",
     "text": [
      "[*********************100%***********************]  1 of 1 completed\n"
     ]
    },
    {
     "name": "stderr",
     "output_type": "stream",
     "text": [
      "/var/folders/g3/164q6cz52jv0sjllnsg7jdsm0000gn/T/ipykernel_31243/1592665972.py:2: RuntimeWarning: divide by zero encountered in double_scalars\n",
      "  d1 = (np.log(S/K) + (r - p + sigma**2/2)*T)/(sigma*np.sqrt(T))\n",
      "/var/folders/g3/164q6cz52jv0sjllnsg7jdsm0000gn/T/ipykernel_31243/1484490205.py:138: RuntimeWarning: divide by zero encountered in double_scalars\n",
      "  d_up = (np.log(close/K) + (mu - 0.5 * sigma **2) * (count)) / (sigma * math.sqrt(count))\n"
     ]
    },
    {
     "name": "stdout",
     "output_type": "stream",
     "text": [
      "[*********************100%***********************]  1 of 1 completed\n"
     ]
    },
    {
     "name": "stderr",
     "output_type": "stream",
     "text": [
      "/var/folders/g3/164q6cz52jv0sjllnsg7jdsm0000gn/T/ipykernel_31243/1592665972.py:2: RuntimeWarning: divide by zero encountered in double_scalars\n",
      "  d1 = (np.log(S/K) + (r - p + sigma**2/2)*T)/(sigma*np.sqrt(T))\n",
      "/var/folders/g3/164q6cz52jv0sjllnsg7jdsm0000gn/T/ipykernel_31243/1484490205.py:138: RuntimeWarning: divide by zero encountered in double_scalars\n",
      "  d_up = (np.log(close/K) + (mu - 0.5 * sigma **2) * (count)) / (sigma * math.sqrt(count))\n"
     ]
    },
    {
     "name": "stdout",
     "output_type": "stream",
     "text": [
      "[*********************100%***********************]  1 of 1 completed\n"
     ]
    },
    {
     "name": "stderr",
     "output_type": "stream",
     "text": [
      "/var/folders/g3/164q6cz52jv0sjllnsg7jdsm0000gn/T/ipykernel_31243/1592665972.py:2: RuntimeWarning: divide by zero encountered in double_scalars\n",
      "  d1 = (np.log(S/K) + (r - p + sigma**2/2)*T)/(sigma*np.sqrt(T))\n",
      "/var/folders/g3/164q6cz52jv0sjllnsg7jdsm0000gn/T/ipykernel_31243/1484490205.py:138: RuntimeWarning: divide by zero encountered in double_scalars\n",
      "  d_up = (np.log(close/K) + (mu - 0.5 * sigma **2) * (count)) / (sigma * math.sqrt(count))\n"
     ]
    },
    {
     "name": "stdout",
     "output_type": "stream",
     "text": [
      "[*********************100%***********************]  1 of 1 completed\n"
     ]
    },
    {
     "name": "stderr",
     "output_type": "stream",
     "text": [
      "/var/folders/g3/164q6cz52jv0sjllnsg7jdsm0000gn/T/ipykernel_31243/1592665972.py:2: RuntimeWarning: divide by zero encountered in double_scalars\n",
      "  d1 = (np.log(S/K) + (r - p + sigma**2/2)*T)/(sigma*np.sqrt(T))\n",
      "/var/folders/g3/164q6cz52jv0sjllnsg7jdsm0000gn/T/ipykernel_31243/1484490205.py:138: RuntimeWarning: divide by zero encountered in double_scalars\n",
      "  d_up = (np.log(close/K) + (mu - 0.5 * sigma **2) * (count)) / (sigma * math.sqrt(count))\n"
     ]
    },
    {
     "name": "stdout",
     "output_type": "stream",
     "text": [
      "[*********************100%***********************]  1 of 1 completed\n"
     ]
    },
    {
     "name": "stderr",
     "output_type": "stream",
     "text": [
      "/var/folders/g3/164q6cz52jv0sjllnsg7jdsm0000gn/T/ipykernel_31243/1592665972.py:2: RuntimeWarning: divide by zero encountered in double_scalars\n",
      "  d1 = (np.log(S/K) + (r - p + sigma**2/2)*T)/(sigma*np.sqrt(T))\n",
      "/var/folders/g3/164q6cz52jv0sjllnsg7jdsm0000gn/T/ipykernel_31243/1484490205.py:138: RuntimeWarning: divide by zero encountered in double_scalars\n",
      "  d_up = (np.log(close/K) + (mu - 0.5 * sigma **2) * (count)) / (sigma * math.sqrt(count))\n"
     ]
    },
    {
     "name": "stdout",
     "output_type": "stream",
     "text": [
      "[*********************100%***********************]  1 of 1 completed\n"
     ]
    },
    {
     "name": "stderr",
     "output_type": "stream",
     "text": [
      "/var/folders/g3/164q6cz52jv0sjllnsg7jdsm0000gn/T/ipykernel_31243/1592665972.py:2: RuntimeWarning: divide by zero encountered in double_scalars\n",
      "  d1 = (np.log(S/K) + (r - p + sigma**2/2)*T)/(sigma*np.sqrt(T))\n",
      "/var/folders/g3/164q6cz52jv0sjllnsg7jdsm0000gn/T/ipykernel_31243/1484490205.py:138: RuntimeWarning: divide by zero encountered in double_scalars\n",
      "  d_up = (np.log(close/K) + (mu - 0.5 * sigma **2) * (count)) / (sigma * math.sqrt(count))\n",
      "/var/folders/g3/164q6cz52jv0sjllnsg7jdsm0000gn/T/ipykernel_31243/1484490205.py:146: RuntimeWarning: divide by zero encountered in double_scalars\n",
      "  diff_put = (P - true_put) / P * 100\n",
      "/var/folders/g3/164q6cz52jv0sjllnsg7jdsm0000gn/T/ipykernel_31243/1484490205.py:148: RuntimeWarning: divide by zero encountered in double_scalars\n",
      "  diff_call = (C - true_call) / C * 100\n"
     ]
    },
    {
     "name": "stdout",
     "output_type": "stream",
     "text": [
      "[*********************100%***********************]  1 of 1 completed\n"
     ]
    },
    {
     "name": "stderr",
     "output_type": "stream",
     "text": [
      "/var/folders/g3/164q6cz52jv0sjllnsg7jdsm0000gn/T/ipykernel_31243/1592665972.py:2: RuntimeWarning: divide by zero encountered in double_scalars\n",
      "  d1 = (np.log(S/K) + (r - p + sigma**2/2)*T)/(sigma*np.sqrt(T))\n",
      "/var/folders/g3/164q6cz52jv0sjllnsg7jdsm0000gn/T/ipykernel_31243/1484490205.py:138: RuntimeWarning: divide by zero encountered in double_scalars\n",
      "  d_up = (np.log(close/K) + (mu - 0.5 * sigma **2) * (count)) / (sigma * math.sqrt(count))\n"
     ]
    },
    {
     "name": "stdout",
     "output_type": "stream",
     "text": [
      "[*********************100%***********************]  1 of 1 completed\n"
     ]
    },
    {
     "name": "stderr",
     "output_type": "stream",
     "text": [
      "/var/folders/g3/164q6cz52jv0sjllnsg7jdsm0000gn/T/ipykernel_31243/1592665972.py:2: RuntimeWarning: divide by zero encountered in double_scalars\n",
      "  d1 = (np.log(S/K) + (r - p + sigma**2/2)*T)/(sigma*np.sqrt(T))\n",
      "/var/folders/g3/164q6cz52jv0sjllnsg7jdsm0000gn/T/ipykernel_31243/1484490205.py:138: RuntimeWarning: divide by zero encountered in double_scalars\n",
      "  d_up = (np.log(close/K) + (mu - 0.5 * sigma **2) * (count)) / (sigma * math.sqrt(count))\n"
     ]
    },
    {
     "name": "stdout",
     "output_type": "stream",
     "text": [
      "[*********************100%***********************]  1 of 1 completed\n"
     ]
    },
    {
     "name": "stderr",
     "output_type": "stream",
     "text": [
      "/var/folders/g3/164q6cz52jv0sjllnsg7jdsm0000gn/T/ipykernel_31243/1592665972.py:2: RuntimeWarning: divide by zero encountered in double_scalars\n",
      "  d1 = (np.log(S/K) + (r - p + sigma**2/2)*T)/(sigma*np.sqrt(T))\n",
      "/var/folders/g3/164q6cz52jv0sjllnsg7jdsm0000gn/T/ipykernel_31243/1484490205.py:138: RuntimeWarning: divide by zero encountered in double_scalars\n",
      "  d_up = (np.log(close/K) + (mu - 0.5 * sigma **2) * (count)) / (sigma * math.sqrt(count))\n"
     ]
    },
    {
     "name": "stdout",
     "output_type": "stream",
     "text": [
      "[*********************100%***********************]  1 of 1 completed\n"
     ]
    },
    {
     "name": "stderr",
     "output_type": "stream",
     "text": [
      "/var/folders/g3/164q6cz52jv0sjllnsg7jdsm0000gn/T/ipykernel_31243/1592665972.py:2: RuntimeWarning: divide by zero encountered in double_scalars\n",
      "  d1 = (np.log(S/K) + (r - p + sigma**2/2)*T)/(sigma*np.sqrt(T))\n",
      "/var/folders/g3/164q6cz52jv0sjllnsg7jdsm0000gn/T/ipykernel_31243/1484490205.py:138: RuntimeWarning: divide by zero encountered in double_scalars\n",
      "  d_up = (np.log(close/K) + (mu - 0.5 * sigma **2) * (count)) / (sigma * math.sqrt(count))\n"
     ]
    },
    {
     "name": "stdout",
     "output_type": "stream",
     "text": [
      "[*********************100%***********************]  1 of 1 completed\n"
     ]
    },
    {
     "name": "stderr",
     "output_type": "stream",
     "text": [
      "/var/folders/g3/164q6cz52jv0sjllnsg7jdsm0000gn/T/ipykernel_31243/1592665972.py:2: RuntimeWarning: divide by zero encountered in double_scalars\n",
      "  d1 = (np.log(S/K) + (r - p + sigma**2/2)*T)/(sigma*np.sqrt(T))\n",
      "/var/folders/g3/164q6cz52jv0sjllnsg7jdsm0000gn/T/ipykernel_31243/1484490205.py:138: RuntimeWarning: divide by zero encountered in double_scalars\n",
      "  d_up = (np.log(close/K) + (mu - 0.5 * sigma **2) * (count)) / (sigma * math.sqrt(count))\n"
     ]
    },
    {
     "name": "stdout",
     "output_type": "stream",
     "text": [
      "[*********************100%***********************]  1 of 1 completed\n"
     ]
    },
    {
     "name": "stderr",
     "output_type": "stream",
     "text": [
      "/var/folders/g3/164q6cz52jv0sjllnsg7jdsm0000gn/T/ipykernel_31243/1592665972.py:2: RuntimeWarning: divide by zero encountered in double_scalars\n",
      "  d1 = (np.log(S/K) + (r - p + sigma**2/2)*T)/(sigma*np.sqrt(T))\n",
      "/var/folders/g3/164q6cz52jv0sjllnsg7jdsm0000gn/T/ipykernel_31243/1484490205.py:138: RuntimeWarning: divide by zero encountered in double_scalars\n",
      "  d_up = (np.log(close/K) + (mu - 0.5 * sigma **2) * (count)) / (sigma * math.sqrt(count))\n",
      "/var/folders/g3/164q6cz52jv0sjllnsg7jdsm0000gn/T/ipykernel_31243/1484490205.py:146: RuntimeWarning: divide by zero encountered in double_scalars\n",
      "  diff_put = (P - true_put) / P * 100\n",
      "/var/folders/g3/164q6cz52jv0sjllnsg7jdsm0000gn/T/ipykernel_31243/1484490205.py:148: RuntimeWarning: divide by zero encountered in double_scalars\n",
      "  diff_call = (C - true_call) / C * 100\n"
     ]
    },
    {
     "name": "stdout",
     "output_type": "stream",
     "text": [
      "[*********************100%***********************]  1 of 1 completed\n"
     ]
    },
    {
     "name": "stderr",
     "output_type": "stream",
     "text": [
      "/var/folders/g3/164q6cz52jv0sjllnsg7jdsm0000gn/T/ipykernel_31243/1592665972.py:2: RuntimeWarning: divide by zero encountered in double_scalars\n",
      "  d1 = (np.log(S/K) + (r - p + sigma**2/2)*T)/(sigma*np.sqrt(T))\n",
      "/var/folders/g3/164q6cz52jv0sjllnsg7jdsm0000gn/T/ipykernel_31243/1484490205.py:138: RuntimeWarning: divide by zero encountered in double_scalars\n",
      "  d_up = (np.log(close/K) + (mu - 0.5 * sigma **2) * (count)) / (sigma * math.sqrt(count))\n"
     ]
    },
    {
     "name": "stdout",
     "output_type": "stream",
     "text": [
      "[*********************100%***********************]  1 of 1 completed\n"
     ]
    },
    {
     "name": "stderr",
     "output_type": "stream",
     "text": [
      "/var/folders/g3/164q6cz52jv0sjllnsg7jdsm0000gn/T/ipykernel_31243/1592665972.py:2: RuntimeWarning: divide by zero encountered in double_scalars\n",
      "  d1 = (np.log(S/K) + (r - p + sigma**2/2)*T)/(sigma*np.sqrt(T))\n",
      "/var/folders/g3/164q6cz52jv0sjllnsg7jdsm0000gn/T/ipykernel_31243/1484490205.py:138: RuntimeWarning: divide by zero encountered in double_scalars\n",
      "  d_up = (np.log(close/K) + (mu - 0.5 * sigma **2) * (count)) / (sigma * math.sqrt(count))\n"
     ]
    },
    {
     "name": "stdout",
     "output_type": "stream",
     "text": [
      "[*********************100%***********************]  1 of 1 completed\n"
     ]
    },
    {
     "name": "stderr",
     "output_type": "stream",
     "text": [
      "/var/folders/g3/164q6cz52jv0sjllnsg7jdsm0000gn/T/ipykernel_31243/1592665972.py:2: RuntimeWarning: divide by zero encountered in double_scalars\n",
      "  d1 = (np.log(S/K) + (r - p + sigma**2/2)*T)/(sigma*np.sqrt(T))\n",
      "/var/folders/g3/164q6cz52jv0sjllnsg7jdsm0000gn/T/ipykernel_31243/1484490205.py:138: RuntimeWarning: divide by zero encountered in double_scalars\n",
      "  d_up = (np.log(close/K) + (mu - 0.5 * sigma **2) * (count)) / (sigma * math.sqrt(count))\n"
     ]
    },
    {
     "name": "stdout",
     "output_type": "stream",
     "text": [
      "[*********************100%***********************]  1 of 1 completed\n"
     ]
    },
    {
     "name": "stderr",
     "output_type": "stream",
     "text": [
      "/var/folders/g3/164q6cz52jv0sjllnsg7jdsm0000gn/T/ipykernel_31243/1592665972.py:2: RuntimeWarning: divide by zero encountered in double_scalars\n",
      "  d1 = (np.log(S/K) + (r - p + sigma**2/2)*T)/(sigma*np.sqrt(T))\n",
      "/var/folders/g3/164q6cz52jv0sjllnsg7jdsm0000gn/T/ipykernel_31243/1484490205.py:138: RuntimeWarning: divide by zero encountered in double_scalars\n",
      "  d_up = (np.log(close/K) + (mu - 0.5 * sigma **2) * (count)) / (sigma * math.sqrt(count))\n"
     ]
    },
    {
     "name": "stdout",
     "output_type": "stream",
     "text": [
      "[*********************100%***********************]  1 of 1 completed\n"
     ]
    },
    {
     "name": "stderr",
     "output_type": "stream",
     "text": [
      "/var/folders/g3/164q6cz52jv0sjllnsg7jdsm0000gn/T/ipykernel_31243/1592665972.py:2: RuntimeWarning: divide by zero encountered in double_scalars\n",
      "  d1 = (np.log(S/K) + (r - p + sigma**2/2)*T)/(sigma*np.sqrt(T))\n",
      "/var/folders/g3/164q6cz52jv0sjllnsg7jdsm0000gn/T/ipykernel_31243/1484490205.py:138: RuntimeWarning: divide by zero encountered in double_scalars\n",
      "  d_up = (np.log(close/K) + (mu - 0.5 * sigma **2) * (count)) / (sigma * math.sqrt(count))\n"
     ]
    },
    {
     "name": "stdout",
     "output_type": "stream",
     "text": [
      "[*********************100%***********************]  1 of 1 completed\n"
     ]
    },
    {
     "name": "stderr",
     "output_type": "stream",
     "text": [
      "/var/folders/g3/164q6cz52jv0sjllnsg7jdsm0000gn/T/ipykernel_31243/1592665972.py:2: RuntimeWarning: divide by zero encountered in double_scalars\n",
      "  d1 = (np.log(S/K) + (r - p + sigma**2/2)*T)/(sigma*np.sqrt(T))\n",
      "/var/folders/g3/164q6cz52jv0sjllnsg7jdsm0000gn/T/ipykernel_31243/1484490205.py:138: RuntimeWarning: divide by zero encountered in double_scalars\n",
      "  d_up = (np.log(close/K) + (mu - 0.5 * sigma **2) * (count)) / (sigma * math.sqrt(count))\n"
     ]
    },
    {
     "name": "stdout",
     "output_type": "stream",
     "text": [
      "[*********************100%***********************]  1 of 1 completed\n"
     ]
    },
    {
     "name": "stderr",
     "output_type": "stream",
     "text": [
      "/var/folders/g3/164q6cz52jv0sjllnsg7jdsm0000gn/T/ipykernel_31243/1592665972.py:2: RuntimeWarning: divide by zero encountered in double_scalars\n",
      "  d1 = (np.log(S/K) + (r - p + sigma**2/2)*T)/(sigma*np.sqrt(T))\n",
      "/var/folders/g3/164q6cz52jv0sjllnsg7jdsm0000gn/T/ipykernel_31243/1484490205.py:138: RuntimeWarning: divide by zero encountered in double_scalars\n",
      "  d_up = (np.log(close/K) + (mu - 0.5 * sigma **2) * (count)) / (sigma * math.sqrt(count))\n"
     ]
    },
    {
     "name": "stdout",
     "output_type": "stream",
     "text": [
      "[*********************100%***********************]  1 of 1 completed\n"
     ]
    },
    {
     "name": "stderr",
     "output_type": "stream",
     "text": [
      "/var/folders/g3/164q6cz52jv0sjllnsg7jdsm0000gn/T/ipykernel_31243/1592665972.py:2: RuntimeWarning: divide by zero encountered in double_scalars\n",
      "  d1 = (np.log(S/K) + (r - p + sigma**2/2)*T)/(sigma*np.sqrt(T))\n",
      "/var/folders/g3/164q6cz52jv0sjllnsg7jdsm0000gn/T/ipykernel_31243/1484490205.py:138: RuntimeWarning: divide by zero encountered in double_scalars\n",
      "  d_up = (np.log(close/K) + (mu - 0.5 * sigma **2) * (count)) / (sigma * math.sqrt(count))\n",
      "/var/folders/g3/164q6cz52jv0sjllnsg7jdsm0000gn/T/ipykernel_31243/1484490205.py:146: RuntimeWarning: divide by zero encountered in double_scalars\n",
      "  diff_put = (P - true_put) / P * 100\n",
      "/var/folders/g3/164q6cz52jv0sjllnsg7jdsm0000gn/T/ipykernel_31243/1484490205.py:148: RuntimeWarning: divide by zero encountered in double_scalars\n",
      "  diff_call = (C - true_call) / C * 100\n"
     ]
    },
    {
     "name": "stdout",
     "output_type": "stream",
     "text": [
      "[*********************100%***********************]  1 of 1 completed\n"
     ]
    },
    {
     "name": "stderr",
     "output_type": "stream",
     "text": [
      "/var/folders/g3/164q6cz52jv0sjllnsg7jdsm0000gn/T/ipykernel_31243/1592665972.py:2: RuntimeWarning: divide by zero encountered in double_scalars\n",
      "  d1 = (np.log(S/K) + (r - p + sigma**2/2)*T)/(sigma*np.sqrt(T))\n",
      "/var/folders/g3/164q6cz52jv0sjllnsg7jdsm0000gn/T/ipykernel_31243/1484490205.py:138: RuntimeWarning: divide by zero encountered in double_scalars\n",
      "  d_up = (np.log(close/K) + (mu - 0.5 * sigma **2) * (count)) / (sigma * math.sqrt(count))\n"
     ]
    },
    {
     "name": "stdout",
     "output_type": "stream",
     "text": [
      "[*********************100%***********************]  1 of 1 completed\n"
     ]
    },
    {
     "name": "stderr",
     "output_type": "stream",
     "text": [
      "/var/folders/g3/164q6cz52jv0sjllnsg7jdsm0000gn/T/ipykernel_31243/1592665972.py:2: RuntimeWarning: divide by zero encountered in double_scalars\n",
      "  d1 = (np.log(S/K) + (r - p + sigma**2/2)*T)/(sigma*np.sqrt(T))\n",
      "/var/folders/g3/164q6cz52jv0sjllnsg7jdsm0000gn/T/ipykernel_31243/1484490205.py:138: RuntimeWarning: divide by zero encountered in double_scalars\n",
      "  d_up = (np.log(close/K) + (mu - 0.5 * sigma **2) * (count)) / (sigma * math.sqrt(count))\n"
     ]
    },
    {
     "name": "stdout",
     "output_type": "stream",
     "text": [
      "[*********************100%***********************]  1 of 1 completed\n"
     ]
    },
    {
     "name": "stderr",
     "output_type": "stream",
     "text": [
      "/var/folders/g3/164q6cz52jv0sjllnsg7jdsm0000gn/T/ipykernel_31243/1592665972.py:2: RuntimeWarning: divide by zero encountered in double_scalars\n",
      "  d1 = (np.log(S/K) + (r - p + sigma**2/2)*T)/(sigma*np.sqrt(T))\n",
      "/var/folders/g3/164q6cz52jv0sjllnsg7jdsm0000gn/T/ipykernel_31243/1484490205.py:138: RuntimeWarning: divide by zero encountered in double_scalars\n",
      "  d_up = (np.log(close/K) + (mu - 0.5 * sigma **2) * (count)) / (sigma * math.sqrt(count))\n"
     ]
    },
    {
     "name": "stdout",
     "output_type": "stream",
     "text": [
      "[*********************100%***********************]  1 of 1 completed\n"
     ]
    },
    {
     "name": "stderr",
     "output_type": "stream",
     "text": [
      "/var/folders/g3/164q6cz52jv0sjllnsg7jdsm0000gn/T/ipykernel_31243/1592665972.py:2: RuntimeWarning: divide by zero encountered in double_scalars\n",
      "  d1 = (np.log(S/K) + (r - p + sigma**2/2)*T)/(sigma*np.sqrt(T))\n",
      "/var/folders/g3/164q6cz52jv0sjllnsg7jdsm0000gn/T/ipykernel_31243/1484490205.py:138: RuntimeWarning: divide by zero encountered in double_scalars\n",
      "  d_up = (np.log(close/K) + (mu - 0.5 * sigma **2) * (count)) / (sigma * math.sqrt(count))\n"
     ]
    },
    {
     "name": "stdout",
     "output_type": "stream",
     "text": [
      "[*********************100%***********************]  1 of 1 completed\n"
     ]
    },
    {
     "name": "stderr",
     "output_type": "stream",
     "text": [
      "/var/folders/g3/164q6cz52jv0sjllnsg7jdsm0000gn/T/ipykernel_31243/1592665972.py:2: RuntimeWarning: divide by zero encountered in double_scalars\n",
      "  d1 = (np.log(S/K) + (r - p + sigma**2/2)*T)/(sigma*np.sqrt(T))\n",
      "/var/folders/g3/164q6cz52jv0sjllnsg7jdsm0000gn/T/ipykernel_31243/1484490205.py:138: RuntimeWarning: divide by zero encountered in double_scalars\n",
      "  d_up = (np.log(close/K) + (mu - 0.5 * sigma **2) * (count)) / (sigma * math.sqrt(count))\n"
     ]
    },
    {
     "name": "stdout",
     "output_type": "stream",
     "text": [
      "[*********************100%***********************]  1 of 1 completed\n"
     ]
    },
    {
     "name": "stderr",
     "output_type": "stream",
     "text": [
      "/var/folders/g3/164q6cz52jv0sjllnsg7jdsm0000gn/T/ipykernel_31243/1592665972.py:2: RuntimeWarning: divide by zero encountered in double_scalars\n",
      "  d1 = (np.log(S/K) + (r - p + sigma**2/2)*T)/(sigma*np.sqrt(T))\n",
      "/var/folders/g3/164q6cz52jv0sjllnsg7jdsm0000gn/T/ipykernel_31243/1484490205.py:138: RuntimeWarning: divide by zero encountered in double_scalars\n",
      "  d_up = (np.log(close/K) + (mu - 0.5 * sigma **2) * (count)) / (sigma * math.sqrt(count))\n"
     ]
    },
    {
     "name": "stdout",
     "output_type": "stream",
     "text": [
      "[*********************100%***********************]  1 of 1 completed\n"
     ]
    },
    {
     "name": "stderr",
     "output_type": "stream",
     "text": [
      "/var/folders/g3/164q6cz52jv0sjllnsg7jdsm0000gn/T/ipykernel_31243/1592665972.py:2: RuntimeWarning: divide by zero encountered in double_scalars\n",
      "  d1 = (np.log(S/K) + (r - p + sigma**2/2)*T)/(sigma*np.sqrt(T))\n",
      "/var/folders/g3/164q6cz52jv0sjllnsg7jdsm0000gn/T/ipykernel_31243/1484490205.py:138: RuntimeWarning: divide by zero encountered in double_scalars\n",
      "  d_up = (np.log(close/K) + (mu - 0.5 * sigma **2) * (count)) / (sigma * math.sqrt(count))\n"
     ]
    },
    {
     "name": "stdout",
     "output_type": "stream",
     "text": [
      "[*********************100%***********************]  1 of 1 completed\n"
     ]
    },
    {
     "name": "stderr",
     "output_type": "stream",
     "text": [
      "/var/folders/g3/164q6cz52jv0sjllnsg7jdsm0000gn/T/ipykernel_31243/1592665972.py:2: RuntimeWarning: divide by zero encountered in double_scalars\n",
      "  d1 = (np.log(S/K) + (r - p + sigma**2/2)*T)/(sigma*np.sqrt(T))\n",
      "/var/folders/g3/164q6cz52jv0sjllnsg7jdsm0000gn/T/ipykernel_31243/1484490205.py:138: RuntimeWarning: divide by zero encountered in double_scalars\n",
      "  d_up = (np.log(close/K) + (mu - 0.5 * sigma **2) * (count)) / (sigma * math.sqrt(count))\n"
     ]
    },
    {
     "name": "stdout",
     "output_type": "stream",
     "text": [
      "[*********************100%***********************]  1 of 1 completed\n"
     ]
    },
    {
     "name": "stderr",
     "output_type": "stream",
     "text": [
      "/var/folders/g3/164q6cz52jv0sjllnsg7jdsm0000gn/T/ipykernel_31243/1592665972.py:2: RuntimeWarning: divide by zero encountered in double_scalars\n",
      "  d1 = (np.log(S/K) + (r - p + sigma**2/2)*T)/(sigma*np.sqrt(T))\n",
      "/var/folders/g3/164q6cz52jv0sjllnsg7jdsm0000gn/T/ipykernel_31243/1484490205.py:138: RuntimeWarning: divide by zero encountered in double_scalars\n",
      "  d_up = (np.log(close/K) + (mu - 0.5 * sigma **2) * (count)) / (sigma * math.sqrt(count))\n"
     ]
    },
    {
     "name": "stdout",
     "output_type": "stream",
     "text": [
      "[*********************100%***********************]  1 of 1 completed\n"
     ]
    },
    {
     "name": "stderr",
     "output_type": "stream",
     "text": [
      "/var/folders/g3/164q6cz52jv0sjllnsg7jdsm0000gn/T/ipykernel_31243/1592665972.py:2: RuntimeWarning: divide by zero encountered in double_scalars\n",
      "  d1 = (np.log(S/K) + (r - p + sigma**2/2)*T)/(sigma*np.sqrt(T))\n",
      "/var/folders/g3/164q6cz52jv0sjllnsg7jdsm0000gn/T/ipykernel_31243/1484490205.py:138: RuntimeWarning: divide by zero encountered in double_scalars\n",
      "  d_up = (np.log(close/K) + (mu - 0.5 * sigma **2) * (count)) / (sigma * math.sqrt(count))\n"
     ]
    },
    {
     "name": "stdout",
     "output_type": "stream",
     "text": [
      "[*********************100%***********************]  1 of 1 completed\n"
     ]
    },
    {
     "name": "stderr",
     "output_type": "stream",
     "text": [
      "/var/folders/g3/164q6cz52jv0sjllnsg7jdsm0000gn/T/ipykernel_31243/1592665972.py:2: RuntimeWarning: divide by zero encountered in double_scalars\n",
      "  d1 = (np.log(S/K) + (r - p + sigma**2/2)*T)/(sigma*np.sqrt(T))\n",
      "/var/folders/g3/164q6cz52jv0sjllnsg7jdsm0000gn/T/ipykernel_31243/1484490205.py:138: RuntimeWarning: divide by zero encountered in double_scalars\n",
      "  d_up = (np.log(close/K) + (mu - 0.5 * sigma **2) * (count)) / (sigma * math.sqrt(count))\n"
     ]
    },
    {
     "name": "stdout",
     "output_type": "stream",
     "text": [
      "[*********************100%***********************]  1 of 1 completed\n"
     ]
    },
    {
     "name": "stderr",
     "output_type": "stream",
     "text": [
      "/var/folders/g3/164q6cz52jv0sjllnsg7jdsm0000gn/T/ipykernel_31243/1592665972.py:2: RuntimeWarning: divide by zero encountered in double_scalars\n",
      "  d1 = (np.log(S/K) + (r - p + sigma**2/2)*T)/(sigma*np.sqrt(T))\n",
      "/var/folders/g3/164q6cz52jv0sjllnsg7jdsm0000gn/T/ipykernel_31243/1484490205.py:138: RuntimeWarning: divide by zero encountered in double_scalars\n",
      "  d_up = (np.log(close/K) + (mu - 0.5 * sigma **2) * (count)) / (sigma * math.sqrt(count))\n"
     ]
    },
    {
     "name": "stdout",
     "output_type": "stream",
     "text": [
      "[*********************100%***********************]  1 of 1 completed\n"
     ]
    },
    {
     "name": "stderr",
     "output_type": "stream",
     "text": [
      "/var/folders/g3/164q6cz52jv0sjllnsg7jdsm0000gn/T/ipykernel_31243/1592665972.py:2: RuntimeWarning: divide by zero encountered in double_scalars\n",
      "  d1 = (np.log(S/K) + (r - p + sigma**2/2)*T)/(sigma*np.sqrt(T))\n",
      "/var/folders/g3/164q6cz52jv0sjllnsg7jdsm0000gn/T/ipykernel_31243/1484490205.py:138: RuntimeWarning: divide by zero encountered in double_scalars\n",
      "  d_up = (np.log(close/K) + (mu - 0.5 * sigma **2) * (count)) / (sigma * math.sqrt(count))\n"
     ]
    },
    {
     "name": "stdout",
     "output_type": "stream",
     "text": [
      "[*********************100%***********************]  1 of 1 completed\n"
     ]
    },
    {
     "name": "stderr",
     "output_type": "stream",
     "text": [
      "/var/folders/g3/164q6cz52jv0sjllnsg7jdsm0000gn/T/ipykernel_31243/1592665972.py:2: RuntimeWarning: divide by zero encountered in double_scalars\n",
      "  d1 = (np.log(S/K) + (r - p + sigma**2/2)*T)/(sigma*np.sqrt(T))\n",
      "/var/folders/g3/164q6cz52jv0sjllnsg7jdsm0000gn/T/ipykernel_31243/1484490205.py:138: RuntimeWarning: divide by zero encountered in double_scalars\n",
      "  d_up = (np.log(close/K) + (mu - 0.5 * sigma **2) * (count)) / (sigma * math.sqrt(count))\n"
     ]
    },
    {
     "name": "stdout",
     "output_type": "stream",
     "text": [
      "[*********************100%***********************]  1 of 1 completed\n"
     ]
    },
    {
     "name": "stderr",
     "output_type": "stream",
     "text": [
      "/var/folders/g3/164q6cz52jv0sjllnsg7jdsm0000gn/T/ipykernel_31243/1592665972.py:2: RuntimeWarning: divide by zero encountered in double_scalars\n",
      "  d1 = (np.log(S/K) + (r - p + sigma**2/2)*T)/(sigma*np.sqrt(T))\n",
      "/var/folders/g3/164q6cz52jv0sjllnsg7jdsm0000gn/T/ipykernel_31243/1484490205.py:138: RuntimeWarning: divide by zero encountered in double_scalars\n",
      "  d_up = (np.log(close/K) + (mu - 0.5 * sigma **2) * (count)) / (sigma * math.sqrt(count))\n"
     ]
    },
    {
     "name": "stdout",
     "output_type": "stream",
     "text": [
      "[*********************100%***********************]  1 of 1 completed\n"
     ]
    },
    {
     "name": "stderr",
     "output_type": "stream",
     "text": [
      "/var/folders/g3/164q6cz52jv0sjllnsg7jdsm0000gn/T/ipykernel_31243/1592665972.py:2: RuntimeWarning: divide by zero encountered in double_scalars\n",
      "  d1 = (np.log(S/K) + (r - p + sigma**2/2)*T)/(sigma*np.sqrt(T))\n",
      "/var/folders/g3/164q6cz52jv0sjllnsg7jdsm0000gn/T/ipykernel_31243/1484490205.py:138: RuntimeWarning: divide by zero encountered in double_scalars\n",
      "  d_up = (np.log(close/K) + (mu - 0.5 * sigma **2) * (count)) / (sigma * math.sqrt(count))\n"
     ]
    },
    {
     "name": "stdout",
     "output_type": "stream",
     "text": [
      "[*********************100%***********************]  1 of 1 completed\n"
     ]
    },
    {
     "name": "stderr",
     "output_type": "stream",
     "text": [
      "/var/folders/g3/164q6cz52jv0sjllnsg7jdsm0000gn/T/ipykernel_31243/1592665972.py:2: RuntimeWarning: divide by zero encountered in double_scalars\n",
      "  d1 = (np.log(S/K) + (r - p + sigma**2/2)*T)/(sigma*np.sqrt(T))\n",
      "/var/folders/g3/164q6cz52jv0sjllnsg7jdsm0000gn/T/ipykernel_31243/1484490205.py:138: RuntimeWarning: divide by zero encountered in double_scalars\n",
      "  d_up = (np.log(close/K) + (mu - 0.5 * sigma **2) * (count)) / (sigma * math.sqrt(count))\n"
     ]
    },
    {
     "name": "stdout",
     "output_type": "stream",
     "text": [
      "[*********************100%***********************]  1 of 1 completed\n"
     ]
    },
    {
     "name": "stderr",
     "output_type": "stream",
     "text": [
      "/var/folders/g3/164q6cz52jv0sjllnsg7jdsm0000gn/T/ipykernel_31243/1592665972.py:2: RuntimeWarning: divide by zero encountered in double_scalars\n",
      "  d1 = (np.log(S/K) + (r - p + sigma**2/2)*T)/(sigma*np.sqrt(T))\n",
      "/var/folders/g3/164q6cz52jv0sjllnsg7jdsm0000gn/T/ipykernel_31243/1484490205.py:138: RuntimeWarning: divide by zero encountered in double_scalars\n",
      "  d_up = (np.log(close/K) + (mu - 0.5 * sigma **2) * (count)) / (sigma * math.sqrt(count))\n"
     ]
    },
    {
     "name": "stdout",
     "output_type": "stream",
     "text": [
      "[*********************100%***********************]  1 of 1 completed\n"
     ]
    },
    {
     "name": "stderr",
     "output_type": "stream",
     "text": [
      "/var/folders/g3/164q6cz52jv0sjllnsg7jdsm0000gn/T/ipykernel_31243/1592665972.py:2: RuntimeWarning: divide by zero encountered in double_scalars\n",
      "  d1 = (np.log(S/K) + (r - p + sigma**2/2)*T)/(sigma*np.sqrt(T))\n",
      "/var/folders/g3/164q6cz52jv0sjllnsg7jdsm0000gn/T/ipykernel_31243/1484490205.py:138: RuntimeWarning: divide by zero encountered in double_scalars\n",
      "  d_up = (np.log(close/K) + (mu - 0.5 * sigma **2) * (count)) / (sigma * math.sqrt(count))\n"
     ]
    },
    {
     "name": "stdout",
     "output_type": "stream",
     "text": [
      "[*********************100%***********************]  1 of 1 completed\n"
     ]
    },
    {
     "name": "stderr",
     "output_type": "stream",
     "text": [
      "/var/folders/g3/164q6cz52jv0sjllnsg7jdsm0000gn/T/ipykernel_31243/1592665972.py:2: RuntimeWarning: divide by zero encountered in double_scalars\n",
      "  d1 = (np.log(S/K) + (r - p + sigma**2/2)*T)/(sigma*np.sqrt(T))\n",
      "/var/folders/g3/164q6cz52jv0sjllnsg7jdsm0000gn/T/ipykernel_31243/1484490205.py:138: RuntimeWarning: divide by zero encountered in double_scalars\n",
      "  d_up = (np.log(close/K) + (mu - 0.5 * sigma **2) * (count)) / (sigma * math.sqrt(count))\n"
     ]
    },
    {
     "name": "stdout",
     "output_type": "stream",
     "text": [
      "[*********************100%***********************]  1 of 1 completed\n"
     ]
    },
    {
     "name": "stderr",
     "output_type": "stream",
     "text": [
      "/var/folders/g3/164q6cz52jv0sjllnsg7jdsm0000gn/T/ipykernel_31243/1592665972.py:2: RuntimeWarning: divide by zero encountered in double_scalars\n",
      "  d1 = (np.log(S/K) + (r - p + sigma**2/2)*T)/(sigma*np.sqrt(T))\n",
      "/var/folders/g3/164q6cz52jv0sjllnsg7jdsm0000gn/T/ipykernel_31243/1484490205.py:138: RuntimeWarning: divide by zero encountered in double_scalars\n",
      "  d_up = (np.log(close/K) + (mu - 0.5 * sigma **2) * (count)) / (sigma * math.sqrt(count))\n"
     ]
    },
    {
     "name": "stdout",
     "output_type": "stream",
     "text": [
      "[*********************100%***********************]  1 of 1 completed\n"
     ]
    },
    {
     "name": "stderr",
     "output_type": "stream",
     "text": [
      "/var/folders/g3/164q6cz52jv0sjllnsg7jdsm0000gn/T/ipykernel_31243/1592665972.py:2: RuntimeWarning: divide by zero encountered in double_scalars\n",
      "  d1 = (np.log(S/K) + (r - p + sigma**2/2)*T)/(sigma*np.sqrt(T))\n",
      "/var/folders/g3/164q6cz52jv0sjllnsg7jdsm0000gn/T/ipykernel_31243/1484490205.py:138: RuntimeWarning: divide by zero encountered in double_scalars\n",
      "  d_up = (np.log(close/K) + (mu - 0.5 * sigma **2) * (count)) / (sigma * math.sqrt(count))\n"
     ]
    },
    {
     "name": "stdout",
     "output_type": "stream",
     "text": [
      "[*********************100%***********************]  1 of 1 completed\n"
     ]
    },
    {
     "name": "stderr",
     "output_type": "stream",
     "text": [
      "/var/folders/g3/164q6cz52jv0sjllnsg7jdsm0000gn/T/ipykernel_31243/1592665972.py:2: RuntimeWarning: divide by zero encountered in double_scalars\n",
      "  d1 = (np.log(S/K) + (r - p + sigma**2/2)*T)/(sigma*np.sqrt(T))\n",
      "/var/folders/g3/164q6cz52jv0sjllnsg7jdsm0000gn/T/ipykernel_31243/1484490205.py:138: RuntimeWarning: divide by zero encountered in double_scalars\n",
      "  d_up = (np.log(close/K) + (mu - 0.5 * sigma **2) * (count)) / (sigma * math.sqrt(count))\n"
     ]
    },
    {
     "name": "stdout",
     "output_type": "stream",
     "text": [
      "[*********************100%***********************]  1 of 1 completed\n"
     ]
    },
    {
     "name": "stderr",
     "output_type": "stream",
     "text": [
      "/var/folders/g3/164q6cz52jv0sjllnsg7jdsm0000gn/T/ipykernel_31243/1592665972.py:2: RuntimeWarning: divide by zero encountered in double_scalars\n",
      "  d1 = (np.log(S/K) + (r - p + sigma**2/2)*T)/(sigma*np.sqrt(T))\n",
      "/var/folders/g3/164q6cz52jv0sjllnsg7jdsm0000gn/T/ipykernel_31243/1484490205.py:138: RuntimeWarning: divide by zero encountered in double_scalars\n",
      "  d_up = (np.log(close/K) + (mu - 0.5 * sigma **2) * (count)) / (sigma * math.sqrt(count))\n"
     ]
    },
    {
     "name": "stdout",
     "output_type": "stream",
     "text": [
      "[*********************100%***********************]  1 of 1 completed\n"
     ]
    },
    {
     "name": "stderr",
     "output_type": "stream",
     "text": [
      "/var/folders/g3/164q6cz52jv0sjllnsg7jdsm0000gn/T/ipykernel_31243/1592665972.py:2: RuntimeWarning: divide by zero encountered in double_scalars\n",
      "  d1 = (np.log(S/K) + (r - p + sigma**2/2)*T)/(sigma*np.sqrt(T))\n",
      "/var/folders/g3/164q6cz52jv0sjllnsg7jdsm0000gn/T/ipykernel_31243/1484490205.py:138: RuntimeWarning: divide by zero encountered in double_scalars\n",
      "  d_up = (np.log(close/K) + (mu - 0.5 * sigma **2) * (count)) / (sigma * math.sqrt(count))\n"
     ]
    },
    {
     "name": "stdout",
     "output_type": "stream",
     "text": [
      "[*********************100%***********************]  1 of 1 completed\n"
     ]
    },
    {
     "name": "stderr",
     "output_type": "stream",
     "text": [
      "/var/folders/g3/164q6cz52jv0sjllnsg7jdsm0000gn/T/ipykernel_31243/1592665972.py:2: RuntimeWarning: divide by zero encountered in double_scalars\n",
      "  d1 = (np.log(S/K) + (r - p + sigma**2/2)*T)/(sigma*np.sqrt(T))\n",
      "/var/folders/g3/164q6cz52jv0sjllnsg7jdsm0000gn/T/ipykernel_31243/1484490205.py:138: RuntimeWarning: divide by zero encountered in double_scalars\n",
      "  d_up = (np.log(close/K) + (mu - 0.5 * sigma **2) * (count)) / (sigma * math.sqrt(count))\n"
     ]
    },
    {
     "name": "stdout",
     "output_type": "stream",
     "text": [
      "[*********************100%***********************]  1 of 1 completed\n"
     ]
    },
    {
     "name": "stderr",
     "output_type": "stream",
     "text": [
      "/var/folders/g3/164q6cz52jv0sjllnsg7jdsm0000gn/T/ipykernel_31243/1592665972.py:2: RuntimeWarning: divide by zero encountered in double_scalars\n",
      "  d1 = (np.log(S/K) + (r - p + sigma**2/2)*T)/(sigma*np.sqrt(T))\n",
      "/var/folders/g3/164q6cz52jv0sjllnsg7jdsm0000gn/T/ipykernel_31243/1484490205.py:138: RuntimeWarning: divide by zero encountered in double_scalars\n",
      "  d_up = (np.log(close/K) + (mu - 0.5 * sigma **2) * (count)) / (sigma * math.sqrt(count))\n"
     ]
    },
    {
     "name": "stdout",
     "output_type": "stream",
     "text": [
      "[*********************100%***********************]  1 of 1 completed\n"
     ]
    },
    {
     "name": "stderr",
     "output_type": "stream",
     "text": [
      "/var/folders/g3/164q6cz52jv0sjllnsg7jdsm0000gn/T/ipykernel_31243/1592665972.py:2: RuntimeWarning: divide by zero encountered in double_scalars\n",
      "  d1 = (np.log(S/K) + (r - p + sigma**2/2)*T)/(sigma*np.sqrt(T))\n",
      "/var/folders/g3/164q6cz52jv0sjllnsg7jdsm0000gn/T/ipykernel_31243/1484490205.py:138: RuntimeWarning: divide by zero encountered in double_scalars\n",
      "  d_up = (np.log(close/K) + (mu - 0.5 * sigma **2) * (count)) / (sigma * math.sqrt(count))\n"
     ]
    },
    {
     "name": "stdout",
     "output_type": "stream",
     "text": [
      "[*********************100%***********************]  1 of 1 completed\n"
     ]
    },
    {
     "name": "stderr",
     "output_type": "stream",
     "text": [
      "/var/folders/g3/164q6cz52jv0sjllnsg7jdsm0000gn/T/ipykernel_31243/1592665972.py:2: RuntimeWarning: divide by zero encountered in double_scalars\n",
      "  d1 = (np.log(S/K) + (r - p + sigma**2/2)*T)/(sigma*np.sqrt(T))\n",
      "/var/folders/g3/164q6cz52jv0sjllnsg7jdsm0000gn/T/ipykernel_31243/1484490205.py:138: RuntimeWarning: divide by zero encountered in double_scalars\n",
      "  d_up = (np.log(close/K) + (mu - 0.5 * sigma **2) * (count)) / (sigma * math.sqrt(count))\n"
     ]
    },
    {
     "name": "stdout",
     "output_type": "stream",
     "text": [
      "[*********************100%***********************]  1 of 1 completed\n"
     ]
    },
    {
     "name": "stderr",
     "output_type": "stream",
     "text": [
      "/var/folders/g3/164q6cz52jv0sjllnsg7jdsm0000gn/T/ipykernel_31243/1592665972.py:2: RuntimeWarning: divide by zero encountered in double_scalars\n",
      "  d1 = (np.log(S/K) + (r - p + sigma**2/2)*T)/(sigma*np.sqrt(T))\n",
      "/var/folders/g3/164q6cz52jv0sjllnsg7jdsm0000gn/T/ipykernel_31243/1484490205.py:138: RuntimeWarning: divide by zero encountered in double_scalars\n",
      "  d_up = (np.log(close/K) + (mu - 0.5 * sigma **2) * (count)) / (sigma * math.sqrt(count))\n"
     ]
    },
    {
     "name": "stdout",
     "output_type": "stream",
     "text": [
      "[*********************100%***********************]  1 of 1 completed\n"
     ]
    },
    {
     "name": "stderr",
     "output_type": "stream",
     "text": [
      "/var/folders/g3/164q6cz52jv0sjllnsg7jdsm0000gn/T/ipykernel_31243/1592665972.py:2: RuntimeWarning: divide by zero encountered in double_scalars\n",
      "  d1 = (np.log(S/K) + (r - p + sigma**2/2)*T)/(sigma*np.sqrt(T))\n",
      "/var/folders/g3/164q6cz52jv0sjllnsg7jdsm0000gn/T/ipykernel_31243/1484490205.py:138: RuntimeWarning: divide by zero encountered in double_scalars\n",
      "  d_up = (np.log(close/K) + (mu - 0.5 * sigma **2) * (count)) / (sigma * math.sqrt(count))\n"
     ]
    },
    {
     "name": "stdout",
     "output_type": "stream",
     "text": [
      "[*********************100%***********************]  1 of 1 completed\n"
     ]
    },
    {
     "name": "stderr",
     "output_type": "stream",
     "text": [
      "/var/folders/g3/164q6cz52jv0sjllnsg7jdsm0000gn/T/ipykernel_31243/1592665972.py:2: RuntimeWarning: divide by zero encountered in double_scalars\n",
      "  d1 = (np.log(S/K) + (r - p + sigma**2/2)*T)/(sigma*np.sqrt(T))\n",
      "/var/folders/g3/164q6cz52jv0sjllnsg7jdsm0000gn/T/ipykernel_31243/1484490205.py:138: RuntimeWarning: divide by zero encountered in double_scalars\n",
      "  d_up = (np.log(close/K) + (mu - 0.5 * sigma **2) * (count)) / (sigma * math.sqrt(count))\n"
     ]
    },
    {
     "name": "stdout",
     "output_type": "stream",
     "text": [
      "[*********************100%***********************]  1 of 1 completed\n"
     ]
    },
    {
     "name": "stderr",
     "output_type": "stream",
     "text": [
      "/var/folders/g3/164q6cz52jv0sjllnsg7jdsm0000gn/T/ipykernel_31243/1592665972.py:2: RuntimeWarning: divide by zero encountered in double_scalars\n",
      "  d1 = (np.log(S/K) + (r - p + sigma**2/2)*T)/(sigma*np.sqrt(T))\n",
      "/var/folders/g3/164q6cz52jv0sjllnsg7jdsm0000gn/T/ipykernel_31243/1484490205.py:138: RuntimeWarning: divide by zero encountered in double_scalars\n",
      "  d_up = (np.log(close/K) + (mu - 0.5 * sigma **2) * (count)) / (sigma * math.sqrt(count))\n"
     ]
    },
    {
     "name": "stdout",
     "output_type": "stream",
     "text": [
      "[*********************100%***********************]  1 of 1 completed\n"
     ]
    },
    {
     "name": "stderr",
     "output_type": "stream",
     "text": [
      "/var/folders/g3/164q6cz52jv0sjllnsg7jdsm0000gn/T/ipykernel_31243/1592665972.py:2: RuntimeWarning: divide by zero encountered in double_scalars\n",
      "  d1 = (np.log(S/K) + (r - p + sigma**2/2)*T)/(sigma*np.sqrt(T))\n",
      "/var/folders/g3/164q6cz52jv0sjllnsg7jdsm0000gn/T/ipykernel_31243/1484490205.py:138: RuntimeWarning: divide by zero encountered in double_scalars\n",
      "  d_up = (np.log(close/K) + (mu - 0.5 * sigma **2) * (count)) / (sigma * math.sqrt(count))\n"
     ]
    },
    {
     "name": "stdout",
     "output_type": "stream",
     "text": [
      "[*********************100%***********************]  1 of 1 completed\n"
     ]
    },
    {
     "name": "stderr",
     "output_type": "stream",
     "text": [
      "/var/folders/g3/164q6cz52jv0sjllnsg7jdsm0000gn/T/ipykernel_31243/1592665972.py:2: RuntimeWarning: divide by zero encountered in double_scalars\n",
      "  d1 = (np.log(S/K) + (r - p + sigma**2/2)*T)/(sigma*np.sqrt(T))\n",
      "/var/folders/g3/164q6cz52jv0sjllnsg7jdsm0000gn/T/ipykernel_31243/1484490205.py:138: RuntimeWarning: divide by zero encountered in double_scalars\n",
      "  d_up = (np.log(close/K) + (mu - 0.5 * sigma **2) * (count)) / (sigma * math.sqrt(count))\n"
     ]
    },
    {
     "name": "stdout",
     "output_type": "stream",
     "text": [
      "[*********************100%***********************]  1 of 1 completed\n"
     ]
    },
    {
     "name": "stderr",
     "output_type": "stream",
     "text": [
      "/var/folders/g3/164q6cz52jv0sjllnsg7jdsm0000gn/T/ipykernel_31243/1592665972.py:2: RuntimeWarning: divide by zero encountered in double_scalars\n",
      "  d1 = (np.log(S/K) + (r - p + sigma**2/2)*T)/(sigma*np.sqrt(T))\n",
      "/var/folders/g3/164q6cz52jv0sjllnsg7jdsm0000gn/T/ipykernel_31243/1484490205.py:138: RuntimeWarning: divide by zero encountered in double_scalars\n",
      "  d_up = (np.log(close/K) + (mu - 0.5 * sigma **2) * (count)) / (sigma * math.sqrt(count))\n"
     ]
    },
    {
     "name": "stdout",
     "output_type": "stream",
     "text": [
      "[*********************100%***********************]  1 of 1 completed\n"
     ]
    },
    {
     "name": "stderr",
     "output_type": "stream",
     "text": [
      "/var/folders/g3/164q6cz52jv0sjllnsg7jdsm0000gn/T/ipykernel_31243/1592665972.py:2: RuntimeWarning: divide by zero encountered in double_scalars\n",
      "  d1 = (np.log(S/K) + (r - p + sigma**2/2)*T)/(sigma*np.sqrt(T))\n",
      "/var/folders/g3/164q6cz52jv0sjllnsg7jdsm0000gn/T/ipykernel_31243/1484490205.py:138: RuntimeWarning: divide by zero encountered in double_scalars\n",
      "  d_up = (np.log(close/K) + (mu - 0.5 * sigma **2) * (count)) / (sigma * math.sqrt(count))\n"
     ]
    },
    {
     "name": "stdout",
     "output_type": "stream",
     "text": [
      "[*********************100%***********************]  1 of 1 completed\n"
     ]
    },
    {
     "name": "stderr",
     "output_type": "stream",
     "text": [
      "/var/folders/g3/164q6cz52jv0sjllnsg7jdsm0000gn/T/ipykernel_31243/1592665972.py:2: RuntimeWarning: divide by zero encountered in double_scalars\n",
      "  d1 = (np.log(S/K) + (r - p + sigma**2/2)*T)/(sigma*np.sqrt(T))\n",
      "/var/folders/g3/164q6cz52jv0sjllnsg7jdsm0000gn/T/ipykernel_31243/1484490205.py:138: RuntimeWarning: divide by zero encountered in double_scalars\n",
      "  d_up = (np.log(close/K) + (mu - 0.5 * sigma **2) * (count)) / (sigma * math.sqrt(count))\n"
     ]
    },
    {
     "name": "stdout",
     "output_type": "stream",
     "text": [
      "[*********************100%***********************]  1 of 1 completed\n"
     ]
    },
    {
     "name": "stderr",
     "output_type": "stream",
     "text": [
      "/var/folders/g3/164q6cz52jv0sjllnsg7jdsm0000gn/T/ipykernel_31243/1592665972.py:2: RuntimeWarning: divide by zero encountered in double_scalars\n",
      "  d1 = (np.log(S/K) + (r - p + sigma**2/2)*T)/(sigma*np.sqrt(T))\n",
      "/var/folders/g3/164q6cz52jv0sjllnsg7jdsm0000gn/T/ipykernel_31243/1484490205.py:138: RuntimeWarning: divide by zero encountered in double_scalars\n",
      "  d_up = (np.log(close/K) + (mu - 0.5 * sigma **2) * (count)) / (sigma * math.sqrt(count))\n"
     ]
    },
    {
     "name": "stdout",
     "output_type": "stream",
     "text": [
      "[*********************100%***********************]  1 of 1 completed\n"
     ]
    },
    {
     "name": "stderr",
     "output_type": "stream",
     "text": [
      "/var/folders/g3/164q6cz52jv0sjllnsg7jdsm0000gn/T/ipykernel_31243/1592665972.py:2: RuntimeWarning: divide by zero encountered in double_scalars\n",
      "  d1 = (np.log(S/K) + (r - p + sigma**2/2)*T)/(sigma*np.sqrt(T))\n",
      "/var/folders/g3/164q6cz52jv0sjllnsg7jdsm0000gn/T/ipykernel_31243/1484490205.py:138: RuntimeWarning: divide by zero encountered in double_scalars\n",
      "  d_up = (np.log(close/K) + (mu - 0.5 * sigma **2) * (count)) / (sigma * math.sqrt(count))\n"
     ]
    },
    {
     "name": "stdout",
     "output_type": "stream",
     "text": [
      "[*********************100%***********************]  1 of 1 completed\n"
     ]
    },
    {
     "name": "stderr",
     "output_type": "stream",
     "text": [
      "/var/folders/g3/164q6cz52jv0sjllnsg7jdsm0000gn/T/ipykernel_31243/1592665972.py:2: RuntimeWarning: divide by zero encountered in double_scalars\n",
      "  d1 = (np.log(S/K) + (r - p + sigma**2/2)*T)/(sigma*np.sqrt(T))\n",
      "/var/folders/g3/164q6cz52jv0sjllnsg7jdsm0000gn/T/ipykernel_31243/1484490205.py:138: RuntimeWarning: divide by zero encountered in double_scalars\n",
      "  d_up = (np.log(close/K) + (mu - 0.5 * sigma **2) * (count)) / (sigma * math.sqrt(count))\n"
     ]
    },
    {
     "name": "stdout",
     "output_type": "stream",
     "text": [
      "[*********************100%***********************]  1 of 1 completed\n"
     ]
    },
    {
     "name": "stderr",
     "output_type": "stream",
     "text": [
      "/var/folders/g3/164q6cz52jv0sjllnsg7jdsm0000gn/T/ipykernel_31243/1592665972.py:2: RuntimeWarning: divide by zero encountered in double_scalars\n",
      "  d1 = (np.log(S/K) + (r - p + sigma**2/2)*T)/(sigma*np.sqrt(T))\n",
      "/var/folders/g3/164q6cz52jv0sjllnsg7jdsm0000gn/T/ipykernel_31243/1484490205.py:138: RuntimeWarning: divide by zero encountered in double_scalars\n",
      "  d_up = (np.log(close/K) + (mu - 0.5 * sigma **2) * (count)) / (sigma * math.sqrt(count))\n"
     ]
    },
    {
     "name": "stdout",
     "output_type": "stream",
     "text": [
      "[*********************100%***********************]  1 of 1 completed\n"
     ]
    },
    {
     "name": "stderr",
     "output_type": "stream",
     "text": [
      "/var/folders/g3/164q6cz52jv0sjllnsg7jdsm0000gn/T/ipykernel_31243/1592665972.py:2: RuntimeWarning: divide by zero encountered in double_scalars\n",
      "  d1 = (np.log(S/K) + (r - p + sigma**2/2)*T)/(sigma*np.sqrt(T))\n",
      "/var/folders/g3/164q6cz52jv0sjllnsg7jdsm0000gn/T/ipykernel_31243/1484490205.py:138: RuntimeWarning: divide by zero encountered in double_scalars\n",
      "  d_up = (np.log(close/K) + (mu - 0.5 * sigma **2) * (count)) / (sigma * math.sqrt(count))\n",
      "/var/folders/g3/164q6cz52jv0sjllnsg7jdsm0000gn/T/ipykernel_31243/1592665972.py:2: RuntimeWarning: invalid value encountered in double_scalars\n",
      "  d1 = (np.log(S/K) + (r - p + sigma**2/2)*T)/(sigma*np.sqrt(T))\n",
      "/var/folders/g3/164q6cz52jv0sjllnsg7jdsm0000gn/T/ipykernel_31243/1484490205.py:138: RuntimeWarning: invalid value encountered in double_scalars\n",
      "  d_up = (np.log(close/K) + (mu - 0.5 * sigma **2) * (count)) / (sigma * math.sqrt(count))\n"
     ]
    },
    {
     "name": "stdout",
     "output_type": "stream",
     "text": [
      "[*********************100%***********************]  1 of 1 completed\n"
     ]
    },
    {
     "name": "stderr",
     "output_type": "stream",
     "text": [
      "/var/folders/g3/164q6cz52jv0sjllnsg7jdsm0000gn/T/ipykernel_31243/1592665972.py:2: RuntimeWarning: divide by zero encountered in double_scalars\n",
      "  d1 = (np.log(S/K) + (r - p + sigma**2/2)*T)/(sigma*np.sqrt(T))\n",
      "/var/folders/g3/164q6cz52jv0sjllnsg7jdsm0000gn/T/ipykernel_31243/1484490205.py:138: RuntimeWarning: divide by zero encountered in double_scalars\n",
      "  d_up = (np.log(close/K) + (mu - 0.5 * sigma **2) * (count)) / (sigma * math.sqrt(count))\n"
     ]
    },
    {
     "name": "stdout",
     "output_type": "stream",
     "text": [
      "[*********************100%***********************]  1 of 1 completed\n"
     ]
    },
    {
     "name": "stderr",
     "output_type": "stream",
     "text": [
      "/var/folders/g3/164q6cz52jv0sjllnsg7jdsm0000gn/T/ipykernel_31243/1592665972.py:2: RuntimeWarning: divide by zero encountered in double_scalars\n",
      "  d1 = (np.log(S/K) + (r - p + sigma**2/2)*T)/(sigma*np.sqrt(T))\n",
      "/var/folders/g3/164q6cz52jv0sjllnsg7jdsm0000gn/T/ipykernel_31243/1484490205.py:138: RuntimeWarning: divide by zero encountered in double_scalars\n",
      "  d_up = (np.log(close/K) + (mu - 0.5 * sigma **2) * (count)) / (sigma * math.sqrt(count))\n"
     ]
    },
    {
     "name": "stdout",
     "output_type": "stream",
     "text": [
      "[*********************100%***********************]  1 of 1 completed\n"
     ]
    },
    {
     "name": "stderr",
     "output_type": "stream",
     "text": [
      "/var/folders/g3/164q6cz52jv0sjllnsg7jdsm0000gn/T/ipykernel_31243/1592665972.py:2: RuntimeWarning: divide by zero encountered in double_scalars\n",
      "  d1 = (np.log(S/K) + (r - p + sigma**2/2)*T)/(sigma*np.sqrt(T))\n",
      "/var/folders/g3/164q6cz52jv0sjllnsg7jdsm0000gn/T/ipykernel_31243/1484490205.py:138: RuntimeWarning: divide by zero encountered in double_scalars\n",
      "  d_up = (np.log(close/K) + (mu - 0.5 * sigma **2) * (count)) / (sigma * math.sqrt(count))\n"
     ]
    },
    {
     "name": "stdout",
     "output_type": "stream",
     "text": [
      "[*********************100%***********************]  1 of 1 completed\n"
     ]
    },
    {
     "name": "stderr",
     "output_type": "stream",
     "text": [
      "/var/folders/g3/164q6cz52jv0sjllnsg7jdsm0000gn/T/ipykernel_31243/1592665972.py:2: RuntimeWarning: divide by zero encountered in double_scalars\n",
      "  d1 = (np.log(S/K) + (r - p + sigma**2/2)*T)/(sigma*np.sqrt(T))\n",
      "/var/folders/g3/164q6cz52jv0sjllnsg7jdsm0000gn/T/ipykernel_31243/1484490205.py:138: RuntimeWarning: divide by zero encountered in double_scalars\n",
      "  d_up = (np.log(close/K) + (mu - 0.5 * sigma **2) * (count)) / (sigma * math.sqrt(count))\n"
     ]
    },
    {
     "name": "stdout",
     "output_type": "stream",
     "text": [
      "[*********************100%***********************]  1 of 1 completed\n"
     ]
    },
    {
     "name": "stderr",
     "output_type": "stream",
     "text": [
      "/var/folders/g3/164q6cz52jv0sjllnsg7jdsm0000gn/T/ipykernel_31243/1592665972.py:2: RuntimeWarning: divide by zero encountered in double_scalars\n",
      "  d1 = (np.log(S/K) + (r - p + sigma**2/2)*T)/(sigma*np.sqrt(T))\n",
      "/var/folders/g3/164q6cz52jv0sjllnsg7jdsm0000gn/T/ipykernel_31243/1484490205.py:138: RuntimeWarning: divide by zero encountered in double_scalars\n",
      "  d_up = (np.log(close/K) + (mu - 0.5 * sigma **2) * (count)) / (sigma * math.sqrt(count))\n"
     ]
    },
    {
     "name": "stdout",
     "output_type": "stream",
     "text": [
      "[*********************100%***********************]  1 of 1 completed\n"
     ]
    },
    {
     "name": "stderr",
     "output_type": "stream",
     "text": [
      "/var/folders/g3/164q6cz52jv0sjllnsg7jdsm0000gn/T/ipykernel_31243/1592665972.py:2: RuntimeWarning: divide by zero encountered in double_scalars\n",
      "  d1 = (np.log(S/K) + (r - p + sigma**2/2)*T)/(sigma*np.sqrt(T))\n",
      "/var/folders/g3/164q6cz52jv0sjllnsg7jdsm0000gn/T/ipykernel_31243/1484490205.py:138: RuntimeWarning: divide by zero encountered in double_scalars\n",
      "  d_up = (np.log(close/K) + (mu - 0.5 * sigma **2) * (count)) / (sigma * math.sqrt(count))\n"
     ]
    },
    {
     "name": "stdout",
     "output_type": "stream",
     "text": [
      "[*********************100%***********************]  1 of 1 completed\n"
     ]
    },
    {
     "name": "stderr",
     "output_type": "stream",
     "text": [
      "/var/folders/g3/164q6cz52jv0sjllnsg7jdsm0000gn/T/ipykernel_31243/1592665972.py:2: RuntimeWarning: divide by zero encountered in double_scalars\n",
      "  d1 = (np.log(S/K) + (r - p + sigma**2/2)*T)/(sigma*np.sqrt(T))\n",
      "/var/folders/g3/164q6cz52jv0sjllnsg7jdsm0000gn/T/ipykernel_31243/1484490205.py:138: RuntimeWarning: divide by zero encountered in double_scalars\n",
      "  d_up = (np.log(close/K) + (mu - 0.5 * sigma **2) * (count)) / (sigma * math.sqrt(count))\n"
     ]
    },
    {
     "name": "stdout",
     "output_type": "stream",
     "text": [
      "[*********************100%***********************]  1 of 1 completed\n"
     ]
    },
    {
     "name": "stderr",
     "output_type": "stream",
     "text": [
      "/var/folders/g3/164q6cz52jv0sjllnsg7jdsm0000gn/T/ipykernel_31243/1592665972.py:2: RuntimeWarning: divide by zero encountered in double_scalars\n",
      "  d1 = (np.log(S/K) + (r - p + sigma**2/2)*T)/(sigma*np.sqrt(T))\n",
      "/var/folders/g3/164q6cz52jv0sjllnsg7jdsm0000gn/T/ipykernel_31243/1484490205.py:138: RuntimeWarning: divide by zero encountered in double_scalars\n",
      "  d_up = (np.log(close/K) + (mu - 0.5 * sigma **2) * (count)) / (sigma * math.sqrt(count))\n"
     ]
    },
    {
     "name": "stdout",
     "output_type": "stream",
     "text": [
      "[*********************100%***********************]  1 of 1 completed\n"
     ]
    },
    {
     "name": "stderr",
     "output_type": "stream",
     "text": [
      "/var/folders/g3/164q6cz52jv0sjllnsg7jdsm0000gn/T/ipykernel_31243/1592665972.py:2: RuntimeWarning: divide by zero encountered in double_scalars\n",
      "  d1 = (np.log(S/K) + (r - p + sigma**2/2)*T)/(sigma*np.sqrt(T))\n",
      "/var/folders/g3/164q6cz52jv0sjllnsg7jdsm0000gn/T/ipykernel_31243/1484490205.py:138: RuntimeWarning: divide by zero encountered in double_scalars\n",
      "  d_up = (np.log(close/K) + (mu - 0.5 * sigma **2) * (count)) / (sigma * math.sqrt(count))\n"
     ]
    },
    {
     "name": "stdout",
     "output_type": "stream",
     "text": [
      "[*********************100%***********************]  1 of 1 completed\n"
     ]
    },
    {
     "name": "stderr",
     "output_type": "stream",
     "text": [
      "/var/folders/g3/164q6cz52jv0sjllnsg7jdsm0000gn/T/ipykernel_31243/1592665972.py:2: RuntimeWarning: divide by zero encountered in double_scalars\n",
      "  d1 = (np.log(S/K) + (r - p + sigma**2/2)*T)/(sigma*np.sqrt(T))\n",
      "/var/folders/g3/164q6cz52jv0sjllnsg7jdsm0000gn/T/ipykernel_31243/1484490205.py:138: RuntimeWarning: divide by zero encountered in double_scalars\n",
      "  d_up = (np.log(close/K) + (mu - 0.5 * sigma **2) * (count)) / (sigma * math.sqrt(count))\n"
     ]
    },
    {
     "name": "stdout",
     "output_type": "stream",
     "text": [
      "[*********************100%***********************]  1 of 1 completed\n"
     ]
    },
    {
     "name": "stderr",
     "output_type": "stream",
     "text": [
      "/var/folders/g3/164q6cz52jv0sjllnsg7jdsm0000gn/T/ipykernel_31243/1592665972.py:2: RuntimeWarning: divide by zero encountered in double_scalars\n",
      "  d1 = (np.log(S/K) + (r - p + sigma**2/2)*T)/(sigma*np.sqrt(T))\n",
      "/var/folders/g3/164q6cz52jv0sjllnsg7jdsm0000gn/T/ipykernel_31243/1484490205.py:138: RuntimeWarning: divide by zero encountered in double_scalars\n",
      "  d_up = (np.log(close/K) + (mu - 0.5 * sigma **2) * (count)) / (sigma * math.sqrt(count))\n"
     ]
    },
    {
     "name": "stdout",
     "output_type": "stream",
     "text": [
      "[*********************100%***********************]  1 of 1 completed\n"
     ]
    },
    {
     "name": "stderr",
     "output_type": "stream",
     "text": [
      "/var/folders/g3/164q6cz52jv0sjllnsg7jdsm0000gn/T/ipykernel_31243/1592665972.py:2: RuntimeWarning: divide by zero encountered in double_scalars\n",
      "  d1 = (np.log(S/K) + (r - p + sigma**2/2)*T)/(sigma*np.sqrt(T))\n",
      "/var/folders/g3/164q6cz52jv0sjllnsg7jdsm0000gn/T/ipykernel_31243/1484490205.py:138: RuntimeWarning: divide by zero encountered in double_scalars\n",
      "  d_up = (np.log(close/K) + (mu - 0.5 * sigma **2) * (count)) / (sigma * math.sqrt(count))\n"
     ]
    },
    {
     "name": "stdout",
     "output_type": "stream",
     "text": [
      "[*********************100%***********************]  1 of 1 completed\n"
     ]
    },
    {
     "name": "stderr",
     "output_type": "stream",
     "text": [
      "/var/folders/g3/164q6cz52jv0sjllnsg7jdsm0000gn/T/ipykernel_31243/1592665972.py:2: RuntimeWarning: divide by zero encountered in double_scalars\n",
      "  d1 = (np.log(S/K) + (r - p + sigma**2/2)*T)/(sigma*np.sqrt(T))\n",
      "/var/folders/g3/164q6cz52jv0sjllnsg7jdsm0000gn/T/ipykernel_31243/1484490205.py:138: RuntimeWarning: divide by zero encountered in double_scalars\n",
      "  d_up = (np.log(close/K) + (mu - 0.5 * sigma **2) * (count)) / (sigma * math.sqrt(count))\n"
     ]
    },
    {
     "name": "stdout",
     "output_type": "stream",
     "text": [
      "[*********************100%***********************]  1 of 1 completed\n"
     ]
    },
    {
     "name": "stderr",
     "output_type": "stream",
     "text": [
      "/var/folders/g3/164q6cz52jv0sjllnsg7jdsm0000gn/T/ipykernel_31243/1592665972.py:2: RuntimeWarning: divide by zero encountered in double_scalars\n",
      "  d1 = (np.log(S/K) + (r - p + sigma**2/2)*T)/(sigma*np.sqrt(T))\n",
      "/var/folders/g3/164q6cz52jv0sjllnsg7jdsm0000gn/T/ipykernel_31243/1484490205.py:138: RuntimeWarning: divide by zero encountered in double_scalars\n",
      "  d_up = (np.log(close/K) + (mu - 0.5 * sigma **2) * (count)) / (sigma * math.sqrt(count))\n"
     ]
    },
    {
     "name": "stdout",
     "output_type": "stream",
     "text": [
      "[*********************100%***********************]  1 of 1 completed\n"
     ]
    },
    {
     "name": "stderr",
     "output_type": "stream",
     "text": [
      "/var/folders/g3/164q6cz52jv0sjllnsg7jdsm0000gn/T/ipykernel_31243/1592665972.py:2: RuntimeWarning: divide by zero encountered in double_scalars\n",
      "  d1 = (np.log(S/K) + (r - p + sigma**2/2)*T)/(sigma*np.sqrt(T))\n",
      "/var/folders/g3/164q6cz52jv0sjllnsg7jdsm0000gn/T/ipykernel_31243/1484490205.py:138: RuntimeWarning: divide by zero encountered in double_scalars\n",
      "  d_up = (np.log(close/K) + (mu - 0.5 * sigma **2) * (count)) / (sigma * math.sqrt(count))\n"
     ]
    },
    {
     "name": "stdout",
     "output_type": "stream",
     "text": [
      "[*********************100%***********************]  1 of 1 completed\n"
     ]
    },
    {
     "name": "stderr",
     "output_type": "stream",
     "text": [
      "/var/folders/g3/164q6cz52jv0sjllnsg7jdsm0000gn/T/ipykernel_31243/1592665972.py:2: RuntimeWarning: divide by zero encountered in double_scalars\n",
      "  d1 = (np.log(S/K) + (r - p + sigma**2/2)*T)/(sigma*np.sqrt(T))\n",
      "/var/folders/g3/164q6cz52jv0sjllnsg7jdsm0000gn/T/ipykernel_31243/1484490205.py:138: RuntimeWarning: divide by zero encountered in double_scalars\n",
      "  d_up = (np.log(close/K) + (mu - 0.5 * sigma **2) * (count)) / (sigma * math.sqrt(count))\n"
     ]
    },
    {
     "name": "stdout",
     "output_type": "stream",
     "text": [
      "[*********************100%***********************]  1 of 1 completed\n"
     ]
    },
    {
     "name": "stderr",
     "output_type": "stream",
     "text": [
      "/var/folders/g3/164q6cz52jv0sjllnsg7jdsm0000gn/T/ipykernel_31243/1592665972.py:2: RuntimeWarning: divide by zero encountered in double_scalars\n",
      "  d1 = (np.log(S/K) + (r - p + sigma**2/2)*T)/(sigma*np.sqrt(T))\n",
      "/var/folders/g3/164q6cz52jv0sjllnsg7jdsm0000gn/T/ipykernel_31243/1484490205.py:138: RuntimeWarning: divide by zero encountered in double_scalars\n",
      "  d_up = (np.log(close/K) + (mu - 0.5 * sigma **2) * (count)) / (sigma * math.sqrt(count))\n"
     ]
    },
    {
     "name": "stdout",
     "output_type": "stream",
     "text": [
      "[*********************100%***********************]  1 of 1 completed\n"
     ]
    },
    {
     "name": "stderr",
     "output_type": "stream",
     "text": [
      "/var/folders/g3/164q6cz52jv0sjllnsg7jdsm0000gn/T/ipykernel_31243/1592665972.py:2: RuntimeWarning: divide by zero encountered in double_scalars\n",
      "  d1 = (np.log(S/K) + (r - p + sigma**2/2)*T)/(sigma*np.sqrt(T))\n",
      "/var/folders/g3/164q6cz52jv0sjllnsg7jdsm0000gn/T/ipykernel_31243/1484490205.py:138: RuntimeWarning: divide by zero encountered in double_scalars\n",
      "  d_up = (np.log(close/K) + (mu - 0.5 * sigma **2) * (count)) / (sigma * math.sqrt(count))\n"
     ]
    },
    {
     "name": "stdout",
     "output_type": "stream",
     "text": [
      "[*********************100%***********************]  1 of 1 completed\n"
     ]
    },
    {
     "name": "stderr",
     "output_type": "stream",
     "text": [
      "/var/folders/g3/164q6cz52jv0sjllnsg7jdsm0000gn/T/ipykernel_31243/1592665972.py:2: RuntimeWarning: divide by zero encountered in double_scalars\n",
      "  d1 = (np.log(S/K) + (r - p + sigma**2/2)*T)/(sigma*np.sqrt(T))\n",
      "/var/folders/g3/164q6cz52jv0sjllnsg7jdsm0000gn/T/ipykernel_31243/1484490205.py:138: RuntimeWarning: divide by zero encountered in double_scalars\n",
      "  d_up = (np.log(close/K) + (mu - 0.5 * sigma **2) * (count)) / (sigma * math.sqrt(count))\n"
     ]
    },
    {
     "name": "stdout",
     "output_type": "stream",
     "text": [
      "[*********************100%***********************]  1 of 1 completed\n"
     ]
    },
    {
     "name": "stderr",
     "output_type": "stream",
     "text": [
      "/var/folders/g3/164q6cz52jv0sjllnsg7jdsm0000gn/T/ipykernel_31243/1592665972.py:2: RuntimeWarning: divide by zero encountered in double_scalars\n",
      "  d1 = (np.log(S/K) + (r - p + sigma**2/2)*T)/(sigma*np.sqrt(T))\n",
      "/var/folders/g3/164q6cz52jv0sjllnsg7jdsm0000gn/T/ipykernel_31243/1484490205.py:138: RuntimeWarning: divide by zero encountered in double_scalars\n",
      "  d_up = (np.log(close/K) + (mu - 0.5 * sigma **2) * (count)) / (sigma * math.sqrt(count))\n"
     ]
    },
    {
     "name": "stdout",
     "output_type": "stream",
     "text": [
      "[*********************100%***********************]  1 of 1 completed\n"
     ]
    },
    {
     "name": "stderr",
     "output_type": "stream",
     "text": [
      "/var/folders/g3/164q6cz52jv0sjllnsg7jdsm0000gn/T/ipykernel_31243/1592665972.py:2: RuntimeWarning: divide by zero encountered in double_scalars\n",
      "  d1 = (np.log(S/K) + (r - p + sigma**2/2)*T)/(sigma*np.sqrt(T))\n",
      "/var/folders/g3/164q6cz52jv0sjllnsg7jdsm0000gn/T/ipykernel_31243/1484490205.py:138: RuntimeWarning: divide by zero encountered in double_scalars\n",
      "  d_up = (np.log(close/K) + (mu - 0.5 * sigma **2) * (count)) / (sigma * math.sqrt(count))\n"
     ]
    },
    {
     "name": "stdout",
     "output_type": "stream",
     "text": [
      "[*********************100%***********************]  1 of 1 completed\n"
     ]
    },
    {
     "name": "stderr",
     "output_type": "stream",
     "text": [
      "/var/folders/g3/164q6cz52jv0sjllnsg7jdsm0000gn/T/ipykernel_31243/1592665972.py:2: RuntimeWarning: divide by zero encountered in double_scalars\n",
      "  d1 = (np.log(S/K) + (r - p + sigma**2/2)*T)/(sigma*np.sqrt(T))\n",
      "/var/folders/g3/164q6cz52jv0sjllnsg7jdsm0000gn/T/ipykernel_31243/1484490205.py:138: RuntimeWarning: divide by zero encountered in double_scalars\n",
      "  d_up = (np.log(close/K) + (mu - 0.5 * sigma **2) * (count)) / (sigma * math.sqrt(count))\n"
     ]
    },
    {
     "name": "stdout",
     "output_type": "stream",
     "text": [
      "[*********************100%***********************]  1 of 1 completed\n"
     ]
    },
    {
     "name": "stderr",
     "output_type": "stream",
     "text": [
      "/var/folders/g3/164q6cz52jv0sjllnsg7jdsm0000gn/T/ipykernel_31243/1592665972.py:2: RuntimeWarning: divide by zero encountered in double_scalars\n",
      "  d1 = (np.log(S/K) + (r - p + sigma**2/2)*T)/(sigma*np.sqrt(T))\n",
      "/var/folders/g3/164q6cz52jv0sjllnsg7jdsm0000gn/T/ipykernel_31243/1484490205.py:138: RuntimeWarning: divide by zero encountered in double_scalars\n",
      "  d_up = (np.log(close/K) + (mu - 0.5 * sigma **2) * (count)) / (sigma * math.sqrt(count))\n"
     ]
    },
    {
     "name": "stdout",
     "output_type": "stream",
     "text": [
      "[*********************100%***********************]  1 of 1 completed\n"
     ]
    },
    {
     "name": "stderr",
     "output_type": "stream",
     "text": [
      "/var/folders/g3/164q6cz52jv0sjllnsg7jdsm0000gn/T/ipykernel_31243/1592665972.py:2: RuntimeWarning: divide by zero encountered in double_scalars\n",
      "  d1 = (np.log(S/K) + (r - p + sigma**2/2)*T)/(sigma*np.sqrt(T))\n",
      "/var/folders/g3/164q6cz52jv0sjllnsg7jdsm0000gn/T/ipykernel_31243/1484490205.py:138: RuntimeWarning: divide by zero encountered in double_scalars\n",
      "  d_up = (np.log(close/K) + (mu - 0.5 * sigma **2) * (count)) / (sigma * math.sqrt(count))\n"
     ]
    },
    {
     "name": "stdout",
     "output_type": "stream",
     "text": [
      "[*********************100%***********************]  1 of 1 completed\n"
     ]
    },
    {
     "name": "stderr",
     "output_type": "stream",
     "text": [
      "/var/folders/g3/164q6cz52jv0sjllnsg7jdsm0000gn/T/ipykernel_31243/1592665972.py:2: RuntimeWarning: divide by zero encountered in double_scalars\n",
      "  d1 = (np.log(S/K) + (r - p + sigma**2/2)*T)/(sigma*np.sqrt(T))\n",
      "/var/folders/g3/164q6cz52jv0sjllnsg7jdsm0000gn/T/ipykernel_31243/1484490205.py:138: RuntimeWarning: divide by zero encountered in double_scalars\n",
      "  d_up = (np.log(close/K) + (mu - 0.5 * sigma **2) * (count)) / (sigma * math.sqrt(count))\n"
     ]
    },
    {
     "name": "stdout",
     "output_type": "stream",
     "text": [
      "[*********************100%***********************]  1 of 1 completed\n"
     ]
    },
    {
     "name": "stderr",
     "output_type": "stream",
     "text": [
      "/var/folders/g3/164q6cz52jv0sjllnsg7jdsm0000gn/T/ipykernel_31243/1592665972.py:2: RuntimeWarning: divide by zero encountered in double_scalars\n",
      "  d1 = (np.log(S/K) + (r - p + sigma**2/2)*T)/(sigma*np.sqrt(T))\n",
      "/var/folders/g3/164q6cz52jv0sjllnsg7jdsm0000gn/T/ipykernel_31243/1484490205.py:138: RuntimeWarning: divide by zero encountered in double_scalars\n",
      "  d_up = (np.log(close/K) + (mu - 0.5 * sigma **2) * (count)) / (sigma * math.sqrt(count))\n"
     ]
    },
    {
     "name": "stdout",
     "output_type": "stream",
     "text": [
      "[*********************100%***********************]  1 of 1 completed\n"
     ]
    },
    {
     "name": "stderr",
     "output_type": "stream",
     "text": [
      "/var/folders/g3/164q6cz52jv0sjllnsg7jdsm0000gn/T/ipykernel_31243/1592665972.py:2: RuntimeWarning: divide by zero encountered in double_scalars\n",
      "  d1 = (np.log(S/K) + (r - p + sigma**2/2)*T)/(sigma*np.sqrt(T))\n",
      "/var/folders/g3/164q6cz52jv0sjllnsg7jdsm0000gn/T/ipykernel_31243/1484490205.py:138: RuntimeWarning: divide by zero encountered in double_scalars\n",
      "  d_up = (np.log(close/K) + (mu - 0.5 * sigma **2) * (count)) / (sigma * math.sqrt(count))\n",
      "/var/folders/g3/164q6cz52jv0sjllnsg7jdsm0000gn/T/ipykernel_31243/1592665972.py:2: RuntimeWarning: invalid value encountered in double_scalars\n",
      "  d1 = (np.log(S/K) + (r - p + sigma**2/2)*T)/(sigma*np.sqrt(T))\n",
      "/var/folders/g3/164q6cz52jv0sjllnsg7jdsm0000gn/T/ipykernel_31243/1484490205.py:138: RuntimeWarning: invalid value encountered in double_scalars\n",
      "  d_up = (np.log(close/K) + (mu - 0.5 * sigma **2) * (count)) / (sigma * math.sqrt(count))\n"
     ]
    },
    {
     "name": "stdout",
     "output_type": "stream",
     "text": [
      "[*********************100%***********************]  1 of 1 completed\n"
     ]
    },
    {
     "name": "stderr",
     "output_type": "stream",
     "text": [
      "/var/folders/g3/164q6cz52jv0sjllnsg7jdsm0000gn/T/ipykernel_31243/1592665972.py:2: RuntimeWarning: divide by zero encountered in double_scalars\n",
      "  d1 = (np.log(S/K) + (r - p + sigma**2/2)*T)/(sigma*np.sqrt(T))\n",
      "/var/folders/g3/164q6cz52jv0sjllnsg7jdsm0000gn/T/ipykernel_31243/1484490205.py:138: RuntimeWarning: divide by zero encountered in double_scalars\n",
      "  d_up = (np.log(close/K) + (mu - 0.5 * sigma **2) * (count)) / (sigma * math.sqrt(count))\n"
     ]
    },
    {
     "name": "stdout",
     "output_type": "stream",
     "text": [
      "[*********************100%***********************]  1 of 1 completed\n"
     ]
    },
    {
     "name": "stderr",
     "output_type": "stream",
     "text": [
      "/var/folders/g3/164q6cz52jv0sjllnsg7jdsm0000gn/T/ipykernel_31243/1592665972.py:2: RuntimeWarning: divide by zero encountered in double_scalars\n",
      "  d1 = (np.log(S/K) + (r - p + sigma**2/2)*T)/(sigma*np.sqrt(T))\n",
      "/var/folders/g3/164q6cz52jv0sjllnsg7jdsm0000gn/T/ipykernel_31243/1484490205.py:138: RuntimeWarning: divide by zero encountered in double_scalars\n",
      "  d_up = (np.log(close/K) + (mu - 0.5 * sigma **2) * (count)) / (sigma * math.sqrt(count))\n"
     ]
    },
    {
     "name": "stdout",
     "output_type": "stream",
     "text": [
      "[*********************100%***********************]  1 of 1 completed\n",
      "\n",
      "1 Failed download:\n",
      "- BRK.B: No data found, symbol may be delisted\n",
      "[*********************100%***********************]  1 of 1 completed\n"
     ]
    },
    {
     "name": "stderr",
     "output_type": "stream",
     "text": [
      "/var/folders/g3/164q6cz52jv0sjllnsg7jdsm0000gn/T/ipykernel_31243/1592665972.py:2: RuntimeWarning: divide by zero encountered in double_scalars\n",
      "  d1 = (np.log(S/K) + (r - p + sigma**2/2)*T)/(sigma*np.sqrt(T))\n",
      "/var/folders/g3/164q6cz52jv0sjllnsg7jdsm0000gn/T/ipykernel_31243/1484490205.py:138: RuntimeWarning: divide by zero encountered in double_scalars\n",
      "  d_up = (np.log(close/K) + (mu - 0.5 * sigma **2) * (count)) / (sigma * math.sqrt(count))\n"
     ]
    },
    {
     "name": "stdout",
     "output_type": "stream",
     "text": [
      "[*********************100%***********************]  1 of 1 completed\n"
     ]
    },
    {
     "name": "stderr",
     "output_type": "stream",
     "text": [
      "/var/folders/g3/164q6cz52jv0sjllnsg7jdsm0000gn/T/ipykernel_31243/1592665972.py:2: RuntimeWarning: divide by zero encountered in double_scalars\n",
      "  d1 = (np.log(S/K) + (r - p + sigma**2/2)*T)/(sigma*np.sqrt(T))\n",
      "/var/folders/g3/164q6cz52jv0sjllnsg7jdsm0000gn/T/ipykernel_31243/1484490205.py:138: RuntimeWarning: divide by zero encountered in double_scalars\n",
      "  d_up = (np.log(close/K) + (mu - 0.5 * sigma **2) * (count)) / (sigma * math.sqrt(count))\n"
     ]
    },
    {
     "name": "stdout",
     "output_type": "stream",
     "text": [
      "[*********************100%***********************]  1 of 1 completed\n"
     ]
    },
    {
     "name": "stderr",
     "output_type": "stream",
     "text": [
      "/var/folders/g3/164q6cz52jv0sjllnsg7jdsm0000gn/T/ipykernel_31243/1592665972.py:2: RuntimeWarning: divide by zero encountered in double_scalars\n",
      "  d1 = (np.log(S/K) + (r - p + sigma**2/2)*T)/(sigma*np.sqrt(T))\n",
      "/var/folders/g3/164q6cz52jv0sjllnsg7jdsm0000gn/T/ipykernel_31243/1484490205.py:138: RuntimeWarning: divide by zero encountered in double_scalars\n",
      "  d_up = (np.log(close/K) + (mu - 0.5 * sigma **2) * (count)) / (sigma * math.sqrt(count))\n"
     ]
    },
    {
     "name": "stdout",
     "output_type": "stream",
     "text": [
      "[*********************100%***********************]  1 of 1 completed\n"
     ]
    },
    {
     "name": "stderr",
     "output_type": "stream",
     "text": [
      "/var/folders/g3/164q6cz52jv0sjllnsg7jdsm0000gn/T/ipykernel_31243/1592665972.py:2: RuntimeWarning: divide by zero encountered in double_scalars\n",
      "  d1 = (np.log(S/K) + (r - p + sigma**2/2)*T)/(sigma*np.sqrt(T))\n",
      "/var/folders/g3/164q6cz52jv0sjllnsg7jdsm0000gn/T/ipykernel_31243/1484490205.py:138: RuntimeWarning: divide by zero encountered in double_scalars\n",
      "  d_up = (np.log(close/K) + (mu - 0.5 * sigma **2) * (count)) / (sigma * math.sqrt(count))\n"
     ]
    },
    {
     "name": "stdout",
     "output_type": "stream",
     "text": [
      "[*********************100%***********************]  1 of 1 completed\n"
     ]
    },
    {
     "name": "stderr",
     "output_type": "stream",
     "text": [
      "/var/folders/g3/164q6cz52jv0sjllnsg7jdsm0000gn/T/ipykernel_31243/1592665972.py:2: RuntimeWarning: divide by zero encountered in double_scalars\n",
      "  d1 = (np.log(S/K) + (r - p + sigma**2/2)*T)/(sigma*np.sqrt(T))\n",
      "/var/folders/g3/164q6cz52jv0sjllnsg7jdsm0000gn/T/ipykernel_31243/1484490205.py:138: RuntimeWarning: divide by zero encountered in double_scalars\n",
      "  d_up = (np.log(close/K) + (mu - 0.5 * sigma **2) * (count)) / (sigma * math.sqrt(count))\n"
     ]
    },
    {
     "name": "stdout",
     "output_type": "stream",
     "text": [
      "[*********************100%***********************]  1 of 1 completed\n"
     ]
    },
    {
     "name": "stderr",
     "output_type": "stream",
     "text": [
      "/var/folders/g3/164q6cz52jv0sjllnsg7jdsm0000gn/T/ipykernel_31243/1592665972.py:2: RuntimeWarning: divide by zero encountered in double_scalars\n",
      "  d1 = (np.log(S/K) + (r - p + sigma**2/2)*T)/(sigma*np.sqrt(T))\n",
      "/var/folders/g3/164q6cz52jv0sjllnsg7jdsm0000gn/T/ipykernel_31243/1484490205.py:138: RuntimeWarning: divide by zero encountered in double_scalars\n",
      "  d_up = (np.log(close/K) + (mu - 0.5 * sigma **2) * (count)) / (sigma * math.sqrt(count))\n"
     ]
    },
    {
     "name": "stdout",
     "output_type": "stream",
     "text": [
      "[*********************100%***********************]  1 of 1 completed\n"
     ]
    },
    {
     "name": "stderr",
     "output_type": "stream",
     "text": [
      "/var/folders/g3/164q6cz52jv0sjllnsg7jdsm0000gn/T/ipykernel_31243/1592665972.py:2: RuntimeWarning: divide by zero encountered in double_scalars\n",
      "  d1 = (np.log(S/K) + (r - p + sigma**2/2)*T)/(sigma*np.sqrt(T))\n",
      "/var/folders/g3/164q6cz52jv0sjllnsg7jdsm0000gn/T/ipykernel_31243/1484490205.py:138: RuntimeWarning: divide by zero encountered in double_scalars\n",
      "  d_up = (np.log(close/K) + (mu - 0.5 * sigma **2) * (count)) / (sigma * math.sqrt(count))\n"
     ]
    },
    {
     "name": "stdout",
     "output_type": "stream",
     "text": [
      "[*********************100%***********************]  1 of 1 completed\n"
     ]
    },
    {
     "name": "stderr",
     "output_type": "stream",
     "text": [
      "/var/folders/g3/164q6cz52jv0sjllnsg7jdsm0000gn/T/ipykernel_31243/1592665972.py:2: RuntimeWarning: divide by zero encountered in double_scalars\n",
      "  d1 = (np.log(S/K) + (r - p + sigma**2/2)*T)/(sigma*np.sqrt(T))\n",
      "/var/folders/g3/164q6cz52jv0sjllnsg7jdsm0000gn/T/ipykernel_31243/1484490205.py:138: RuntimeWarning: divide by zero encountered in double_scalars\n",
      "  d_up = (np.log(close/K) + (mu - 0.5 * sigma **2) * (count)) / (sigma * math.sqrt(count))\n"
     ]
    },
    {
     "name": "stdout",
     "output_type": "stream",
     "text": [
      "[*********************100%***********************]  1 of 1 completed\n"
     ]
    },
    {
     "name": "stderr",
     "output_type": "stream",
     "text": [
      "/var/folders/g3/164q6cz52jv0sjllnsg7jdsm0000gn/T/ipykernel_31243/1592665972.py:2: RuntimeWarning: divide by zero encountered in double_scalars\n",
      "  d1 = (np.log(S/K) + (r - p + sigma**2/2)*T)/(sigma*np.sqrt(T))\n",
      "/var/folders/g3/164q6cz52jv0sjllnsg7jdsm0000gn/T/ipykernel_31243/1484490205.py:138: RuntimeWarning: divide by zero encountered in double_scalars\n",
      "  d_up = (np.log(close/K) + (mu - 0.5 * sigma **2) * (count)) / (sigma * math.sqrt(count))\n"
     ]
    },
    {
     "name": "stdout",
     "output_type": "stream",
     "text": [
      "[*********************100%***********************]  1 of 1 completed\n"
     ]
    },
    {
     "name": "stderr",
     "output_type": "stream",
     "text": [
      "/var/folders/g3/164q6cz52jv0sjllnsg7jdsm0000gn/T/ipykernel_31243/1592665972.py:2: RuntimeWarning: divide by zero encountered in double_scalars\n",
      "  d1 = (np.log(S/K) + (r - p + sigma**2/2)*T)/(sigma*np.sqrt(T))\n",
      "/var/folders/g3/164q6cz52jv0sjllnsg7jdsm0000gn/T/ipykernel_31243/1484490205.py:138: RuntimeWarning: divide by zero encountered in double_scalars\n",
      "  d_up = (np.log(close/K) + (mu - 0.5 * sigma **2) * (count)) / (sigma * math.sqrt(count))\n"
     ]
    },
    {
     "name": "stdout",
     "output_type": "stream",
     "text": [
      "[*********************100%***********************]  1 of 1 completed\n"
     ]
    },
    {
     "name": "stderr",
     "output_type": "stream",
     "text": [
      "/var/folders/g3/164q6cz52jv0sjllnsg7jdsm0000gn/T/ipykernel_31243/1592665972.py:2: RuntimeWarning: divide by zero encountered in double_scalars\n",
      "  d1 = (np.log(S/K) + (r - p + sigma**2/2)*T)/(sigma*np.sqrt(T))\n",
      "/var/folders/g3/164q6cz52jv0sjllnsg7jdsm0000gn/T/ipykernel_31243/1484490205.py:138: RuntimeWarning: divide by zero encountered in double_scalars\n",
      "  d_up = (np.log(close/K) + (mu - 0.5 * sigma **2) * (count)) / (sigma * math.sqrt(count))\n"
     ]
    },
    {
     "name": "stdout",
     "output_type": "stream",
     "text": [
      "[*********************100%***********************]  1 of 1 completed\n"
     ]
    },
    {
     "name": "stderr",
     "output_type": "stream",
     "text": [
      "/var/folders/g3/164q6cz52jv0sjllnsg7jdsm0000gn/T/ipykernel_31243/1592665972.py:2: RuntimeWarning: divide by zero encountered in double_scalars\n",
      "  d1 = (np.log(S/K) + (r - p + sigma**2/2)*T)/(sigma*np.sqrt(T))\n",
      "/var/folders/g3/164q6cz52jv0sjllnsg7jdsm0000gn/T/ipykernel_31243/1484490205.py:138: RuntimeWarning: divide by zero encountered in double_scalars\n",
      "  d_up = (np.log(close/K) + (mu - 0.5 * sigma **2) * (count)) / (sigma * math.sqrt(count))\n"
     ]
    },
    {
     "name": "stdout",
     "output_type": "stream",
     "text": [
      "[*********************100%***********************]  1 of 1 completed\n"
     ]
    },
    {
     "name": "stderr",
     "output_type": "stream",
     "text": [
      "/var/folders/g3/164q6cz52jv0sjllnsg7jdsm0000gn/T/ipykernel_31243/1592665972.py:2: RuntimeWarning: divide by zero encountered in double_scalars\n",
      "  d1 = (np.log(S/K) + (r - p + sigma**2/2)*T)/(sigma*np.sqrt(T))\n",
      "/var/folders/g3/164q6cz52jv0sjllnsg7jdsm0000gn/T/ipykernel_31243/1484490205.py:138: RuntimeWarning: divide by zero encountered in double_scalars\n",
      "  d_up = (np.log(close/K) + (mu - 0.5 * sigma **2) * (count)) / (sigma * math.sqrt(count))\n"
     ]
    },
    {
     "name": "stdout",
     "output_type": "stream",
     "text": [
      "[*********************100%***********************]  1 of 1 completed\n"
     ]
    },
    {
     "name": "stderr",
     "output_type": "stream",
     "text": [
      "/var/folders/g3/164q6cz52jv0sjllnsg7jdsm0000gn/T/ipykernel_31243/1592665972.py:2: RuntimeWarning: divide by zero encountered in double_scalars\n",
      "  d1 = (np.log(S/K) + (r - p + sigma**2/2)*T)/(sigma*np.sqrt(T))\n",
      "/var/folders/g3/164q6cz52jv0sjllnsg7jdsm0000gn/T/ipykernel_31243/1484490205.py:138: RuntimeWarning: divide by zero encountered in double_scalars\n",
      "  d_up = (np.log(close/K) + (mu - 0.5 * sigma **2) * (count)) / (sigma * math.sqrt(count))\n"
     ]
    },
    {
     "name": "stdout",
     "output_type": "stream",
     "text": [
      "[*********************100%***********************]  1 of 1 completed\n"
     ]
    },
    {
     "name": "stderr",
     "output_type": "stream",
     "text": [
      "/var/folders/g3/164q6cz52jv0sjllnsg7jdsm0000gn/T/ipykernel_31243/1592665972.py:2: RuntimeWarning: divide by zero encountered in double_scalars\n",
      "  d1 = (np.log(S/K) + (r - p + sigma**2/2)*T)/(sigma*np.sqrt(T))\n",
      "/var/folders/g3/164q6cz52jv0sjllnsg7jdsm0000gn/T/ipykernel_31243/1484490205.py:138: RuntimeWarning: divide by zero encountered in double_scalars\n",
      "  d_up = (np.log(close/K) + (mu - 0.5 * sigma **2) * (count)) / (sigma * math.sqrt(count))\n"
     ]
    },
    {
     "name": "stdout",
     "output_type": "stream",
     "text": [
      "[*********************100%***********************]  1 of 1 completed\n"
     ]
    },
    {
     "name": "stderr",
     "output_type": "stream",
     "text": [
      "/var/folders/g3/164q6cz52jv0sjllnsg7jdsm0000gn/T/ipykernel_31243/1592665972.py:2: RuntimeWarning: divide by zero encountered in double_scalars\n",
      "  d1 = (np.log(S/K) + (r - p + sigma**2/2)*T)/(sigma*np.sqrt(T))\n",
      "/var/folders/g3/164q6cz52jv0sjllnsg7jdsm0000gn/T/ipykernel_31243/1484490205.py:138: RuntimeWarning: divide by zero encountered in double_scalars\n",
      "  d_up = (np.log(close/K) + (mu - 0.5 * sigma **2) * (count)) / (sigma * math.sqrt(count))\n",
      "/var/folders/g3/164q6cz52jv0sjllnsg7jdsm0000gn/T/ipykernel_31243/1484490205.py:146: RuntimeWarning: divide by zero encountered in double_scalars\n",
      "  diff_put = (P - true_put) / P * 100\n",
      "/var/folders/g3/164q6cz52jv0sjllnsg7jdsm0000gn/T/ipykernel_31243/1484490205.py:148: RuntimeWarning: divide by zero encountered in double_scalars\n",
      "  diff_call = (C - true_call) / C * 100\n"
     ]
    },
    {
     "name": "stdout",
     "output_type": "stream",
     "text": [
      "[*********************100%***********************]  1 of 1 completed\n"
     ]
    },
    {
     "name": "stderr",
     "output_type": "stream",
     "text": [
      "/var/folders/g3/164q6cz52jv0sjllnsg7jdsm0000gn/T/ipykernel_31243/1592665972.py:2: RuntimeWarning: divide by zero encountered in double_scalars\n",
      "  d1 = (np.log(S/K) + (r - p + sigma**2/2)*T)/(sigma*np.sqrt(T))\n",
      "/var/folders/g3/164q6cz52jv0sjllnsg7jdsm0000gn/T/ipykernel_31243/1484490205.py:138: RuntimeWarning: divide by zero encountered in double_scalars\n",
      "  d_up = (np.log(close/K) + (mu - 0.5 * sigma **2) * (count)) / (sigma * math.sqrt(count))\n"
     ]
    },
    {
     "name": "stdout",
     "output_type": "stream",
     "text": [
      "[*********************100%***********************]  1 of 1 completed\n"
     ]
    },
    {
     "name": "stderr",
     "output_type": "stream",
     "text": [
      "/var/folders/g3/164q6cz52jv0sjllnsg7jdsm0000gn/T/ipykernel_31243/1592665972.py:2: RuntimeWarning: divide by zero encountered in double_scalars\n",
      "  d1 = (np.log(S/K) + (r - p + sigma**2/2)*T)/(sigma*np.sqrt(T))\n",
      "/var/folders/g3/164q6cz52jv0sjllnsg7jdsm0000gn/T/ipykernel_31243/1484490205.py:138: RuntimeWarning: divide by zero encountered in double_scalars\n",
      "  d_up = (np.log(close/K) + (mu - 0.5 * sigma **2) * (count)) / (sigma * math.sqrt(count))\n"
     ]
    },
    {
     "name": "stdout",
     "output_type": "stream",
     "text": [
      "[*********************100%***********************]  1 of 1 completed\n"
     ]
    },
    {
     "name": "stderr",
     "output_type": "stream",
     "text": [
      "/var/folders/g3/164q6cz52jv0sjllnsg7jdsm0000gn/T/ipykernel_31243/1592665972.py:2: RuntimeWarning: divide by zero encountered in double_scalars\n",
      "  d1 = (np.log(S/K) + (r - p + sigma**2/2)*T)/(sigma*np.sqrt(T))\n",
      "/var/folders/g3/164q6cz52jv0sjllnsg7jdsm0000gn/T/ipykernel_31243/1484490205.py:138: RuntimeWarning: divide by zero encountered in double_scalars\n",
      "  d_up = (np.log(close/K) + (mu - 0.5 * sigma **2) * (count)) / (sigma * math.sqrt(count))\n"
     ]
    },
    {
     "name": "stdout",
     "output_type": "stream",
     "text": [
      "[*********************100%***********************]  1 of 1 completed\n"
     ]
    },
    {
     "name": "stderr",
     "output_type": "stream",
     "text": [
      "/var/folders/g3/164q6cz52jv0sjllnsg7jdsm0000gn/T/ipykernel_31243/1592665972.py:2: RuntimeWarning: divide by zero encountered in double_scalars\n",
      "  d1 = (np.log(S/K) + (r - p + sigma**2/2)*T)/(sigma*np.sqrt(T))\n",
      "/var/folders/g3/164q6cz52jv0sjllnsg7jdsm0000gn/T/ipykernel_31243/1484490205.py:138: RuntimeWarning: divide by zero encountered in double_scalars\n",
      "  d_up = (np.log(close/K) + (mu - 0.5 * sigma **2) * (count)) / (sigma * math.sqrt(count))\n",
      "/var/folders/g3/164q6cz52jv0sjllnsg7jdsm0000gn/T/ipykernel_31243/1484490205.py:146: RuntimeWarning: divide by zero encountered in double_scalars\n",
      "  diff_put = (P - true_put) / P * 100\n",
      "/var/folders/g3/164q6cz52jv0sjllnsg7jdsm0000gn/T/ipykernel_31243/1484490205.py:148: RuntimeWarning: divide by zero encountered in double_scalars\n",
      "  diff_call = (C - true_call) / C * 100\n"
     ]
    },
    {
     "name": "stdout",
     "output_type": "stream",
     "text": [
      "[*********************100%***********************]  1 of 1 completed\n"
     ]
    },
    {
     "name": "stderr",
     "output_type": "stream",
     "text": [
      "/var/folders/g3/164q6cz52jv0sjllnsg7jdsm0000gn/T/ipykernel_31243/1592665972.py:2: RuntimeWarning: divide by zero encountered in double_scalars\n",
      "  d1 = (np.log(S/K) + (r - p + sigma**2/2)*T)/(sigma*np.sqrt(T))\n",
      "/var/folders/g3/164q6cz52jv0sjllnsg7jdsm0000gn/T/ipykernel_31243/1484490205.py:138: RuntimeWarning: divide by zero encountered in double_scalars\n",
      "  d_up = (np.log(close/K) + (mu - 0.5 * sigma **2) * (count)) / (sigma * math.sqrt(count))\n"
     ]
    },
    {
     "name": "stdout",
     "output_type": "stream",
     "text": [
      "[*********************100%***********************]  1 of 1 completed\n"
     ]
    },
    {
     "name": "stderr",
     "output_type": "stream",
     "text": [
      "/var/folders/g3/164q6cz52jv0sjllnsg7jdsm0000gn/T/ipykernel_31243/1592665972.py:2: RuntimeWarning: divide by zero encountered in double_scalars\n",
      "  d1 = (np.log(S/K) + (r - p + sigma**2/2)*T)/(sigma*np.sqrt(T))\n",
      "/var/folders/g3/164q6cz52jv0sjllnsg7jdsm0000gn/T/ipykernel_31243/1484490205.py:138: RuntimeWarning: divide by zero encountered in double_scalars\n",
      "  d_up = (np.log(close/K) + (mu - 0.5 * sigma **2) * (count)) / (sigma * math.sqrt(count))\n"
     ]
    },
    {
     "name": "stdout",
     "output_type": "stream",
     "text": [
      "[*********************100%***********************]  1 of 1 completed\n"
     ]
    },
    {
     "name": "stderr",
     "output_type": "stream",
     "text": [
      "/var/folders/g3/164q6cz52jv0sjllnsg7jdsm0000gn/T/ipykernel_31243/1592665972.py:2: RuntimeWarning: divide by zero encountered in double_scalars\n",
      "  d1 = (np.log(S/K) + (r - p + sigma**2/2)*T)/(sigma*np.sqrt(T))\n",
      "/var/folders/g3/164q6cz52jv0sjllnsg7jdsm0000gn/T/ipykernel_31243/1484490205.py:138: RuntimeWarning: divide by zero encountered in double_scalars\n",
      "  d_up = (np.log(close/K) + (mu - 0.5 * sigma **2) * (count)) / (sigma * math.sqrt(count))\n"
     ]
    },
    {
     "name": "stdout",
     "output_type": "stream",
     "text": [
      "[*********************100%***********************]  1 of 1 completed\n"
     ]
    },
    {
     "name": "stderr",
     "output_type": "stream",
     "text": [
      "/var/folders/g3/164q6cz52jv0sjllnsg7jdsm0000gn/T/ipykernel_31243/1592665972.py:2: RuntimeWarning: divide by zero encountered in double_scalars\n",
      "  d1 = (np.log(S/K) + (r - p + sigma**2/2)*T)/(sigma*np.sqrt(T))\n",
      "/var/folders/g3/164q6cz52jv0sjllnsg7jdsm0000gn/T/ipykernel_31243/1484490205.py:138: RuntimeWarning: divide by zero encountered in double_scalars\n",
      "  d_up = (np.log(close/K) + (mu - 0.5 * sigma **2) * (count)) / (sigma * math.sqrt(count))\n"
     ]
    },
    {
     "name": "stdout",
     "output_type": "stream",
     "text": [
      "[*********************100%***********************]  1 of 1 completed\n"
     ]
    },
    {
     "name": "stderr",
     "output_type": "stream",
     "text": [
      "/var/folders/g3/164q6cz52jv0sjllnsg7jdsm0000gn/T/ipykernel_31243/1592665972.py:2: RuntimeWarning: divide by zero encountered in double_scalars\n",
      "  d1 = (np.log(S/K) + (r - p + sigma**2/2)*T)/(sigma*np.sqrt(T))\n",
      "/var/folders/g3/164q6cz52jv0sjllnsg7jdsm0000gn/T/ipykernel_31243/1484490205.py:138: RuntimeWarning: divide by zero encountered in double_scalars\n",
      "  d_up = (np.log(close/K) + (mu - 0.5 * sigma **2) * (count)) / (sigma * math.sqrt(count))\n"
     ]
    },
    {
     "name": "stdout",
     "output_type": "stream",
     "text": [
      "[*********************100%***********************]  1 of 1 completed\n"
     ]
    },
    {
     "name": "stderr",
     "output_type": "stream",
     "text": [
      "/var/folders/g3/164q6cz52jv0sjllnsg7jdsm0000gn/T/ipykernel_31243/1592665972.py:2: RuntimeWarning: divide by zero encountered in double_scalars\n",
      "  d1 = (np.log(S/K) + (r - p + sigma**2/2)*T)/(sigma*np.sqrt(T))\n",
      "/var/folders/g3/164q6cz52jv0sjllnsg7jdsm0000gn/T/ipykernel_31243/1484490205.py:138: RuntimeWarning: divide by zero encountered in double_scalars\n",
      "  d_up = (np.log(close/K) + (mu - 0.5 * sigma **2) * (count)) / (sigma * math.sqrt(count))\n"
     ]
    },
    {
     "name": "stdout",
     "output_type": "stream",
     "text": [
      "[*********************100%***********************]  1 of 1 completed\n"
     ]
    },
    {
     "name": "stderr",
     "output_type": "stream",
     "text": [
      "/var/folders/g3/164q6cz52jv0sjllnsg7jdsm0000gn/T/ipykernel_31243/1592665972.py:2: RuntimeWarning: divide by zero encountered in double_scalars\n",
      "  d1 = (np.log(S/K) + (r - p + sigma**2/2)*T)/(sigma*np.sqrt(T))\n",
      "/var/folders/g3/164q6cz52jv0sjllnsg7jdsm0000gn/T/ipykernel_31243/1484490205.py:138: RuntimeWarning: divide by zero encountered in double_scalars\n",
      "  d_up = (np.log(close/K) + (mu - 0.5 * sigma **2) * (count)) / (sigma * math.sqrt(count))\n"
     ]
    },
    {
     "name": "stdout",
     "output_type": "stream",
     "text": [
      "[*********************100%***********************]  1 of 1 completed\n"
     ]
    },
    {
     "name": "stderr",
     "output_type": "stream",
     "text": [
      "/var/folders/g3/164q6cz52jv0sjllnsg7jdsm0000gn/T/ipykernel_31243/1592665972.py:2: RuntimeWarning: divide by zero encountered in double_scalars\n",
      "  d1 = (np.log(S/K) + (r - p + sigma**2/2)*T)/(sigma*np.sqrt(T))\n",
      "/var/folders/g3/164q6cz52jv0sjllnsg7jdsm0000gn/T/ipykernel_31243/1484490205.py:138: RuntimeWarning: divide by zero encountered in double_scalars\n",
      "  d_up = (np.log(close/K) + (mu - 0.5 * sigma **2) * (count)) / (sigma * math.sqrt(count))\n"
     ]
    },
    {
     "name": "stdout",
     "output_type": "stream",
     "text": [
      "[*********************100%***********************]  1 of 1 completed\n"
     ]
    },
    {
     "name": "stderr",
     "output_type": "stream",
     "text": [
      "/var/folders/g3/164q6cz52jv0sjllnsg7jdsm0000gn/T/ipykernel_31243/1592665972.py:2: RuntimeWarning: divide by zero encountered in double_scalars\n",
      "  d1 = (np.log(S/K) + (r - p + sigma**2/2)*T)/(sigma*np.sqrt(T))\n",
      "/var/folders/g3/164q6cz52jv0sjllnsg7jdsm0000gn/T/ipykernel_31243/1484490205.py:138: RuntimeWarning: divide by zero encountered in double_scalars\n",
      "  d_up = (np.log(close/K) + (mu - 0.5 * sigma **2) * (count)) / (sigma * math.sqrt(count))\n"
     ]
    },
    {
     "name": "stdout",
     "output_type": "stream",
     "text": [
      "[*********************100%***********************]  1 of 1 completed\n"
     ]
    },
    {
     "name": "stderr",
     "output_type": "stream",
     "text": [
      "/var/folders/g3/164q6cz52jv0sjllnsg7jdsm0000gn/T/ipykernel_31243/1592665972.py:2: RuntimeWarning: divide by zero encountered in double_scalars\n",
      "  d1 = (np.log(S/K) + (r - p + sigma**2/2)*T)/(sigma*np.sqrt(T))\n",
      "/var/folders/g3/164q6cz52jv0sjllnsg7jdsm0000gn/T/ipykernel_31243/1484490205.py:138: RuntimeWarning: divide by zero encountered in double_scalars\n",
      "  d_up = (np.log(close/K) + (mu - 0.5 * sigma **2) * (count)) / (sigma * math.sqrt(count))\n"
     ]
    },
    {
     "name": "stdout",
     "output_type": "stream",
     "text": [
      "[*********************100%***********************]  1 of 1 completed\n"
     ]
    },
    {
     "name": "stderr",
     "output_type": "stream",
     "text": [
      "/var/folders/g3/164q6cz52jv0sjllnsg7jdsm0000gn/T/ipykernel_31243/1592665972.py:2: RuntimeWarning: divide by zero encountered in double_scalars\n",
      "  d1 = (np.log(S/K) + (r - p + sigma**2/2)*T)/(sigma*np.sqrt(T))\n",
      "/var/folders/g3/164q6cz52jv0sjllnsg7jdsm0000gn/T/ipykernel_31243/1484490205.py:138: RuntimeWarning: divide by zero encountered in double_scalars\n",
      "  d_up = (np.log(close/K) + (mu - 0.5 * sigma **2) * (count)) / (sigma * math.sqrt(count))\n"
     ]
    },
    {
     "name": "stdout",
     "output_type": "stream",
     "text": [
      "[*********************100%***********************]  1 of 1 completed\n"
     ]
    },
    {
     "name": "stderr",
     "output_type": "stream",
     "text": [
      "/var/folders/g3/164q6cz52jv0sjllnsg7jdsm0000gn/T/ipykernel_31243/1592665972.py:2: RuntimeWarning: divide by zero encountered in double_scalars\n",
      "  d1 = (np.log(S/K) + (r - p + sigma**2/2)*T)/(sigma*np.sqrt(T))\n",
      "/var/folders/g3/164q6cz52jv0sjllnsg7jdsm0000gn/T/ipykernel_31243/1484490205.py:138: RuntimeWarning: divide by zero encountered in double_scalars\n",
      "  d_up = (np.log(close/K) + (mu - 0.5 * sigma **2) * (count)) / (sigma * math.sqrt(count))\n"
     ]
    },
    {
     "name": "stdout",
     "output_type": "stream",
     "text": [
      "[*********************100%***********************]  1 of 1 completed\n"
     ]
    },
    {
     "name": "stderr",
     "output_type": "stream",
     "text": [
      "/var/folders/g3/164q6cz52jv0sjllnsg7jdsm0000gn/T/ipykernel_31243/1592665972.py:2: RuntimeWarning: divide by zero encountered in double_scalars\n",
      "  d1 = (np.log(S/K) + (r - p + sigma**2/2)*T)/(sigma*np.sqrt(T))\n",
      "/var/folders/g3/164q6cz52jv0sjllnsg7jdsm0000gn/T/ipykernel_31243/1484490205.py:138: RuntimeWarning: divide by zero encountered in double_scalars\n",
      "  d_up = (np.log(close/K) + (mu - 0.5 * sigma **2) * (count)) / (sigma * math.sqrt(count))\n",
      "/var/folders/g3/164q6cz52jv0sjllnsg7jdsm0000gn/T/ipykernel_31243/1484490205.py:146: RuntimeWarning: divide by zero encountered in double_scalars\n",
      "  diff_put = (P - true_put) / P * 100\n",
      "/var/folders/g3/164q6cz52jv0sjllnsg7jdsm0000gn/T/ipykernel_31243/1484490205.py:148: RuntimeWarning: divide by zero encountered in double_scalars\n",
      "  diff_call = (C - true_call) / C * 100\n"
     ]
    },
    {
     "name": "stdout",
     "output_type": "stream",
     "text": [
      "[*********************100%***********************]  1 of 1 completed\n"
     ]
    },
    {
     "name": "stderr",
     "output_type": "stream",
     "text": [
      "/var/folders/g3/164q6cz52jv0sjllnsg7jdsm0000gn/T/ipykernel_31243/1592665972.py:2: RuntimeWarning: divide by zero encountered in double_scalars\n",
      "  d1 = (np.log(S/K) + (r - p + sigma**2/2)*T)/(sigma*np.sqrt(T))\n",
      "/var/folders/g3/164q6cz52jv0sjllnsg7jdsm0000gn/T/ipykernel_31243/1484490205.py:138: RuntimeWarning: divide by zero encountered in double_scalars\n",
      "  d_up = (np.log(close/K) + (mu - 0.5 * sigma **2) * (count)) / (sigma * math.sqrt(count))\n"
     ]
    },
    {
     "name": "stdout",
     "output_type": "stream",
     "text": [
      "[*********************100%***********************]  1 of 1 completed\n"
     ]
    },
    {
     "name": "stderr",
     "output_type": "stream",
     "text": [
      "/var/folders/g3/164q6cz52jv0sjllnsg7jdsm0000gn/T/ipykernel_31243/1592665972.py:2: RuntimeWarning: divide by zero encountered in double_scalars\n",
      "  d1 = (np.log(S/K) + (r - p + sigma**2/2)*T)/(sigma*np.sqrt(T))\n",
      "/var/folders/g3/164q6cz52jv0sjllnsg7jdsm0000gn/T/ipykernel_31243/1484490205.py:138: RuntimeWarning: divide by zero encountered in double_scalars\n",
      "  d_up = (np.log(close/K) + (mu - 0.5 * sigma **2) * (count)) / (sigma * math.sqrt(count))\n"
     ]
    },
    {
     "name": "stdout",
     "output_type": "stream",
     "text": [
      "[*********************100%***********************]  1 of 1 completed\n"
     ]
    },
    {
     "name": "stderr",
     "output_type": "stream",
     "text": [
      "/var/folders/g3/164q6cz52jv0sjllnsg7jdsm0000gn/T/ipykernel_31243/1592665972.py:2: RuntimeWarning: divide by zero encountered in double_scalars\n",
      "  d1 = (np.log(S/K) + (r - p + sigma**2/2)*T)/(sigma*np.sqrt(T))\n",
      "/var/folders/g3/164q6cz52jv0sjllnsg7jdsm0000gn/T/ipykernel_31243/1484490205.py:138: RuntimeWarning: divide by zero encountered in double_scalars\n",
      "  d_up = (np.log(close/K) + (mu - 0.5 * sigma **2) * (count)) / (sigma * math.sqrt(count))\n"
     ]
    },
    {
     "name": "stdout",
     "output_type": "stream",
     "text": [
      "[*********************100%***********************]  1 of 1 completed\n"
     ]
    },
    {
     "name": "stderr",
     "output_type": "stream",
     "text": [
      "/var/folders/g3/164q6cz52jv0sjllnsg7jdsm0000gn/T/ipykernel_31243/1592665972.py:2: RuntimeWarning: divide by zero encountered in double_scalars\n",
      "  d1 = (np.log(S/K) + (r - p + sigma**2/2)*T)/(sigma*np.sqrt(T))\n",
      "/var/folders/g3/164q6cz52jv0sjllnsg7jdsm0000gn/T/ipykernel_31243/1484490205.py:138: RuntimeWarning: divide by zero encountered in double_scalars\n",
      "  d_up = (np.log(close/K) + (mu - 0.5 * sigma **2) * (count)) / (sigma * math.sqrt(count))\n"
     ]
    },
    {
     "name": "stdout",
     "output_type": "stream",
     "text": [
      "[*********************100%***********************]  1 of 1 completed\n"
     ]
    },
    {
     "name": "stderr",
     "output_type": "stream",
     "text": [
      "/var/folders/g3/164q6cz52jv0sjllnsg7jdsm0000gn/T/ipykernel_31243/1592665972.py:2: RuntimeWarning: divide by zero encountered in double_scalars\n",
      "  d1 = (np.log(S/K) + (r - p + sigma**2/2)*T)/(sigma*np.sqrt(T))\n",
      "/var/folders/g3/164q6cz52jv0sjllnsg7jdsm0000gn/T/ipykernel_31243/1484490205.py:138: RuntimeWarning: divide by zero encountered in double_scalars\n",
      "  d_up = (np.log(close/K) + (mu - 0.5 * sigma **2) * (count)) / (sigma * math.sqrt(count))\n"
     ]
    },
    {
     "name": "stdout",
     "output_type": "stream",
     "text": [
      "[*********************100%***********************]  1 of 1 completed\n"
     ]
    },
    {
     "name": "stderr",
     "output_type": "stream",
     "text": [
      "/var/folders/g3/164q6cz52jv0sjllnsg7jdsm0000gn/T/ipykernel_31243/1592665972.py:2: RuntimeWarning: divide by zero encountered in double_scalars\n",
      "  d1 = (np.log(S/K) + (r - p + sigma**2/2)*T)/(sigma*np.sqrt(T))\n",
      "/var/folders/g3/164q6cz52jv0sjllnsg7jdsm0000gn/T/ipykernel_31243/1484490205.py:138: RuntimeWarning: divide by zero encountered in double_scalars\n",
      "  d_up = (np.log(close/K) + (mu - 0.5 * sigma **2) * (count)) / (sigma * math.sqrt(count))\n"
     ]
    },
    {
     "name": "stdout",
     "output_type": "stream",
     "text": [
      "[*********************100%***********************]  1 of 1 completed\n"
     ]
    },
    {
     "name": "stderr",
     "output_type": "stream",
     "text": [
      "/var/folders/g3/164q6cz52jv0sjllnsg7jdsm0000gn/T/ipykernel_31243/1592665972.py:2: RuntimeWarning: divide by zero encountered in double_scalars\n",
      "  d1 = (np.log(S/K) + (r - p + sigma**2/2)*T)/(sigma*np.sqrt(T))\n",
      "/var/folders/g3/164q6cz52jv0sjllnsg7jdsm0000gn/T/ipykernel_31243/1484490205.py:138: RuntimeWarning: divide by zero encountered in double_scalars\n",
      "  d_up = (np.log(close/K) + (mu - 0.5 * sigma **2) * (count)) / (sigma * math.sqrt(count))\n"
     ]
    },
    {
     "name": "stdout",
     "output_type": "stream",
     "text": [
      "[*********************100%***********************]  1 of 1 completed\n"
     ]
    },
    {
     "name": "stderr",
     "output_type": "stream",
     "text": [
      "/var/folders/g3/164q6cz52jv0sjllnsg7jdsm0000gn/T/ipykernel_31243/1592665972.py:2: RuntimeWarning: divide by zero encountered in double_scalars\n",
      "  d1 = (np.log(S/K) + (r - p + sigma**2/2)*T)/(sigma*np.sqrt(T))\n",
      "/var/folders/g3/164q6cz52jv0sjllnsg7jdsm0000gn/T/ipykernel_31243/1484490205.py:138: RuntimeWarning: divide by zero encountered in double_scalars\n",
      "  d_up = (np.log(close/K) + (mu - 0.5 * sigma **2) * (count)) / (sigma * math.sqrt(count))\n"
     ]
    },
    {
     "name": "stdout",
     "output_type": "stream",
     "text": [
      "[*********************100%***********************]  1 of 1 completed\n"
     ]
    },
    {
     "name": "stderr",
     "output_type": "stream",
     "text": [
      "/var/folders/g3/164q6cz52jv0sjllnsg7jdsm0000gn/T/ipykernel_31243/1592665972.py:2: RuntimeWarning: divide by zero encountered in double_scalars\n",
      "  d1 = (np.log(S/K) + (r - p + sigma**2/2)*T)/(sigma*np.sqrt(T))\n",
      "/var/folders/g3/164q6cz52jv0sjllnsg7jdsm0000gn/T/ipykernel_31243/1484490205.py:138: RuntimeWarning: divide by zero encountered in double_scalars\n",
      "  d_up = (np.log(close/K) + (mu - 0.5 * sigma **2) * (count)) / (sigma * math.sqrt(count))\n"
     ]
    },
    {
     "name": "stdout",
     "output_type": "stream",
     "text": [
      "[*********************100%***********************]  1 of 1 completed\n"
     ]
    },
    {
     "name": "stderr",
     "output_type": "stream",
     "text": [
      "/var/folders/g3/164q6cz52jv0sjllnsg7jdsm0000gn/T/ipykernel_31243/1592665972.py:2: RuntimeWarning: divide by zero encountered in double_scalars\n",
      "  d1 = (np.log(S/K) + (r - p + sigma**2/2)*T)/(sigma*np.sqrt(T))\n",
      "/var/folders/g3/164q6cz52jv0sjllnsg7jdsm0000gn/T/ipykernel_31243/1484490205.py:138: RuntimeWarning: divide by zero encountered in double_scalars\n",
      "  d_up = (np.log(close/K) + (mu - 0.5 * sigma **2) * (count)) / (sigma * math.sqrt(count))\n"
     ]
    },
    {
     "name": "stdout",
     "output_type": "stream",
     "text": [
      "[*********************100%***********************]  1 of 1 completed\n"
     ]
    },
    {
     "name": "stderr",
     "output_type": "stream",
     "text": [
      "/var/folders/g3/164q6cz52jv0sjllnsg7jdsm0000gn/T/ipykernel_31243/1592665972.py:2: RuntimeWarning: divide by zero encountered in double_scalars\n",
      "  d1 = (np.log(S/K) + (r - p + sigma**2/2)*T)/(sigma*np.sqrt(T))\n",
      "/var/folders/g3/164q6cz52jv0sjllnsg7jdsm0000gn/T/ipykernel_31243/1484490205.py:138: RuntimeWarning: divide by zero encountered in double_scalars\n",
      "  d_up = (np.log(close/K) + (mu - 0.5 * sigma **2) * (count)) / (sigma * math.sqrt(count))\n"
     ]
    },
    {
     "name": "stdout",
     "output_type": "stream",
     "text": [
      "[*********************100%***********************]  1 of 1 completed\n"
     ]
    },
    {
     "name": "stderr",
     "output_type": "stream",
     "text": [
      "/var/folders/g3/164q6cz52jv0sjllnsg7jdsm0000gn/T/ipykernel_31243/1592665972.py:2: RuntimeWarning: divide by zero encountered in double_scalars\n",
      "  d1 = (np.log(S/K) + (r - p + sigma**2/2)*T)/(sigma*np.sqrt(T))\n",
      "/var/folders/g3/164q6cz52jv0sjllnsg7jdsm0000gn/T/ipykernel_31243/1484490205.py:138: RuntimeWarning: divide by zero encountered in double_scalars\n",
      "  d_up = (np.log(close/K) + (mu - 0.5 * sigma **2) * (count)) / (sigma * math.sqrt(count))\n"
     ]
    },
    {
     "name": "stdout",
     "output_type": "stream",
     "text": [
      "[*********************100%***********************]  1 of 1 completed\n"
     ]
    },
    {
     "name": "stderr",
     "output_type": "stream",
     "text": [
      "/var/folders/g3/164q6cz52jv0sjllnsg7jdsm0000gn/T/ipykernel_31243/1592665972.py:2: RuntimeWarning: divide by zero encountered in double_scalars\n",
      "  d1 = (np.log(S/K) + (r - p + sigma**2/2)*T)/(sigma*np.sqrt(T))\n",
      "/var/folders/g3/164q6cz52jv0sjllnsg7jdsm0000gn/T/ipykernel_31243/1484490205.py:138: RuntimeWarning: divide by zero encountered in double_scalars\n",
      "  d_up = (np.log(close/K) + (mu - 0.5 * sigma **2) * (count)) / (sigma * math.sqrt(count))\n",
      "/var/folders/g3/164q6cz52jv0sjllnsg7jdsm0000gn/T/ipykernel_31243/1484490205.py:146: RuntimeWarning: divide by zero encountered in double_scalars\n",
      "  diff_put = (P - true_put) / P * 100\n",
      "/var/folders/g3/164q6cz52jv0sjllnsg7jdsm0000gn/T/ipykernel_31243/1484490205.py:148: RuntimeWarning: divide by zero encountered in double_scalars\n",
      "  diff_call = (C - true_call) / C * 100\n"
     ]
    },
    {
     "name": "stdout",
     "output_type": "stream",
     "text": [
      "[*********************100%***********************]  1 of 1 completed\n"
     ]
    },
    {
     "name": "stderr",
     "output_type": "stream",
     "text": [
      "/var/folders/g3/164q6cz52jv0sjllnsg7jdsm0000gn/T/ipykernel_31243/1592665972.py:2: RuntimeWarning: divide by zero encountered in double_scalars\n",
      "  d1 = (np.log(S/K) + (r - p + sigma**2/2)*T)/(sigma*np.sqrt(T))\n",
      "/var/folders/g3/164q6cz52jv0sjllnsg7jdsm0000gn/T/ipykernel_31243/1484490205.py:138: RuntimeWarning: divide by zero encountered in double_scalars\n",
      "  d_up = (np.log(close/K) + (mu - 0.5 * sigma **2) * (count)) / (sigma * math.sqrt(count))\n"
     ]
    },
    {
     "name": "stdout",
     "output_type": "stream",
     "text": [
      "[*********************100%***********************]  1 of 1 completed\n"
     ]
    },
    {
     "name": "stderr",
     "output_type": "stream",
     "text": [
      "/var/folders/g3/164q6cz52jv0sjllnsg7jdsm0000gn/T/ipykernel_31243/1592665972.py:2: RuntimeWarning: divide by zero encountered in double_scalars\n",
      "  d1 = (np.log(S/K) + (r - p + sigma**2/2)*T)/(sigma*np.sqrt(T))\n",
      "/var/folders/g3/164q6cz52jv0sjllnsg7jdsm0000gn/T/ipykernel_31243/1484490205.py:138: RuntimeWarning: divide by zero encountered in double_scalars\n",
      "  d_up = (np.log(close/K) + (mu - 0.5 * sigma **2) * (count)) / (sigma * math.sqrt(count))\n"
     ]
    },
    {
     "name": "stdout",
     "output_type": "stream",
     "text": [
      "[*********************100%***********************]  1 of 1 completed\n"
     ]
    },
    {
     "name": "stderr",
     "output_type": "stream",
     "text": [
      "/var/folders/g3/164q6cz52jv0sjllnsg7jdsm0000gn/T/ipykernel_31243/1592665972.py:2: RuntimeWarning: divide by zero encountered in double_scalars\n",
      "  d1 = (np.log(S/K) + (r - p + sigma**2/2)*T)/(sigma*np.sqrt(T))\n",
      "/var/folders/g3/164q6cz52jv0sjllnsg7jdsm0000gn/T/ipykernel_31243/1484490205.py:138: RuntimeWarning: divide by zero encountered in double_scalars\n",
      "  d_up = (np.log(close/K) + (mu - 0.5 * sigma **2) * (count)) / (sigma * math.sqrt(count))\n"
     ]
    },
    {
     "name": "stdout",
     "output_type": "stream",
     "text": [
      "[*********************100%***********************]  1 of 1 completed\n"
     ]
    },
    {
     "name": "stderr",
     "output_type": "stream",
     "text": [
      "/var/folders/g3/164q6cz52jv0sjllnsg7jdsm0000gn/T/ipykernel_31243/1592665972.py:2: RuntimeWarning: divide by zero encountered in double_scalars\n",
      "  d1 = (np.log(S/K) + (r - p + sigma**2/2)*T)/(sigma*np.sqrt(T))\n",
      "/var/folders/g3/164q6cz52jv0sjllnsg7jdsm0000gn/T/ipykernel_31243/1484490205.py:138: RuntimeWarning: divide by zero encountered in double_scalars\n",
      "  d_up = (np.log(close/K) + (mu - 0.5 * sigma **2) * (count)) / (sigma * math.sqrt(count))\n"
     ]
    },
    {
     "name": "stdout",
     "output_type": "stream",
     "text": [
      "[*********************100%***********************]  1 of 1 completed\n"
     ]
    },
    {
     "name": "stderr",
     "output_type": "stream",
     "text": [
      "/var/folders/g3/164q6cz52jv0sjllnsg7jdsm0000gn/T/ipykernel_31243/1592665972.py:2: RuntimeWarning: divide by zero encountered in double_scalars\n",
      "  d1 = (np.log(S/K) + (r - p + sigma**2/2)*T)/(sigma*np.sqrt(T))\n",
      "/var/folders/g3/164q6cz52jv0sjllnsg7jdsm0000gn/T/ipykernel_31243/1484490205.py:138: RuntimeWarning: divide by zero encountered in double_scalars\n",
      "  d_up = (np.log(close/K) + (mu - 0.5 * sigma **2) * (count)) / (sigma * math.sqrt(count))\n"
     ]
    },
    {
     "name": "stdout",
     "output_type": "stream",
     "text": [
      "[*********************100%***********************]  1 of 1 completed\n"
     ]
    },
    {
     "name": "stderr",
     "output_type": "stream",
     "text": [
      "/var/folders/g3/164q6cz52jv0sjllnsg7jdsm0000gn/T/ipykernel_31243/1592665972.py:2: RuntimeWarning: divide by zero encountered in double_scalars\n",
      "  d1 = (np.log(S/K) + (r - p + sigma**2/2)*T)/(sigma*np.sqrt(T))\n",
      "/var/folders/g3/164q6cz52jv0sjllnsg7jdsm0000gn/T/ipykernel_31243/1484490205.py:138: RuntimeWarning: divide by zero encountered in double_scalars\n",
      "  d_up = (np.log(close/K) + (mu - 0.5 * sigma **2) * (count)) / (sigma * math.sqrt(count))\n",
      "/var/folders/g3/164q6cz52jv0sjllnsg7jdsm0000gn/T/ipykernel_31243/1484490205.py:146: RuntimeWarning: divide by zero encountered in double_scalars\n",
      "  diff_put = (P - true_put) / P * 100\n",
      "/var/folders/g3/164q6cz52jv0sjllnsg7jdsm0000gn/T/ipykernel_31243/1484490205.py:148: RuntimeWarning: divide by zero encountered in double_scalars\n",
      "  diff_call = (C - true_call) / C * 100\n"
     ]
    },
    {
     "name": "stdout",
     "output_type": "stream",
     "text": [
      "[*********************100%***********************]  1 of 1 completed\n"
     ]
    },
    {
     "name": "stderr",
     "output_type": "stream",
     "text": [
      "/var/folders/g3/164q6cz52jv0sjllnsg7jdsm0000gn/T/ipykernel_31243/1592665972.py:2: RuntimeWarning: divide by zero encountered in double_scalars\n",
      "  d1 = (np.log(S/K) + (r - p + sigma**2/2)*T)/(sigma*np.sqrt(T))\n",
      "/var/folders/g3/164q6cz52jv0sjllnsg7jdsm0000gn/T/ipykernel_31243/1484490205.py:138: RuntimeWarning: divide by zero encountered in double_scalars\n",
      "  d_up = (np.log(close/K) + (mu - 0.5 * sigma **2) * (count)) / (sigma * math.sqrt(count))\n"
     ]
    },
    {
     "name": "stdout",
     "output_type": "stream",
     "text": [
      "[*********************100%***********************]  1 of 1 completed\n"
     ]
    },
    {
     "name": "stderr",
     "output_type": "stream",
     "text": [
      "/var/folders/g3/164q6cz52jv0sjllnsg7jdsm0000gn/T/ipykernel_31243/1592665972.py:2: RuntimeWarning: divide by zero encountered in double_scalars\n",
      "  d1 = (np.log(S/K) + (r - p + sigma**2/2)*T)/(sigma*np.sqrt(T))\n",
      "/var/folders/g3/164q6cz52jv0sjllnsg7jdsm0000gn/T/ipykernel_31243/1484490205.py:138: RuntimeWarning: divide by zero encountered in double_scalars\n",
      "  d_up = (np.log(close/K) + (mu - 0.5 * sigma **2) * (count)) / (sigma * math.sqrt(count))\n"
     ]
    },
    {
     "name": "stdout",
     "output_type": "stream",
     "text": [
      "[*********************100%***********************]  1 of 1 completed\n"
     ]
    },
    {
     "name": "stderr",
     "output_type": "stream",
     "text": [
      "/var/folders/g3/164q6cz52jv0sjllnsg7jdsm0000gn/T/ipykernel_31243/1592665972.py:2: RuntimeWarning: divide by zero encountered in double_scalars\n",
      "  d1 = (np.log(S/K) + (r - p + sigma**2/2)*T)/(sigma*np.sqrt(T))\n",
      "/var/folders/g3/164q6cz52jv0sjllnsg7jdsm0000gn/T/ipykernel_31243/1484490205.py:138: RuntimeWarning: divide by zero encountered in double_scalars\n",
      "  d_up = (np.log(close/K) + (mu - 0.5 * sigma **2) * (count)) / (sigma * math.sqrt(count))\n"
     ]
    },
    {
     "name": "stdout",
     "output_type": "stream",
     "text": [
      "[*********************100%***********************]  1 of 1 completed\n"
     ]
    },
    {
     "name": "stderr",
     "output_type": "stream",
     "text": [
      "/var/folders/g3/164q6cz52jv0sjllnsg7jdsm0000gn/T/ipykernel_31243/1592665972.py:2: RuntimeWarning: divide by zero encountered in double_scalars\n",
      "  d1 = (np.log(S/K) + (r - p + sigma**2/2)*T)/(sigma*np.sqrt(T))\n",
      "/var/folders/g3/164q6cz52jv0sjllnsg7jdsm0000gn/T/ipykernel_31243/1484490205.py:138: RuntimeWarning: divide by zero encountered in double_scalars\n",
      "  d_up = (np.log(close/K) + (mu - 0.5 * sigma **2) * (count)) / (sigma * math.sqrt(count))\n"
     ]
    },
    {
     "name": "stdout",
     "output_type": "stream",
     "text": [
      "[*********************100%***********************]  1 of 1 completed\n"
     ]
    },
    {
     "name": "stderr",
     "output_type": "stream",
     "text": [
      "/var/folders/g3/164q6cz52jv0sjllnsg7jdsm0000gn/T/ipykernel_31243/1592665972.py:2: RuntimeWarning: divide by zero encountered in double_scalars\n",
      "  d1 = (np.log(S/K) + (r - p + sigma**2/2)*T)/(sigma*np.sqrt(T))\n",
      "/var/folders/g3/164q6cz52jv0sjllnsg7jdsm0000gn/T/ipykernel_31243/1484490205.py:138: RuntimeWarning: divide by zero encountered in double_scalars\n",
      "  d_up = (np.log(close/K) + (mu - 0.5 * sigma **2) * (count)) / (sigma * math.sqrt(count))\n"
     ]
    },
    {
     "name": "stdout",
     "output_type": "stream",
     "text": [
      "[*********************100%***********************]  1 of 1 completed\n"
     ]
    },
    {
     "name": "stderr",
     "output_type": "stream",
     "text": [
      "/var/folders/g3/164q6cz52jv0sjllnsg7jdsm0000gn/T/ipykernel_31243/1592665972.py:2: RuntimeWarning: divide by zero encountered in double_scalars\n",
      "  d1 = (np.log(S/K) + (r - p + sigma**2/2)*T)/(sigma*np.sqrt(T))\n",
      "/var/folders/g3/164q6cz52jv0sjllnsg7jdsm0000gn/T/ipykernel_31243/1484490205.py:138: RuntimeWarning: divide by zero encountered in double_scalars\n",
      "  d_up = (np.log(close/K) + (mu - 0.5 * sigma **2) * (count)) / (sigma * math.sqrt(count))\n"
     ]
    },
    {
     "name": "stdout",
     "output_type": "stream",
     "text": [
      "[*********************100%***********************]  1 of 1 completed\n"
     ]
    },
    {
     "name": "stderr",
     "output_type": "stream",
     "text": [
      "/var/folders/g3/164q6cz52jv0sjllnsg7jdsm0000gn/T/ipykernel_31243/1592665972.py:2: RuntimeWarning: divide by zero encountered in double_scalars\n",
      "  d1 = (np.log(S/K) + (r - p + sigma**2/2)*T)/(sigma*np.sqrt(T))\n",
      "/var/folders/g3/164q6cz52jv0sjllnsg7jdsm0000gn/T/ipykernel_31243/1484490205.py:138: RuntimeWarning: divide by zero encountered in double_scalars\n",
      "  d_up = (np.log(close/K) + (mu - 0.5 * sigma **2) * (count)) / (sigma * math.sqrt(count))\n"
     ]
    },
    {
     "name": "stdout",
     "output_type": "stream",
     "text": [
      "[*********************100%***********************]  1 of 1 completed\n"
     ]
    },
    {
     "name": "stderr",
     "output_type": "stream",
     "text": [
      "/var/folders/g3/164q6cz52jv0sjllnsg7jdsm0000gn/T/ipykernel_31243/1592665972.py:2: RuntimeWarning: divide by zero encountered in double_scalars\n",
      "  d1 = (np.log(S/K) + (r - p + sigma**2/2)*T)/(sigma*np.sqrt(T))\n",
      "/var/folders/g3/164q6cz52jv0sjllnsg7jdsm0000gn/T/ipykernel_31243/1484490205.py:138: RuntimeWarning: divide by zero encountered in double_scalars\n",
      "  d_up = (np.log(close/K) + (mu - 0.5 * sigma **2) * (count)) / (sigma * math.sqrt(count))\n"
     ]
    },
    {
     "name": "stdout",
     "output_type": "stream",
     "text": [
      "[*********************100%***********************]  1 of 1 completed\n"
     ]
    },
    {
     "name": "stderr",
     "output_type": "stream",
     "text": [
      "/var/folders/g3/164q6cz52jv0sjllnsg7jdsm0000gn/T/ipykernel_31243/1592665972.py:2: RuntimeWarning: divide by zero encountered in double_scalars\n",
      "  d1 = (np.log(S/K) + (r - p + sigma**2/2)*T)/(sigma*np.sqrt(T))\n",
      "/var/folders/g3/164q6cz52jv0sjllnsg7jdsm0000gn/T/ipykernel_31243/1484490205.py:138: RuntimeWarning: divide by zero encountered in double_scalars\n",
      "  d_up = (np.log(close/K) + (mu - 0.5 * sigma **2) * (count)) / (sigma * math.sqrt(count))\n"
     ]
    },
    {
     "name": "stdout",
     "output_type": "stream",
     "text": [
      "[*********************100%***********************]  1 of 1 completed\n"
     ]
    },
    {
     "name": "stderr",
     "output_type": "stream",
     "text": [
      "/var/folders/g3/164q6cz52jv0sjllnsg7jdsm0000gn/T/ipykernel_31243/1592665972.py:2: RuntimeWarning: divide by zero encountered in double_scalars\n",
      "  d1 = (np.log(S/K) + (r - p + sigma**2/2)*T)/(sigma*np.sqrt(T))\n",
      "/var/folders/g3/164q6cz52jv0sjllnsg7jdsm0000gn/T/ipykernel_31243/1484490205.py:138: RuntimeWarning: divide by zero encountered in double_scalars\n",
      "  d_up = (np.log(close/K) + (mu - 0.5 * sigma **2) * (count)) / (sigma * math.sqrt(count))\n"
     ]
    },
    {
     "name": "stdout",
     "output_type": "stream",
     "text": [
      "[*********************100%***********************]  1 of 1 completed\n"
     ]
    },
    {
     "name": "stderr",
     "output_type": "stream",
     "text": [
      "/var/folders/g3/164q6cz52jv0sjllnsg7jdsm0000gn/T/ipykernel_31243/1592665972.py:2: RuntimeWarning: divide by zero encountered in double_scalars\n",
      "  d1 = (np.log(S/K) + (r - p + sigma**2/2)*T)/(sigma*np.sqrt(T))\n",
      "/var/folders/g3/164q6cz52jv0sjllnsg7jdsm0000gn/T/ipykernel_31243/1484490205.py:138: RuntimeWarning: divide by zero encountered in double_scalars\n",
      "  d_up = (np.log(close/K) + (mu - 0.5 * sigma **2) * (count)) / (sigma * math.sqrt(count))\n"
     ]
    },
    {
     "name": "stdout",
     "output_type": "stream",
     "text": [
      "[*********************100%***********************]  1 of 1 completed\n"
     ]
    },
    {
     "name": "stderr",
     "output_type": "stream",
     "text": [
      "/var/folders/g3/164q6cz52jv0sjllnsg7jdsm0000gn/T/ipykernel_31243/1592665972.py:2: RuntimeWarning: divide by zero encountered in double_scalars\n",
      "  d1 = (np.log(S/K) + (r - p + sigma**2/2)*T)/(sigma*np.sqrt(T))\n",
      "/var/folders/g3/164q6cz52jv0sjllnsg7jdsm0000gn/T/ipykernel_31243/1484490205.py:138: RuntimeWarning: divide by zero encountered in double_scalars\n",
      "  d_up = (np.log(close/K) + (mu - 0.5 * sigma **2) * (count)) / (sigma * math.sqrt(count))\n"
     ]
    },
    {
     "name": "stdout",
     "output_type": "stream",
     "text": [
      "[*********************100%***********************]  1 of 1 completed\n"
     ]
    },
    {
     "name": "stderr",
     "output_type": "stream",
     "text": [
      "/var/folders/g3/164q6cz52jv0sjllnsg7jdsm0000gn/T/ipykernel_31243/1592665972.py:2: RuntimeWarning: divide by zero encountered in double_scalars\n",
      "  d1 = (np.log(S/K) + (r - p + sigma**2/2)*T)/(sigma*np.sqrt(T))\n",
      "/var/folders/g3/164q6cz52jv0sjllnsg7jdsm0000gn/T/ipykernel_31243/1484490205.py:138: RuntimeWarning: divide by zero encountered in double_scalars\n",
      "  d_up = (np.log(close/K) + (mu - 0.5 * sigma **2) * (count)) / (sigma * math.sqrt(count))\n"
     ]
    },
    {
     "name": "stdout",
     "output_type": "stream",
     "text": [
      "[*********************100%***********************]  1 of 1 completed\n"
     ]
    },
    {
     "name": "stderr",
     "output_type": "stream",
     "text": [
      "/var/folders/g3/164q6cz52jv0sjllnsg7jdsm0000gn/T/ipykernel_31243/1592665972.py:2: RuntimeWarning: divide by zero encountered in double_scalars\n",
      "  d1 = (np.log(S/K) + (r - p + sigma**2/2)*T)/(sigma*np.sqrt(T))\n",
      "/var/folders/g3/164q6cz52jv0sjllnsg7jdsm0000gn/T/ipykernel_31243/1484490205.py:138: RuntimeWarning: divide by zero encountered in double_scalars\n",
      "  d_up = (np.log(close/K) + (mu - 0.5 * sigma **2) * (count)) / (sigma * math.sqrt(count))\n"
     ]
    },
    {
     "name": "stdout",
     "output_type": "stream",
     "text": [
      "[*********************100%***********************]  1 of 1 completed\n"
     ]
    },
    {
     "name": "stderr",
     "output_type": "stream",
     "text": [
      "/var/folders/g3/164q6cz52jv0sjllnsg7jdsm0000gn/T/ipykernel_31243/1592665972.py:2: RuntimeWarning: divide by zero encountered in double_scalars\n",
      "  d1 = (np.log(S/K) + (r - p + sigma**2/2)*T)/(sigma*np.sqrt(T))\n",
      "/var/folders/g3/164q6cz52jv0sjllnsg7jdsm0000gn/T/ipykernel_31243/1484490205.py:138: RuntimeWarning: divide by zero encountered in double_scalars\n",
      "  d_up = (np.log(close/K) + (mu - 0.5 * sigma **2) * (count)) / (sigma * math.sqrt(count))\n"
     ]
    },
    {
     "name": "stdout",
     "output_type": "stream",
     "text": [
      "[*********************100%***********************]  1 of 1 completed\n"
     ]
    },
    {
     "name": "stderr",
     "output_type": "stream",
     "text": [
      "/var/folders/g3/164q6cz52jv0sjllnsg7jdsm0000gn/T/ipykernel_31243/1592665972.py:2: RuntimeWarning: divide by zero encountered in double_scalars\n",
      "  d1 = (np.log(S/K) + (r - p + sigma**2/2)*T)/(sigma*np.sqrt(T))\n",
      "/var/folders/g3/164q6cz52jv0sjllnsg7jdsm0000gn/T/ipykernel_31243/1484490205.py:138: RuntimeWarning: divide by zero encountered in double_scalars\n",
      "  d_up = (np.log(close/K) + (mu - 0.5 * sigma **2) * (count)) / (sigma * math.sqrt(count))\n"
     ]
    },
    {
     "name": "stdout",
     "output_type": "stream",
     "text": [
      "[*********************100%***********************]  1 of 1 completed\n"
     ]
    },
    {
     "name": "stderr",
     "output_type": "stream",
     "text": [
      "/var/folders/g3/164q6cz52jv0sjllnsg7jdsm0000gn/T/ipykernel_31243/1592665972.py:2: RuntimeWarning: divide by zero encountered in double_scalars\n",
      "  d1 = (np.log(S/K) + (r - p + sigma**2/2)*T)/(sigma*np.sqrt(T))\n",
      "/var/folders/g3/164q6cz52jv0sjllnsg7jdsm0000gn/T/ipykernel_31243/1484490205.py:138: RuntimeWarning: divide by zero encountered in double_scalars\n",
      "  d_up = (np.log(close/K) + (mu - 0.5 * sigma **2) * (count)) / (sigma * math.sqrt(count))\n"
     ]
    },
    {
     "name": "stdout",
     "output_type": "stream",
     "text": [
      "[*********************100%***********************]  1 of 1 completed\n"
     ]
    },
    {
     "name": "stderr",
     "output_type": "stream",
     "text": [
      "/var/folders/g3/164q6cz52jv0sjllnsg7jdsm0000gn/T/ipykernel_31243/1592665972.py:2: RuntimeWarning: divide by zero encountered in double_scalars\n",
      "  d1 = (np.log(S/K) + (r - p + sigma**2/2)*T)/(sigma*np.sqrt(T))\n",
      "/var/folders/g3/164q6cz52jv0sjllnsg7jdsm0000gn/T/ipykernel_31243/1484490205.py:138: RuntimeWarning: divide by zero encountered in double_scalars\n",
      "  d_up = (np.log(close/K) + (mu - 0.5 * sigma **2) * (count)) / (sigma * math.sqrt(count))\n"
     ]
    },
    {
     "name": "stdout",
     "output_type": "stream",
     "text": [
      "[*********************100%***********************]  1 of 1 completed\n"
     ]
    },
    {
     "name": "stderr",
     "output_type": "stream",
     "text": [
      "/var/folders/g3/164q6cz52jv0sjllnsg7jdsm0000gn/T/ipykernel_31243/1592665972.py:2: RuntimeWarning: divide by zero encountered in double_scalars\n",
      "  d1 = (np.log(S/K) + (r - p + sigma**2/2)*T)/(sigma*np.sqrt(T))\n",
      "/var/folders/g3/164q6cz52jv0sjllnsg7jdsm0000gn/T/ipykernel_31243/1484490205.py:138: RuntimeWarning: divide by zero encountered in double_scalars\n",
      "  d_up = (np.log(close/K) + (mu - 0.5 * sigma **2) * (count)) / (sigma * math.sqrt(count))\n"
     ]
    },
    {
     "name": "stdout",
     "output_type": "stream",
     "text": [
      "[*********************100%***********************]  1 of 1 completed\n"
     ]
    },
    {
     "name": "stderr",
     "output_type": "stream",
     "text": [
      "/var/folders/g3/164q6cz52jv0sjllnsg7jdsm0000gn/T/ipykernel_31243/1592665972.py:2: RuntimeWarning: divide by zero encountered in double_scalars\n",
      "  d1 = (np.log(S/K) + (r - p + sigma**2/2)*T)/(sigma*np.sqrt(T))\n",
      "/var/folders/g3/164q6cz52jv0sjllnsg7jdsm0000gn/T/ipykernel_31243/1484490205.py:138: RuntimeWarning: divide by zero encountered in double_scalars\n",
      "  d_up = (np.log(close/K) + (mu - 0.5 * sigma **2) * (count)) / (sigma * math.sqrt(count))\n"
     ]
    },
    {
     "name": "stdout",
     "output_type": "stream",
     "text": [
      "[*********************100%***********************]  1 of 1 completed\n"
     ]
    },
    {
     "name": "stderr",
     "output_type": "stream",
     "text": [
      "/var/folders/g3/164q6cz52jv0sjllnsg7jdsm0000gn/T/ipykernel_31243/1592665972.py:2: RuntimeWarning: divide by zero encountered in double_scalars\n",
      "  d1 = (np.log(S/K) + (r - p + sigma**2/2)*T)/(sigma*np.sqrt(T))\n",
      "/var/folders/g3/164q6cz52jv0sjllnsg7jdsm0000gn/T/ipykernel_31243/1484490205.py:138: RuntimeWarning: divide by zero encountered in double_scalars\n",
      "  d_up = (np.log(close/K) + (mu - 0.5 * sigma **2) * (count)) / (sigma * math.sqrt(count))\n"
     ]
    },
    {
     "name": "stdout",
     "output_type": "stream",
     "text": [
      "[*********************100%***********************]  1 of 1 completed\n"
     ]
    },
    {
     "name": "stderr",
     "output_type": "stream",
     "text": [
      "/var/folders/g3/164q6cz52jv0sjllnsg7jdsm0000gn/T/ipykernel_31243/1592665972.py:2: RuntimeWarning: divide by zero encountered in double_scalars\n",
      "  d1 = (np.log(S/K) + (r - p + sigma**2/2)*T)/(sigma*np.sqrt(T))\n",
      "/var/folders/g3/164q6cz52jv0sjllnsg7jdsm0000gn/T/ipykernel_31243/1484490205.py:138: RuntimeWarning: divide by zero encountered in double_scalars\n",
      "  d_up = (np.log(close/K) + (mu - 0.5 * sigma **2) * (count)) / (sigma * math.sqrt(count))\n"
     ]
    },
    {
     "name": "stdout",
     "output_type": "stream",
     "text": [
      "[*********************100%***********************]  1 of 1 completed\n"
     ]
    },
    {
     "name": "stderr",
     "output_type": "stream",
     "text": [
      "/var/folders/g3/164q6cz52jv0sjllnsg7jdsm0000gn/T/ipykernel_31243/1592665972.py:2: RuntimeWarning: divide by zero encountered in double_scalars\n",
      "  d1 = (np.log(S/K) + (r - p + sigma**2/2)*T)/(sigma*np.sqrt(T))\n",
      "/var/folders/g3/164q6cz52jv0sjllnsg7jdsm0000gn/T/ipykernel_31243/1484490205.py:138: RuntimeWarning: divide by zero encountered in double_scalars\n",
      "  d_up = (np.log(close/K) + (mu - 0.5 * sigma **2) * (count)) / (sigma * math.sqrt(count))\n"
     ]
    },
    {
     "name": "stdout",
     "output_type": "stream",
     "text": [
      "[*********************100%***********************]  1 of 1 completed\n"
     ]
    },
    {
     "name": "stderr",
     "output_type": "stream",
     "text": [
      "/var/folders/g3/164q6cz52jv0sjllnsg7jdsm0000gn/T/ipykernel_31243/1592665972.py:2: RuntimeWarning: divide by zero encountered in double_scalars\n",
      "  d1 = (np.log(S/K) + (r - p + sigma**2/2)*T)/(sigma*np.sqrt(T))\n",
      "/var/folders/g3/164q6cz52jv0sjllnsg7jdsm0000gn/T/ipykernel_31243/1484490205.py:138: RuntimeWarning: divide by zero encountered in double_scalars\n",
      "  d_up = (np.log(close/K) + (mu - 0.5 * sigma **2) * (count)) / (sigma * math.sqrt(count))\n"
     ]
    },
    {
     "name": "stdout",
     "output_type": "stream",
     "text": [
      "[*********************100%***********************]  1 of 1 completed\n"
     ]
    },
    {
     "name": "stderr",
     "output_type": "stream",
     "text": [
      "/var/folders/g3/164q6cz52jv0sjllnsg7jdsm0000gn/T/ipykernel_31243/1592665972.py:2: RuntimeWarning: divide by zero encountered in double_scalars\n",
      "  d1 = (np.log(S/K) + (r - p + sigma**2/2)*T)/(sigma*np.sqrt(T))\n",
      "/var/folders/g3/164q6cz52jv0sjllnsg7jdsm0000gn/T/ipykernel_31243/1484490205.py:138: RuntimeWarning: divide by zero encountered in double_scalars\n",
      "  d_up = (np.log(close/K) + (mu - 0.5 * sigma **2) * (count)) / (sigma * math.sqrt(count))\n"
     ]
    },
    {
     "name": "stdout",
     "output_type": "stream",
     "text": [
      "[*********************100%***********************]  1 of 1 completed\n"
     ]
    },
    {
     "name": "stderr",
     "output_type": "stream",
     "text": [
      "/var/folders/g3/164q6cz52jv0sjllnsg7jdsm0000gn/T/ipykernel_31243/1592665972.py:2: RuntimeWarning: divide by zero encountered in double_scalars\n",
      "  d1 = (np.log(S/K) + (r - p + sigma**2/2)*T)/(sigma*np.sqrt(T))\n",
      "/var/folders/g3/164q6cz52jv0sjllnsg7jdsm0000gn/T/ipykernel_31243/1484490205.py:138: RuntimeWarning: divide by zero encountered in double_scalars\n",
      "  d_up = (np.log(close/K) + (mu - 0.5 * sigma **2) * (count)) / (sigma * math.sqrt(count))\n"
     ]
    },
    {
     "name": "stdout",
     "output_type": "stream",
     "text": [
      "[*********************100%***********************]  1 of 1 completed\n"
     ]
    },
    {
     "name": "stderr",
     "output_type": "stream",
     "text": [
      "/var/folders/g3/164q6cz52jv0sjllnsg7jdsm0000gn/T/ipykernel_31243/1592665972.py:2: RuntimeWarning: divide by zero encountered in double_scalars\n",
      "  d1 = (np.log(S/K) + (r - p + sigma**2/2)*T)/(sigma*np.sqrt(T))\n",
      "/var/folders/g3/164q6cz52jv0sjllnsg7jdsm0000gn/T/ipykernel_31243/1484490205.py:138: RuntimeWarning: divide by zero encountered in double_scalars\n",
      "  d_up = (np.log(close/K) + (mu - 0.5 * sigma **2) * (count)) / (sigma * math.sqrt(count))\n"
     ]
    },
    {
     "name": "stdout",
     "output_type": "stream",
     "text": [
      "[*********************100%***********************]  1 of 1 completed\n"
     ]
    },
    {
     "name": "stderr",
     "output_type": "stream",
     "text": [
      "/var/folders/g3/164q6cz52jv0sjllnsg7jdsm0000gn/T/ipykernel_31243/1592665972.py:2: RuntimeWarning: divide by zero encountered in double_scalars\n",
      "  d1 = (np.log(S/K) + (r - p + sigma**2/2)*T)/(sigma*np.sqrt(T))\n",
      "/var/folders/g3/164q6cz52jv0sjllnsg7jdsm0000gn/T/ipykernel_31243/1484490205.py:138: RuntimeWarning: divide by zero encountered in double_scalars\n",
      "  d_up = (np.log(close/K) + (mu - 0.5 * sigma **2) * (count)) / (sigma * math.sqrt(count))\n",
      "/var/folders/g3/164q6cz52jv0sjllnsg7jdsm0000gn/T/ipykernel_31243/1484490205.py:146: RuntimeWarning: divide by zero encountered in double_scalars\n",
      "  diff_put = (P - true_put) / P * 100\n",
      "/var/folders/g3/164q6cz52jv0sjllnsg7jdsm0000gn/T/ipykernel_31243/1484490205.py:148: RuntimeWarning: divide by zero encountered in double_scalars\n",
      "  diff_call = (C - true_call) / C * 100\n"
     ]
    },
    {
     "name": "stdout",
     "output_type": "stream",
     "text": [
      "[*********************100%***********************]  1 of 1 completed\n"
     ]
    },
    {
     "name": "stderr",
     "output_type": "stream",
     "text": [
      "/var/folders/g3/164q6cz52jv0sjllnsg7jdsm0000gn/T/ipykernel_31243/1592665972.py:2: RuntimeWarning: divide by zero encountered in double_scalars\n",
      "  d1 = (np.log(S/K) + (r - p + sigma**2/2)*T)/(sigma*np.sqrt(T))\n",
      "/var/folders/g3/164q6cz52jv0sjllnsg7jdsm0000gn/T/ipykernel_31243/1484490205.py:138: RuntimeWarning: divide by zero encountered in double_scalars\n",
      "  d_up = (np.log(close/K) + (mu - 0.5 * sigma **2) * (count)) / (sigma * math.sqrt(count))\n"
     ]
    },
    {
     "name": "stdout",
     "output_type": "stream",
     "text": [
      "[*********************100%***********************]  1 of 1 completed\n"
     ]
    },
    {
     "name": "stderr",
     "output_type": "stream",
     "text": [
      "/var/folders/g3/164q6cz52jv0sjllnsg7jdsm0000gn/T/ipykernel_31243/1592665972.py:2: RuntimeWarning: divide by zero encountered in double_scalars\n",
      "  d1 = (np.log(S/K) + (r - p + sigma**2/2)*T)/(sigma*np.sqrt(T))\n",
      "/var/folders/g3/164q6cz52jv0sjllnsg7jdsm0000gn/T/ipykernel_31243/1484490205.py:138: RuntimeWarning: divide by zero encountered in double_scalars\n",
      "  d_up = (np.log(close/K) + (mu - 0.5 * sigma **2) * (count)) / (sigma * math.sqrt(count))\n"
     ]
    },
    {
     "name": "stdout",
     "output_type": "stream",
     "text": [
      "[*********************100%***********************]  1 of 1 completed\n"
     ]
    },
    {
     "name": "stderr",
     "output_type": "stream",
     "text": [
      "/var/folders/g3/164q6cz52jv0sjllnsg7jdsm0000gn/T/ipykernel_31243/1592665972.py:2: RuntimeWarning: divide by zero encountered in double_scalars\n",
      "  d1 = (np.log(S/K) + (r - p + sigma**2/2)*T)/(sigma*np.sqrt(T))\n",
      "/var/folders/g3/164q6cz52jv0sjllnsg7jdsm0000gn/T/ipykernel_31243/1484490205.py:138: RuntimeWarning: divide by zero encountered in double_scalars\n",
      "  d_up = (np.log(close/K) + (mu - 0.5 * sigma **2) * (count)) / (sigma * math.sqrt(count))\n"
     ]
    },
    {
     "name": "stdout",
     "output_type": "stream",
     "text": [
      "[*********************100%***********************]  1 of 1 completed\n"
     ]
    },
    {
     "name": "stderr",
     "output_type": "stream",
     "text": [
      "/var/folders/g3/164q6cz52jv0sjllnsg7jdsm0000gn/T/ipykernel_31243/1592665972.py:2: RuntimeWarning: divide by zero encountered in double_scalars\n",
      "  d1 = (np.log(S/K) + (r - p + sigma**2/2)*T)/(sigma*np.sqrt(T))\n",
      "/var/folders/g3/164q6cz52jv0sjllnsg7jdsm0000gn/T/ipykernel_31243/1484490205.py:138: RuntimeWarning: divide by zero encountered in double_scalars\n",
      "  d_up = (np.log(close/K) + (mu - 0.5 * sigma **2) * (count)) / (sigma * math.sqrt(count))\n"
     ]
    },
    {
     "name": "stdout",
     "output_type": "stream",
     "text": [
      "[*********************100%***********************]  1 of 1 completed\n"
     ]
    },
    {
     "name": "stderr",
     "output_type": "stream",
     "text": [
      "/var/folders/g3/164q6cz52jv0sjllnsg7jdsm0000gn/T/ipykernel_31243/1592665972.py:2: RuntimeWarning: divide by zero encountered in double_scalars\n",
      "  d1 = (np.log(S/K) + (r - p + sigma**2/2)*T)/(sigma*np.sqrt(T))\n",
      "/var/folders/g3/164q6cz52jv0sjllnsg7jdsm0000gn/T/ipykernel_31243/1484490205.py:138: RuntimeWarning: divide by zero encountered in double_scalars\n",
      "  d_up = (np.log(close/K) + (mu - 0.5 * sigma **2) * (count)) / (sigma * math.sqrt(count))\n"
     ]
    },
    {
     "name": "stdout",
     "output_type": "stream",
     "text": [
      "[*********************100%***********************]  1 of 1 completed\n"
     ]
    },
    {
     "name": "stderr",
     "output_type": "stream",
     "text": [
      "/var/folders/g3/164q6cz52jv0sjllnsg7jdsm0000gn/T/ipykernel_31243/1592665972.py:2: RuntimeWarning: divide by zero encountered in double_scalars\n",
      "  d1 = (np.log(S/K) + (r - p + sigma**2/2)*T)/(sigma*np.sqrt(T))\n",
      "/var/folders/g3/164q6cz52jv0sjllnsg7jdsm0000gn/T/ipykernel_31243/1484490205.py:138: RuntimeWarning: divide by zero encountered in double_scalars\n",
      "  d_up = (np.log(close/K) + (mu - 0.5 * sigma **2) * (count)) / (sigma * math.sqrt(count))\n"
     ]
    },
    {
     "name": "stdout",
     "output_type": "stream",
     "text": [
      "[*********************100%***********************]  1 of 1 completed\n"
     ]
    },
    {
     "name": "stderr",
     "output_type": "stream",
     "text": [
      "/var/folders/g3/164q6cz52jv0sjllnsg7jdsm0000gn/T/ipykernel_31243/1592665972.py:2: RuntimeWarning: divide by zero encountered in double_scalars\n",
      "  d1 = (np.log(S/K) + (r - p + sigma**2/2)*T)/(sigma*np.sqrt(T))\n",
      "/var/folders/g3/164q6cz52jv0sjllnsg7jdsm0000gn/T/ipykernel_31243/1484490205.py:138: RuntimeWarning: divide by zero encountered in double_scalars\n",
      "  d_up = (np.log(close/K) + (mu - 0.5 * sigma **2) * (count)) / (sigma * math.sqrt(count))\n"
     ]
    },
    {
     "name": "stdout",
     "output_type": "stream",
     "text": [
      "[*********************100%***********************]  1 of 1 completed\n"
     ]
    },
    {
     "name": "stderr",
     "output_type": "stream",
     "text": [
      "/var/folders/g3/164q6cz52jv0sjllnsg7jdsm0000gn/T/ipykernel_31243/1592665972.py:2: RuntimeWarning: divide by zero encountered in double_scalars\n",
      "  d1 = (np.log(S/K) + (r - p + sigma**2/2)*T)/(sigma*np.sqrt(T))\n",
      "/var/folders/g3/164q6cz52jv0sjllnsg7jdsm0000gn/T/ipykernel_31243/1484490205.py:138: RuntimeWarning: divide by zero encountered in double_scalars\n",
      "  d_up = (np.log(close/K) + (mu - 0.5 * sigma **2) * (count)) / (sigma * math.sqrt(count))\n"
     ]
    },
    {
     "name": "stdout",
     "output_type": "stream",
     "text": [
      "[*********************100%***********************]  1 of 1 completed\n"
     ]
    },
    {
     "name": "stderr",
     "output_type": "stream",
     "text": [
      "/var/folders/g3/164q6cz52jv0sjllnsg7jdsm0000gn/T/ipykernel_31243/1592665972.py:2: RuntimeWarning: divide by zero encountered in double_scalars\n",
      "  d1 = (np.log(S/K) + (r - p + sigma**2/2)*T)/(sigma*np.sqrt(T))\n",
      "/var/folders/g3/164q6cz52jv0sjllnsg7jdsm0000gn/T/ipykernel_31243/1484490205.py:138: RuntimeWarning: divide by zero encountered in double_scalars\n",
      "  d_up = (np.log(close/K) + (mu - 0.5 * sigma **2) * (count)) / (sigma * math.sqrt(count))\n"
     ]
    },
    {
     "name": "stdout",
     "output_type": "stream",
     "text": [
      "[*********************100%***********************]  1 of 1 completed\n"
     ]
    },
    {
     "name": "stderr",
     "output_type": "stream",
     "text": [
      "/var/folders/g3/164q6cz52jv0sjllnsg7jdsm0000gn/T/ipykernel_31243/1592665972.py:2: RuntimeWarning: divide by zero encountered in double_scalars\n",
      "  d1 = (np.log(S/K) + (r - p + sigma**2/2)*T)/(sigma*np.sqrt(T))\n",
      "/var/folders/g3/164q6cz52jv0sjllnsg7jdsm0000gn/T/ipykernel_31243/1484490205.py:138: RuntimeWarning: divide by zero encountered in double_scalars\n",
      "  d_up = (np.log(close/K) + (mu - 0.5 * sigma **2) * (count)) / (sigma * math.sqrt(count))\n"
     ]
    },
    {
     "name": "stdout",
     "output_type": "stream",
     "text": [
      "[*********************100%***********************]  1 of 1 completed\n"
     ]
    },
    {
     "name": "stderr",
     "output_type": "stream",
     "text": [
      "/var/folders/g3/164q6cz52jv0sjllnsg7jdsm0000gn/T/ipykernel_31243/1592665972.py:2: RuntimeWarning: divide by zero encountered in double_scalars\n",
      "  d1 = (np.log(S/K) + (r - p + sigma**2/2)*T)/(sigma*np.sqrt(T))\n",
      "/var/folders/g3/164q6cz52jv0sjllnsg7jdsm0000gn/T/ipykernel_31243/1484490205.py:138: RuntimeWarning: divide by zero encountered in double_scalars\n",
      "  d_up = (np.log(close/K) + (mu - 0.5 * sigma **2) * (count)) / (sigma * math.sqrt(count))\n"
     ]
    },
    {
     "name": "stdout",
     "output_type": "stream",
     "text": [
      "[*********************100%***********************]  1 of 1 completed\n"
     ]
    },
    {
     "name": "stderr",
     "output_type": "stream",
     "text": [
      "/var/folders/g3/164q6cz52jv0sjllnsg7jdsm0000gn/T/ipykernel_31243/1592665972.py:2: RuntimeWarning: divide by zero encountered in double_scalars\n",
      "  d1 = (np.log(S/K) + (r - p + sigma**2/2)*T)/(sigma*np.sqrt(T))\n",
      "/var/folders/g3/164q6cz52jv0sjllnsg7jdsm0000gn/T/ipykernel_31243/1484490205.py:138: RuntimeWarning: divide by zero encountered in double_scalars\n",
      "  d_up = (np.log(close/K) + (mu - 0.5 * sigma **2) * (count)) / (sigma * math.sqrt(count))\n"
     ]
    },
    {
     "name": "stdout",
     "output_type": "stream",
     "text": [
      "[*********************100%***********************]  1 of 1 completed\n"
     ]
    },
    {
     "name": "stderr",
     "output_type": "stream",
     "text": [
      "/var/folders/g3/164q6cz52jv0sjllnsg7jdsm0000gn/T/ipykernel_31243/1592665972.py:2: RuntimeWarning: divide by zero encountered in double_scalars\n",
      "  d1 = (np.log(S/K) + (r - p + sigma**2/2)*T)/(sigma*np.sqrt(T))\n",
      "/var/folders/g3/164q6cz52jv0sjllnsg7jdsm0000gn/T/ipykernel_31243/1484490205.py:138: RuntimeWarning: divide by zero encountered in double_scalars\n",
      "  d_up = (np.log(close/K) + (mu - 0.5 * sigma **2) * (count)) / (sigma * math.sqrt(count))\n"
     ]
    },
    {
     "name": "stdout",
     "output_type": "stream",
     "text": [
      "[*********************100%***********************]  1 of 1 completed\n"
     ]
    },
    {
     "name": "stderr",
     "output_type": "stream",
     "text": [
      "/var/folders/g3/164q6cz52jv0sjllnsg7jdsm0000gn/T/ipykernel_31243/1592665972.py:2: RuntimeWarning: divide by zero encountered in double_scalars\n",
      "  d1 = (np.log(S/K) + (r - p + sigma**2/2)*T)/(sigma*np.sqrt(T))\n",
      "/var/folders/g3/164q6cz52jv0sjllnsg7jdsm0000gn/T/ipykernel_31243/1484490205.py:138: RuntimeWarning: divide by zero encountered in double_scalars\n",
      "  d_up = (np.log(close/K) + (mu - 0.5 * sigma **2) * (count)) / (sigma * math.sqrt(count))\n"
     ]
    },
    {
     "name": "stdout",
     "output_type": "stream",
     "text": [
      "[*********************100%***********************]  1 of 1 completed\n"
     ]
    },
    {
     "name": "stderr",
     "output_type": "stream",
     "text": [
      "/var/folders/g3/164q6cz52jv0sjllnsg7jdsm0000gn/T/ipykernel_31243/1592665972.py:2: RuntimeWarning: divide by zero encountered in double_scalars\n",
      "  d1 = (np.log(S/K) + (r - p + sigma**2/2)*T)/(sigma*np.sqrt(T))\n",
      "/var/folders/g3/164q6cz52jv0sjllnsg7jdsm0000gn/T/ipykernel_31243/1484490205.py:138: RuntimeWarning: divide by zero encountered in double_scalars\n",
      "  d_up = (np.log(close/K) + (mu - 0.5 * sigma **2) * (count)) / (sigma * math.sqrt(count))\n"
     ]
    },
    {
     "name": "stdout",
     "output_type": "stream",
     "text": [
      "[*********************100%***********************]  1 of 1 completed\n"
     ]
    },
    {
     "name": "stderr",
     "output_type": "stream",
     "text": [
      "/var/folders/g3/164q6cz52jv0sjllnsg7jdsm0000gn/T/ipykernel_31243/1592665972.py:2: RuntimeWarning: divide by zero encountered in double_scalars\n",
      "  d1 = (np.log(S/K) + (r - p + sigma**2/2)*T)/(sigma*np.sqrt(T))\n",
      "/var/folders/g3/164q6cz52jv0sjllnsg7jdsm0000gn/T/ipykernel_31243/1484490205.py:138: RuntimeWarning: divide by zero encountered in double_scalars\n",
      "  d_up = (np.log(close/K) + (mu - 0.5 * sigma **2) * (count)) / (sigma * math.sqrt(count))\n"
     ]
    },
    {
     "name": "stdout",
     "output_type": "stream",
     "text": [
      "[*********************100%***********************]  1 of 1 completed\n"
     ]
    },
    {
     "name": "stderr",
     "output_type": "stream",
     "text": [
      "/var/folders/g3/164q6cz52jv0sjllnsg7jdsm0000gn/T/ipykernel_31243/1592665972.py:2: RuntimeWarning: divide by zero encountered in double_scalars\n",
      "  d1 = (np.log(S/K) + (r - p + sigma**2/2)*T)/(sigma*np.sqrt(T))\n",
      "/var/folders/g3/164q6cz52jv0sjllnsg7jdsm0000gn/T/ipykernel_31243/1484490205.py:138: RuntimeWarning: divide by zero encountered in double_scalars\n",
      "  d_up = (np.log(close/K) + (mu - 0.5 * sigma **2) * (count)) / (sigma * math.sqrt(count))\n"
     ]
    },
    {
     "name": "stdout",
     "output_type": "stream",
     "text": [
      "[*********************100%***********************]  1 of 1 completed\n"
     ]
    },
    {
     "name": "stderr",
     "output_type": "stream",
     "text": [
      "/var/folders/g3/164q6cz52jv0sjllnsg7jdsm0000gn/T/ipykernel_31243/1592665972.py:2: RuntimeWarning: divide by zero encountered in double_scalars\n",
      "  d1 = (np.log(S/K) + (r - p + sigma**2/2)*T)/(sigma*np.sqrt(T))\n",
      "/var/folders/g3/164q6cz52jv0sjllnsg7jdsm0000gn/T/ipykernel_31243/1484490205.py:138: RuntimeWarning: divide by zero encountered in double_scalars\n",
      "  d_up = (np.log(close/K) + (mu - 0.5 * sigma **2) * (count)) / (sigma * math.sqrt(count))\n"
     ]
    },
    {
     "name": "stdout",
     "output_type": "stream",
     "text": [
      "[*********************100%***********************]  1 of 1 completed\n"
     ]
    },
    {
     "name": "stderr",
     "output_type": "stream",
     "text": [
      "/var/folders/g3/164q6cz52jv0sjllnsg7jdsm0000gn/T/ipykernel_31243/1592665972.py:2: RuntimeWarning: divide by zero encountered in double_scalars\n",
      "  d1 = (np.log(S/K) + (r - p + sigma**2/2)*T)/(sigma*np.sqrt(T))\n",
      "/var/folders/g3/164q6cz52jv0sjllnsg7jdsm0000gn/T/ipykernel_31243/1484490205.py:138: RuntimeWarning: divide by zero encountered in double_scalars\n",
      "  d_up = (np.log(close/K) + (mu - 0.5 * sigma **2) * (count)) / (sigma * math.sqrt(count))\n"
     ]
    },
    {
     "name": "stdout",
     "output_type": "stream",
     "text": [
      "[*********************100%***********************]  1 of 1 completed\n"
     ]
    },
    {
     "name": "stderr",
     "output_type": "stream",
     "text": [
      "/var/folders/g3/164q6cz52jv0sjllnsg7jdsm0000gn/T/ipykernel_31243/1592665972.py:2: RuntimeWarning: divide by zero encountered in double_scalars\n",
      "  d1 = (np.log(S/K) + (r - p + sigma**2/2)*T)/(sigma*np.sqrt(T))\n",
      "/var/folders/g3/164q6cz52jv0sjllnsg7jdsm0000gn/T/ipykernel_31243/1484490205.py:138: RuntimeWarning: divide by zero encountered in double_scalars\n",
      "  d_up = (np.log(close/K) + (mu - 0.5 * sigma **2) * (count)) / (sigma * math.sqrt(count))\n"
     ]
    },
    {
     "name": "stdout",
     "output_type": "stream",
     "text": [
      "[*********************100%***********************]  1 of 1 completed\n"
     ]
    },
    {
     "name": "stderr",
     "output_type": "stream",
     "text": [
      "/var/folders/g3/164q6cz52jv0sjllnsg7jdsm0000gn/T/ipykernel_31243/1592665972.py:2: RuntimeWarning: divide by zero encountered in double_scalars\n",
      "  d1 = (np.log(S/K) + (r - p + sigma**2/2)*T)/(sigma*np.sqrt(T))\n",
      "/var/folders/g3/164q6cz52jv0sjllnsg7jdsm0000gn/T/ipykernel_31243/1484490205.py:138: RuntimeWarning: divide by zero encountered in double_scalars\n",
      "  d_up = (np.log(close/K) + (mu - 0.5 * sigma **2) * (count)) / (sigma * math.sqrt(count))\n"
     ]
    },
    {
     "name": "stdout",
     "output_type": "stream",
     "text": [
      "[*********************100%***********************]  1 of 1 completed\n"
     ]
    },
    {
     "name": "stderr",
     "output_type": "stream",
     "text": [
      "/var/folders/g3/164q6cz52jv0sjllnsg7jdsm0000gn/T/ipykernel_31243/1592665972.py:2: RuntimeWarning: divide by zero encountered in double_scalars\n",
      "  d1 = (np.log(S/K) + (r - p + sigma**2/2)*T)/(sigma*np.sqrt(T))\n",
      "/var/folders/g3/164q6cz52jv0sjllnsg7jdsm0000gn/T/ipykernel_31243/1484490205.py:138: RuntimeWarning: divide by zero encountered in double_scalars\n",
      "  d_up = (np.log(close/K) + (mu - 0.5 * sigma **2) * (count)) / (sigma * math.sqrt(count))\n"
     ]
    },
    {
     "name": "stdout",
     "output_type": "stream",
     "text": [
      "[*********************100%***********************]  1 of 1 completed\n"
     ]
    },
    {
     "name": "stderr",
     "output_type": "stream",
     "text": [
      "/var/folders/g3/164q6cz52jv0sjllnsg7jdsm0000gn/T/ipykernel_31243/1592665972.py:2: RuntimeWarning: divide by zero encountered in double_scalars\n",
      "  d1 = (np.log(S/K) + (r - p + sigma**2/2)*T)/(sigma*np.sqrt(T))\n",
      "/var/folders/g3/164q6cz52jv0sjllnsg7jdsm0000gn/T/ipykernel_31243/1484490205.py:138: RuntimeWarning: divide by zero encountered in double_scalars\n",
      "  d_up = (np.log(close/K) + (mu - 0.5 * sigma **2) * (count)) / (sigma * math.sqrt(count))\n"
     ]
    },
    {
     "name": "stdout",
     "output_type": "stream",
     "text": [
      "[*********************100%***********************]  1 of 1 completed\n"
     ]
    },
    {
     "name": "stderr",
     "output_type": "stream",
     "text": [
      "/var/folders/g3/164q6cz52jv0sjllnsg7jdsm0000gn/T/ipykernel_31243/1592665972.py:2: RuntimeWarning: divide by zero encountered in double_scalars\n",
      "  d1 = (np.log(S/K) + (r - p + sigma**2/2)*T)/(sigma*np.sqrt(T))\n",
      "/var/folders/g3/164q6cz52jv0sjllnsg7jdsm0000gn/T/ipykernel_31243/1484490205.py:138: RuntimeWarning: divide by zero encountered in double_scalars\n",
      "  d_up = (np.log(close/K) + (mu - 0.5 * sigma **2) * (count)) / (sigma * math.sqrt(count))\n"
     ]
    },
    {
     "name": "stdout",
     "output_type": "stream",
     "text": [
      "[*********************100%***********************]  1 of 1 completed\n"
     ]
    },
    {
     "name": "stderr",
     "output_type": "stream",
     "text": [
      "/var/folders/g3/164q6cz52jv0sjllnsg7jdsm0000gn/T/ipykernel_31243/1592665972.py:2: RuntimeWarning: divide by zero encountered in double_scalars\n",
      "  d1 = (np.log(S/K) + (r - p + sigma**2/2)*T)/(sigma*np.sqrt(T))\n",
      "/var/folders/g3/164q6cz52jv0sjllnsg7jdsm0000gn/T/ipykernel_31243/1484490205.py:138: RuntimeWarning: divide by zero encountered in double_scalars\n",
      "  d_up = (np.log(close/K) + (mu - 0.5 * sigma **2) * (count)) / (sigma * math.sqrt(count))\n"
     ]
    }
   ],
   "source": [
    "# Last days price\n",
    "\n",
    "arb = {}\n",
    "\n",
    "for symbol in common_list:\n",
    "    sigma  = vol.loc[vol[\"Unnamed: 0\"] == f\"{symbol}\"][\"Sigma\"].tolist()[0]\n",
    "    \n",
    "    mu  = vol.loc[vol[\"Unnamed: 0\"] == f\"{symbol}\"][\"Mu\"].tolist()[0]\n",
    "    \n",
    "    div = vol.loc[vol[\"Unnamed: 0\"] == f\"{symbol}\"][\"Div\"].tolist()[0]\n",
    "    \n",
    "    \n",
    "\n",
    "    # Set the start and end date\n",
    "    start_date = '2023-01-01'\n",
    "\n",
    "    t = date.today()\n",
    "\n",
    "    t = str(t)\n",
    "\n",
    "    # Get the data\n",
    "    data = yf.download(symbol, start_date, t)\n",
    "\n",
    "    try:\n",
    "        close = data.tail(1)[\"Close\"].values[0]\n",
    "    except:\n",
    "        continue\n",
    "\n",
    "\n",
    "    #uses api key to extract data\n",
    "    params = {'apikey':api_key,\n",
    "             'symbol':symbol,\n",
    "             'contractType': contract,\n",
    "              'strikeCount': strikecount,\n",
    "              'includeQuotes': False,\n",
    "              'stratgey': 'SINGLE',\n",
    "              'expMonth': expMonth,\n",
    "              'optionType': 'S'\n",
    "\n",
    "\n",
    "             }\n",
    "\n",
    "    content = requests.get(url = option_url, params=params)\n",
    "\n",
    "    data = content.json()\n",
    "\n",
    "\n",
    "\n",
    "\n",
    "    dates_ref = []\n",
    "\n",
    "    int_year = now.year\n",
    "    int_month = now.month\n",
    "    int_day = now.day\n",
    "\n",
    "    for i in data['putExpDateMap']:\n",
    "        dates_ref.append(i)\n",
    "\n",
    "    for i in dates_ref:\n",
    "\n",
    "        #create outline for \n",
    "        df = {}\n",
    "        date_now = i[:10]\n",
    "        volume = []\n",
    "        theta = []\n",
    "        gamma = []\n",
    "        vega = []\n",
    "        delta = []\n",
    "        interest = []\n",
    "\n",
    "        #iterate through each strike\n",
    "        for strike in data[\"putExpDateMap\"][i]:\n",
    "            df[strike] = {'Put': 0, \"Call\": 0, 'Call - Volume' : 0, 'Put - Volume' : 0}\n",
    "            ask = data[\"putExpDateMap\"][i][strike][0][\"ask\"]\n",
    "            \n",
    "            bid = data[\"putExpDateMap\"][i][strike][0][\"bid\"]\n",
    "            \n",
    "            \n",
    "            df[strike]['Put'] = (ask + bid) / 2\n",
    "            df[strike]['Put - Volume'] = data[\"putExpDateMap\"][i][strike][0][\"totalVolume\"]\n",
    "\n",
    "        for strike in data[\"callExpDateMap\"][i]:\n",
    "            \n",
    "            if strike not in df:\n",
    "                df[strike] = {'Put': 0, \"Call\": 0, 'Call - Volume' : 0, 'Put - Volume' : 0}\n",
    "\n",
    "            ask = data[\"callExpDateMap\"][i][strike][0][\"ask\"]\n",
    "            \n",
    "            bid = data[\"callExpDateMap\"][i][strike][0][\"bid\"]\n",
    "\n",
    "            df[strike]['Call'] = (ask + bid) / 2\n",
    "            df[strike]['Call - Volume'] = data[\"callExpDateMap\"][i][strike][0][\"totalVolume\"]\n",
    "\n",
    "\n",
    "\n",
    "        label = i\n",
    "\n",
    "        strike_date = i.split('-')\n",
    "\n",
    "        year = int(strike_date[0])\n",
    "\n",
    "        month = int(strike_date[1])\n",
    "\n",
    "        day = int(strike_date[2].split(':')[0])\n",
    "        \n",
    "        count = int(strike_date[2].split(':')[1]) / 365\n",
    "\n",
    "        #convert to dataframe\n",
    "        option_df = pd.DataFrame.from_dict(df, orient='index')\n",
    "\n",
    "        for row, i in option_df.iterrows():\n",
    "\n",
    "\n",
    "            K = float(row)\n",
    "\n",
    "            C = i['Call']\n",
    "\n",
    "            P = i['Put']\n",
    "\n",
    "            t = 'p'\n",
    "            \n",
    "            # obtain true put value using black scholes formula\n",
    "\n",
    "            true_put = blackScholes(r, close, K, count, sigma, t, div)\n",
    "\n",
    "            t = 'c'\n",
    "            \n",
    "            # obtain true call value using black scholes formula\n",
    "\n",
    "            true_call = blackScholes(r, close, K, count, sigma, t, div)\n",
    "\n",
    "            diff_put = P - true_put\n",
    "\n",
    "            diff_call = C - true_call\n",
    "            \n",
    "            mu1 = np.log(close) + (mu - 0.5 * sigma **2) * count\n",
    "\n",
    "            d_up = (np.log(close/K) + (mu - 0.5 * sigma **2) * (count)) / (sigma * math.sqrt(count))\n",
    "\n",
    "            d_down = (np.log(K) - mu1) / (sigma)\n",
    "\n",
    "            up = norm.cdf(d_up, 0, 1) * 100\n",
    "\n",
    "            down = norm.cdf(d_down, 0, 1) * 100\n",
    "            \n",
    "            diff_put = (P - true_put) / P * 100\n",
    "\n",
    "            diff_call = (C - true_call) / C * 100\n",
    "\n",
    "            arb[f'{label} - {K}'] = {'Date': label, 'Strike': K, 'Put': df[row]['Put'], 'True Put' : true_put, 'Call': df[row]['Call'], 'True Call': true_call, 'Symbol': symbol, 'Call - Volume': df[row]['Call - Volume'], 'Put - Volume': df[row]['Put - Volume'], 'Price': close, \"Difference Puts\": diff_put, \"Difference Calls\": diff_call, \"% be Below\": down, \"% be above\": up}\n",
    "            \n",
    "    time.sleep(0.5)\n"
   ]
  },
  {
   "cell_type": "code",
   "execution_count": 33,
   "id": "35c4e975",
   "metadata": {},
   "outputs": [
    {
     "ename": "KeyError",
     "evalue": "'0'",
     "output_type": "error",
     "traceback": [
      "\u001b[0;31m---------------------------------------------------------------------------\u001b[0m",
      "\u001b[0;31mKeyError\u001b[0m                                  Traceback (most recent call last)",
      "File \u001b[0;32m~/opt/anaconda3/lib/python3.9/site-packages/pandas/core/indexes/base.py:3621\u001b[0m, in \u001b[0;36mIndex.get_loc\u001b[0;34m(self, key, method, tolerance)\u001b[0m\n\u001b[1;32m   3620\u001b[0m \u001b[38;5;28;01mtry\u001b[39;00m:\n\u001b[0;32m-> 3621\u001b[0m     \u001b[38;5;28;01mreturn\u001b[39;00m \u001b[38;5;28;43mself\u001b[39;49m\u001b[38;5;241;43m.\u001b[39;49m\u001b[43m_engine\u001b[49m\u001b[38;5;241;43m.\u001b[39;49m\u001b[43mget_loc\u001b[49m\u001b[43m(\u001b[49m\u001b[43mcasted_key\u001b[49m\u001b[43m)\u001b[49m\n\u001b[1;32m   3622\u001b[0m \u001b[38;5;28;01mexcept\u001b[39;00m \u001b[38;5;167;01mKeyError\u001b[39;00m \u001b[38;5;28;01mas\u001b[39;00m err:\n",
      "File \u001b[0;32m~/opt/anaconda3/lib/python3.9/site-packages/pandas/_libs/index.pyx:136\u001b[0m, in \u001b[0;36mpandas._libs.index.IndexEngine.get_loc\u001b[0;34m()\u001b[0m\n",
      "File \u001b[0;32m~/opt/anaconda3/lib/python3.9/site-packages/pandas/_libs/index.pyx:163\u001b[0m, in \u001b[0;36mpandas._libs.index.IndexEngine.get_loc\u001b[0;34m()\u001b[0m\n",
      "File \u001b[0;32mpandas/_libs/hashtable_class_helper.pxi:5198\u001b[0m, in \u001b[0;36mpandas._libs.hashtable.PyObjectHashTable.get_item\u001b[0;34m()\u001b[0m\n",
      "File \u001b[0;32mpandas/_libs/hashtable_class_helper.pxi:5206\u001b[0m, in \u001b[0;36mpandas._libs.hashtable.PyObjectHashTable.get_item\u001b[0;34m()\u001b[0m\n",
      "\u001b[0;31mKeyError\u001b[0m: '0'",
      "\nThe above exception was the direct cause of the following exception:\n",
      "\u001b[0;31mKeyError\u001b[0m                                  Traceback (most recent call last)",
      "Input \u001b[0;32mIn [33]\u001b[0m, in \u001b[0;36m<cell line: 5>\u001b[0;34m()\u001b[0m\n\u001b[1;32m      3\u001b[0m arb \u001b[38;5;241m=\u001b[39m {}\n\u001b[1;32m      5\u001b[0m \u001b[38;5;28;01mfor\u001b[39;00m symbol \u001b[38;5;129;01min\u001b[39;00m common_list:\n\u001b[0;32m----> 7\u001b[0m     sigma  \u001b[38;5;241m=\u001b[39m \u001b[43mvol\u001b[49m\u001b[38;5;241;43m.\u001b[39;49m\u001b[43mloc\u001b[49m\u001b[43m[\u001b[49m\u001b[43mvol\u001b[49m\u001b[43m[\u001b[49m\u001b[38;5;124;43m\"\u001b[39;49m\u001b[38;5;124;43mUnnamed: 0\u001b[39;49m\u001b[38;5;124;43m\"\u001b[39;49m\u001b[43m]\u001b[49m\u001b[43m \u001b[49m\u001b[38;5;241;43m==\u001b[39;49m\u001b[43m \u001b[49m\u001b[38;5;124;43mf\u001b[39;49m\u001b[38;5;124;43m\"\u001b[39;49m\u001b[38;5;132;43;01m{\u001b[39;49;00m\u001b[43msymbol\u001b[49m\u001b[38;5;132;43;01m}\u001b[39;49;00m\u001b[38;5;124;43m\"\u001b[39;49m\u001b[43m]\u001b[49m\u001b[43m[\u001b[49m\u001b[38;5;124;43m\"\u001b[39;49m\u001b[38;5;124;43m0\u001b[39;49m\u001b[38;5;124;43m\"\u001b[39;49m\u001b[43m]\u001b[49m\u001b[38;5;241m.\u001b[39mtolist()[\u001b[38;5;241m0\u001b[39m]\n\u001b[1;32m      9\u001b[0m     \u001b[38;5;66;03m# Set the start and end date\u001b[39;00m\n\u001b[1;32m     10\u001b[0m     start_date \u001b[38;5;241m=\u001b[39m \u001b[38;5;124m'\u001b[39m\u001b[38;5;124m2023-01-01\u001b[39m\u001b[38;5;124m'\u001b[39m\n",
      "File \u001b[0;32m~/opt/anaconda3/lib/python3.9/site-packages/pandas/core/frame.py:3505\u001b[0m, in \u001b[0;36mDataFrame.__getitem__\u001b[0;34m(self, key)\u001b[0m\n\u001b[1;32m   3503\u001b[0m \u001b[38;5;28;01mif\u001b[39;00m \u001b[38;5;28mself\u001b[39m\u001b[38;5;241m.\u001b[39mcolumns\u001b[38;5;241m.\u001b[39mnlevels \u001b[38;5;241m>\u001b[39m \u001b[38;5;241m1\u001b[39m:\n\u001b[1;32m   3504\u001b[0m     \u001b[38;5;28;01mreturn\u001b[39;00m \u001b[38;5;28mself\u001b[39m\u001b[38;5;241m.\u001b[39m_getitem_multilevel(key)\n\u001b[0;32m-> 3505\u001b[0m indexer \u001b[38;5;241m=\u001b[39m \u001b[38;5;28;43mself\u001b[39;49m\u001b[38;5;241;43m.\u001b[39;49m\u001b[43mcolumns\u001b[49m\u001b[38;5;241;43m.\u001b[39;49m\u001b[43mget_loc\u001b[49m\u001b[43m(\u001b[49m\u001b[43mkey\u001b[49m\u001b[43m)\u001b[49m\n\u001b[1;32m   3506\u001b[0m \u001b[38;5;28;01mif\u001b[39;00m is_integer(indexer):\n\u001b[1;32m   3507\u001b[0m     indexer \u001b[38;5;241m=\u001b[39m [indexer]\n",
      "File \u001b[0;32m~/opt/anaconda3/lib/python3.9/site-packages/pandas/core/indexes/base.py:3623\u001b[0m, in \u001b[0;36mIndex.get_loc\u001b[0;34m(self, key, method, tolerance)\u001b[0m\n\u001b[1;32m   3621\u001b[0m     \u001b[38;5;28;01mreturn\u001b[39;00m \u001b[38;5;28mself\u001b[39m\u001b[38;5;241m.\u001b[39m_engine\u001b[38;5;241m.\u001b[39mget_loc(casted_key)\n\u001b[1;32m   3622\u001b[0m \u001b[38;5;28;01mexcept\u001b[39;00m \u001b[38;5;167;01mKeyError\u001b[39;00m \u001b[38;5;28;01mas\u001b[39;00m err:\n\u001b[0;32m-> 3623\u001b[0m     \u001b[38;5;28;01mraise\u001b[39;00m \u001b[38;5;167;01mKeyError\u001b[39;00m(key) \u001b[38;5;28;01mfrom\u001b[39;00m \u001b[38;5;21;01merr\u001b[39;00m\n\u001b[1;32m   3624\u001b[0m \u001b[38;5;28;01mexcept\u001b[39;00m \u001b[38;5;167;01mTypeError\u001b[39;00m:\n\u001b[1;32m   3625\u001b[0m     \u001b[38;5;66;03m# If we have a listlike key, _check_indexing_error will raise\u001b[39;00m\n\u001b[1;32m   3626\u001b[0m     \u001b[38;5;66;03m#  InvalidIndexError. Otherwise we fall through and re-raise\u001b[39;00m\n\u001b[1;32m   3627\u001b[0m     \u001b[38;5;66;03m#  the TypeError.\u001b[39;00m\n\u001b[1;32m   3628\u001b[0m     \u001b[38;5;28mself\u001b[39m\u001b[38;5;241m.\u001b[39m_check_indexing_error(key)\n",
      "\u001b[0;31mKeyError\u001b[0m: '0'"
     ]
    }
   ],
   "source": [
    "# Current Price\n",
    "\n",
    "arb = {}\n",
    "\n",
    "for symbol in common_list:\n",
    "    \n",
    "    sigma  = vol.loc[vol[\"Unnamed: 0\"] == f\"{symbol}\"][\"0\"].tolist()[0]\n",
    "\n",
    "    # Set the start and end date\n",
    "    start_date = '2023-01-01'\n",
    "\n",
    "    t = date.today()\n",
    "\n",
    "    t = str(t)\n",
    "\n",
    "    # Get the data\n",
    "    test = int(time.time())\n",
    "    info = finnhub_client.stock_candles(symbol, 'D', test, test)\n",
    "\n",
    "    test = int(time.time())\n",
    "    info = finnhub_client.stock_candles(symbol, 'D', test, test)\n",
    "\n",
    "    if info[\"s\"] == 'no_data':\n",
    "        time.sleep(3)\n",
    "\n",
    "        print(True)\n",
    "\n",
    "        info = finnhub_client.stock_candles(symbol, 'D', test, test)\n",
    "        \n",
    "        continue\n",
    "\n",
    "    data  = pd.DataFrame(info, index= [0])\n",
    "    data.columns = [\"Close\", \"High\", \"Low\", \"Open\", \"S\", \"Timestamp\", \"Volume\"]\n",
    "    data[\"Datetime\"] = datetime.datetime.fromtimestamp(data[\"Timestamp\"])\n",
    "    data = data.drop(columns=[\"S\", \"Timestamp\"])\n",
    "    data = data.set_index(\"Datetime\")\n",
    "\n",
    "    close = data['Close'].values[0]\n",
    "\n",
    "\n",
    "    #uses api key to extract data\n",
    "    params = {'apikey':api_key,\n",
    "             'symbol':symbol,\n",
    "             'contractType': contract,\n",
    "              'strikeCount': strikecount,\n",
    "              'includeQuotes': False,\n",
    "              'stratgey': 'SINGLE',\n",
    "              'expMonth': expMonth,\n",
    "              'optionType': 'S'\n",
    "\n",
    "\n",
    "             }\n",
    "\n",
    "    content = requests.get(url = option_url, params=params)\n",
    "\n",
    "    data = content.json()\n",
    "\n",
    "\n",
    "\n",
    "\n",
    "    dates_ref = []\n",
    "\n",
    "    int_year = now.year\n",
    "    int_month = now.month\n",
    "    int_day = now.day\n",
    "\n",
    "    for i in data['putExpDateMap']:\n",
    "        dates_ref.append(i)\n",
    "\n",
    "    for i in dates_ref:\n",
    "\n",
    "        #create outline for \n",
    "        df = {}\n",
    "        date_now = i[:10]\n",
    "        volume = []\n",
    "        theta = []\n",
    "        gamma = []\n",
    "        vega = []\n",
    "        delta = []\n",
    "        interest = []\n",
    "\n",
    "        #iterate through each strike\n",
    "        for strike in data[\"putExpDateMap\"][i]:\n",
    "            df[strike] = {'Put': '', 'Call':''}\n",
    "            df[strike]['Put'] = data[\"putExpDateMap\"][i][strike][0][\"last\"]\n",
    "            df[strike]['Put - Volume'] = data[\"putExpDateMap\"][i][strike][0][\"totalVolume\"]\n",
    "\n",
    "        for strike in data[\"callExpDateMap\"][i]:\n",
    "\n",
    "            df[strike]['Call'] = data[\"callExpDateMap\"][i][strike][0][\"last\"]\n",
    "            df[strike]['Call - Volume'] = data[\"callExpDateMap\"][i][strike][0][\"totalVolume\"]\n",
    "\n",
    "\n",
    "\n",
    "        label = i\n",
    "\n",
    "        strike_date = i.split('-')\n",
    "\n",
    "        year = int(strike_date[0])\n",
    "\n",
    "        month = int(strike_date[1])\n",
    "\n",
    "        day = int(strike_date[2].split(':')[0])\n",
    "        \n",
    "        count = int(strike_date[2].split(':')[1]) / 365\n",
    "\n",
    "        #convert to dataframe\n",
    "        option_df = pd.DataFrame.from_dict(df, orient='index')\n",
    "\n",
    "        for row, i in option_df.iterrows():\n",
    "\n",
    "\n",
    "            K = float(row)\n",
    "\n",
    "            C = i['Call']\n",
    "\n",
    "            P = i['Put']\n",
    "\n",
    "            t = 'p'\n",
    "            \n",
    "            # obtain true put value using black scholes formula\n",
    "\n",
    "            true_put = blackScholes(r, close, K, count, sigma, t)\n",
    "\n",
    "            t = 'c'\n",
    "            \n",
    "            # obtain true call value using black scholes formula\n",
    "\n",
    "            true_call = blackScholes(r, close, K, count, sigma, t)\n",
    "\n",
    "            diff_put = (P - true_put) / P * 100\n",
    "\n",
    "            diff_call = (C - true_call) / C * 100\n",
    "\n",
    "            arb[f'{label} - {K}'] = {'Put': df[row]['Put'], 'True Put' : true_put, 'Call': df[row]['Call'], 'True Call': true_call, 'Symbol': symbol, 'Call - Volume': df[row]['Call - Volume'], 'Put - Volume': df[row]['Put - Volume'], 'Price': close, \"Difference Puts\": diff_put, \"Difference Calls\": diff_call}\n",
    "\n"
   ]
  },
  {
   "cell_type": "code",
   "execution_count": 4,
   "id": "f81ce38d",
   "metadata": {},
   "outputs": [
    {
     "data": {
      "text/html": [
       "<div>\n",
       "<style scoped>\n",
       "    .dataframe tbody tr th:only-of-type {\n",
       "        vertical-align: middle;\n",
       "    }\n",
       "\n",
       "    .dataframe tbody tr th {\n",
       "        vertical-align: top;\n",
       "    }\n",
       "\n",
       "    .dataframe thead th {\n",
       "        text-align: right;\n",
       "    }\n",
       "</style>\n",
       "<table border=\"1\" class=\"dataframe\">\n",
       "  <thead>\n",
       "    <tr style=\"text-align: right;\">\n",
       "      <th></th>\n",
       "      <th>Unnamed: 0</th>\n",
       "      <th>Sigma</th>\n",
       "      <th>Mu</th>\n",
       "    </tr>\n",
       "  </thead>\n",
       "  <tbody>\n",
       "    <tr>\n",
       "      <th>0</th>\n",
       "      <td>A</td>\n",
       "      <td>0.419616</td>\n",
       "      <td>0.000268</td>\n",
       "    </tr>\n",
       "    <tr>\n",
       "      <th>1</th>\n",
       "      <td>AA</td>\n",
       "      <td>0.425595</td>\n",
       "      <td>0.000083</td>\n",
       "    </tr>\n",
       "    <tr>\n",
       "      <th>2</th>\n",
       "      <td>AAC</td>\n",
       "      <td>0.040862</td>\n",
       "      <td>0.000045</td>\n",
       "    </tr>\n",
       "    <tr>\n",
       "      <th>3</th>\n",
       "      <td>AADI</td>\n",
       "      <td>1.010960</td>\n",
       "      <td>-0.001354</td>\n",
       "    </tr>\n",
       "    <tr>\n",
       "      <th>4</th>\n",
       "      <td>AAIC</td>\n",
       "      <td>0.722886</td>\n",
       "      <td>-0.000785</td>\n",
       "    </tr>\n",
       "    <tr>\n",
       "      <th>...</th>\n",
       "      <td>...</td>\n",
       "      <td>...</td>\n",
       "      <td>...</td>\n",
       "    </tr>\n",
       "    <tr>\n",
       "      <th>5923</th>\n",
       "      <td>YUMC</td>\n",
       "      <td>0.364256</td>\n",
       "      <td>0.000484</td>\n",
       "    </tr>\n",
       "    <tr>\n",
       "      <th>5924</th>\n",
       "      <td>YVR</td>\n",
       "      <td>0.984350</td>\n",
       "      <td>-0.000835</td>\n",
       "    </tr>\n",
       "    <tr>\n",
       "      <th>5925</th>\n",
       "      <td>YXI</td>\n",
       "      <td>0.269055</td>\n",
       "      <td>-0.000324</td>\n",
       "    </tr>\n",
       "    <tr>\n",
       "      <th>5926</th>\n",
       "      <td>YY</td>\n",
       "      <td>0.614916</td>\n",
       "      <td>0.000404</td>\n",
       "    </tr>\n",
       "    <tr>\n",
       "      <th>5927</th>\n",
       "      <td>YYY</td>\n",
       "      <td>0.151394</td>\n",
       "      <td>-0.000206</td>\n",
       "    </tr>\n",
       "  </tbody>\n",
       "</table>\n",
       "<p>5928 rows × 3 columns</p>\n",
       "</div>"
      ],
      "text/plain": [
       "     Unnamed: 0     Sigma        Mu\n",
       "0             A  0.419616  0.000268\n",
       "1            AA  0.425595  0.000083\n",
       "2           AAC  0.040862  0.000045\n",
       "3          AADI  1.010960 -0.001354\n",
       "4          AAIC  0.722886 -0.000785\n",
       "...         ...       ...       ...\n",
       "5923       YUMC  0.364256  0.000484\n",
       "5924        YVR  0.984350 -0.000835\n",
       "5925        YXI  0.269055 -0.000324\n",
       "5926         YY  0.614916  0.000404\n",
       "5927        YYY  0.151394 -0.000206\n",
       "\n",
       "[5928 rows x 3 columns]"
      ]
     },
     "execution_count": 4,
     "metadata": {},
     "output_type": "execute_result"
    }
   ],
   "source": [
    "vol"
   ]
  },
  {
   "cell_type": "code",
   "execution_count": 40,
   "id": "6d7d5698",
   "metadata": {},
   "outputs": [
    {
     "data": {
      "text/html": [
       "<div>\n",
       "<style scoped>\n",
       "    .dataframe tbody tr th:only-of-type {\n",
       "        vertical-align: middle;\n",
       "    }\n",
       "\n",
       "    .dataframe tbody tr th {\n",
       "        vertical-align: top;\n",
       "    }\n",
       "\n",
       "    .dataframe thead th {\n",
       "        text-align: right;\n",
       "    }\n",
       "</style>\n",
       "<table border=\"1\" class=\"dataframe\">\n",
       "  <thead>\n",
       "    <tr style=\"text-align: right;\">\n",
       "      <th></th>\n",
       "      <th>Date</th>\n",
       "      <th>Strike</th>\n",
       "      <th>Put</th>\n",
       "      <th>True Put</th>\n",
       "      <th>Call</th>\n",
       "      <th>True Call</th>\n",
       "      <th>Symbol</th>\n",
       "      <th>Call - Volume</th>\n",
       "      <th>Put - Volume</th>\n",
       "      <th>Price</th>\n",
       "      <th>Difference Puts</th>\n",
       "      <th>Difference Calls</th>\n",
       "      <th>% be Below</th>\n",
       "      <th>% be above</th>\n",
       "    </tr>\n",
       "  </thead>\n",
       "  <tbody>\n",
       "    <tr>\n",
       "      <th>2023-03-17:5 - 32.5</th>\n",
       "      <td>2023-03-17:5</td>\n",
       "      <td>32.5</td>\n",
       "      <td>0.29</td>\n",
       "      <td>0.105721</td>\n",
       "      <td>0.00</td>\n",
       "      <td>2.156548e+00</td>\n",
       "      <td>HAL</td>\n",
       "      <td>0</td>\n",
       "      <td>24</td>\n",
       "      <td>34.529999</td>\n",
       "      <td>63.544595</td>\n",
       "      <td>-inf</td>\n",
       "      <td>44.750343</td>\n",
       "      <td>8.702481e+01</td>\n",
       "    </tr>\n",
       "    <tr>\n",
       "      <th>2023-03-17:5 - 33.0</th>\n",
       "      <td>2023-03-17:5</td>\n",
       "      <td>33.0</td>\n",
       "      <td>0.43</td>\n",
       "      <td>0.186151</td>\n",
       "      <td>2.06</td>\n",
       "      <td>1.737299e+00</td>\n",
       "      <td>HAL</td>\n",
       "      <td>1</td>\n",
       "      <td>67</td>\n",
       "      <td>34.529999</td>\n",
       "      <td>56.709084</td>\n",
       "      <td>15.665092</td>\n",
       "      <td>46.098867</td>\n",
       "      <td>7.986553e+01</td>\n",
       "    </tr>\n",
       "    <tr>\n",
       "      <th>2023-03-17:5 - 34.0</th>\n",
       "      <td>2023-03-17:5</td>\n",
       "      <td>34.0</td>\n",
       "      <td>0.75</td>\n",
       "      <td>0.475125</td>\n",
       "      <td>1.19</td>\n",
       "      <td>1.026914e+00</td>\n",
       "      <td>HAL</td>\n",
       "      <td>46</td>\n",
       "      <td>3011</td>\n",
       "      <td>34.529999</td>\n",
       "      <td>36.650021</td>\n",
       "      <td>13.704715</td>\n",
       "      <td>48.747253</td>\n",
       "      <td>6.057814e+01</td>\n",
       "    </tr>\n",
       "    <tr>\n",
       "      <th>2023-03-17:5 - 35.0</th>\n",
       "      <td>2023-03-17:5</td>\n",
       "      <td>35.0</td>\n",
       "      <td>0.00</td>\n",
       "      <td>18.797569</td>\n",
       "      <td>0.00</td>\n",
       "      <td>4.707389e-110</td>\n",
       "      <td>NWS</td>\n",
       "      <td>0</td>\n",
       "      <td>0</td>\n",
       "      <td>16.180000</td>\n",
       "      <td>-inf</td>\n",
       "      <td>-inf</td>\n",
       "      <td>99.522894</td>\n",
       "      <td>5.698062e-107</td>\n",
       "    </tr>\n",
       "    <tr>\n",
       "      <th>2023-03-17:5 - 36.0</th>\n",
       "      <td>2023-03-17:5</td>\n",
       "      <td>36.0</td>\n",
       "      <td>1.85</td>\n",
       "      <td>1.676638</td>\n",
       "      <td>0.35</td>\n",
       "      <td>2.297085e-01</td>\n",
       "      <td>HAL</td>\n",
       "      <td>197</td>\n",
       "      <td>189</td>\n",
       "      <td>34.529999</td>\n",
       "      <td>9.370936</td>\n",
       "      <td>34.368992</td>\n",
       "      <td>53.823494</td>\n",
       "      <td>2.060734e+01</td>\n",
       "    </tr>\n",
       "  </tbody>\n",
       "</table>\n",
       "</div>"
      ],
      "text/plain": [
       "                             Date  Strike   Put   True Put  Call  \\\n",
       "2023-03-17:5 - 32.5  2023-03-17:5    32.5  0.29   0.105721  0.00   \n",
       "2023-03-17:5 - 33.0  2023-03-17:5    33.0  0.43   0.186151  2.06   \n",
       "2023-03-17:5 - 34.0  2023-03-17:5    34.0  0.75   0.475125  1.19   \n",
       "2023-03-17:5 - 35.0  2023-03-17:5    35.0  0.00  18.797569  0.00   \n",
       "2023-03-17:5 - 36.0  2023-03-17:5    36.0  1.85   1.676638  0.35   \n",
       "\n",
       "                         True Call Symbol  Call - Volume  Put - Volume  \\\n",
       "2023-03-17:5 - 32.5   2.156548e+00    HAL              0            24   \n",
       "2023-03-17:5 - 33.0   1.737299e+00    HAL              1            67   \n",
       "2023-03-17:5 - 34.0   1.026914e+00    HAL             46          3011   \n",
       "2023-03-17:5 - 35.0  4.707389e-110    NWS              0             0   \n",
       "2023-03-17:5 - 36.0   2.297085e-01    HAL            197           189   \n",
       "\n",
       "                         Price  Difference Puts  Difference Calls  % be Below  \\\n",
       "2023-03-17:5 - 32.5  34.529999        63.544595              -inf   44.750343   \n",
       "2023-03-17:5 - 33.0  34.529999        56.709084         15.665092   46.098867   \n",
       "2023-03-17:5 - 34.0  34.529999        36.650021         13.704715   48.747253   \n",
       "2023-03-17:5 - 35.0  16.180000             -inf              -inf   99.522894   \n",
       "2023-03-17:5 - 36.0  34.529999         9.370936         34.368992   53.823494   \n",
       "\n",
       "                        % be above  \n",
       "2023-03-17:5 - 32.5   8.702481e+01  \n",
       "2023-03-17:5 - 33.0   7.986553e+01  \n",
       "2023-03-17:5 - 34.0   6.057814e+01  \n",
       "2023-03-17:5 - 35.0  5.698062e-107  \n",
       "2023-03-17:5 - 36.0   2.060734e+01  "
      ]
     },
     "execution_count": 40,
     "metadata": {},
     "output_type": "execute_result"
    }
   ],
   "source": [
    "options_df = pd.DataFrame.from_dict(arb, orient='index')\n",
    "options_df.head()"
   ]
  },
  {
   "cell_type": "code",
   "execution_count": 42,
   "id": "ba41c50a",
   "metadata": {},
   "outputs": [],
   "source": [
    "options_df.sort_values(['% be above', 'Call - Volume'],ascending = [False, False]).to_csv('Options.csv')"
   ]
  },
  {
   "cell_type": "code",
   "execution_count": 41,
   "id": "dfe278fc",
   "metadata": {},
   "outputs": [
    {
     "data": {
      "text/html": [
       "<div>\n",
       "<style scoped>\n",
       "    .dataframe tbody tr th:only-of-type {\n",
       "        vertical-align: middle;\n",
       "    }\n",
       "\n",
       "    .dataframe tbody tr th {\n",
       "        vertical-align: top;\n",
       "    }\n",
       "\n",
       "    .dataframe thead th {\n",
       "        text-align: right;\n",
       "    }\n",
       "</style>\n",
       "<table border=\"1\" class=\"dataframe\">\n",
       "  <thead>\n",
       "    <tr style=\"text-align: right;\">\n",
       "      <th></th>\n",
       "      <th>Date</th>\n",
       "      <th>Strike</th>\n",
       "      <th>Put</th>\n",
       "      <th>True Put</th>\n",
       "      <th>Call</th>\n",
       "      <th>True Call</th>\n",
       "      <th>Symbol</th>\n",
       "      <th>Call - Volume</th>\n",
       "      <th>Put - Volume</th>\n",
       "      <th>Price</th>\n",
       "      <th>Difference Puts</th>\n",
       "      <th>Difference Calls</th>\n",
       "      <th>% be Below</th>\n",
       "      <th>% be above</th>\n",
       "    </tr>\n",
       "  </thead>\n",
       "  <tbody>\n",
       "    <tr>\n",
       "      <th>2023-03-17:5 - 0.5</th>\n",
       "      <td>2023-03-17:5</td>\n",
       "      <td>0.50</td>\n",
       "      <td>0.00</td>\n",
       "      <td>0.000000e+00</td>\n",
       "      <td>2.22</td>\n",
       "      <td>2.180321e+00</td>\n",
       "      <td>LUMN</td>\n",
       "      <td>1</td>\n",
       "      <td>0</td>\n",
       "      <td>2.680000</td>\n",
       "      <td>NaN</td>\n",
       "      <td>1.787364</td>\n",
       "      <td>0.000012</td>\n",
       "      <td>1.000000e+02</td>\n",
       "    </tr>\n",
       "    <tr>\n",
       "      <th>2023-03-17:5 - 40.0</th>\n",
       "      <td>2023-03-17:5</td>\n",
       "      <td>40.00</td>\n",
       "      <td>0.00</td>\n",
       "      <td>3.644451e-18</td>\n",
       "      <td>0.00</td>\n",
       "      <td>1.256564e+01</td>\n",
       "      <td>BALL</td>\n",
       "      <td>0</td>\n",
       "      <td>0</td>\n",
       "      <td>52.540001</td>\n",
       "      <td>-inf</td>\n",
       "      <td>-inf</td>\n",
       "      <td>16.361361</td>\n",
       "      <td>1.000000e+02</td>\n",
       "    </tr>\n",
       "    <tr>\n",
       "      <th>2023-03-17:5 - 55.0</th>\n",
       "      <td>2023-03-17:5</td>\n",
       "      <td>55.00</td>\n",
       "      <td>0.05</td>\n",
       "      <td>1.634023e-26</td>\n",
       "      <td>21.00</td>\n",
       "      <td>2.578525e+01</td>\n",
       "      <td>EMN</td>\n",
       "      <td>0</td>\n",
       "      <td>0</td>\n",
       "      <td>80.750000</td>\n",
       "      <td>100.000000</td>\n",
       "      <td>-22.786900</td>\n",
       "      <td>11.137370</td>\n",
       "      <td>1.000000e+02</td>\n",
       "    </tr>\n",
       "    <tr>\n",
       "      <th>2023-03-17:5 - 6.35</th>\n",
       "      <td>2023-03-17:5</td>\n",
       "      <td>6.35</td>\n",
       "      <td>0.01</td>\n",
       "      <td>3.325398e-47</td>\n",
       "      <td>6.50</td>\n",
       "      <td>5.754070e+00</td>\n",
       "      <td>F</td>\n",
       "      <td>0</td>\n",
       "      <td>0</td>\n",
       "      <td>12.100000</td>\n",
       "      <td>100.000000</td>\n",
       "      <td>11.475846</td>\n",
       "      <td>4.948719</td>\n",
       "      <td>1.000000e+02</td>\n",
       "    </tr>\n",
       "    <tr>\n",
       "      <th>2023-03-17:5 - 7.35</th>\n",
       "      <td>2023-03-17:5</td>\n",
       "      <td>7.35</td>\n",
       "      <td>0.01</td>\n",
       "      <td>1.594549e-29</td>\n",
       "      <td>5.69</td>\n",
       "      <td>4.754711e+00</td>\n",
       "      <td>F</td>\n",
       "      <td>0</td>\n",
       "      <td>1</td>\n",
       "      <td>12.100000</td>\n",
       "      <td>100.000000</td>\n",
       "      <td>16.437418</td>\n",
       "      <td>10.115210</td>\n",
       "      <td>1.000000e+02</td>\n",
       "    </tr>\n",
       "    <tr>\n",
       "      <th>...</th>\n",
       "      <td>...</td>\n",
       "      <td>...</td>\n",
       "      <td>...</td>\n",
       "      <td>...</td>\n",
       "      <td>...</td>\n",
       "      <td>...</td>\n",
       "      <td>...</td>\n",
       "      <td>...</td>\n",
       "      <td>...</td>\n",
       "      <td>...</td>\n",
       "      <td>...</td>\n",
       "      <td>...</td>\n",
       "      <td>...</td>\n",
       "      <td>...</td>\n",
       "    </tr>\n",
       "    <tr>\n",
       "      <th>2023-03-17:5 - 16.0</th>\n",
       "      <td>2023-03-17:5</td>\n",
       "      <td>16.00</td>\n",
       "      <td>0.00</td>\n",
       "      <td>5.249746e+00</td>\n",
       "      <td>0.00</td>\n",
       "      <td>5.920469e-44</td>\n",
       "      <td>AMCR</td>\n",
       "      <td>0</td>\n",
       "      <td>0</td>\n",
       "      <td>10.740000</td>\n",
       "      <td>-inf</td>\n",
       "      <td>-inf</td>\n",
       "      <td>94.470351</td>\n",
       "      <td>1.287683e-40</td>\n",
       "    </tr>\n",
       "    <tr>\n",
       "      <th>2023-03-17:5 - 4.5</th>\n",
       "      <td>2023-03-17:5</td>\n",
       "      <td>4.50</td>\n",
       "      <td>1.75</td>\n",
       "      <td>1.817116e+00</td>\n",
       "      <td>0.01</td>\n",
       "      <td>1.882240e-44</td>\n",
       "      <td>LUMN</td>\n",
       "      <td>0</td>\n",
       "      <td>84</td>\n",
       "      <td>2.680000</td>\n",
       "      <td>-3.835196</td>\n",
       "      <td>100.000000</td>\n",
       "      <td>94.477229</td>\n",
       "      <td>1.198065e-40</td>\n",
       "    </tr>\n",
       "    <tr>\n",
       "      <th>2023-03-24:12 - 6.0</th>\n",
       "      <td>2023-03-24:12</td>\n",
       "      <td>6.00</td>\n",
       "      <td>0.00</td>\n",
       "      <td>3.310775e+00</td>\n",
       "      <td>0.01</td>\n",
       "      <td>1.871763e-44</td>\n",
       "      <td>LUMN</td>\n",
       "      <td>0</td>\n",
       "      <td>0</td>\n",
       "      <td>2.680000</td>\n",
       "      <td>-inf</td>\n",
       "      <td>100.000000</td>\n",
       "      <td>99.350500</td>\n",
       "      <td>5.088606e-41</td>\n",
       "    </tr>\n",
       "    <tr>\n",
       "      <th>2023-03-17:5 - 5.5</th>\n",
       "      <td>2023-03-17:5</td>\n",
       "      <td>5.50</td>\n",
       "      <td>2.48</td>\n",
       "      <td>2.816475e+00</td>\n",
       "      <td>0.04</td>\n",
       "      <td>7.088948e-82</td>\n",
       "      <td>LUMN</td>\n",
       "      <td>2</td>\n",
       "      <td>0</td>\n",
       "      <td>2.680000</td>\n",
       "      <td>-13.567542</td>\n",
       "      <td>100.000000</td>\n",
       "      <td>98.656205</td>\n",
       "      <td>4.666637e-78</td>\n",
       "    </tr>\n",
       "    <tr>\n",
       "      <th>2023-03-17:5 - 35.0</th>\n",
       "      <td>2023-03-17:5</td>\n",
       "      <td>35.00</td>\n",
       "      <td>0.00</td>\n",
       "      <td>1.879757e+01</td>\n",
       "      <td>0.00</td>\n",
       "      <td>4.707389e-110</td>\n",
       "      <td>NWS</td>\n",
       "      <td>0</td>\n",
       "      <td>0</td>\n",
       "      <td>16.180000</td>\n",
       "      <td>-inf</td>\n",
       "      <td>-inf</td>\n",
       "      <td>99.522894</td>\n",
       "      <td>5.698062e-107</td>\n",
       "    </tr>\n",
       "  </tbody>\n",
       "</table>\n",
       "<p>5452 rows × 14 columns</p>\n",
       "</div>"
      ],
      "text/plain": [
       "                              Date  Strike   Put      True Put   Call  \\\n",
       "2023-03-17:5 - 0.5    2023-03-17:5    0.50  0.00  0.000000e+00   2.22   \n",
       "2023-03-17:5 - 40.0   2023-03-17:5   40.00  0.00  3.644451e-18   0.00   \n",
       "2023-03-17:5 - 55.0   2023-03-17:5   55.00  0.05  1.634023e-26  21.00   \n",
       "2023-03-17:5 - 6.35   2023-03-17:5    6.35  0.01  3.325398e-47   6.50   \n",
       "2023-03-17:5 - 7.35   2023-03-17:5    7.35  0.01  1.594549e-29   5.69   \n",
       "...                            ...     ...   ...           ...    ...   \n",
       "2023-03-17:5 - 16.0   2023-03-17:5   16.00  0.00  5.249746e+00   0.00   \n",
       "2023-03-17:5 - 4.5    2023-03-17:5    4.50  1.75  1.817116e+00   0.01   \n",
       "2023-03-24:12 - 6.0  2023-03-24:12    6.00  0.00  3.310775e+00   0.01   \n",
       "2023-03-17:5 - 5.5    2023-03-17:5    5.50  2.48  2.816475e+00   0.04   \n",
       "2023-03-17:5 - 35.0   2023-03-17:5   35.00  0.00  1.879757e+01   0.00   \n",
       "\n",
       "                         True Call Symbol  Call - Volume  Put - Volume  \\\n",
       "2023-03-17:5 - 0.5    2.180321e+00   LUMN              1             0   \n",
       "2023-03-17:5 - 40.0   1.256564e+01   BALL              0             0   \n",
       "2023-03-17:5 - 55.0   2.578525e+01    EMN              0             0   \n",
       "2023-03-17:5 - 6.35   5.754070e+00      F              0             0   \n",
       "2023-03-17:5 - 7.35   4.754711e+00      F              0             1   \n",
       "...                            ...    ...            ...           ...   \n",
       "2023-03-17:5 - 16.0   5.920469e-44   AMCR              0             0   \n",
       "2023-03-17:5 - 4.5    1.882240e-44   LUMN              0            84   \n",
       "2023-03-24:12 - 6.0   1.871763e-44   LUMN              0             0   \n",
       "2023-03-17:5 - 5.5    7.088948e-82   LUMN              2             0   \n",
       "2023-03-17:5 - 35.0  4.707389e-110    NWS              0             0   \n",
       "\n",
       "                         Price  Difference Puts  Difference Calls  % be Below  \\\n",
       "2023-03-17:5 - 0.5    2.680000              NaN          1.787364    0.000012   \n",
       "2023-03-17:5 - 40.0  52.540001             -inf              -inf   16.361361   \n",
       "2023-03-17:5 - 55.0  80.750000       100.000000        -22.786900   11.137370   \n",
       "2023-03-17:5 - 6.35  12.100000       100.000000         11.475846    4.948719   \n",
       "2023-03-17:5 - 7.35  12.100000       100.000000         16.437418   10.115210   \n",
       "...                        ...              ...               ...         ...   \n",
       "2023-03-17:5 - 16.0  10.740000             -inf              -inf   94.470351   \n",
       "2023-03-17:5 - 4.5    2.680000        -3.835196        100.000000   94.477229   \n",
       "2023-03-24:12 - 6.0   2.680000             -inf        100.000000   99.350500   \n",
       "2023-03-17:5 - 5.5    2.680000       -13.567542        100.000000   98.656205   \n",
       "2023-03-17:5 - 35.0  16.180000             -inf              -inf   99.522894   \n",
       "\n",
       "                        % be above  \n",
       "2023-03-17:5 - 0.5    1.000000e+02  \n",
       "2023-03-17:5 - 40.0   1.000000e+02  \n",
       "2023-03-17:5 - 55.0   1.000000e+02  \n",
       "2023-03-17:5 - 6.35   1.000000e+02  \n",
       "2023-03-17:5 - 7.35   1.000000e+02  \n",
       "...                            ...  \n",
       "2023-03-17:5 - 16.0   1.287683e-40  \n",
       "2023-03-17:5 - 4.5    1.198065e-40  \n",
       "2023-03-24:12 - 6.0   5.088606e-41  \n",
       "2023-03-17:5 - 5.5    4.666637e-78  \n",
       "2023-03-17:5 - 35.0  5.698062e-107  \n",
       "\n",
       "[5452 rows x 14 columns]"
      ]
     },
     "execution_count": 41,
     "metadata": {},
     "output_type": "execute_result"
    }
   ],
   "source": [
    "options_df.sort_values(['% be above', 'Call - Volume'],ascending = [False, False])"
   ]
  },
  {
   "cell_type": "code",
   "execution_count": 39,
   "id": "2a1a0953",
   "metadata": {},
   "outputs": [
    {
     "data": {
      "text/html": [
       "<div>\n",
       "<style scoped>\n",
       "    .dataframe tbody tr th:only-of-type {\n",
       "        vertical-align: middle;\n",
       "    }\n",
       "\n",
       "    .dataframe tbody tr th {\n",
       "        vertical-align: top;\n",
       "    }\n",
       "\n",
       "    .dataframe thead th {\n",
       "        text-align: right;\n",
       "    }\n",
       "</style>\n",
       "<table border=\"1\" class=\"dataframe\">\n",
       "  <thead>\n",
       "    <tr style=\"text-align: right;\">\n",
       "      <th></th>\n",
       "      <th>Date</th>\n",
       "      <th>Strike</th>\n",
       "      <th>Put</th>\n",
       "      <th>True Put</th>\n",
       "      <th>Call</th>\n",
       "      <th>True Call</th>\n",
       "      <th>Symbol</th>\n",
       "      <th>Call - Volume</th>\n",
       "      <th>Put - Volume</th>\n",
       "      <th>Price</th>\n",
       "      <th>Difference Puts</th>\n",
       "      <th>Difference Calls</th>\n",
       "      <th>% be Below</th>\n",
       "      <th>% be above</th>\n",
       "    </tr>\n",
       "  </thead>\n",
       "  <tbody>\n",
       "    <tr>\n",
       "      <th>2023-03-17:5 - 152.5</th>\n",
       "      <td>2023-03-17:5</td>\n",
       "      <td>152.50</td>\n",
       "      <td>4.90</td>\n",
       "      <td>5.437132</td>\n",
       "      <td>1.06</td>\n",
       "      <td>1.534868</td>\n",
       "      <td>AAPL</td>\n",
       "      <td>25603</td>\n",
       "      <td>5229</td>\n",
       "      <td>148.500000</td>\n",
       "      <td>-10.961877</td>\n",
       "      <td>-44.798846</td>\n",
       "      <td>1.974250e-96</td>\n",
       "      <td>29.472850</td>\n",
       "    </tr>\n",
       "    <tr>\n",
       "      <th>2023-03-17:5 - 176.67</th>\n",
       "      <td>2023-03-17:5</td>\n",
       "      <td>176.67</td>\n",
       "      <td>7.55</td>\n",
       "      <td>6.374670</td>\n",
       "      <td>4.40</td>\n",
       "      <td>3.257898</td>\n",
       "      <td>TSLA</td>\n",
       "      <td>13812</td>\n",
       "      <td>10377</td>\n",
       "      <td>173.440002</td>\n",
       "      <td>15.567291</td>\n",
       "      <td>25.956862</td>\n",
       "      <td>4.241877e-60</td>\n",
       "      <td>37.830158</td>\n",
       "    </tr>\n",
       "    <tr>\n",
       "      <th>2023-05-19:68 - 41.0</th>\n",
       "      <td>2023-05-19:68</td>\n",
       "      <td>41.00</td>\n",
       "      <td>4.45</td>\n",
       "      <td>4.920418</td>\n",
       "      <td>1.02</td>\n",
       "      <td>0.796340</td>\n",
       "      <td>GM</td>\n",
       "      <td>11964</td>\n",
       "      <td>2</td>\n",
       "      <td>36.520000</td>\n",
       "      <td>-10.571196</td>\n",
       "      <td>21.927463</td>\n",
       "      <td>9.766629e-51</td>\n",
       "      <td>19.760152</td>\n",
       "    </tr>\n",
       "    <tr>\n",
       "      <th>2023-03-17:5 - 149.0</th>\n",
       "      <td>2023-03-17:5</td>\n",
       "      <td>149.00</td>\n",
       "      <td>2.87</td>\n",
       "      <td>3.274125</td>\n",
       "      <td>2.51</td>\n",
       "      <td>2.869618</td>\n",
       "      <td>AAPL</td>\n",
       "      <td>11462</td>\n",
       "      <td>13447</td>\n",
       "      <td>148.500000</td>\n",
       "      <td>-14.081020</td>\n",
       "      <td>-14.327408</td>\n",
       "      <td>1.974250e-96</td>\n",
       "      <td>46.387969</td>\n",
       "    </tr>\n",
       "    <tr>\n",
       "      <th>2023-03-31:19 - 145.0</th>\n",
       "      <td>2023-03-31:19</td>\n",
       "      <td>145.00</td>\n",
       "      <td>2.90</td>\n",
       "      <td>4.165077</td>\n",
       "      <td>6.75</td>\n",
       "      <td>8.017891</td>\n",
       "      <td>AAPL</td>\n",
       "      <td>10502</td>\n",
       "      <td>2256</td>\n",
       "      <td>148.500000</td>\n",
       "      <td>-43.623338</td>\n",
       "      <td>-18.783566</td>\n",
       "      <td>1.078389e-70</td>\n",
       "      <td>57.399463</td>\n",
       "    </tr>\n",
       "    <tr>\n",
       "      <th>...</th>\n",
       "      <td>...</td>\n",
       "      <td>...</td>\n",
       "      <td>...</td>\n",
       "      <td>...</td>\n",
       "      <td>...</td>\n",
       "      <td>...</td>\n",
       "      <td>...</td>\n",
       "      <td>...</td>\n",
       "      <td>...</td>\n",
       "      <td>...</td>\n",
       "      <td>...</td>\n",
       "      <td>...</td>\n",
       "      <td>...</td>\n",
       "      <td>...</td>\n",
       "    </tr>\n",
       "    <tr>\n",
       "      <th>2023-04-21:40 - 8.0</th>\n",
       "      <td>2023-04-21:40</td>\n",
       "      <td>8.00</td>\n",
       "      <td>0.10</td>\n",
       "      <td>0.000028</td>\n",
       "      <td>0.00</td>\n",
       "      <td>2.780953</td>\n",
       "      <td>AMCR</td>\n",
       "      <td>0</td>\n",
       "      <td>0</td>\n",
       "      <td>10.740000</td>\n",
       "      <td>99.972361</td>\n",
       "      <td>-inf</td>\n",
       "      <td>2.910836e-73</td>\n",
       "      <td>99.978119</td>\n",
       "    </tr>\n",
       "    <tr>\n",
       "      <th>2023-04-21:40 - 9.0</th>\n",
       "      <td>2023-04-21:40</td>\n",
       "      <td>9.00</td>\n",
       "      <td>0.15</td>\n",
       "      <td>0.004001</td>\n",
       "      <td>0.00</td>\n",
       "      <td>1.790042</td>\n",
       "      <td>AMCR</td>\n",
       "      <td>0</td>\n",
       "      <td>0</td>\n",
       "      <td>10.740000</td>\n",
       "      <td>97.332434</td>\n",
       "      <td>-inf</td>\n",
       "      <td>2.910836e-73</td>\n",
       "      <td>98.185514</td>\n",
       "    </tr>\n",
       "    <tr>\n",
       "      <th>2023-04-21:40 - 10.0</th>\n",
       "      <td>2023-04-21:40</td>\n",
       "      <td>10.00</td>\n",
       "      <td>0.10</td>\n",
       "      <td>0.082159</td>\n",
       "      <td>0.99</td>\n",
       "      <td>0.873315</td>\n",
       "      <td>AMCR</td>\n",
       "      <td>0</td>\n",
       "      <td>14</td>\n",
       "      <td>10.740000</td>\n",
       "      <td>17.841018</td>\n",
       "      <td>11.786351</td>\n",
       "      <td>2.910836e-73</td>\n",
       "      <td>79.420233</td>\n",
       "    </tr>\n",
       "    <tr>\n",
       "      <th>2023-04-21:40 - 13.0</th>\n",
       "      <td>2023-04-21:40</td>\n",
       "      <td>13.00</td>\n",
       "      <td>1.90</td>\n",
       "      <td>2.197690</td>\n",
       "      <td>0.05</td>\n",
       "      <td>0.004193</td>\n",
       "      <td>AMCR</td>\n",
       "      <td>0</td>\n",
       "      <td>0</td>\n",
       "      <td>10.740000</td>\n",
       "      <td>-15.667881</td>\n",
       "      <td>91.614405</td>\n",
       "      <td>2.910836e-73</td>\n",
       "      <td>0.944164</td>\n",
       "    </tr>\n",
       "    <tr>\n",
       "      <th>2024-01-19:313 - 455.0</th>\n",
       "      <td>2024-01-19:313</td>\n",
       "      <td>455.00</td>\n",
       "      <td>24.70</td>\n",
       "      <td>55.456557</td>\n",
       "      <td>90.00</td>\n",
       "      <td>98.015330</td>\n",
       "      <td>HUM</td>\n",
       "      <td>0</td>\n",
       "      <td>0</td>\n",
       "      <td>479.660004</td>\n",
       "      <td>-124.520472</td>\n",
       "      <td>-8.905922</td>\n",
       "      <td>5.995273e-43</td>\n",
       "      <td>46.913412</td>\n",
       "    </tr>\n",
       "  </tbody>\n",
       "</table>\n",
       "<p>5452 rows × 14 columns</p>\n",
       "</div>"
      ],
      "text/plain": [
       "                                  Date  Strike    Put   True Put   Call  \\\n",
       "2023-03-17:5 - 152.5      2023-03-17:5  152.50   4.90   5.437132   1.06   \n",
       "2023-03-17:5 - 176.67     2023-03-17:5  176.67   7.55   6.374670   4.40   \n",
       "2023-05-19:68 - 41.0     2023-05-19:68   41.00   4.45   4.920418   1.02   \n",
       "2023-03-17:5 - 149.0      2023-03-17:5  149.00   2.87   3.274125   2.51   \n",
       "2023-03-31:19 - 145.0    2023-03-31:19  145.00   2.90   4.165077   6.75   \n",
       "...                                ...     ...    ...        ...    ...   \n",
       "2023-04-21:40 - 8.0      2023-04-21:40    8.00   0.10   0.000028   0.00   \n",
       "2023-04-21:40 - 9.0      2023-04-21:40    9.00   0.15   0.004001   0.00   \n",
       "2023-04-21:40 - 10.0     2023-04-21:40   10.00   0.10   0.082159   0.99   \n",
       "2023-04-21:40 - 13.0     2023-04-21:40   13.00   1.90   2.197690   0.05   \n",
       "2024-01-19:313 - 455.0  2024-01-19:313  455.00  24.70  55.456557  90.00   \n",
       "\n",
       "                        True Call Symbol  Call - Volume  Put - Volume  \\\n",
       "2023-03-17:5 - 152.5     1.534868   AAPL          25603          5229   \n",
       "2023-03-17:5 - 176.67    3.257898   TSLA          13812         10377   \n",
       "2023-05-19:68 - 41.0     0.796340     GM          11964             2   \n",
       "2023-03-17:5 - 149.0     2.869618   AAPL          11462         13447   \n",
       "2023-03-31:19 - 145.0    8.017891   AAPL          10502          2256   \n",
       "...                           ...    ...            ...           ...   \n",
       "2023-04-21:40 - 8.0      2.780953   AMCR              0             0   \n",
       "2023-04-21:40 - 9.0      1.790042   AMCR              0             0   \n",
       "2023-04-21:40 - 10.0     0.873315   AMCR              0            14   \n",
       "2023-04-21:40 - 13.0     0.004193   AMCR              0             0   \n",
       "2024-01-19:313 - 455.0  98.015330    HUM              0             0   \n",
       "\n",
       "                             Price  Difference Puts  Difference Calls  \\\n",
       "2023-03-17:5 - 152.5    148.500000       -10.961877        -44.798846   \n",
       "2023-03-17:5 - 176.67   173.440002        15.567291         25.956862   \n",
       "2023-05-19:68 - 41.0     36.520000       -10.571196         21.927463   \n",
       "2023-03-17:5 - 149.0    148.500000       -14.081020        -14.327408   \n",
       "2023-03-31:19 - 145.0   148.500000       -43.623338        -18.783566   \n",
       "...                            ...              ...               ...   \n",
       "2023-04-21:40 - 8.0      10.740000        99.972361              -inf   \n",
       "2023-04-21:40 - 9.0      10.740000        97.332434              -inf   \n",
       "2023-04-21:40 - 10.0     10.740000        17.841018         11.786351   \n",
       "2023-04-21:40 - 13.0     10.740000       -15.667881         91.614405   \n",
       "2024-01-19:313 - 455.0  479.660004      -124.520472         -8.905922   \n",
       "\n",
       "                          % be Below  % be above  \n",
       "2023-03-17:5 - 152.5    1.974250e-96   29.472850  \n",
       "2023-03-17:5 - 176.67   4.241877e-60   37.830158  \n",
       "2023-05-19:68 - 41.0    9.766629e-51   19.760152  \n",
       "2023-03-17:5 - 149.0    1.974250e-96   46.387969  \n",
       "2023-03-31:19 - 145.0   1.078389e-70   57.399463  \n",
       "...                              ...         ...  \n",
       "2023-04-21:40 - 8.0     2.910836e-73   99.978119  \n",
       "2023-04-21:40 - 9.0     2.910836e-73   98.185514  \n",
       "2023-04-21:40 - 10.0    2.910836e-73   79.420233  \n",
       "2023-04-21:40 - 13.0    2.910836e-73    0.944164  \n",
       "2024-01-19:313 - 455.0  5.995273e-43   46.913412  \n",
       "\n",
       "[5452 rows x 14 columns]"
      ]
     },
     "execution_count": 39,
     "metadata": {},
     "output_type": "execute_result"
    }
   ],
   "source": [
    "options_df.sort_values(by=\"Call - Volume\", ascending=False)"
   ]
  },
  {
   "cell_type": "code",
   "execution_count": 37,
   "id": "d1460be8",
   "metadata": {},
   "outputs": [],
   "source": [
    "options_df.sort_values(by=\"Call - Volume\", ascending=False).to_csv('Options.csv')"
   ]
  },
  {
   "cell_type": "code",
   "execution_count": 20,
   "id": "24c97e1a",
   "metadata": {},
   "outputs": [],
   "source": [
    " \n",
    "\n",
    "N_prime = norm.pdf\n",
    "\n",
    "\n",
    "def vega(S, K, T, r, sigma, p):\n",
    "    '''\n",
    "\n",
    "    :param S: Asset price\n",
    "    :param K: Strike price\n",
    "    :param T: Time to Maturity\n",
    "    :param r: risk-free rate (treasury bills)\n",
    "    :param sigma: volatility\n",
    "    :return: partial derivative w.r.t volatility\n",
    "    '''\n",
    "\n",
    "    ### calculating d1 from black scholes\n",
    "    d1 = (np.log(S/K) + (r - p + sigma**2/2)*T)/(sigma*np.sqrt(T))\n",
    "\n",
    "    \n",
    "    vega = S  * np.sqrt(T) * N_prime(d1)\n",
    "    return vega"
   ]
  },
  {
   "cell_type": "code",
   "execution_count": 6,
   "id": "1ea25fa2",
   "metadata": {},
   "outputs": [
    {
     "data": {
      "text/plain": [
       "32.29723596679143"
      ]
     },
     "execution_count": 6,
     "metadata": {},
     "output_type": "execute_result"
    }
   ],
   "source": [
    "vega(100, 100, 1, 0.2, 0.5)"
   ]
  },
  {
   "cell_type": "code",
   "execution_count": 17,
   "id": "46729aca",
   "metadata": {},
   "outputs": [],
   "source": [
    "def implied_volatility_call(C, S, K, T, r, tol=0.0001,\n",
    "                            max_iterations=100):\n",
    "    '''\n",
    "\n",
    "    :param C: Observed call price\n",
    "    :param S: Asset price\n",
    "    :param K: Strike Price\n",
    "    :param T: Time to Maturity\n",
    "    :param r: riskfree rate\n",
    "    :param tol: error tolerance in result\n",
    "    :param max_iterations: max iterations to update vol\n",
    "    :return: implied volatility in percent\n",
    "    '''\n",
    "\n",
    "\n",
    "    ### assigning initial volatility estimate for input in Newton_rap procedure\n",
    "    sigma = 0.3\n",
    "\n",
    "    for i in range(max_iterations):\n",
    "\n",
    "        ### calculate difference between blackscholes price and market price with\n",
    "        ### iteratively updated volality estimate\n",
    "        diff = black_scholes_call(S, K, T, r, sigma) - C\n",
    "\n",
    "        ###break if difference is less than specified tolerance level\n",
    "        if abs(diff) < tol:\n",
    "            print(f'found on {i}th iteration')\n",
    "            print(f'difference is equal to {diff}')\n",
    "            break\n",
    "\n",
    "        ### use newton rapshon to update the estimate\n",
    "        sigma = sigma - diff / vega(S, K, T, r, sigma)\n",
    "\n",
    "    return sigma"
   ]
  },
  {
   "cell_type": "code",
   "execution_count": 10,
   "id": "a06d3885",
   "metadata": {},
   "outputs": [
    {
     "name": "stdout",
     "output_type": "stream",
     "text": [
      "found on 2th iteration\n",
      "difference is equal to -6.289563085459804e-06\n"
     ]
    },
    {
     "data": {
      "text/plain": [
       "0.4999687056945326"
      ]
     },
     "execution_count": 10,
     "metadata": {},
     "output_type": "execute_result"
    }
   ],
   "source": [
    "implied_volatility_call(20.55, 100, 100, 1, 0.02, tol=0.0001,\n",
    "                            max_iterations=100)"
   ]
  },
  {
   "cell_type": "code",
   "execution_count": 37,
   "id": "a8021ea0",
   "metadata": {},
   "outputs": [],
   "source": [
    "S = 94.65\n",
    "K = 100\n",
    "C = 6.275\n",
    "T = 29/365\n",
    "r = 0.048"
   ]
  },
  {
   "cell_type": "code",
   "execution_count": 38,
   "id": "9cbd8c30",
   "metadata": {},
   "outputs": [
    {
     "data": {
      "text/plain": [
       "0.7770206928943932"
      ]
     },
     "execution_count": 38,
     "metadata": {},
     "output_type": "execute_result"
    }
   ],
   "source": [
    "### assigning initial volatility estimate for input in Newton_rap procedure\n",
    "sigma = 0.5\n",
    "diff = blackScholes(r, S, K, T, sigma, t = 'c') - C\n",
    "sigma = sigma - diff / vega(S, K, T, r, sigma)\n",
    "sigma"
   ]
  },
  {
   "cell_type": "code",
   "execution_count": null,
   "id": "7daf31f3",
   "metadata": {},
   "outputs": [],
   "source": []
  }
 ],
 "metadata": {
  "kernelspec": {
   "display_name": "PythonData",
   "language": "python",
   "name": "pythondata"
  },
  "language_info": {
   "codemirror_mode": {
    "name": "ipython",
    "version": 3
   },
   "file_extension": ".py",
   "mimetype": "text/x-python",
   "name": "python",
   "nbconvert_exporter": "python",
   "pygments_lexer": "ipython3",
   "version": "3.9.7"
  }
 },
 "nbformat": 4,
 "nbformat_minor": 5
}
